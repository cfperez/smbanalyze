{
 "metadata": {
  "name": "Calibration Jan 2014"
 },
 "nbformat": 3,
 "nbformat_minor": 0,
 "worksheets": [
  {
   "cells": [
    {
     "cell_type": "code",
     "collapsed": false,
     "input": [
      "import os\n",
      "import glob\n",
      "from smbanalyze import calibrate"
     ],
     "language": "python",
     "metadata": {},
     "outputs": [],
     "prompt_number": 9
    },
    {
     "cell_type": "markdown",
     "metadata": {},
     "source": [
      "PROCEDURE\n",
      "\n",
      "1. Load all files\n",
      "2. Set parameters not in files\n",
      "3. Calculate focal shift, height offset, temperature, then stiffness"
     ]
    },
    {
     "cell_type": "code",
     "collapsed": false,
     "input": [
      "from smbanalyze import calibrate\n",
      "reload(calibrate)"
     ],
     "language": "python",
     "metadata": {},
     "outputs": [
      {
       "output_type": "pyout",
       "prompt_number": 5,
       "text": [
        "<module 'smbanalyze.calibrate' from '/Users/cfperez/Python/scientific/smbanalyze/calibrate.pyc'>"
       ]
      }
     ],
     "prompt_number": 5
    },
    {
     "cell_type": "code",
     "collapsed": false,
     "input": [
      "MAIN_DIR = '/Users/cfperez/Documents/FRET/Data/calibration/2014.02.12/'\n",
      "\n",
      "# Subdirectories that contain files relating to each measurement\n",
      "FOCAL_SHIFT_DIR = 'focal_shift'\n",
      "HEIGHT_CAL_DIR = 'vs_height'\n",
      "WEAK_TRAP_CAL_DIR = 'weak_trap'"
     ],
     "language": "python",
     "metadata": {},
     "outputs": [],
     "prompt_number": 860
    },
    {
     "cell_type": "heading",
     "level": 3,
     "metadata": {},
     "source": [
      "Power measurements"
     ]
    },
    {
     "cell_type": "code",
     "collapsed": false,
     "input": [
      "strong_power_gain = array([\n",
      "                     [-16, 1.58],\n",
      "                     [-17, 1.38],\n",
      "                     [-18, 1.13],\n",
      "                     [-18.5, 0.98],\n",
      "                     [-19, 0.831],\n",
      "                     [-20, 0.604],\n",
      "                     [-25, 0.096]\n",
      "                     ])\n",
      "figure('Strong trap')\n",
      "plot(*strong_power_gain[:-1].T, marker='o', linestyle='--');\n",
      "\n",
      "# Fit to a line, here skipping the last point (potentially\n",
      "# that gain is in the non-linear region of the AOD response)\n",
      "from scipy.stats import linregress\n",
      "gain,power = strong_power_gain[:-1].T\n",
      "gain_slope, gain_offset, r_, p_, err_ = linregress(gain, power)\n",
      "gain_to_power = lambda g: g*gain_slope + gain_offset\n",
      "\n",
      "gain_ = linspace(-20,-16)\n",
      "plot(gain_, gain_to_power(gain_))"
     ],
     "language": "python",
     "metadata": {},
     "outputs": [],
     "prompt_number": 2088
    },
    {
     "cell_type": "heading",
     "level": 3,
     "metadata": {},
     "source": [
      "Verify nm per MHz"
     ]
    },
    {
     "cell_type": "code",
     "collapsed": false,
     "input": [
      "# Assumed CSV format with X mhz, Y mhz, X nm, Y nm\n",
      "conversion_file = '20140131_Mhz-to-nm.txt'\n",
      "x_mhz,y_mhz,x_nm,y_nm = loadtxt(conversion_file, skiprows=1, delimiter=',', unpack=True)\n",
      "figure('nm-per-mhz')\n",
      "clf()\n",
      "distance = sqrt(x_nm**2 + y_nm**2)\n",
      "plot(x_mhz, distance, '.')\n",
      "m,b,_,_,err = linregress(x_mhz, distance)\n",
      "\n",
      "mhz = linspace(min(x_mhz), max(x_mhz))\n",
      "plot(mhz, m*mhz+b)\n",
      "print \"nm-to-MHz conversion: %.0f\" % abs(m), u\"\\u00B1 %.1f\"%err"
     ],
     "language": "python",
     "metadata": {},
     "outputs": [
      {
       "output_type": "stream",
       "stream": "stdout",
       "text": [
        "nm-to-MHz conversion: 1181 \u00b1 1.4\n"
       ]
      }
     ],
     "prompt_number": 1419
    },
    {
     "cell_type": "heading",
     "level": 3,
     "metadata": {},
     "source": [
      "Measure focal shift"
     ]
    },
    {
     "cell_type": "code",
     "collapsed": false,
     "input": [
      "focal_shift_file = 'focal_shift_closeiris.txt'\n",
      "\n",
      "os.chdir(MAIN_DIR+FOCAL_SHIFT_DIR)\n",
      "z,x,y,sum_ = loadtxt(focal_shift_file, unpack=True)"
     ],
     "language": "python",
     "metadata": {},
     "outputs": [
      {
       "ename": "OSError",
       "evalue": "[Errno 2] No such file or directory: '/Users/cfperez/Documents/FRET/Data/calibration/Realignment 2014/focal_shift'",
       "output_type": "pyerr",
       "traceback": [
        "\u001b[0;31m---------------------------------------------------------------------------\u001b[0m\n\u001b[0;31mOSError\u001b[0m                                   Traceback (most recent call last)",
        "\u001b[0;32m<ipython-input-828-7d26eff11ccb>\u001b[0m in \u001b[0;36m<module>\u001b[0;34m()\u001b[0m\n\u001b[1;32m      1\u001b[0m \u001b[0mfocal_shift_file\u001b[0m \u001b[0;34m=\u001b[0m \u001b[0;34m'focal_shift_closeiris.txt'\u001b[0m\u001b[0;34m\u001b[0m\u001b[0m\n\u001b[1;32m      2\u001b[0m \u001b[0;34m\u001b[0m\u001b[0m\n\u001b[0;32m----> 3\u001b[0;31m \u001b[0mos\u001b[0m\u001b[0;34m.\u001b[0m\u001b[0mchdir\u001b[0m\u001b[0;34m(\u001b[0m\u001b[0mMAIN_DIR\u001b[0m\u001b[0;34m+\u001b[0m\u001b[0mFOCAL_SHIFT_DIR\u001b[0m\u001b[0;34m)\u001b[0m\u001b[0;34m\u001b[0m\u001b[0m\n\u001b[0m\u001b[1;32m      4\u001b[0m \u001b[0mz\u001b[0m\u001b[0;34m,\u001b[0m\u001b[0mx\u001b[0m\u001b[0;34m,\u001b[0m\u001b[0my\u001b[0m\u001b[0;34m,\u001b[0m\u001b[0msum_\u001b[0m \u001b[0;34m=\u001b[0m \u001b[0mloadtxt\u001b[0m\u001b[0;34m(\u001b[0m\u001b[0mfocal_shift_file\u001b[0m\u001b[0;34m,\u001b[0m \u001b[0munpack\u001b[0m\u001b[0;34m=\u001b[0m\u001b[0mTrue\u001b[0m\u001b[0;34m)\u001b[0m\u001b[0;34m\u001b[0m\u001b[0m\n",
        "\u001b[0;31mOSError\u001b[0m: [Errno 2] No such file or directory: '/Users/cfperez/Documents/FRET/Data/calibration/Realignment 2014/focal_shift'"
       ]
      }
     ],
     "prompt_number": 828
    },
    {
     "cell_type": "code",
     "collapsed": false,
     "input": [
      "figure('focal shift')\n",
      "clf()\n",
      "N = 20\n",
      "z_s,sum_s = z[N:-20], sum_[N:-20]\n",
      "\n",
      "#plot(z_s,sum_s)\n",
      "\n",
      "m,b,_,_,_ = linregress(z_s, sum_s)\n",
      "sum_s_flat = sum_s - m*z_s+b\n",
      "plot(z_s, sum_s_flat)\n",
      "title('Sum voltage versus stage position (flattened)')\n",
      "xlabel('Position (nm)')\n",
      "ylabel('Volts')\n",
      "\n",
      "\n",
      "from scipy.fftpack import fft\n",
      "figure('fft')\n",
      "clf()\n",
      "fft_out = fft(sum_s_flat * signal.hanning(120))\n",
      "fft_pos,fft_neg = split(fft_out, [fft_out.size/2])\n",
      "fft_pos = fft_pos[1:]\n",
      "fft_neg = fft_neg[::-1]\n",
      "plot(log(abs(fft_pos)),'-')\n",
      "plot(log(abs(fft_neg)), '--')\n",
      "title('FFT of sum voltage')\n",
      "xlabel('Inverse distance')\n",
      "\n",
      "#pt = ginput()[0][0]\n",
      "\n",
      "# X-axis of FFT is an inverse distance\n",
      "peak = (z_s[0] - z_s[-1])/pt\n",
      "\n",
      "print \"Using point at x = %.2f\" % pt\n",
      "print \"Peak at {:.1f} nm\".format(peak)\n",
      "\n",
      "focal_shift = 830 / 2 / 1.3274 / peak\n",
      "print \"Focal shift = {:.2f}\".format(830 / 2 / 1.3274 / peak)"
     ],
     "language": "python",
     "metadata": {},
     "outputs": [
      {
       "ename": "NameError",
       "evalue": "name 'z' is not defined",
       "output_type": "pyerr",
       "traceback": [
        "\u001b[0;31m---------------------------------------------------------------------------\u001b[0m\n\u001b[0;31mNameError\u001b[0m                                 Traceback (most recent call last)",
        "\u001b[0;32m<ipython-input-829-411a46ae677d>\u001b[0m in \u001b[0;36m<module>\u001b[0;34m()\u001b[0m\n\u001b[1;32m      2\u001b[0m \u001b[0mclf\u001b[0m\u001b[0;34m(\u001b[0m\u001b[0;34m)\u001b[0m\u001b[0;34m\u001b[0m\u001b[0m\n\u001b[1;32m      3\u001b[0m \u001b[0mN\u001b[0m \u001b[0;34m=\u001b[0m \u001b[0;36m20\u001b[0m\u001b[0;34m\u001b[0m\u001b[0m\n\u001b[0;32m----> 4\u001b[0;31m \u001b[0mz_s\u001b[0m\u001b[0;34m,\u001b[0m\u001b[0msum_s\u001b[0m \u001b[0;34m=\u001b[0m \u001b[0mz\u001b[0m\u001b[0;34m[\u001b[0m\u001b[0mN\u001b[0m\u001b[0;34m:\u001b[0m\u001b[0;34m-\u001b[0m\u001b[0;36m20\u001b[0m\u001b[0;34m]\u001b[0m\u001b[0;34m,\u001b[0m \u001b[0msum_\u001b[0m\u001b[0;34m[\u001b[0m\u001b[0mN\u001b[0m\u001b[0;34m:\u001b[0m\u001b[0;34m-\u001b[0m\u001b[0;36m20\u001b[0m\u001b[0;34m]\u001b[0m\u001b[0;34m\u001b[0m\u001b[0m\n\u001b[0m\u001b[1;32m      5\u001b[0m \u001b[0;34m\u001b[0m\u001b[0m\n\u001b[1;32m      6\u001b[0m \u001b[0;31m#plot(z_s,sum_s)\u001b[0m\u001b[0;34m\u001b[0m\u001b[0;34m\u001b[0m\u001b[0m\n",
        "\u001b[0;31mNameError\u001b[0m: name 'z' is not defined"
       ]
      }
     ],
     "prompt_number": 829
    },
    {
     "cell_type": "markdown",
     "metadata": {},
     "source": [
      "Calibrate height\n",
      "----------------"
     ]
    },
    {
     "cell_type": "code",
     "collapsed": false,
     "input": [
      "def get_fname_field(fname, field):\n",
      "    return fname.split('.')[0].split('_')[field]\n",
      "def nm_to_float(nm):\n",
      "    if nm.endswith('nm'):\n",
      "        nm = nm[:-2]\n",
      "    return float(nm)\n",
      "def nm_in_fname(field):\n",
      "    return lambda fname: nm_to_float(get_fname_field(fname, field))"
     ],
     "language": "python",
     "metadata": {},
     "outputs": [],
     "prompt_number": 864
    },
    {
     "cell_type": "code",
     "collapsed": false,
     "input": [
      "height_files = glob.glob('*6.spec')[:-2]\n",
      "\n",
      "nm_field_number = 2\n",
      "\n",
      "spec_height = map(calibrate.load_spectra, height_files)\n",
      "z_position = [nm_to_float(get_fname_field(f, -nm_field_number)) for f in height_files]\n",
      "fx = map(itemgetter('f_x'), spec_height)\n",
      "fit = calibrate.fit_freq_vs_position(z_position, fx, focal_shift=focal_shift)\n",
      "print fit\n",
      "\n",
      "fig('F vs height')\n",
      "plot(z_position, fx, '.');\n",
      "xlabel(\"Stage position\")\n",
      "ylabel(\"Rolloff frequency\")\n",
      "plot(z_position, fit(array(z_position)))\n",
      "\n",
      "height_offset = fit['height_offset']*1e-9\n",
      "height_from_position = lambda z: calibrate.position_to_height(z, focal_shift, height_offset);"
     ],
     "language": "python",
     "metadata": {},
     "outputs": [],
     "prompt_number": 1863
    },
    {
     "cell_type": "code",
     "collapsed": false,
     "input": [
      "savefig('Rolloff vs height.png')"
     ],
     "language": "python",
     "metadata": {},
     "outputs": [],
     "prompt_number": 1866
    },
    {
     "cell_type": "code",
     "collapsed": false,
     "input": [
      "rolloff_height = []"
     ],
     "language": "python",
     "metadata": {},
     "outputs": [],
     "prompt_number": 882
    },
    {
     "cell_type": "heading",
     "level": 3,
     "metadata": {},
     "source": [
      "Temperature and stiffness measurements"
     ]
    },
    {
     "cell_type": "code",
     "collapsed": false,
     "input": [
      "# TODO calculate this using latest data\n",
      "big_small_bead_k_ratio = 1.39 # as measured on 4/30/13 for 0.82 beads\n",
      "\n",
      "bead_radius = 300e-9\n",
      "\n",
      "# Stage position in meters that rolloff measurements were taken\n",
      "stage_position = 1500e-9\n",
      "# Convert stage position from scattering peak to height\n",
      "height = calibrate.position_to_height(stage_position, focal_shift, height_offset)\n",
      "\n",
      "# in Celsuis\n",
      "room_temp = 18.33\n",
      "\n",
      "# measured via power meter in box for\n",
      "# CURRENT AOD GAIN -16 and WAVEPLATE ANGLE 72!\n",
      "strong_power = 1.58\n",
      "weak_power = 0.24\n",
      "laser_power_ratio = weak_power/strong_power\n",
      "\n",
      "# For convenience/clarity\n",
      "viscosity = calibrate.water_viscosity\n",
      "\n",
      "f_sample = 80000.\n",
      "f_antialias = f_sample/2\n",
      "\n",
      "eta = viscosity(room_temp+weak_T) # in SI units (Pa*s)"
     ],
     "language": "python",
     "metadata": {},
     "outputs": [],
     "prompt_number": 2084
    },
    {
     "cell_type": "code",
     "collapsed": false,
     "input": [
      "os.chdir(MAIN_DIR + WEAK_TRAP_CAL_DIR)\n",
      "\n",
      "# I add \"strong\" to the filename to indicate the strong trap was on during that measurment\n",
      "spec_files_strong = glob.glob('*strong*.spec')\n",
      "spec_files_weak = [f for f in glob.glob('*.spec') if f not in spec_files_strong]\n",
      "\n",
      "spec_weak = map(calibrate.load_spectra, spec_files_weak)\n",
      "spec_strong = map(calibrate.load_spectra, spec_files_strong)\n",
      "\n",
      "# Helpful messages\n",
      "get_field = lambda field,dicts: map(itemgetter(field), dicts)\n",
      "print \"Files loaded:\\nWeak:\\n{}\\n\\nStrong:\\n{}\".format(\n",
      "    '\\n'.join(spec_files_weak),\n",
      "    '\\n'.join(spec_files_strong)\n",
      "    )\n",
      "\n",
      "# Extract the actual rolloff frequencies (ignoring Y here)\n",
      "from operator import itemgetter\n",
      "get_field = lambda field,dicts: map(itemgetter(field), dicts)\n",
      "f_x_weak = get_field('f_x', spec_weak)\n",
      "f_x_strong = get_field('f_x', spec_strong)"
     ],
     "language": "python",
     "metadata": {},
     "outputs": [
      {
       "output_type": "stream",
       "stream": "stdout",
       "text": [
        "Files loaded:\n",
        "Weak:\n",
        "weak_600bead_72deg_1500nm.spec\n",
        "weak_600bead_72deg_1500nm_2.spec\n",
        "weak_600bead_72deg_1500nm_3.spec\n",
        "weak_600bead_72deg_1500nm_4_200averages.spec\n",
        "weak_600bead_72deg_1500nm_5.spec\n",
        "weak_600bead_72deg_1500nm_6.spec\n",
        "\n",
        "Strong:\n",
        "weak_600bead_72deg_1500nm_strong.spec\n",
        "weak_600bead_72deg_1500nm_strong_2.spec\n",
        "weak_600bead_72deg_1500nm_strong_3.spec\n",
        "weak_600bead_72deg_1500nm_strong_4.spec\n",
        "weak_600bead_72deg_1500nm_strong_5.spec\n",
        "weak_600bead_72deg_1500nm_strong_6.spec\n"
       ]
      }
     ],
     "prompt_number": 10
    },
    {
     "cell_type": "code",
     "collapsed": false,
     "input": [
      "# Check for outliers\n",
      "array(f_x_weak)/array(f_x_strong)"
     ],
     "language": "python",
     "metadata": {},
     "outputs": [
      {
       "output_type": "pyout",
       "prompt_number": 745,
       "text": [
        "array([ 0.84330181,  1.03009461,  0.84478143,  0.84823465,  0.83049178,\n",
        "        0.82716356])"
       ]
      }
     ],
     "prompt_number": 745
    },
    {
     "cell_type": "code",
     "collapsed": false,
     "input": [
      "# Removing outliers\n",
      "i = 1\n",
      "del f_x_weak[i]\n",
      "del f_x_strong[i]\n",
      "del spec_weak[i]\n",
      "del spec_strong[i]\n",
      "print f_x_weak, \"\\n\", f_x_strong"
     ],
     "language": "python",
     "metadata": {},
     "outputs": [
      {
       "output_type": "stream",
       "stream": "stdout",
       "text": [
        "[6654.95, 6636.02, 6782.62, 6762.57, 6794.52] \n",
        "[7891.54, 7855.31, 7996.16, 8142.85, 8214.24]\n"
       ]
      }
     ],
     "prompt_number": 746
    },
    {
     "cell_type": "markdown",
     "metadata": {},
     "source": [
      "The temperature increase from both traps (and therefore the final temperature) can be calculated by comparing the ratio of measured rolloff frequencies, which are functions of drag, and the temperature-dependent viscosity by assuming (1) the temperature increases linearly with laser power (and so can be related by the measured input powers, and (2) the viscosity scales linearly with temperature.\n",
      "\n",
      "$$\n",
      "\\frac{f_{off}}{f_{on}} = \\frac{\\eta_{on}}{\\eta_{off}}\n",
      "= \\frac{\\eta_0 - (\\Delta T_{strong} + \\Delta T_{weak}) m_n}{\\eta_0 - \\Delta T_{weak} m_n}\n",
      "= \\frac{\\eta_0 - \\Delta T_{strong} (1+\\epsilon) m_n}{\\eta_0 - \\Delta T_{strong}\\epsilon m_n}\n",
      "$$\n",
      "\n",
      "Where $\\epsilon = \\frac{P_{weak}}{P_{strong}}$ is the ratio of laser powers, and $F_{off}$ and $F_{on}$ indicate rolloff frequencies with the strong trap off or on, and $\\Delta T$ indicates the temperature increase to do the subscripted trap."
     ]
    },
    {
     "cell_type": "code",
     "collapsed": false,
     "input": [
      "exp_T, strong_T, weak_T = calibrate.calc_trap_temps(\n",
      "f_x_strong, f_x_weak, laser_power_ratio)\n",
      "print \"Temperature: {:.1f}C | weak trap {:.1f}C | strong trap {:.1f}C\".format(exp_T, weak_T, strong_T)\n",
      "print \"Temp shift: %.1f K/W\" % (strong_T/strong_power)"
     ],
     "language": "python",
     "metadata": {},
     "outputs": [
      {
       "output_type": "stream",
       "stream": "stdout",
       "text": [
        "Temperature: 26.7C | weak trap 1.1C | strong trap 7.3C\n",
        "Temp shift: 4.6 K/W\n"
       ]
      }
     ],
     "prompt_number": 2108
    },
    {
     "cell_type": "markdown",
     "metadata": {},
     "source": [
      "Here's the most theoretically correct way to fit these power spectra (see Neuman 2004, Berg-Sorensen+Flyvbjerg 2004), but with the settings below, a straightforward lorentzian underestimates the rolloff frequency by only ~1%. Your mileage may vary, so be careful!\n",
      "\n",
      "- 80 kHz sample rate, 40 kHz online Butterworth filter\n",
      "- average of 200 spectra @ 8192 samples\n",
      "\n",
      "As an example, I will fit the first spectra for the weak trap only below:"
     ]
    },
    {
     "cell_type": "code",
     "collapsed": false,
     "input": [
      "spectra = spec_weak[0]['spectra']\n",
      "freq, power_x, power_y, fit_x, fit_y = spectra.T"
     ],
     "language": "python",
     "metadata": {},
     "outputs": [],
     "prompt_number": 747
    },
    {
     "cell_type": "markdown",
     "metadata": {},
     "source": [
      "Blocking is another way of getting Gaussian errors in the power spectra (which is normally exponentially distributed.) With >50 averages, however, errors are very normally distributed and justify using least squares fitting.\n",
      "\n",
      "Below, I am using blocking as a visual aid to show how well the different fits are working."
     ]
    },
    {
     "cell_type": "code",
     "collapsed": false,
     "input": [
      "block_n = 52\n",
      "blocked = lambda x: block(x, block_n) \n",
      "freq_blocked, power_x_blocked = blocked(freq),blocked(power_x)"
     ],
     "language": "python",
     "metadata": {},
     "outputs": [],
     "prompt_number": 966
    },
    {
     "cell_type": "markdown",
     "metadata": {},
     "source": [
      "According to S-B+F 2004, an \"aliased\" spectra will lie along a straight line when plotted against cos(pi f/f_sample). Curvature indicates other effects. Plotting against f^2 yields a straight line for a pure Lorentzian, and curvature indicates frequency dependent drag and/or filtering. They both look straight to me..."
     ]
    },
    {
     "cell_type": "code",
     "collapsed": false,
     "input": [
      "fig('spectra')\n",
      "plotfunc = loglog\n",
      "\n",
      "plotfunc(freq, power_x, ',')\n",
      "plotfunc(freq_blocked, power_x_blocked, 'o')\n",
      "plotfunc(freq, fit_x, 'y-', linewidth=2)\n",
      "\n",
      "from scipy.stats import linregress\n",
      "\n",
      "fig('check aliasing')\n",
      "X = cos(np.pi*freq_blocked/f_sample)\n",
      "plot(X, 1/power_x_blocked, 'o')\n",
      "m,b,r,p,err = linregress(X, 1/power_x_blocked)\n",
      "fit_fcos = polyval((m,b), X)\n",
      "plot(X, fit_fcos, '--')\n",
      "annotate(\"R-value=%f\" % r, (0.8,800))\n",
      "\n",
      "fig('check freq dependence')\n",
      "plot(freq_blocked**2, 1/power_x_blocked, 'o')\n",
      "m,b,r,p,err = linregress(freq_blocked**2, 1/power_x_blocked)\n",
      "fit_fsquared = polyval((m,b), freq_blocked**2)\n",
      "plot(freq_blocked**2, fit_fsquared, '--')\n",
      "annotate(\"R-value=%f\" % r, (5e7,800));"
     ],
     "language": "python",
     "metadata": {},
     "outputs": [],
     "prompt_number": 967
    },
    {
     "cell_type": "code",
     "collapsed": false,
     "input": [
      "fig('residual distribution')\n",
      "error = power_x/fit_x\n",
      "error = delete(error, where(error>2.5))\n",
      "hist(error, bins=30)\n",
      "\n",
      "fig('residual')\n",
      "plot(freq, fit_x-power_x, '.')\n",
      "block_n = 52\n",
      "blocked = lambda x: block(x, block_n) \n",
      "plot(blocked(freq), blocked(fit_x-power_x), 'o');"
     ],
     "language": "python",
     "metadata": {},
     "outputs": [],
     "prompt_number": 968
    },
    {
     "cell_type": "code",
     "collapsed": false,
     "input": [
      "constants = {'viscosity': eta, 'height': height, \n",
      "'bead_radius': 300e-9, 'bead_density': 1.05e3, \n",
      "'filter_3db': f_antialias, 'f_sample': f_sample, \n",
      "'aliasing': True}\n",
      "\n",
      "fitfunc, param, cov = fit_power_spectra(freq, power_x, constants)\n",
      "print 'Cutoff freq = {:.0f} | D = {:.2e}'.format(*param)\n",
      "\n",
      "figure('spectra')\n",
      "\n",
      "plotfunc(freq, fit_x, 'g-', linewidth=2, label='standard fit')\n",
      "fitfunc_out = fitfunc(freq, *param)\n",
      "\n",
      "plotfunc(freq, fitfunc(freq, *param), 'r-', linewidth=2, label='fitfunc')\n",
      "legend()\n",
      "\n",
      "fig('residual')\n",
      "residual = fitfunc_out - power_x\n",
      "plot(freq, residual)\n",
      "fig('residual distribution')\n",
      "hist(fitfunc_out/power_x, bins=100);"
     ],
     "language": "python",
     "metadata": {},
     "outputs": [
      {
       "output_type": "stream",
       "stream": "stdout",
       "text": [
        "Cutoff freq = 7010 | D = 1.02e+07\n"
       ]
      }
     ],
     "prompt_number": 977
    },
    {
     "cell_type": "code",
     "collapsed": false,
     "input": [
      "k_weak = calibrate.stiffness_from_rolloff(mean(rolloffs), bead_radius, weak_T+room_temp, height)\n",
      "\n",
      "print \"\\nWeak trap stiffness at 130 mM KCL:\\t{:.3f} (uncorrected {:.3f})\".format(k_weak * 0.96, k_weak)\n",
      "\n",
      "k_strong = k_weak * big_small_bead_k_ratio / laser_power_ratio\n",
      "print \"Strong trap stiffness at 130 mM KCL:\\t{:.3f} (uncorrected {:.3f})\".format(k_strong * 0.96, k_strong)\n",
      "print \"Trap stiffness ratio:\\t\\t\\t{:.2f}\".format(k_strong/k_weak)"
     ],
     "language": "python",
     "metadata": {},
     "outputs": [
      {
       "output_type": "stream",
       "stream": "stdout",
       "text": [
        "\n",
        "Weak trap stiffness at 130 mM KCL:\t0.278 (uncorrected 0.289)\n",
        "Strong trap stiffness at 130 mM KCL:\t2.543 (uncorrected 2.649)\n",
        "Trap stiffness ratio:\t\t\t9.15\n"
       ]
      }
     ],
     "prompt_number": 2109
    },
    {
     "cell_type": "markdown",
     "metadata": {},
     "source": [
      "At this point (1/30), Van reports the strong trap is _much_ too stiff with AOD gain at -16: Dbells are not stable as the other bead (and floaters) are sucked into it.\n",
      "\n",
      "I set AOD gain to -18.5, which results in (assuming constant stiffness/power):"
     ]
    },
    {
     "cell_type": "code",
     "collapsed": false,
     "input": [
      "# Power measurements above\n",
      "k_strong_lower = .98/1.58*k_strong\n",
      "print \"Stiffness (strong) = %.2f pN/nm\" % (k_strong_lower*.96)\n",
      "print \"strong/weak = %.2f\" % (k_strong_lower / k_weak)\n",
      "print \"Temperature = %.1f\" % (1/1.58*strong_T + room_temp + weak_T)"
     ],
     "language": "python",
     "metadata": {},
     "outputs": [
      {
       "output_type": "stream",
       "stream": "stdout",
       "text": [
        "Stiffness (strong) = 1.58 pN/nm\n",
        "strong/weak = 5.68\n"
       ]
      }
     ],
     "prompt_number": 2120
    },
    {
     "cell_type": "heading",
     "level": 3,
     "metadata": {},
     "source": [
      "Check rolloff freq vs height"
     ]
    },
    {
     "cell_type": "markdown",
     "metadata": {},
     "source": [
      "Sanity check: measure rolloff of bead as function of stage position. Fit it to Faxen's law with fixed focal shift. Returns rolloff frequency in absence of surface effects. (Be careful going too far into solution!) Use this to calculate the stiffness and compare to height-adjusted calculation, which may have other systematic errors."
     ]
    },
    {
     "cell_type": "code",
     "collapsed": false,
     "input": [
      "rolloff_height = []"
     ],
     "language": "python",
     "metadata": {},
     "outputs": []
    },
    {
     "cell_type": "code",
     "collapsed": false,
     "input": [
      "os.chdir(MAIN_DIR)\n",
      "\n",
      "# I add \"strong\" to the filename to indicate the strong trap was on during that measurment\n",
      "height_files = glob.glob('*6.spec')[:-2]\n",
      "\n",
      "nm_field_number = 2\n",
      "\n",
      "spec_height = map(calibrate.load_spectra, height_files)\n",
      "z_position = [nm_to_float(get_fname_field(f, -nm_field_number)) for f in height_files]\n",
      "fx = map(itemgetter('f_x'), spec_height)\n",
      "fit = calibrate.fit_freq_vs_position(z_position, fx, focal_shift=focal_shift)\n",
      "rolloff_height.append(fit['F_at_infinity'])\n",
      "fig('F vs height')\n",
      "plot(z_position, fx, '.');\n",
      "plot(z_position, fit(array(z_position)));\n",
      "xlabel(\"Stage position\")\n",
      "ylabel(\"Rolloff frequency\")\n",
      "print fit\n",
      "print calibrate.stiffness_from_rolloff(fit['F_at_infinity'], 300e-9, weak_T+room_temp)"
     ],
     "language": "python",
     "metadata": {},
     "outputs": [
      {
       "output_type": "stream",
       "stream": "stdout",
       "text": [
        "freq_vs_position fit: F_at_infinity=8271.66\u00b11057.37 height_offset=-533.83\u00b13480.79\n",
        "0.298236963859\n"
       ]
      }
     ],
     "prompt_number": 1003
    },
    {
     "cell_type": "code",
     "collapsed": false,
     "input": [
      "print rolloff_height\n",
      "rolloff_h_avg = mean(rolloff_height)\n",
      "print rolloff_h_avg\n",
      "calibrate.stiffness_from_rolloff(rolloff_h_avg, bead_radius, weak_T+room_temp)"
     ],
     "language": "python",
     "metadata": {},
     "outputs": [
      {
       "output_type": "stream",
       "stream": "stdout",
       "text": [
        "[8216.478209937612, 8019.633837123004, 8208.152856252651]\n",
        "8148.0883011\n"
       ]
      },
      {
       "output_type": "pyout",
       "prompt_number": 959,
       "text": [
        "0.29378169795134934"
       ]
      }
     ],
     "prompt_number": 959
    }
   ],
   "metadata": {}
  }
 ]
}