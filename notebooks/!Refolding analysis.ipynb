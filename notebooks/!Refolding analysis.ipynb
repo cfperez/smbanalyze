{
 "metadata": {
  "name": "!Refolding analysis"
 },
 "nbformat": 3,
 "nbformat_minor": 0,
 "worksheets": [
  {
   "cells": [
    {
     "cell_type": "code",
     "collapsed": false,
     "input": [
      "from smbanalyze import shell\n",
      "reload(shell)\n",
      "from smbanalyze.shell import *"
     ],
     "language": "python",
     "metadata": {},
     "outputs": [],
     "prompt_number": 1
    },
    {
     "cell_type": "code",
     "collapsed": false,
     "input": [
      "datadb = db.connect()"
     ],
     "language": "python",
     "metadata": {},
     "outputs": [],
     "prompt_number": 2
    },
    {
     "cell_type": "code",
     "collapsed": false,
     "input": [
      "for d in datadb.tpp.find({'construct': 'WT2at'}, {'date':1,'filename':1, '_id':0}).sort('date'):\n",
      "    print d['date'], d['filename']"
     ],
     "language": "python",
     "metadata": {},
     "outputs": [
      {
       "output_type": "stream",
       "stream": "stdout",
       "text": [
        "2014-02-13 14:09:00 WT2at_1nM_s2m4_3_refold_0.0s_1_up\n",
        "2014-02-13 14:09:00 WT2at_1nM_s2m4_3_refold_0.0s_3_up\n",
        "2014-02-13 14:09:00 WT2at_1nM_s2m4_3_refold_0.0s_4_up\n",
        "2014-02-13 14:09:00 WT2at_1nM_s2m4_3_refold_0.0s_5_up\n",
        "2014-02-13 14:18:00 WT2at_1nM_s2m4_35_refold_0.0s_1_up\n",
        "2014-02-13 14:18:00 WT2at_1nM_s2m4_35_refold_0.0s_2_up\n",
        "2014-02-13 14:18:00 WT2at_1nM_s2m4_24_refold_0.0s_1_up\n",
        "2014-02-13 14:18:00 WT2at_1nM_s2m4_24_refold_0.0s_2_up\n",
        "2014-02-13 14:18:00 WT2at_1nM_s2m4_24_refold_0.0s_3_up\n",
        "2014-02-13 14:18:00 WT2at_1nM_s2m4_24_refold_0.0s_4_up\n",
        "2014-02-13 14:18:00 WT2at_1nM_s2m4_24_refold_0.0s_5_up\n",
        "2014-02-13 14:19:00 WT2at_1nM_s2m4_35_refold_0.0s_3_up\n",
        "2014-02-13 14:19:00 WT2at_1nM_s2m4_35_refold_0.0s_4_up\n",
        "2014-02-13 14:19:00 WT2at_1nM_s2m4_35_refold_0.0s_5_up\n",
        "2014-03-03 11:28:00 WT2at_500pM_s1m4_refold_0.1s_1_up\n",
        "2014-03-03 11:28:00 WT2at_500pM_s1m4_refold_0.1s_2_up\n",
        "2014-03-03 11:28:00 WT2at_500pM_s1m4_refold_0.1s_3_up\n",
        "2014-03-03 11:28:00 WT2at_500pM_s1m4_refold_0.1s_4_up\n",
        "2014-03-03 11:28:00 WT2at_500pM_s1m4_refold_0.1s_5_up\n",
        "2014-03-03 12:38:00 WT2at_200pM_s2m3_refold_0.5s_2_up\n",
        "2014-03-03 12:38:00 WT2at_200pM_s2m3_refold_0.5s_3_up\n",
        "2014-03-03 12:38:00 WT2at_200pM_s2m3_refold_0.5s_4_up\n",
        "2014-03-03 12:38:00 WT2at_200pM_s2m3_refold_0.5s_5_up\n",
        "2014-03-03 12:38:00 WT2at_200pM_s2m3_refold_0.5s_1_up\n",
        "2014-03-03 12:41:00 WT2at_200pM_s2m3_refold_1.0s_1_up\n",
        "2014-03-03 12:41:00 WT2at_200pM_s2m3_refold_1.0s_2_up\n",
        "2014-03-03 12:41:00 WT2at_200pM_s2m3_refold_1.0s_3_up\n",
        "2014-03-03 12:41:00 WT2at_200pM_s2m3_refold_1.0s_4_up\n",
        "2014-03-03 12:41:00 WT2at_200pM_s2m3_refold_1.0s_5_up\n",
        "2014-03-03 12:42:00 WT2at_200pM_s2m3_refold_5.0s_1_up\n",
        "2014-03-03 12:42:00 WT2at_200pM_s2m3_refold_5.0s_2_up\n",
        "2014-03-03 12:42:00 WT2at_200pM_s2m3_refold_5.0s_3_up\n",
        "2014-03-03 12:42:00 WT2at_200pM_s2m3_refold_5.0s_4_up\n",
        "2014-03-03 12:42:00 WT2at_200pM_s2m3_refold_5.0s_5_up\n",
        "2014-03-03 12:43:00 WT2at_200pM_s2m3_refold_10.0s_1_up\n",
        "2014-03-03 12:43:00 WT2at_200pM_s2m3_refold_10.0s_2_up\n",
        "2014-03-03 12:43:00 WT2at_200pM_s2m3_refold_10.0s_3_up\n",
        "2014-03-03 12:43:00 WT2at_200pM_s2m3_refold_10.0s_4_up\n",
        "2014-03-03 12:43:00 WT2at_200pM_s2m3_refold_10.0s_5_up\n",
        "2014-03-03 12:45:00 WT2at_200pM_s2m3_refold_30.0s_1_up\n",
        "2014-03-03 12:45:00 WT2at_200pM_s2m3_refold_30.0s_2_up\n",
        "2014-03-03 12:46:00 WT2at_200pM_s2m3_refold_30.0s_3_up\n",
        "2014-03-03 12:46:00 WT2at_200pM_s2m3_refold_30.0s_4_up\n",
        "2014-03-03 12:47:00 WT2at_200pM_s2m3_refold_30.0s_5_up\n",
        "2014-03-03 12:48:00 WT2at_200pM_s2m3_refold_10.0s_6_up\n",
        "2014-03-03 12:48:00 WT2at_200pM_s2m3_refold_10.0s_7_up\n",
        "2014-03-03 12:48:00 WT2at_200pM_s2m3_refold_10.0s_8_up\n",
        "2014-03-03 12:48:00 WT2at_200pM_s2m3_refold_10.0s_9_up\n",
        "2014-03-03 12:49:00 WT2at_200pM_s2m3_refold_10.0s_10_up\n",
        "2014-03-03 13:18:00 WT2at_200pM_s2m4_refold_1.0s_1_up\n",
        "2014-03-03 13:18:00 WT2at_200pM_s2m4_refold_1.0s_2_up\n",
        "2014-03-03 13:19:00 WT2at_200pM_s2m4_refold_1.0s_10_up\n",
        "2014-03-03 13:19:00 WT2at_200pM_s2m4_refold_1.0s_3_up\n",
        "2014-03-03 13:19:00 WT2at_200pM_s2m4_refold_1.0s_4_up\n",
        "2014-03-03 13:19:00 WT2at_200pM_s2m4_refold_1.0s_5_up\n",
        "2014-03-03 13:19:00 WT2at_200pM_s2m4_refold_1.0s_6_up\n",
        "2014-03-03 13:19:00 WT2at_200pM_s2m4_refold_1.0s_7_up\n",
        "2014-03-03 13:19:00 WT2at_200pM_s2m4_refold_1.0s_8_up\n",
        "2014-03-03 13:19:00 WT2at_200pM_s2m4_refold_1.0s_9_up\n",
        "2014-03-03 13:23:00 WT2at_200pM_s2m5_refold_1.0s_7_up\n",
        "2014-03-03 13:23:00 WT2at_200pM_s2m5_refold_1.0s_1_up\n",
        "2014-03-03 13:23:00 WT2at_200pM_s2m5_refold_1.0s_2_up\n",
        "2014-03-03 13:23:00 WT2at_200pM_s2m5_refold_1.0s_3_up\n",
        "2014-03-03 13:23:00 WT2at_200pM_s2m5_refold_1.0s_4_up\n",
        "2014-03-03 13:23:00 WT2at_200pM_s2m5_refold_1.0s_5_up\n",
        "2014-03-03 13:23:00 WT2at_200pM_s2m5_refold_1.0s_6_up\n",
        "2014-03-11 15:20:00 WT2at_0.5nM_s2m1_refold_0.9s_1_up\n",
        "2014-03-11 15:20:00 WT2at_0.5nM_s2m1_refold_0.9s_2_up\n",
        "2014-03-11 15:20:00 WT2at_0.5nM_s2m1_refold_0.9s_3_up\n",
        "2014-03-11 15:20:00 WT2at_0.5nM_s2m1_refold_0.9s_4_up\n"
       ]
      }
     ],
     "prompt_number": 4
    },
    {
     "cell_type": "code",
     "collapsed": false,
     "input": [
      "wtum_slow = experiment.fromMatch('WTUM', 's2m1', 'refold', 'up')\n",
      "wtum_slow"
     ],
     "language": "python",
     "metadata": {},
     "outputs": [],
     "prompt_number": 509
    },
    {
     "cell_type": "code",
     "collapsed": false,
     "input": [
      "wtum_slow.plot(style=':')"
     ],
     "language": "python",
     "metadata": {},
     "outputs": [
      {
       "output_type": "pyout",
       "prompt_number": 514,
       "text": [
        "<smbanalyze.fplot.Figure at 0x117b3f390>"
       ]
      }
     ],
     "prompt_number": 514
    },
    {
     "cell_type": "code",
     "collapsed": false,
     "input": [
      "#wtum = db.api.get_exp(datadb.tpp, construct='wtUM')\n",
      "wtum = db.api.get_exp(datadb.tpp, construct='wtum')\n",
      "wtum.plot(style='-')\n",
      "wtum"
     ],
     "language": "python",
     "metadata": {},
     "outputs": [
      {
       "output_type": "pyout",
       "prompt_number": 452,
       "text": [
        "[0: <Experiment.Pulling from 'WTUM_500pM_s1m1_refold_0.0s_1_up'>\n",
        " 1: <Experiment.Pulling from 'WTUM_500pM_s1m1_refold_0.0s_10_up'>\n",
        " 2: <Experiment.Pulling from 'WTUM_500pM_s1m1_refold_0.0s_2_up'>\n",
        " 3: <Experiment.Pulling from 'WTUM_500pM_s1m1_refold_0.0s_3_up'>\n",
        " 4: <Experiment.Pulling from 'WTUM_500pM_s1m1_refold_0.0s_4_up'>\n",
        " 5: <Experiment.Pulling from 'WTUM_500pM_s1m1_refold_0.0s_5_up'>\n",
        " 6: <Experiment.Pulling from 'WTUM_500pM_s1m1_refold_0.0s_6_up'>\n",
        " 7: <Experiment.Pulling from 'WTUM_500pM_s1m1_refold_0.0s_7_up'>\n",
        " 8: <Experiment.Pulling from 'WTUM_500pM_s1m1_refold_0.0s_8_up'>\n",
        " 9: <Experiment.Pulling from 'WTUM_500pM_s1m1_refold_0.0s_9_up'>\n",
        " 10: <Experiment.Pulling from 'WTUM_500pM_s1m1_refold_0.6s_1_up'>\n",
        " 11: <Experiment.Pulling from 'WTUM_500pM_s1m1_refold_0.6s_10_up'>\n",
        " 12: <Experiment.Pulling from 'WTUM_500pM_s1m1_refold_0.6s_2_up'>\n",
        " 13: <Experiment.Pulling from 'WTUM_500pM_s1m1_refold_0.6s_3_up'>\n",
        " 14: <Experiment.Pulling from 'WTUM_500pM_s1m1_refold_0.6s_4_up'>\n",
        " 15: <Experiment.Pulling from 'WTUM_500pM_s1m1_refold_0.6s_5_up'>\n",
        " 16: <Experiment.Pulling from 'WTUM_500pM_s1m1_refold_0.6s_6_up'>\n",
        " 17: <Experiment.Pulling from 'WTUM_500pM_s1m1_refold_0.6s_7_up'>\n",
        " 18: <Experiment.Pulling from 'WTUM_500pM_s1m1_refold_0.6s_8_up'>\n",
        " 19: <Experiment.Pulling from 'WTUM_500pM_s1m1_refold_0.6s_9_up'>\n",
        " 20: <Experiment.Pulling from 'WTUM_500pM_s1m1_refold_0.9s_1_up'>\n",
        " 21: <Experiment.Pulling from 'WTUM_500pM_s1m1_refold_0.9s_10_up'>\n",
        " 22: <Experiment.Pulling from 'WTUM_500pM_s1m1_refold_0.9s_2_up'>\n",
        " 23: <Experiment.Pulling from 'WTUM_500pM_s1m1_refold_0.9s_3_up'>\n",
        " 24: <Experiment.Pulling from 'WTUM_500pM_s1m1_refold_0.9s_4_up'>\n",
        " 25: <Experiment.Pulling from 'WTUM_500pM_s1m1_refold_0.9s_5_up'>\n",
        " 26: <Experiment.Pulling from 'WTUM_500pM_s1m1_refold_0.9s_6_up'>\n",
        " 27: <Experiment.Pulling from 'WTUM_500pM_s1m1_refold_0.9s_7_up'>\n",
        " 28: <Experiment.Pulling from 'WTUM_500pM_s1m1_refold_0.9s_8_up'>\n",
        " 29: <Experiment.Pulling from 'WTUM_500pM_s1m1_refold_0.9s_9_up'>\n",
        " 30: <Experiment.Pulling from 'WTUM_500pM_s1m1_refold_12.0s_1_up'>\n",
        " 31: <Experiment.Pulling from 'WTUM_500pM_s1m1_refold_12.0s_10_up'>\n",
        " 32: <Experiment.Pulling from 'WTUM_500pM_s1m1_refold_12.0s_2_up'>\n",
        " 33: <Experiment.Pulling from 'WTUM_500pM_s1m1_refold_12.0s_3_up'>\n",
        " 34: <Experiment.Pulling from 'WTUM_500pM_s1m1_refold_12.0s_4_up'>\n",
        " 35: <Experiment.Pulling from 'WTUM_500pM_s1m1_refold_12.0s_5_up'>\n",
        " 36: <Experiment.Pulling from 'WTUM_500pM_s1m1_refold_12.0s_6_up'>\n",
        " 37: <Experiment.Pulling from 'WTUM_500pM_s1m1_refold_12.0s_7_up'>\n",
        " 38: <Experiment.Pulling from 'WTUM_500pM_s1m1_refold_12.0s_8_up'>\n",
        " 39: <Experiment.Pulling from 'WTUM_500pM_s1m1_refold_12.0s_9_up'>\n",
        " 40: <Experiment.Pulling from 'WTUM_500pM_s1m1_refold_2.1s_1_up'>\n",
        " 41: <Experiment.Pulling from 'WTUM_500pM_s1m1_refold_2.1s_10_up'>\n",
        " 42: <Experiment.Pulling from 'WTUM_500pM_s1m1_refold_2.1s_2_up'>\n",
        " 43: <Experiment.Pulling from 'WTUM_500pM_s1m1_refold_2.1s_3_up'>\n",
        " 44: <Experiment.Pulling from 'WTUM_500pM_s1m1_refold_2.1s_4_up'>\n",
        " 45: <Experiment.Pulling from 'WTUM_500pM_s1m1_refold_2.1s_5_up'>\n",
        " 46: <Experiment.Pulling from 'WTUM_500pM_s1m1_refold_2.1s_6_up'>\n",
        " 47: <Experiment.Pulling from 'WTUM_500pM_s1m1_refold_2.1s_7_up'>\n",
        " 48: <Experiment.Pulling from 'WTUM_500pM_s1m1_refold_2.1s_8_up'>\n",
        " 49: <Experiment.Pulling from 'WTUM_500pM_s1m1_refold_2.1s_9_up'>\n",
        " 50: <Experiment.Pulling from 'WTUM_500pM_s1m1_refold_30.0s_1_up'>\n",
        " 51: <Experiment.Pulling from 'WTUM_500pM_s1m1_refold_30.0s_10_up'>\n",
        " 52: <Experiment.Pulling from 'WTUM_500pM_s1m1_refold_30.0s_2_up'>\n",
        " 53: <Experiment.Pulling from 'WTUM_500pM_s1m1_refold_30.0s_3_up'>\n",
        " 54: <Experiment.Pulling from 'WTUM_500pM_s1m1_refold_30.0s_4_up'>\n",
        " 55: <Experiment.Pulling from 'WTUM_500pM_s1m1_refold_30.0s_5_up'>\n",
        " 56: <Experiment.Pulling from 'WTUM_500pM_s1m1_refold_30.0s_6_up'>\n",
        " 57: <Experiment.Pulling from 'WTUM_500pM_s1m1_refold_30.0s_7_up'>\n",
        " 58: <Experiment.Pulling from 'WTUM_500pM_s1m1_refold_30.0s_8_up'>\n",
        " 59: <Experiment.Pulling from 'WTUM_500pM_s1m1_refold_30.0s_9_up'>\n",
        " 60: <Experiment.Pulling from 'WTUM_500pM_s1m1_refold_6.0s_1_up'>\n",
        " 61: <Experiment.Pulling from 'WTUM_500pM_s1m1_refold_6.0s_10_up'>\n",
        " 62: <Experiment.Pulling from 'WTUM_500pM_s1m1_refold_6.0s_2_up'>\n",
        " 63: <Experiment.Pulling from 'WTUM_500pM_s1m1_refold_6.0s_3_up'>\n",
        " 64: <Experiment.Pulling from 'WTUM_500pM_s1m1_refold_6.0s_4_up'>\n",
        " 65: <Experiment.Pulling from 'WTUM_500pM_s1m1_refold_6.0s_5_up'>\n",
        " 66: <Experiment.Pulling from 'WTUM_500pM_s1m1_refold_6.0s_6_up'>\n",
        " 67: <Experiment.Pulling from 'WTUM_500pM_s1m1_refold_6.0s_7_up'>\n",
        " 68: <Experiment.Pulling from 'WTUM_500pM_s1m1_refold_6.0s_8_up'>\n",
        " 69: <Experiment.Pulling from 'WTUM_500pM_s1m1_refold_6.0s_9_up'>]"
       ]
      }
     ],
     "prompt_number": 452
    },
    {
     "cell_type": "code",
     "collapsed": false,
     "input": [
      "for p in wtum:\n",
      "    p.trap.ext += 4"
     ],
     "language": "python",
     "metadata": {},
     "outputs": [],
     "prompt_number": 291
    },
    {
     "cell_type": "code",
     "collapsed": false,
     "input": [
      "exp=db.api.get_exp(datadb.tpp, construct='WT2at', date=db.lessorequal(date(14,3,3)), mol={'$in': (3,5)})\n",
      "exp"
     ],
     "language": "python",
     "metadata": {},
     "outputs": [
      {
       "output_type": "pyout",
       "prompt_number": 83,
       "text": [
        "[0: <Experiment.Pulling from 'WT2at_200pM_s2m3_refold_0.5s_1_up'>\n",
        " 1: <Experiment.Pulling from 'WT2at_200pM_s2m3_refold_0.5s_2_up'>\n",
        " 2: <Experiment.Pulling from 'WT2at_200pM_s2m3_refold_0.5s_3_up'>\n",
        " 3: <Experiment.Pulling from 'WT2at_200pM_s2m3_refold_0.5s_4_up'>\n",
        " 4: <Experiment.Pulling from 'WT2at_200pM_s2m3_refold_0.5s_5_up'>\n",
        " 5: <Experiment.Pulling from 'WT2at_200pM_s2m3_refold_1.0s_1_up'>\n",
        " 6: <Experiment.Pulling from 'WT2at_200pM_s2m3_refold_1.0s_2_up'>\n",
        " 7: <Experiment.Pulling from 'WT2at_200pM_s2m3_refold_1.0s_3_up'>\n",
        " 8: <Experiment.Pulling from 'WT2at_200pM_s2m3_refold_1.0s_4_up'>\n",
        " 9: <Experiment.Pulling from 'WT2at_200pM_s2m3_refold_1.0s_5_up'>\n",
        " 10: <Experiment.Pulling from 'WT2at_200pM_s2m3_refold_10.0s_1_up'>\n",
        " 11: <Experiment.Pulling from 'WT2at_200pM_s2m3_refold_10.0s_10_up'>\n",
        " 12: <Experiment.Pulling from 'WT2at_200pM_s2m3_refold_10.0s_2_up'>\n",
        " 13: <Experiment.Pulling from 'WT2at_200pM_s2m3_refold_10.0s_3_up'>\n",
        " 14: <Experiment.Pulling from 'WT2at_200pM_s2m3_refold_10.0s_4_up'>\n",
        " 15: <Experiment.Pulling from 'WT2at_200pM_s2m3_refold_10.0s_5_up'>\n",
        " 16: <Experiment.Pulling from 'WT2at_200pM_s2m3_refold_10.0s_6_up'>\n",
        " 17: <Experiment.Pulling from 'WT2at_200pM_s2m3_refold_10.0s_7_up'>\n",
        " 18: <Experiment.Pulling from 'WT2at_200pM_s2m3_refold_10.0s_8_up'>\n",
        " 19: <Experiment.Pulling from 'WT2at_200pM_s2m3_refold_10.0s_9_up'>\n",
        " 20: <Experiment.Pulling from 'WT2at_200pM_s2m3_refold_30.0s_1_up'>\n",
        " 21: <Experiment.Pulling from 'WT2at_200pM_s2m3_refold_30.0s_2_up'>\n",
        " 22: <Experiment.Pulling from 'WT2at_200pM_s2m3_refold_30.0s_3_up'>\n",
        " 23: <Experiment.Pulling from 'WT2at_200pM_s2m3_refold_30.0s_4_up'>\n",
        " 24: <Experiment.Pulling from 'WT2at_200pM_s2m3_refold_30.0s_5_up'>\n",
        " 25: <Experiment.Pulling from 'WT2at_200pM_s2m3_refold_5.0s_1_up'>\n",
        " 26: <Experiment.Pulling from 'WT2at_200pM_s2m3_refold_5.0s_2_up'>\n",
        " 27: <Experiment.Pulling from 'WT2at_200pM_s2m3_refold_5.0s_3_up'>\n",
        " 28: <Experiment.Pulling from 'WT2at_200pM_s2m3_refold_5.0s_4_up'>\n",
        " 29: <Experiment.Pulling from 'WT2at_200pM_s2m3_refold_5.0s_5_up'>\n",
        " 30: <Experiment.Pulling from 'WT2at_200pM_s2m5_refold_1.0s_1_up'>\n",
        " 31: <Experiment.Pulling from 'WT2at_200pM_s2m5_refold_1.0s_2_up'>\n",
        " 32: <Experiment.Pulling from 'WT2at_200pM_s2m5_refold_1.0s_3_up'>\n",
        " 33: <Experiment.Pulling from 'WT2at_200pM_s2m5_refold_1.0s_4_up'>\n",
        " 34: <Experiment.Pulling from 'WT2at_200pM_s2m5_refold_1.0s_5_up'>\n",
        " 35: <Experiment.Pulling from 'WT2at_200pM_s2m5_refold_1.0s_6_up'>\n",
        " 36: <Experiment.Pulling from 'WT2at_200pM_s2m5_refold_1.0s_7_up'>]"
       ]
      }
     ],
     "prompt_number": 83
    },
    {
     "cell_type": "code",
     "collapsed": false,
     "input": [
      "exp.plot(show_fret=False, style='-')"
     ],
     "language": "python",
     "metadata": {},
     "outputs": [
      {
       "output_type": "pyout",
       "prompt_number": 85,
       "text": [
        "<smbanalyze.fplot.Figure at 0x112ba1450>"
       ]
      }
     ],
     "prompt_number": 85
    },
    {
     "cell_type": "code",
     "collapsed": false,
     "input": [
      "for p in exp.matching('s2m5'):\n",
      "    p.trap.ext += .5/p.trap.meanStiffness()"
     ],
     "language": "python",
     "metadata": {},
     "outputs": [],
     "prompt_number": 79
    },
    {
     "cell_type": "code",
     "collapsed": false,
     "input": [
      "fig('compare')\n",
      "plotall(exp.matching('s2m3'), style='r-')\n",
      "plotall(exp.matching('s2m5'), style='g-')"
     ],
     "language": "python",
     "metadata": {},
     "outputs": [],
     "prompt_number": 88
    },
    {
     "cell_type": "code",
     "collapsed": false,
     "input": [
      "s2m5 = exp.matching('s2m5')"
     ],
     "language": "python",
     "metadata": {},
     "outputs": [],
     "prompt_number": 89
    },
    {
     "cell_type": "code",
     "collapsed": false,
     "input": [
      "def plotall(exps, **kwargs):\n",
      "    for p in exps:\n",
      "        fplot.plot(p.trap, hold=True, **kwargs)"
     ],
     "language": "python",
     "metadata": {},
     "outputs": [],
     "prompt_number": 55
    },
    {
     "cell_type": "code",
     "collapsed": false,
     "input": [
      "fig('compare')\n",
      "\n",
      "plotall(wtum, style='k:')\n",
      "plotall(exp, show_fret=False, style='r:')"
     ],
     "language": "python",
     "metadata": {},
     "outputs": [],
     "prompt_number": 292
    },
    {
     "cell_type": "code",
     "collapsed": false,
     "input": [
      "def force_align(to_align, to_align_to, f_range, force_x_range=(720,770)):\n",
      "    to_x = mean([p.trap.select(f=f_range).ext.mean() for p in to_align_to])\n",
      "    to_align.adjustOffset(to_x=to_x, force_x_range=force_x_range, ext_f_range=f_range)\n",
      "    return to_align"
     ],
     "language": "python",
     "metadata": {},
     "outputs": [],
     "prompt_number": 211
    },
    {
     "cell_type": "code",
     "collapsed": false,
     "input": [
      "force_align(exp, wtum, (3,4))"
     ],
     "language": "python",
     "metadata": {},
     "outputs": [
      {
       "output_type": "pyout",
       "prompt_number": 220,
       "text": [
        "[0: <Experiment.Pulling from 'WT2at_200pM_s2m5_refold_1.0s_1_up'>\n",
        " 1: <Experiment.Pulling from 'WT2at_200pM_s2m5_refold_1.0s_2_up'>\n",
        " 2: <Experiment.Pulling from 'WT2at_200pM_s2m5_refold_1.0s_3_up'>\n",
        " 3: <Experiment.Pulling from 'WT2at_200pM_s2m5_refold_1.0s_4_up'>\n",
        " 4: <Experiment.Pulling from 'WT2at_200pM_s2m5_refold_1.0s_5_up'>\n",
        " 5: <Experiment.Pulling from 'WT2at_200pM_s2m5_refold_1.0s_6_up'>\n",
        " 6: <Experiment.Pulling from 'WT2at_200pM_s2m5_refold_1.0s_7_up'>]"
       ]
      }
     ],
     "prompt_number": 220
    },
    {
     "cell_type": "code",
     "collapsed": false,
     "input": [
      "exp.adjustOffset(ext_f_range=(30,31), ext_x_range=1080)"
     ],
     "language": "python",
     "metadata": {},
     "outputs": [
      {
       "output_type": "pyout",
       "prompt_number": 223,
       "text": [
        "([1.0100443867956983,\n",
        "  4.8995756470928882,\n",
        "  -5.8788879095111497,\n",
        "  4.4233648153935974,\n",
        "  2.6059418622814974,\n",
        "  -0.88998438991552575,\n",
        "  -6.1700544121379153],\n",
        " [0.062214999999999909,\n",
        "  -0.0027197428571427151,\n",
        "  -0.035617066666666641,\n",
        "  -0.017548701923076893,\n",
        "  0.013676358974358982,\n",
        "  0.035148307692307701,\n",
        "  0.0200558666666667])"
       ]
      }
     ],
     "prompt_number": 223
    },
    {
     "cell_type": "code",
     "collapsed": false,
     "input": [
      "wtum_slow.adjustOffset(ext_f_range=(30,31), ext_x_range=1070)"
     ],
     "language": "python",
     "metadata": {},
     "outputs": [
      {
       "output_type": "pyout",
       "prompt_number": 512,
       "text": [
        "([2.0747082174007119,\n",
        "  3.6949189202714479,\n",
        "  1.4110475909913021,\n",
        "  1.1069022349515762,\n",
        "  1.0816813246108268,\n",
        "  2.3036083508295633,\n",
        "  0.93431730937913926,\n",
        "  3.2819608528711797,\n",
        "  -0.14572053206097735,\n",
        "  1.6674312770539927,\n",
        "  0.20306359822006925,\n",
        "  -0.88092780541319371,\n",
        "  -1.3326641923499665,\n",
        "  1.7563701801145726,\n",
        "  0.3177478030659131,\n",
        "  -1.745665041896018,\n",
        "  -2.4417424483649484,\n",
        "  -1.7953226411862033,\n",
        "  0.81651558253520307,\n",
        "  -3.350896315447244,\n",
        "  0.62709718751216315,\n",
        "  -0.362478890757302,\n",
        "  0.92244967947112855,\n",
        "  0.44015184645240879,\n",
        "  0.62940805574021397,\n",
        "  -1.1704932392246974,\n",
        "  0.16751343384680695,\n",
        "  -1.0282041020755059,\n",
        "  0.30134881739309094,\n",
        "  0.88237793847747525,\n",
        "  -2.9075413392113205,\n",
        "  1.0662149873148792,\n",
        "  2.034605385820214,\n",
        "  4.0747154991843217,\n",
        "  1.929048515918339,\n",
        "  1.7207436704704833,\n",
        "  1.3013644497348196,\n",
        "  0.5299517508099143,\n",
        "  -2.3364633076535029,\n",
        "  1.647742642699086,\n",
        "  0.59905147756671795,\n",
        "  -2.5097136298318219,\n",
        "  -0.84489901934625777,\n",
        "  0.56489566366803956,\n",
        "  0.84155410413063692,\n",
        "  0.78758462134373985,\n",
        "  0.23295603666360876,\n",
        "  -0.22139259560731261,\n",
        "  -1.7381502148277832,\n",
        "  -0.9409973849274138,\n",
        "  -1.3354268314838009,\n",
        "  -1.4610358682184597,\n",
        "  -0.94994515928419787,\n",
        "  -2.9192295360310254,\n",
        "  -3.8080343813348918,\n",
        "  -2.8240507596481166,\n",
        "  -3.1137793811162737,\n",
        "  0.21372561078328545],\n",
        " [-0.32531816666666658,\n",
        "  -0.058308833333333254,\n",
        "  -0.14379266666666668,\n",
        "  -0.13572549999999994,\n",
        "  -0.14930549999999998,\n",
        "  -0.33817566666666676,\n",
        "  0.029468666666666643,\n",
        "  -0.14519299999999991,\n",
        "  0.022606666666666664,\n",
        "  -0.22218816666666663,\n",
        "  0.26992716666666661,\n",
        "  0.42939153333333335,\n",
        "  0.36959713333333333,\n",
        "  0.25841366666666665,\n",
        "  0.33728733333333333,\n",
        "  0.31908288333333334,\n",
        "  0.39383431666666668,\n",
        "  0.27382433333333334,\n",
        "  0.22884766666666667,\n",
        "  0.52568915000000005,\n",
        "  0.14630349999999998,\n",
        "  0.25912866666666667,\n",
        "  0.085231999999999974,\n",
        "  0.083155666666666628,\n",
        "  0.18286549999999996,\n",
        "  0.16995816666666669,\n",
        "  0.14046283333333337,\n",
        "  0.20828233333333335,\n",
        "  0.1912456666666667,\n",
        "  0.20771800000000001,\n",
        "  0.38157648333333333,\n",
        "  0.061198833333333313,\n",
        "  -0.22750199999999998,\n",
        "  -0.1467208333333333,\n",
        "  -0.057463000000000042,\n",
        "  -0.027773333333333317,\n",
        "  -0.043990500000000043,\n",
        "  -0.059780999999999973,\n",
        "  0.0050915000000000266,\n",
        "  -0.077212000000000058,\n",
        "  -0.059973333333333323,\n",
        "  0.3763854333333333,\n",
        "  0.112925,\n",
        "  0.077423999999999993,\n",
        "  0.043128333333333269,\n",
        "  0.1227583333333333,\n",
        "  0.050974499999999978,\n",
        "  0.069381999999999999,\n",
        "  0.30352866666666667,\n",
        "  0.27632400000000001,\n",
        "  0.29249314999999998,\n",
        "  0.44635838571428571,\n",
        "  0.41121928600000002,\n",
        "  0.73298425,\n",
        "  0.86784366666666668,\n",
        "  0.43985511428571428,\n",
        "  0.54698235714285715,\n",
        "  0.51821044666666671])"
       ]
      }
     ],
     "prompt_number": 512
    },
    {
     "cell_type": "markdown",
     "metadata": {},
     "source": [
      "Refolding\n",
      "----"
     ]
    },
    {
     "cell_type": "code",
     "collapsed": false,
     "input": [
      "by_time = refolding.by_time(wtum_slow)\n",
      "print refolding.pretty_str(by_time)"
     ],
     "language": "python",
     "metadata": {},
     "outputs": [
      {
       "output_type": "stream",
       "stream": "stdout",
       "text": [
        "0.0s refolding | N = 10\n",
        "-------------------------\n",
        "[0: <Experiment.Pulling from 'WTUM_500pM_s2m1_refold_0.0s_1_up'>\n",
        " 1: <Experiment.Pulling from 'WTUM_500pM_s2m1_refold_0.0s_10_up'>\n",
        " 2: <Experiment.Pulling from 'WTUM_500pM_s2m1_refold_0.0s_2_up'>\n",
        " 3: <Experiment.Pulling from 'WTUM_500pM_s2m1_refold_0.0s_3_up'>\n",
        " 4: <Experiment.Pulling from 'WTUM_500pM_s2m1_refold_0.0s_4_up'>\n",
        " 5: <Experiment.Pulling from 'WTUM_500pM_s2m1_refold_0.0s_5_up'>\n",
        " 6: <Experiment.Pulling from 'WTUM_500pM_s2m1_refold_0.0s_6_up'>\n",
        " 7: <Experiment.Pulling from 'WTUM_500pM_s2m1_refold_0.0s_7_up'>\n",
        " 8: <Experiment.Pulling from 'WTUM_500pM_s2m1_refold_0.0s_8_up'>\n",
        " 9: <Experiment.Pulling from 'WTUM_500pM_s2m1_refold_0.0s_9_up'>]\n",
        "\n",
        "0.6s refolding | N = 10\n",
        "-------------------------\n",
        "[0: <Experiment.Pulling from 'WTUM_500pM_s2m1_refold_0.6s_1_up'>\n",
        " 1: <Experiment.Pulling from 'WTUM_500pM_s2m1_refold_0.6s_10_up'>\n",
        " 2: <Experiment.Pulling from 'WTUM_500pM_s2m1_refold_0.6s_2_up'>\n",
        " 3: <Experiment.Pulling from 'WTUM_500pM_s2m1_refold_0.6s_3_up'>\n",
        " 4: <Experiment.Pulling from 'WTUM_500pM_s2m1_refold_0.6s_4_up'>\n",
        " 5: <Experiment.Pulling from 'WTUM_500pM_s2m1_refold_0.6s_5_up'>\n",
        " 6: <Experiment.Pulling from 'WTUM_500pM_s2m1_refold_0.6s_6_up'>\n",
        " 7: <Experiment.Pulling from 'WTUM_500pM_s2m1_refold_0.6s_7_up'>\n",
        " 8: <Experiment.Pulling from 'WTUM_500pM_s2m1_refold_0.6s_8_up'>\n",
        " 9: <Experiment.Pulling from 'WTUM_500pM_s2m1_refold_0.6s_9_up'>]\n",
        "\n",
        "0.9s refolding | N = 10\n",
        "-------------------------\n",
        "[0: <Experiment.Pulling from 'WTUM_500pM_s2m1_refold_0.9s_1_up'>\n",
        " 1: <Experiment.Pulling from 'WTUM_500pM_s2m1_refold_0.9s_10_up'>\n",
        " 2: <Experiment.Pulling from 'WTUM_500pM_s2m1_refold_0.9s_2_up'>\n",
        " 3: <Experiment.Pulling from 'WTUM_500pM_s2m1_refold_0.9s_3_up'>\n",
        " 4: <Experiment.Pulling from 'WTUM_500pM_s2m1_refold_0.9s_4_up'>\n",
        " 5: <Experiment.Pulling from 'WTUM_500pM_s2m1_refold_0.9s_5_up'>\n",
        " 6: <Experiment.Pulling from 'WTUM_500pM_s2m1_refold_0.9s_6_up'>\n",
        " 7: <Experiment.Pulling from 'WTUM_500pM_s2m1_refold_0.9s_7_up'>\n",
        " 8: <Experiment.Pulling from 'WTUM_500pM_s2m1_refold_0.9s_8_up'>\n",
        " 9: <Experiment.Pulling from 'WTUM_500pM_s2m1_refold_0.9s_9_up'>]\n",
        "\n",
        "12.0s refolding | N = 10\n",
        "-------------------------\n",
        "[0: <Experiment.Pulling from 'WTUM_500pM_s2m1_refold_12.0s_1_up'>\n",
        " 1: <Experiment.Pulling from 'WTUM_500pM_s2m1_refold_12.0s_10_up'>\n",
        " 2: <Experiment.Pulling from 'WTUM_500pM_s2m1_refold_12.0s_2_up'>\n",
        " 3: <Experiment.Pulling from 'WTUM_500pM_s2m1_refold_12.0s_3_up'>\n",
        " 4: <Experiment.Pulling from 'WTUM_500pM_s2m1_refold_12.0s_4_up'>\n",
        " 5: <Experiment.Pulling from 'WTUM_500pM_s2m1_refold_12.0s_5_up'>\n",
        " 6: <Experiment.Pulling from 'WTUM_500pM_s2m1_refold_12.0s_6_up'>\n",
        " 7: <Experiment.Pulling from 'WTUM_500pM_s2m1_refold_12.0s_7_up'>\n",
        " 8: <Experiment.Pulling from 'WTUM_500pM_s2m1_refold_12.0s_8_up'>\n",
        " 9: <Experiment.Pulling from 'WTUM_500pM_s2m1_refold_12.0s_9_up'>]\n",
        "\n",
        "2.1s refolding | N = 10\n",
        "-------------------------\n",
        "[0: <Experiment.Pulling from 'WTUM_500pM_s2m1_refold_2.1s_1_up'>\n",
        " 1: <Experiment.Pulling from 'WTUM_500pM_s2m1_refold_2.1s_10_up'>\n",
        " 2: <Experiment.Pulling from 'WTUM_500pM_s2m1_refold_2.1s_2_up'>\n",
        " 3: <Experiment.Pulling from 'WTUM_500pM_s2m1_refold_2.1s_3_up'>\n",
        " 4: <Experiment.Pulling from 'WTUM_500pM_s2m1_refold_2.1s_4_up'>\n",
        " 5: <Experiment.Pulling from 'WTUM_500pM_s2m1_refold_2.1s_5_up'>\n",
        " 6: <Experiment.Pulling from 'WTUM_500pM_s2m1_refold_2.1s_6_up'>\n",
        " 7: <Experiment.Pulling from 'WTUM_500pM_s2m1_refold_2.1s_7_up'>\n",
        " 8: <Experiment.Pulling from 'WTUM_500pM_s2m1_refold_2.1s_8_up'>\n",
        " 9: <Experiment.Pulling from 'WTUM_500pM_s2m1_refold_2.1s_9_up'>]\n",
        "\n",
        "30.0s refolding | N = 8\n",
        "-------------------------\n",
        "[0: <Experiment.Pulling from 'WTUM_500pM_s2m1_refold_30.0s_1_up'>\n",
        " 1: <Experiment.Pulling from 'WTUM_500pM_s2m1_refold_30.0s_2_up'>\n",
        " 2: <Experiment.Pulling from 'WTUM_500pM_s2m1_refold_30.0s_3_up'>\n",
        " 3: <Experiment.Pulling from 'WTUM_500pM_s2m1_refold_30.0s_4_up'>\n",
        " 4: <Experiment.Pulling from 'WTUM_500pM_s2m1_refold_30.0s_5_up'>\n",
        " 5: <Experiment.Pulling from 'WTUM_500pM_s2m1_refold_30.0s_6_up'>\n",
        " 6: <Experiment.Pulling from 'WTUM_500pM_s2m1_refold_30.0s_7_up'>\n",
        " 7: <Experiment.Pulling from 'WTUM_500pM_s2m1_refold_30.0s_8_up'>]\n",
        "\n",
        "\n"
       ]
      }
     ],
     "prompt_number": 515
    },
    {
     "cell_type": "code",
     "collapsed": false,
     "input": [
      "pt = pick_pt()"
     ],
     "language": "python",
     "metadata": {},
     "outputs": [],
     "prompt_number": 516
    },
    {
     "cell_type": "code",
     "collapsed": false,
     "input": [
      "reload(refolding)"
     ],
     "language": "python",
     "metadata": {},
     "outputs": [
      {
       "output_type": "pyout",
       "prompt_number": 478,
       "text": [
        "<module 'smbanalyze.refolding' from '/Users/cfperez/Python/scientific/smbanalyze/refolding.py'>"
       ]
      }
     ],
     "prompt_number": 478
    },
    {
     "cell_type": "code",
     "collapsed": false,
     "input": [
      "analysis = dict(date=datetime.datetime.today(), construct='wtum', split_point=, bound=dict(experiments=,rips=,fit=,intervals=), unbound={}"
     ],
     "language": "python",
     "metadata": {},
     "outputs": []
    },
    {
     "cell_type": "code",
     "collapsed": false,
     "input": [
      "analysis.update({\n",
      "                 'date': datetime.datetime.today(),\n",
      "                 'construct': 'wtUM',\n",
      "                 'split_point': pt,\n",
      "                 'unbound': {\n",
      "                    'experiments': unbound, 'rips': repr(rips), \n",
      "                    'fit': repr(fit), 'intervals': intervals}\n",
      "                 })"
     ],
     "language": "python",
     "metadata": {},
     "outputs": [
      {
       "output_type": "pyout",
       "prompt_number": 519,
       "text": [
        "{'_id': ObjectId('5323565831f82f09727ac94e'),\n",
        " 'bound': {'experiments': \"[0: <Experiment.Pulling from 'wtUM_200pM_s3m3_24_refold_0.5s_1_up'>\\n 1: <Experiment.Pulling from 'wtUM_200pM_s3m3_24_refold_0.5s_10_up'>\\n 2: <Experiment.Pulling from 'wtUM_200pM_s3m3_24_refold_0.5s_2_up'>\\n 3: <Experiment.Pulling from 'wtUM_200pM_s3m3_24_refold_0.5s_3_up'>\\n 4: <Experiment.Pulling from 'wtUM_200pM_s3m3_24_refold_0.5s_4_up'>\\n 5: <Experiment.Pulling from 'wtUM_200pM_s3m3_24_refold_0.5s_5_up'>\\n 6: <Experiment.Pulling from 'wtUM_200pM_s3m3_24_refold_0.5s_6_up'>\\n 7: <Experiment.Pulling from 'wtUM_200pM_s3m3_24_refold_0.5s_8_up'>\\n 8: <Experiment.Pulling from 'wtUM_200pM_s3m3_3_refold_0.0s_1_up'>\\n 9: <Experiment.Pulling from 'wtUM_200pM_s3m3_3_refold_0.0s_10_up'>\\n 10: <Experiment.Pulling from 'wtUM_200pM_s3m3_3_refold_0.0s_2_up'>\\n 11: <Experiment.Pulling from 'wtUM_200pM_s3m3_3_refold_0.0s_4_up'>\\n 12: <Experiment.Pulling from 'wtUM_200pM_s3m3_3_refold_0.0s_5_up'>\\n 13: <Experiment.Pulling from 'wtUM_200pM_s3m3_3_refold_0.0s_6_up'>\\n 14: <Experiment.Pulling from 'wtUM_200pM_s3m3_3_refold_0.0s_7_up'>\\n 15: <Experiment.Pulling from 'wtUM_200pM_s3m3_3_refold_0.0s_9_up'>\\n 16: <Experiment.Pulling from 'wtUM_200pM_s3m3_45_refold_0.1s_1_up'>\\n 17: <Experiment.Pulling from 'wtUM_200pM_s3m3_45_refold_0.1s_10_up'>\\n 18: <Experiment.Pulling from 'wtUM_200pM_s3m3_45_refold_0.1s_2_up'>\\n 19: <Experiment.Pulling from 'wtUM_200pM_s3m3_45_refold_0.1s_4_up'>\\n 20: <Experiment.Pulling from 'wtUM_200pM_s3m3_45_refold_0.1s_5_up'>\\n 21: <Experiment.Pulling from 'wtUM_200pM_s3m3_45_refold_0.1s_6_up'>\\n 22: <Experiment.Pulling from 'wtUM_200pM_s3m3_45_refold_0.1s_7_up'>\\n 23: <Experiment.Pulling from 'wtUM_200pM_s3m3_45_refold_0.1s_8_up'>\\n 24: <Experiment.Pulling from 'wtUM_200pM_s3m3_45_refold_0.1s_9_up'>\\n 25: <Experiment.Pulling from 'wtUM_200pM_s3m3_66_refold_0.3s_1_up'>\\n 26: <Experiment.Pulling from 'wtUM_200pM_s3m3_66_refold_0.3s_2_up'>\\n 27: <Experiment.Pulling from 'wtUM_200pM_s3m3_66_refold_0.3s_3_up'>]\",\n",
        "  'fit': \"<Fit function 'MMS_rip_region' using parameters Lp=27.87, Lc=1037.84, F0=-0.22, K=1200.00, Lp1=1.00, Lc1=64.79, K1=1600.00\",\n",
        "  'intervals': [Interval(start=851.14634389909384, end=1006.1291411972285),\n",
        "   Interval(start=1061.093970471567, end=1074.6099120964043)],\n",
        "  'rips': 'Rips(rips=[64.79391551727913], stems_lost=(1,), na_type=RNA, error=[0.051074166560700254]'},\n",
        " 'construct': 'wtUM',\n",
        " 'date': datetime.datetime(2014, 3, 14, 10, 0, 41, 998015),\n",
        " 'split_point': (998.56322903960006, 12.554527228406986),\n",
        " 'unbound': {'experiments': \"[0: <Experiment.Pulling from 'wtUM_200pM_s3m3_24_refold_0.5s_7_up'>\\n 1: <Experiment.Pulling from 'wtUM_200pM_s3m3_24_refold_0.5s_9_up'>\\n 2: <Experiment.Pulling from 'wtUM_200pM_s3m3_3_refold_0.0s_3_up'>\\n 3: <Experiment.Pulling from 'wtUM_200pM_s3m3_3_refold_0.0s_8_up'>\\n 4: <Experiment.Pulling from 'wtUM_200pM_s3m3_45_refold_0.1s_3_up'>]\",\n",
        "  'fit': \"<Fit function 'MMS_rip_region' using parameters Lp=31.58, Lc=1034.64, F0=-0.10, K=1200.00, Lp1=1.00, Lc1=23.68, K1=1600.00, Lc2=46.70, Lc3=64.64\",\n",
        "  'intervals': [(860, 980),\n",
        "   (1001, 1010),\n",
        "   (1034, 1040),\n",
        "   Interval(start=1051.5525320727747, end=1068.3897559953491)],\n",
        "  'rips': 'Rips(rips=[23.680380814204174, 23.018920033766623, 17.944980079811792], stems_lost=(-1, 1, 1), na_type=RNA, error=[0.80621148572542323, 1.3060773233849297, 1.3372847352081756]'}}"
       ]
      }
     ],
     "prompt_number": 519
    },
    {
     "cell_type": "code",
     "collapsed": false,
     "input": [
      "num_bound = refolding.count_bound(refolding.adjust_refold_time(by_time, 8), pt)"
     ],
     "language": "python",
     "metadata": {},
     "outputs": [],
     "prompt_number": 522
    },
    {
     "cell_type": "code",
     "collapsed": false,
     "input": [
      "rtimes,prob,errors = refolding.calc_bound_prob(num_bound)"
     ],
     "language": "python",
     "metadata": {},
     "outputs": [],
     "prompt_number": 523
    },
    {
     "cell_type": "code",
     "collapsed": false,
     "input": [
      "print by_time.keys()\n",
      "num_bound"
     ],
     "language": "python",
     "metadata": {},
     "outputs": [
      {
       "output_type": "stream",
       "stream": "stdout",
       "text": [
        "[0.0, 0.6, 0.9, 12.0, 2.1, 30.0]\n"
       ]
      },
      {
       "output_type": "pyout",
       "prompt_number": 524,
       "text": [
        "{1.4220000000000002: [2, 8],\n",
        " 1.8999999999999999: [5, 5],\n",
        " 2.2470000000000003: [5, 5],\n",
        " 3.4480000000000004: [0, 10],\n",
        " 13.407: [1, 9],\n",
        " 31.535: [2, 6]}"
       ]
      }
     ],
     "prompt_number": 524
    },
    {
     "cell_type": "code",
     "collapsed": false,
     "input": [
      "figure('refolding wtUM')\n",
      "hold(True)\n",
      "ylim(-.05,1.05)\n",
      "xlim(0.1,40)\n",
      "errorbar(rtimes, prob, ecolor='b', fmt='o', yerr=transposed(errors))"
     ],
     "language": "python",
     "metadata": {},
     "outputs": [
      {
       "output_type": "pyout",
       "prompt_number": 525,
       "text": [
        "<Container object of 3 artists>"
       ]
      }
     ],
     "prompt_number": 525
    },
    {
     "cell_type": "code",
     "collapsed": false,
     "input": [
      "by_time[0.6].plot(style='-')"
     ],
     "language": "python",
     "metadata": {},
     "outputs": [
      {
       "output_type": "pyout",
       "prompt_number": 530,
       "text": [
        "<smbanalyze.fplot.Figure at 0x1185fe190>"
       ]
      }
     ],
     "prompt_number": 530
    },
    {
     "cell_type": "code",
     "collapsed": false,
     "input": [
      "trap.metadata['sampling_time']"
     ],
     "language": "python",
     "metadata": {},
     "outputs": [
      {
       "output_type": "pyout",
       "prompt_number": 534,
       "text": [
        "0.01"
       ]
      }
     ],
     "prompt_number": 534
    },
    {
     "cell_type": "code",
     "collapsed": false,
     "input": [
      "trap = p.trap\n",
      "figure()\n",
      "hist([find(p.trap.f<8)[-1]* p.trap.metadata['sampling_time'] for p in wtum_slow], range=(1,2))"
     ],
     "language": "python",
     "metadata": {},
     "outputs": [
      {
       "output_type": "pyout",
       "prompt_number": 544,
       "text": [
        "(array([ 0,  2, 14, 26, 13,  2,  0,  0,  0,  0]),\n",
        " array([ 1. ,  1.1,  1.2,  1.3,  1.4,  1.5,  1.6,  1.7,  1.8,  1.9,  2. ]),\n",
        " <a list of 10 Patch objects>)"
       ]
      }
     ],
     "prompt_number": 544
    },
    {
     "cell_type": "code",
     "collapsed": false,
     "input": [
      "fplot.plot(trap[find(trap.f<8)])"
     ],
     "language": "python",
     "metadata": {},
     "outputs": [],
     "prompt_number": 538
    },
    {
     "cell_type": "code",
     "collapsed": false,
     "input": [
      "exp[3].plot(show_fret=False)"
     ],
     "language": "python",
     "metadata": {},
     "outputs": [
      {
       "output_type": "pyout",
       "prompt_number": 550,
       "text": [
        "<smbanalyze.fplot.Figure at 0x118ca0990>"
       ]
      }
     ],
     "prompt_number": 550
    },
    {
     "cell_type": "code",
     "collapsed": false,
     "input": [
      "exp.plot()"
     ],
     "language": "python",
     "metadata": {},
     "outputs": [
      {
       "output_type": "pyout",
       "prompt_number": 554,
       "text": [
        "<smbanalyze.fplot.Figure at 0x118c9d3d0>"
       ]
      }
     ],
     "prompt_number": 554
    },
    {
     "cell_type": "code",
     "collapsed": false,
     "input": [
      "close('all')"
     ],
     "language": "python",
     "metadata": {},
     "outputs": [],
     "prompt_number": 556
    },
    {
     "cell_type": "code",
     "collapsed": false,
     "input": [
      "for p in exp:\n",
      "    p.plot()"
     ],
     "language": "python",
     "metadata": {},
     "outputs": [],
     "prompt_number": 558
    },
    {
     "cell_type": "code",
     "collapsed": false,
     "input": [
      "plot_segmented(p, exp=exp)"
     ],
     "language": "python",
     "metadata": {},
     "outputs": [],
     "prompt_number": 562
    },
    {
     "cell_type": "code",
     "collapsed": false,
     "input": [
      "plot_segmented(exp[1], exp=exp)"
     ],
     "language": "python",
     "metadata": {},
     "outputs": [],
     "prompt_number": 564
    },
    {
     "cell_type": "markdown",
     "metadata": {},
     "source": [
      "FEC fit\n",
      "-----"
     ]
    },
    {
     "cell_type": "code",
     "collapsed": false,
     "input": [
      "to_fit = exp"
     ],
     "language": "python",
     "metadata": {},
     "outputs": [],
     "prompt_number": 20
    },
    {
     "cell_type": "code",
     "collapsed": false,
     "input": [
      "fig('fitting')\n",
      "plotall(to_fit, style='--')"
     ],
     "language": "python",
     "metadata": {},
     "outputs": [],
     "prompt_number": 305
    },
    {
     "cell_type": "code",
     "collapsed": false,
     "input": [
      "pt = pick_pt()"
     ],
     "language": "python",
     "metadata": {},
     "outputs": [],
     "prompt_number": 21
    },
    {
     "cell_type": "code",
     "collapsed": false,
     "input": [
      "unbound,bound = split_pulls_at_point(to_fit, pt)"
     ],
     "language": "python",
     "metadata": {},
     "outputs": [],
     "prompt_number": 22
    },
    {
     "cell_type": "code",
     "collapsed": false,
     "input": [
      "to_fit = bound\n",
      "to_fit.plot(show_fret=False, linestyle='-')"
     ],
     "language": "python",
     "metadata": {},
     "outputs": [
      {
       "output_type": "pyout",
       "prompt_number": 24,
       "text": [
        "<smbanalyze.fplot.Figure at 0x10f2d0910>"
       ]
      }
     ],
     "prompt_number": 24
    },
    {
     "cell_type": "code",
     "collapsed": false,
     "input": [
      "intervals = pick_intervals(2)"
     ],
     "language": "python",
     "metadata": {},
     "outputs": [],
     "prompt_number": 38
    },
    {
     "cell_type": "code",
     "collapsed": false,
     "input": [
      "above_line = pick_line()"
     ],
     "language": "python",
     "metadata": {},
     "outputs": [],
     "prompt_number": 374
    },
    {
     "cell_type": "code",
     "collapsed": false,
     "input": [
      "stems_lost = (1,)"
     ],
     "language": "python",
     "metadata": {},
     "outputs": [],
     "prompt_number": 29
    },
    {
     "cell_type": "code",
     "collapsed": false,
     "input": [
      "#col = to_fit.collapse()\n",
      "rips,fit = fec.analyze_rips(col.trap, intervals, stems_lost)#, handle_above=above_line)\n",
      "fit.plot()\n",
      "print rips\n",
      "print fit"
     ],
     "language": "python",
     "metadata": {},
     "outputs": [
      {
       "output_type": "stream",
       "stream": "stdout",
       "text": [
        "\r",
        "Fitting: [=                                                                               ] 2%"
       ]
      },
      {
       "output_type": "stream",
       "stream": "stdout",
       "text": [
        "\r",
        "Fitting: [==                                                                              ] 3%"
       ]
      },
      {
       "output_type": "stream",
       "stream": "stdout",
       "text": [
        "\r",
        "Fitting: [===                                                                             ] 5%"
       ]
      },
      {
       "output_type": "stream",
       "stream": "stdout",
       "text": [
        "\r",
        "Fitting: [=====                                                                           ] 7%"
       ]
      },
      {
       "output_type": "stream",
       "stream": "stdout",
       "text": [
        "\r",
        "Fitting: [======                                                                          ] 8%"
       ]
      },
      {
       "output_type": "stream",
       "stream": "stdout",
       "text": [
        "\r",
        "Fitting: [=======                                                                         ] 10%"
       ]
      },
      {
       "output_type": "stream",
       "stream": "stdout",
       "text": [
        "\r",
        "Fitting: [=========                                                                       ] 11%"
       ]
      },
      {
       "output_type": "stream",
       "stream": "stdout",
       "text": [
        "\r",
        "Fitting: [==========                                                                      ] 13%"
       ]
      },
      {
       "output_type": "stream",
       "stream": "stdout",
       "text": [
        "\r",
        "Fitting: [===========                                                                     ] 15%"
       ]
      },
      {
       "output_type": "stream",
       "stream": "stdout",
       "text": [
        "\r",
        "Fitting: [=============                                                                   ] 16%"
       ]
      },
      {
       "output_type": "stream",
       "stream": "stdout",
       "text": [
        "\r",
        "Fitting: [==============                                                                  ] 18%"
       ]
      },
      {
       "output_type": "stream",
       "stream": "stdout",
       "text": [
        "\r",
        "Fitting: [===============                                                                 ] 20%"
       ]
      },
      {
       "output_type": "stream",
       "stream": "stdout",
       "text": [
        "\r",
        "Fitting: [=================                                                               ] 21%"
       ]
      },
      {
       "output_type": "stream",
       "stream": "stdout",
       "text": [
        "\r",
        "Fitting: [==================                                                              ] 23%"
       ]
      },
      {
       "output_type": "stream",
       "stream": "stdout",
       "text": [
        "\r",
        "Fitting: [===================                                                             ] 25%"
       ]
      },
      {
       "output_type": "stream",
       "stream": "stdout",
       "text": [
        "\r",
        "Fitting: [====================                                                            ] 26%"
       ]
      },
      {
       "output_type": "stream",
       "stream": "stdout",
       "text": [
        "\r",
        "Fitting: [======================                                                          ] 28%"
       ]
      },
      {
       "output_type": "stream",
       "stream": "stdout",
       "text": [
        "\r",
        "Fitting: [=======================                                                         ] 30%"
       ]
      },
      {
       "output_type": "stream",
       "stream": "stdout",
       "text": [
        "\r",
        "Fitting: [========================                                                        ] 31%"
       ]
      },
      {
       "output_type": "stream",
       "stream": "stdout",
       "text": [
        "\r",
        "Fitting: [==========================                                                      ] 33%"
       ]
      },
      {
       "output_type": "stream",
       "stream": "stdout",
       "text": [
        "\r",
        "Fitting: [===========================                                                     ] 34%"
       ]
      },
      {
       "output_type": "stream",
       "stream": "stdout",
       "text": [
        "\r",
        "Fitting: [============================                                                    ] 36%"
       ]
      },
      {
       "output_type": "stream",
       "stream": "stdout",
       "text": [
        "\r",
        "Fitting: [==============================                                                  ] 38%"
       ]
      },
      {
       "output_type": "stream",
       "stream": "stdout",
       "text": [
        "\r",
        "Fitting: [===============================                                                 ] 39%"
       ]
      },
      {
       "output_type": "stream",
       "stream": "stdout",
       "text": [
        "\r",
        "Fitting: [================================                                                ] 41%"
       ]
      },
      {
       "output_type": "stream",
       "stream": "stdout",
       "text": [
        "\r",
        "Fitting: [==================================                                              ] 43%"
       ]
      },
      {
       "output_type": "stream",
       "stream": "stdout",
       "text": [
        "\r",
        "Fitting: [===================================                                             ] 44%"
       ]
      },
      {
       "output_type": "stream",
       "stream": "stdout",
       "text": [
        "\r",
        "Fitting: [====================================                                            ] 46%"
       ]
      },
      {
       "output_type": "stream",
       "stream": "stdout",
       "text": [
        "\r",
        "Fitting: [======================================                                          ] 48%"
       ]
      },
      {
       "output_type": "stream",
       "stream": "stdout",
       "text": [
        "\r",
        "Fitting: [================================================================================] Done!\n"
       ]
      },
      {
       "output_type": "stream",
       "stream": "stdout",
       "text": [
        "Rips: 114.6\u00b10.8 nt (65.41 nm)\n",
        "Total: 114.6\u00b10.8 nt (65.41 nm)\n",
        "MMS_rip_region fit: Lp=21.74\u00b10.34 Lc=1165.84\u00b11.03 F0=-0.51\u00b10.00 Lc1=65.41\u00b10.49\n"
       ]
      }
     ],
     "prompt_number": 39
    },
    {
     "cell_type": "code",
     "collapsed": false,
     "input": [
      "#to_fit.plot(style=',')\n",
      "clf()\n",
      "wtum.plot(style='k,')\n",
      "#plotall(bound, style=',')\n",
      "\n",
      "fit.plot(style='r')"
     ],
     "language": "python",
     "metadata": {},
     "outputs": [
      {
       "ename": "TypeError",
       "evalue": "There is no line property \"style\"",
       "output_type": "pyerr",
       "traceback": [
        "\u001b[0;31m---------------------------------------------------------------------------\u001b[0m\n\u001b[0;31mTypeError\u001b[0m                                 Traceback (most recent call last)",
        "\u001b[0;32m<ipython-input-434-d02ba7c6a5cc>\u001b[0m in \u001b[0;36m<module>\u001b[0;34m()\u001b[0m\n\u001b[1;32m      4\u001b[0m \u001b[0;31m#plotall(bound, style=',')\u001b[0m\u001b[0;34m\u001b[0m\u001b[0;34m\u001b[0m\u001b[0m\n\u001b[1;32m      5\u001b[0m \u001b[0;34m\u001b[0m\u001b[0m\n\u001b[0;32m----> 6\u001b[0;31m \u001b[0mfit\u001b[0m\u001b[0;34m.\u001b[0m\u001b[0mplot\u001b[0m\u001b[0;34m(\u001b[0m\u001b[0mstyle\u001b[0m\u001b[0;34m=\u001b[0m\u001b[0;34m'r'\u001b[0m\u001b[0;34m)\u001b[0m\u001b[0;34m\u001b[0m\u001b[0m\n\u001b[0m",
        "\u001b[0;32m/Users/cfperez/Python/scientific/smbanalyze/curvefit.pyc\u001b[0m in \u001b[0;36mplot\u001b[0;34m(self, **kwargs)\u001b[0m\n\u001b[1;32m    299\u001b[0m     \u001b[0mkwargs\u001b[0m\u001b[0;34m.\u001b[0m\u001b[0msetdefault\u001b[0m\u001b[0;34m(\u001b[0m\u001b[0;34m'markersize'\u001b[0m\u001b[0;34m,\u001b[0m \u001b[0;36m3\u001b[0m\u001b[0;34m)\u001b[0m\u001b[0;34m\u001b[0m\u001b[0m\n\u001b[1;32m    300\u001b[0m     \u001b[0mkwargs\u001b[0m\u001b[0;34m.\u001b[0m\u001b[0msetdefault\u001b[0m\u001b[0;34m(\u001b[0m\u001b[0;34m'linestyle'\u001b[0m\u001b[0;34m,\u001b[0m \u001b[0;34m''\u001b[0m\u001b[0;34m)\u001b[0m\u001b[0;34m\u001b[0m\u001b[0m\n\u001b[0;32m--> 301\u001b[0;31m     \u001b[0;32mreturn\u001b[0m \u001b[0msubplot\u001b[0m\u001b[0;34m(\u001b[0m\u001b[0;34m*\u001b[0m\u001b[0margs\u001b[0m\u001b[0;34m,\u001b[0m \u001b[0;34m**\u001b[0m\u001b[0mkwargs\u001b[0m\u001b[0;34m)\u001b[0m\u001b[0;34m\u001b[0m\u001b[0m\n\u001b[0m\u001b[1;32m    302\u001b[0m \u001b[0;34m\u001b[0m\u001b[0m\n\u001b[1;32m    303\u001b[0m   \u001b[0;32mdef\u001b[0m \u001b[0m__getstate__\u001b[0m\u001b[0;34m(\u001b[0m\u001b[0mself\u001b[0m\u001b[0;34m)\u001b[0m\u001b[0;34m:\u001b[0m\u001b[0;34m\u001b[0m\u001b[0m\n",
        "\u001b[0;32m/Users/cfperez/Python/scientific/smbanalyze/fplot.pyc\u001b[0m in \u001b[0;36msubplot\u001b[0;34m(*args, **kwargs)\u001b[0m\n\u001b[1;32m    370\u001b[0m   \u001b[0;32melse\u001b[0m\u001b[0;34m:\u001b[0m\u001b[0;34m\u001b[0m\u001b[0m\n\u001b[1;32m    371\u001b[0m     \u001b[0max\u001b[0m \u001b[0;34m=\u001b[0m \u001b[0mplt\u001b[0m\u001b[0;34m.\u001b[0m\u001b[0mgca\u001b[0m\u001b[0;34m(\u001b[0m\u001b[0;34m)\u001b[0m\u001b[0;34m\u001b[0m\u001b[0m\n\u001b[0;32m--> 372\u001b[0;31m   \u001b[0mplt\u001b[0m\u001b[0;34m.\u001b[0m\u001b[0mplot\u001b[0m\u001b[0;34m(\u001b[0m\u001b[0;34m*\u001b[0m\u001b[0margs\u001b[0m\u001b[0;34m,\u001b[0m\u001b[0;34m**\u001b[0m\u001b[0mkwargs\u001b[0m\u001b[0;34m)\u001b[0m\u001b[0;34m\u001b[0m\u001b[0m\n\u001b[0m\u001b[1;32m    373\u001b[0m   \u001b[0max\u001b[0m\u001b[0;34m.\u001b[0m\u001b[0mautoscale_view\u001b[0m\u001b[0;34m(\u001b[0m\u001b[0mtight\u001b[0m\u001b[0;34m=\u001b[0m\u001b[0mTrue\u001b[0m\u001b[0;34m)\u001b[0m\u001b[0;34m\u001b[0m\u001b[0m\n\u001b[1;32m    374\u001b[0m   \u001b[0;32mif\u001b[0m \u001b[0maxes\u001b[0m\u001b[0;34m:\u001b[0m\u001b[0;34m\u001b[0m\u001b[0m\n",
        "\u001b[0;32m/System/Library/Frameworks/Python.framework/Versions/2.7/Extras/lib/python/matplotlib/pyplot.pyc\u001b[0m in \u001b[0;36mplot\u001b[0;34m(*args, **kwargs)\u001b[0m\n\u001b[1;32m   2465\u001b[0m         \u001b[0max\u001b[0m\u001b[0;34m.\u001b[0m\u001b[0mhold\u001b[0m\u001b[0;34m(\u001b[0m\u001b[0mhold\u001b[0m\u001b[0;34m)\u001b[0m\u001b[0;34m\u001b[0m\u001b[0m\n\u001b[1;32m   2466\u001b[0m     \u001b[0;32mtry\u001b[0m\u001b[0;34m:\u001b[0m\u001b[0;34m\u001b[0m\u001b[0m\n\u001b[0;32m-> 2467\u001b[0;31m         \u001b[0mret\u001b[0m \u001b[0;34m=\u001b[0m \u001b[0max\u001b[0m\u001b[0;34m.\u001b[0m\u001b[0mplot\u001b[0m\u001b[0;34m(\u001b[0m\u001b[0;34m*\u001b[0m\u001b[0margs\u001b[0m\u001b[0;34m,\u001b[0m \u001b[0;34m**\u001b[0m\u001b[0mkwargs\u001b[0m\u001b[0;34m)\u001b[0m\u001b[0;34m\u001b[0m\u001b[0m\n\u001b[0m\u001b[1;32m   2468\u001b[0m         \u001b[0mdraw_if_interactive\u001b[0m\u001b[0;34m(\u001b[0m\u001b[0;34m)\u001b[0m\u001b[0;34m\u001b[0m\u001b[0m\n\u001b[1;32m   2469\u001b[0m     \u001b[0;32mfinally\u001b[0m\u001b[0;34m:\u001b[0m\u001b[0;34m\u001b[0m\u001b[0m\n",
        "\u001b[0;32m/System/Library/Frameworks/Python.framework/Versions/2.7/Extras/lib/python/matplotlib/axes.pyc\u001b[0m in \u001b[0;36mplot\u001b[0;34m(self, *args, **kwargs)\u001b[0m\n\u001b[1;32m   3891\u001b[0m         \u001b[0mlines\u001b[0m \u001b[0;34m=\u001b[0m \u001b[0;34m[\u001b[0m\u001b[0;34m]\u001b[0m\u001b[0;34m\u001b[0m\u001b[0m\n\u001b[1;32m   3892\u001b[0m \u001b[0;34m\u001b[0m\u001b[0m\n\u001b[0;32m-> 3893\u001b[0;31m         \u001b[0;32mfor\u001b[0m \u001b[0mline\u001b[0m \u001b[0;32min\u001b[0m \u001b[0mself\u001b[0m\u001b[0;34m.\u001b[0m\u001b[0m_get_lines\u001b[0m\u001b[0;34m(\u001b[0m\u001b[0;34m*\u001b[0m\u001b[0margs\u001b[0m\u001b[0;34m,\u001b[0m \u001b[0;34m**\u001b[0m\u001b[0mkwargs\u001b[0m\u001b[0;34m)\u001b[0m\u001b[0;34m:\u001b[0m\u001b[0;34m\u001b[0m\u001b[0m\n\u001b[0m\u001b[1;32m   3894\u001b[0m             \u001b[0mself\u001b[0m\u001b[0;34m.\u001b[0m\u001b[0madd_line\u001b[0m\u001b[0;34m(\u001b[0m\u001b[0mline\u001b[0m\u001b[0;34m)\u001b[0m\u001b[0;34m\u001b[0m\u001b[0m\n\u001b[1;32m   3895\u001b[0m             \u001b[0mlines\u001b[0m\u001b[0;34m.\u001b[0m\u001b[0mappend\u001b[0m\u001b[0;34m(\u001b[0m\u001b[0mline\u001b[0m\u001b[0;34m)\u001b[0m\u001b[0;34m\u001b[0m\u001b[0m\n",
        "\u001b[0;32m/System/Library/Frameworks/Python.framework/Versions/2.7/Extras/lib/python/matplotlib/axes.pyc\u001b[0m in \u001b[0;36m_grab_next_args\u001b[0;34m(self, *args, **kwargs)\u001b[0m\n\u001b[1;32m    320\u001b[0m                 \u001b[0;32mreturn\u001b[0m\u001b[0;34m\u001b[0m\u001b[0m\n\u001b[1;32m    321\u001b[0m             \u001b[0;32mif\u001b[0m \u001b[0mlen\u001b[0m\u001b[0;34m(\u001b[0m\u001b[0mremaining\u001b[0m\u001b[0;34m)\u001b[0m \u001b[0;34m<=\u001b[0m \u001b[0;36m3\u001b[0m\u001b[0;34m:\u001b[0m\u001b[0;34m\u001b[0m\u001b[0m\n\u001b[0;32m--> 322\u001b[0;31m                 \u001b[0;32mfor\u001b[0m \u001b[0mseg\u001b[0m \u001b[0;32min\u001b[0m \u001b[0mself\u001b[0m\u001b[0;34m.\u001b[0m\u001b[0m_plot_args\u001b[0m\u001b[0;34m(\u001b[0m\u001b[0mremaining\u001b[0m\u001b[0;34m,\u001b[0m \u001b[0mkwargs\u001b[0m\u001b[0;34m)\u001b[0m\u001b[0;34m:\u001b[0m\u001b[0;34m\u001b[0m\u001b[0m\n\u001b[0m\u001b[1;32m    323\u001b[0m                     \u001b[0;32myield\u001b[0m \u001b[0mseg\u001b[0m\u001b[0;34m\u001b[0m\u001b[0m\n\u001b[1;32m    324\u001b[0m                 \u001b[0;32mreturn\u001b[0m\u001b[0;34m\u001b[0m\u001b[0m\n",
        "\u001b[0;32m/System/Library/Frameworks/Python.framework/Versions/2.7/Extras/lib/python/matplotlib/axes.pyc\u001b[0m in \u001b[0;36m_plot_args\u001b[0;34m(self, tup, kwargs)\u001b[0m\n\u001b[1;32m    308\u001b[0m         \u001b[0mncx\u001b[0m\u001b[0;34m,\u001b[0m \u001b[0mncy\u001b[0m \u001b[0;34m=\u001b[0m \u001b[0mx\u001b[0m\u001b[0;34m.\u001b[0m\u001b[0mshape\u001b[0m\u001b[0;34m[\u001b[0m\u001b[0;36m1\u001b[0m\u001b[0;34m]\u001b[0m\u001b[0;34m,\u001b[0m \u001b[0my\u001b[0m\u001b[0;34m.\u001b[0m\u001b[0mshape\u001b[0m\u001b[0;34m[\u001b[0m\u001b[0;36m1\u001b[0m\u001b[0;34m]\u001b[0m\u001b[0;34m\u001b[0m\u001b[0m\n\u001b[1;32m    309\u001b[0m         \u001b[0;32mfor\u001b[0m \u001b[0mj\u001b[0m \u001b[0;32min\u001b[0m \u001b[0mxrange\u001b[0m\u001b[0;34m(\u001b[0m\u001b[0mmax\u001b[0m\u001b[0;34m(\u001b[0m\u001b[0mncx\u001b[0m\u001b[0;34m,\u001b[0m \u001b[0mncy\u001b[0m\u001b[0;34m)\u001b[0m\u001b[0;34m)\u001b[0m\u001b[0;34m:\u001b[0m\u001b[0;34m\u001b[0m\u001b[0m\n\u001b[0;32m--> 310\u001b[0;31m             \u001b[0mseg\u001b[0m \u001b[0;34m=\u001b[0m \u001b[0mfunc\u001b[0m\u001b[0;34m(\u001b[0m\u001b[0mx\u001b[0m\u001b[0;34m[\u001b[0m\u001b[0;34m:\u001b[0m\u001b[0;34m,\u001b[0m\u001b[0mj\u001b[0m\u001b[0;34m%\u001b[0m\u001b[0mncx\u001b[0m\u001b[0;34m]\u001b[0m\u001b[0;34m,\u001b[0m \u001b[0my\u001b[0m\u001b[0;34m[\u001b[0m\u001b[0;34m:\u001b[0m\u001b[0;34m,\u001b[0m\u001b[0mj\u001b[0m\u001b[0;34m%\u001b[0m\u001b[0mncy\u001b[0m\u001b[0;34m]\u001b[0m\u001b[0;34m,\u001b[0m \u001b[0mkw\u001b[0m\u001b[0;34m,\u001b[0m \u001b[0mkwargs\u001b[0m\u001b[0;34m)\u001b[0m\u001b[0;34m\u001b[0m\u001b[0m\n\u001b[0m\u001b[1;32m    311\u001b[0m             \u001b[0mret\u001b[0m\u001b[0;34m.\u001b[0m\u001b[0mappend\u001b[0m\u001b[0;34m(\u001b[0m\u001b[0mseg\u001b[0m\u001b[0;34m)\u001b[0m\u001b[0;34m\u001b[0m\u001b[0m\n\u001b[1;32m    312\u001b[0m         \u001b[0;32mreturn\u001b[0m \u001b[0mret\u001b[0m\u001b[0;34m\u001b[0m\u001b[0m\n",
        "\u001b[0;32m/System/Library/Frameworks/Python.framework/Versions/2.7/Extras/lib/python/matplotlib/axes.pyc\u001b[0m in \u001b[0;36m_makeline\u001b[0;34m(self, x, y, kw, kwargs)\u001b[0m\n\u001b[1;32m    258\u001b[0m                      \u001b[0;34m**\u001b[0m\u001b[0mkw\u001b[0m\u001b[0;34m\u001b[0m\u001b[0m\n\u001b[1;32m    259\u001b[0m                      )\n\u001b[0;32m--> 260\u001b[0;31m         \u001b[0mself\u001b[0m\u001b[0;34m.\u001b[0m\u001b[0mset_lineprops\u001b[0m\u001b[0;34m(\u001b[0m\u001b[0mseg\u001b[0m\u001b[0;34m,\u001b[0m \u001b[0;34m**\u001b[0m\u001b[0mkwargs\u001b[0m\u001b[0;34m)\u001b[0m\u001b[0;34m\u001b[0m\u001b[0m\n\u001b[0m\u001b[1;32m    261\u001b[0m         \u001b[0;32mreturn\u001b[0m \u001b[0mseg\u001b[0m\u001b[0;34m\u001b[0m\u001b[0m\n\u001b[1;32m    262\u001b[0m \u001b[0;34m\u001b[0m\u001b[0m\n",
        "\u001b[0;32m/System/Library/Frameworks/Python.framework/Versions/2.7/Extras/lib/python/matplotlib/axes.pyc\u001b[0m in \u001b[0;36mset_lineprops\u001b[0;34m(self, line, **kwargs)\u001b[0m\n\u001b[1;32m    199\u001b[0m             \u001b[0mfuncName\u001b[0m \u001b[0;34m=\u001b[0m \u001b[0;34m\"set_%s\"\u001b[0m\u001b[0;34m%\u001b[0m\u001b[0mkey\u001b[0m\u001b[0;34m\u001b[0m\u001b[0m\n\u001b[1;32m    200\u001b[0m             \u001b[0;32mif\u001b[0m \u001b[0;32mnot\u001b[0m \u001b[0mhasattr\u001b[0m\u001b[0;34m(\u001b[0m\u001b[0mline\u001b[0m\u001b[0;34m,\u001b[0m\u001b[0mfuncName\u001b[0m\u001b[0;34m)\u001b[0m\u001b[0;34m:\u001b[0m\u001b[0;34m\u001b[0m\u001b[0m\n\u001b[0;32m--> 201\u001b[0;31m                 \u001b[0;32mraise\u001b[0m \u001b[0mTypeError\u001b[0m\u001b[0;34m,\u001b[0m \u001b[0;34m'There is no line property \"%s\"'\u001b[0m\u001b[0;34m%\u001b[0m\u001b[0mkey\u001b[0m\u001b[0;34m\u001b[0m\u001b[0m\n\u001b[0m\u001b[1;32m    202\u001b[0m             \u001b[0mfunc\u001b[0m \u001b[0;34m=\u001b[0m \u001b[0mgetattr\u001b[0m\u001b[0;34m(\u001b[0m\u001b[0mline\u001b[0m\u001b[0;34m,\u001b[0m\u001b[0mfuncName\u001b[0m\u001b[0;34m)\u001b[0m\u001b[0;34m\u001b[0m\u001b[0m\n\u001b[1;32m    203\u001b[0m             \u001b[0mfunc\u001b[0m\u001b[0;34m(\u001b[0m\u001b[0mval\u001b[0m\u001b[0;34m)\u001b[0m\u001b[0;34m\u001b[0m\u001b[0m\n",
        "\u001b[0;31mTypeError\u001b[0m: There is no line property \"style\""
       ]
      }
     ],
     "prompt_number": 434
    },
    {
     "cell_type": "code",
     "collapsed": false,
     "input": [
      "title('wtUM')\n",
      "annotate('test', (800,20))"
     ],
     "language": "python",
     "metadata": {},
     "outputs": [
      {
       "output_type": "pyout",
       "prompt_number": 417,
       "text": [
        "<matplotlib.text.Annotation at 0x117bf9510>"
       ]
      }
     ],
     "prompt_number": 417
    },
    {
     "cell_type": "code",
     "collapsed": false,
     "input": [
      "analysis.update({\n",
      "                 'date': datetime.datetime.today(),\n",
      "                 'construct': 'wtUM',\n",
      "                 'split_point': pt,\n",
      "                 'unbound': {\n",
      "                    'experiments': unbound, 'rips': repr(rips), \n",
      "                    'fit': repr(fit), 'intervals': intervals}\n",
      "                 })"
     ],
     "language": "python",
     "metadata": {},
     "outputs": [],
     "prompt_number": 402
    },
    {
     "cell_type": "code",
     "collapsed": false,
     "input": [
      "wt2at = {'fit': fit, 'rips': rips, 'intervals': intervals}"
     ],
     "language": "python",
     "metadata": {},
     "outputs": [],
     "prompt_number": 273
    },
    {
     "cell_type": "code",
     "collapsed": false,
     "input": [
      "from smbanalyze import refolding"
     ],
     "language": "python",
     "metadata": {},
     "outputs": [],
     "prompt_number": 33
    },
    {
     "cell_type": "code",
     "collapsed": false,
     "input": [
      "by_time = refolding.by_time(exp)"
     ],
     "language": "python",
     "metadata": {},
     "outputs": [],
     "prompt_number": 35
    },
    {
     "cell_type": "code",
     "collapsed": false,
     "input": [
      "pt = pick_pt()"
     ],
     "language": "python",
     "metadata": {},
     "outputs": [],
     "prompt_number": 87
    },
    {
     "cell_type": "code",
     "collapsed": false,
     "input": [
      "P1_force = 8\n",
      "split_bound = count_bound(adjust_refold_time(by_time, P1_force), pt)"
     ],
     "language": "python",
     "metadata": {},
     "outputs": [
      {
       "output_type": "pyout",
       "prompt_number": 156,
       "text": [
        "{2.0106250000000001: [1, 9],\n",
        " 2.203125: [0, 4],\n",
        " 2.3850000000000007: [2, 8],\n",
        " 3.8262500000000008: [2, 8]}"
       ]
      }
     ],
     "prompt_number": 156
    },
    {
     "cell_type": "code",
     "collapsed": false,
     "input": [
      "wtum.plot(style='-')"
     ],
     "language": "python",
     "metadata": {},
     "outputs": [
      {
       "output_type": "pyout",
       "prompt_number": 192,
       "text": [
        "<smbanalyze.fplot.Figure at 0x1117eb990>"
       ]
      }
     ],
     "prompt_number": 192
    },
    {
     "cell_type": "code",
     "collapsed": false,
     "input": [
      "num_bound = refolding.count_bound(exp, pick_pts()[0])"
     ],
     "language": "python",
     "metadata": {},
     "outputs": [],
     "prompt_number": 41
    },
    {
     "cell_type": "code",
     "collapsed": false,
     "input": [
      "rtimes,prob,errors = refolding.calc_bound_prob(split_bound)"
     ],
     "language": "python",
     "metadata": {},
     "outputs": [],
     "prompt_number": 159
    },
    {
     "cell_type": "code",
     "collapsed": false,
     "input": [
      "fig('refolding wtUM')\n",
      "ylim(-.05,1.05)\n",
      "xlim(0.1,40)\n",
      "errorbar(rtimes, prob, ecolor='b', fmt='o', yerr=transposed(errors))"
     ],
     "language": "python",
     "metadata": {},
     "outputs": [
      {
       "output_type": "pyout",
       "prompt_number": 482,
       "text": [
        "<Container object of 3 artists>"
       ]
      }
     ],
     "prompt_number": 482
    },
    {
     "cell_type": "code",
     "collapsed": false,
     "input": [
      "for v in p['trap.stiffness']:\n",
      "    print v*.295/.278"
     ],
     "language": "python",
     "metadata": {},
     "outputs": [
      {
       "output_type": "stream",
       "stream": "stdout",
       "text": [
        "0.295\n",
        "1.68192446043\n"
       ]
      }
     ],
     "prompt_number": 181
    },
    {
     "cell_type": "code",
     "collapsed": false,
     "input": [
      "for p in exp:\n",
      "    p.recalculate((.295,1.68))"
     ],
     "language": "python",
     "metadata": {},
     "outputs": [],
     "prompt_number": 186
    },
    {
     "cell_type": "code",
     "collapsed": false,
     "input": [
      "p.recalculate((.295,1.68))"
     ],
     "language": "python",
     "metadata": {},
     "outputs": [
      {
       "output_type": "pyout",
       "prompt_number": 183,
       "text": [
        "<Experiment.Pulling from 'wtUM_200pM_s3m3_66_refold_0.3s_4_up'>"
       ]
      }
     ],
     "prompt_number": 183
    },
    {
     "cell_type": "code",
     "collapsed": false,
     "input": [
      "18*1.061"
     ],
     "language": "python",
     "metadata": {},
     "outputs": [
      {
       "output_type": "pyout",
       "prompt_number": 185,
       "text": [
        "19.098"
       ]
      }
     ],
     "prompt_number": 185
    }
   ],
   "metadata": {}
  }
 ]
}