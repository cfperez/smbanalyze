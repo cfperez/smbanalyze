{
 "metadata": {
  "name": "!Loading data"
 },
 "nbformat": 3,
 "nbformat_minor": 0,
 "worksheets": [
  {
   "cells": [
    {
     "cell_type": "code",
     "collapsed": false,
     "input": [
      "from smbanalyze import shell\n",
      "reload(shell)\n",
      "from smbanalyze.shell import *"
     ],
     "language": "python",
     "metadata": {},
     "outputs": [],
     "prompt_number": 318
    },
    {
     "cell_type": "code",
     "collapsed": false,
     "input": [
      "from smbanalyze.shell import *\n",
      "\n",
      "PROJECT_DIR = '/Users/cfperez/Documents/FRET/'\n",
      "DATA_DIR = os.path.join(PROJECT_DIR, 'Data/') #'/Volumes/c$/Data/FRET/' #os.path.join(PROJECT_DIR, 'Data/')\n",
      "ANALYSIS_DIR = os.path.join(PROJECT_DIR, 'Analysis/')\n",
      "\n",
      "cdanl = lambda : os.chdir(ANALYSIS_DIR+dir_)\n",
      "cddata = lambda : os.chdir(DATA_DIR+dir_)"
     ],
     "language": "python",
     "metadata": {},
     "outputs": [],
     "prompt_number": 2
    },
    {
     "cell_type": "code",
     "collapsed": false,
     "input": [
      "datadb = db.connect()"
     ],
     "language": "python",
     "metadata": {},
     "outputs": [],
     "prompt_number": 3
    },
    {
     "cell_type": "code",
     "collapsed": false,
     "input": [
      "datadb = datadb.connection.data"
     ],
     "language": "python",
     "metadata": {},
     "outputs": [],
     "prompt_number": 4
    },
    {
     "cell_type": "code",
     "collapsed": false,
     "input": [
      "db.find(datadb.tpp, construct='wt2at').select('date','filename','trap').all()[0]"
     ],
     "language": "python",
     "metadata": {},
     "outputs": [
      {
       "output_type": "pyout",
       "prompt_number": 5,
       "text": [
        "(datetime.datetime(2014, 3, 3, 0, 0),\n",
        " u'WT2at_200pM_s2m4_refold_1.0s_1_up',\n",
        " {u'aom_start': -0.35,\n",
        "  u'current_pull': 1,\n",
        "  u'data': [[696.293, 1.43218, 1417.0],\n",
        "   [699.364, 1.1634, 1419.0],\n",
        "   [700.267, 1.43879, 1421.0],\n",
        "   [703.386, 1.15786, 1423.0],\n",
        "   [703.731, 1.57328, 1425.0],\n",
        "   [706.968, 1.26278, 1427.0],\n",
        "   [708.796, 1.30614, 1429.0],\n",
        "   [710.574, 1.36173, 1431.0],\n",
        "   [713.751, 1.06648, 1433.0],\n",
        "   [715.693, 1.08094, 1435.0],\n",
        "   [717.433, 1.14619, 1437.0],\n",
        "   [720.716, 0.824155, 1439.0],\n",
        "   [721.85, 1.04145, 1441.0],\n",
        "   [724.411, 0.900632, 1443.0],\n",
        "   [726.115, 0.975091, 1445.0],\n",
        "   [727.651, 1.09158, 1447.0],\n",
        "   [729.76, 1.06411, 1449.0],\n",
        "   [732.034, 0.995398, 1451.0],\n",
        "   [732.381, 1.41015, 1453.0],\n",
        "   [735.559, 1.11446, 1455.0],\n",
        "   [737.425, 1.14824, 1457.0],\n",
        "   [739.779, 1.05932, 1459.0],\n",
        "   [741.14, 1.2196, 1461.0],\n",
        "   [743.085, 1.23348, 1463.0],\n",
        "   [745.556, 1.11519, 1465.0],\n",
        "   [746.97, 1.26227, 1467.0],\n",
        "   [749.438, 1.14481, 1469.0],\n",
        "   [751.958, 1.01444, 1471.0],\n",
        "   [753.239, 1.19495, 1473.0],\n",
        "   [754.237, 1.44635, 1475.0],\n",
        "   [757.31, 1.17712, 1477.0],\n",
        "   [759.036, 1.24581, 1479.0],\n",
        "   [762.14, 0.968703, 1481.0],\n",
        "   [762.178, 1.46115, 1483.0],\n",
        "   [764.185, 1.45948, 1485.0],\n",
        "   [766.7, 1.33015, 1487.0],\n",
        "   [767.821, 1.55079, 1489.0],\n",
        "   [771.217, 1.20034, 1491.0],\n",
        "   [773.283, 1.18371, 1493.0],\n",
        "   [775.348, 1.16754, 1495.0],\n",
        "   [777.467, 1.13763, 1497.0],\n",
        "   [779.189, 1.20737, 1499.0],\n",
        "   [780.427, 1.39862, 1501.0],\n",
        "   [782.581, 1.36011, 1503.0],\n",
        "   [785.634, 1.09585, 1505.0],\n",
        "   [786.401, 1.40528, 1507.0],\n",
        "   [788.688, 1.33323, 1509.0],\n",
        "   [791.419, 1.14971, 1511.0],\n",
        "   [792.896, 1.28092, 1513.0],\n",
        "   [795.772, 1.06114, 1515.0],\n",
        "   [795.908, 1.52881, 1517.0],\n",
        "   [798.307, 1.42872, 1519.0],\n",
        "   [800.724, 1.32421, 1521.0],\n",
        "   [802.096, 1.48163, 1523.0],\n",
        "   [805.087, 1.23306, 1525.0],\n",
        "   [806.957, 1.26575, 1527.0],\n",
        "   [809.483, 1.1337, 1529.0],\n",
        "   [810.303, 1.42976, 1531.0],\n",
        "   [812.258, 1.44115, 1533.0],\n",
        "   [812.974, 1.76327, 1535.0],\n",
        "   [815.596, 1.60728, 1537.0],\n",
        "   [818.192, 1.45769, 1539.0],\n",
        "   [820.596, 1.35631, 1541.0],\n",
        "   [822.554, 1.36679, 1543.0],\n",
        "   [824.163, 1.46497, 1545.0],\n",
        "   [826.181, 1.46048, 1547.0],\n",
        "   [827.947, 1.519, 1549.0],\n",
        "   [830.13, 1.47318, 1551.0],\n",
        "   [831.193, 1.70838, 1553.0],\n",
        "   [833.796, 1.55713, 1555.0],\n",
        "   [834.48, 1.88723, 1557.0],\n",
        "   [838.159, 1.466, 1559.0],\n",
        "   [840.132, 1.47261, 1561.0],\n",
        "   [841.843, 1.54527, 1563.0],\n",
        "   [843.851, 1.54328, 1565.0],\n",
        "   [844.62, 1.85221, 1567.0],\n",
        "   [846.303, 1.93173, 1569.0],\n",
        "   [848.945, 1.77054, 1571.0],\n",
        "   [850.792, 1.80903, 1573.0],\n",
        "   [852.517, 1.87812, 1575.0],\n",
        "   [853.826, 2.05138, 1577.0],\n",
        "   [856.833, 1.79865, 1579.0],\n",
        "   [858.686, 1.83564, 1581.0],\n",
        "   [860.397, 1.90804, 1583.0],\n",
        "   [862.339, 1.92275, 1585.0],\n",
        "   [863.443, 2.14766, 1587.0],\n",
        "   [865.376, 2.16437, 1589.0],\n",
        "   [867.902, 2.03248, 1591.0],\n",
        "   [869.924, 2.02685, 1593.0],\n",
        "   [871.606, 2.10653, 1595.0],\n",
        "   [872.632, 2.35104, 1597.0],\n",
        "   [875.868, 2.04082, 1599.0],\n",
        "   [877.933, 2.0246, 1601.0],\n",
        "   [878.415, 2.40559, 1603.0],\n",
        "   [881.512, 2.13021, 1605.0],\n",
        "   [882.27, 2.44188, 1607.0],\n",
        "   [885.155, 2.21976, 1609.0],\n",
        "   [885.914, 2.53134, 1611.0],\n",
        "   [887.951, 2.52212, 1613.0],\n",
        "   [889.448, 2.64818, 1615.0],\n",
        "   [891.446, 2.64876, 1617.0],\n",
        "   [893.722, 2.57952, 1619.0],\n",
        "   [895.517, 2.63103, 1621.0],\n",
        "   [897.394, 2.6617, 1623.0],\n",
        "   [899.64, 2.60004, 1625.0],\n",
        "   [899.983, 3.0159, 1627.0],\n",
        "   [901.997, 3.01251, 1629.0],\n",
        "   [905.2, 2.71037, 1631.0],\n",
        "   [905.598, 3.11264, 1633.0],\n",
        "   [907.003, 3.26192, 1635.0],\n",
        "   [908.935, 3.27894, 1637.0],\n",
        "   [910.357, 3.42406, 1639.0],\n",
        "   [913.331, 3.17953, 1641.0],\n",
        "   [915.025, 3.25638, 1643.0],\n",
        "   [916.455, 3.39939, 1645.0],\n",
        "   [918.228, 3.45646, 1647.0],\n",
        "   [920.033, 3.50536, 1649.0],\n",
        "   [921.733, 3.58069, 1651.0],\n",
        "   [924.469, 3.39585, 1653.0],\n",
        "   [924.815, 3.81108, 1655.0],\n",
        "   [926.271, 3.94744, 1657.0],\n",
        "   [927.911, 4.03792, 1659.0],\n",
        "   [929.698, 4.09124, 1661.0],\n",
        "   [931.805, 4.06448, 1663.0],\n",
        "   [932.853, 4.3033, 1665.0],\n",
        "   [935.104, 4.24042, 1667.0],\n",
        "   [936.67, 4.34935, 1669.0],\n",
        "   [937.256, 4.70423, 1671.0],\n",
        "   [939.369, 4.67582, 1673.0],\n",
        "   [940.85, 4.80607, 1675.0],\n",
        "   [941.914, 5.04106, 1677.0],\n",
        "   [943.145, 5.23405, 1679.0],\n",
        "   [945.505, 5.14362, 1681.0],\n",
        "   [947.375, 5.17638, 1683.0],\n",
        "   [947.839, 5.56186, 1685.0],\n",
        "   [948.99, 5.77479, 1687.0],\n",
        "   [950.726, 5.8411, 1689.0],\n",
        "   [952.254, 5.95942, 1691.0],\n",
        "   [953.416, 6.16977, 1693.0],\n",
        "   [954.333, 6.44175, 1695.0],\n",
        "   [956.806, 6.323, 1697.0],\n",
        "   [958.209, 6.47287, 1699.0],\n",
        "   [958.622, 6.87117, 1701.0],\n",
        "   [959.913, 7.04899, 1703.0],\n",
        "   [961.523, 7.14692, 1705.0],\n",
        "   [963.279, 7.20801, 1707.0],\n",
        "   [965.475, 7.15901, 1709.0],\n",
        "   [965.461, 7.66434, 1711.0],\n",
        "   [967.361, 7.68957, 1713.0],\n",
        "   [968.148, 7.9939, 1715.0],\n",
        "   [970.001, 8.03089, 1717.0],\n",
        "   [970.317, 8.45331, 1719.0],\n",
        "   [971.772, 8.59016, 1721.0],\n",
        "   [973.237, 8.72436, 1723.0],\n",
        "   [974.648, 8.87233, 1725.0],\n",
        "   [975.885, 9.06379, 1727.0],\n",
        "   [977.655, 9.12162, 1729.0],\n",
        "   [978.194, 9.48824, 1731.0],\n",
        "   [979.263, 9.72195, 1733.0],\n",
        "   [980.485, 9.91703, 1735.0],\n",
        "   [981.015, 10.286, 1737.0],\n",
        "   [982.408, 10.4383, 1739.0],\n",
        "   [983.717, 10.6118, 1741.0],\n",
        "   [985.218, 10.737, 1743.0],\n",
        "   [985.532, 11.1601, 1745.0],\n",
        "   [986.882, 11.3232, 1747.0],\n",
        "   [987.724, 11.6139, 1749.0],\n",
        "   [988.347, 11.9596, 1751.0],\n",
        "   [989.121, 12.2671, 1753.0],\n",
        "   [991.048, 12.2856, 1755.0],\n",
        "   [991.65, 12.6364, 1757.0],\n",
        "   [991.98, 13.0554, 1759.0],\n",
        "   [992.738, 13.3671, 1761.0],\n",
        "   [994.071, 13.5347, 1763.0],\n",
        "   [995.007, 13.8017, 1765.0],\n",
        "   [995.757, 14.1152, 1767.0],\n",
        "   [996.812, 14.3526, 1769.0],\n",
        "   [998.531, 14.423, 1771.0],\n",
        "   [1000.18, 14.5104, 1773.0],\n",
        "   [1000.35, 14.9702, 1775.0],\n",
        "   [1000.61, 15.4079, 1777.0],\n",
        "   [1001.48, 15.6917, 1779.0],\n",
        "   [1002.52, 15.9315, 1781.0],\n",
        "   [1003.35, 16.2245, 1783.0],\n",
        "   [1004.95, 16.3263, 1785.0],\n",
        "   [1006.55, 16.4249, 1787.0],\n",
        "   [1006.63, 16.9074, 1789.0],\n",
        "   [1007.62, 17.1611, 1791.0],\n",
        "   [1009.43, 17.2094, 1793.0],\n",
        "   [1010.86, 17.3528, 1795.0],\n",
        "   [1011.09, 17.796, 1797.0],\n",
        "   [1012.32, 17.9889, 1799.0],\n",
        "   [1013.64, 18.1614, 1801.0],\n",
        "   [1014.33, 18.4896, 1803.0],\n",
        "   [1015.08, 18.8034, 1805.0],\n",
        "   [1015.89, 19.1013, 1807.0],\n",
        "   [1016.52, 19.4457, 1809.0],\n",
        "   [1017.14, 19.7906, 1811.0],\n",
        "   [1017.62, 20.1728, 1813.0],\n",
        "   [1019.26, 20.263, 1815.0],\n",
        "   [1020.17, 20.5365, 1817.0],\n",
        "   [1020.96, 20.841, 1819.0],\n",
        "   [1021.58, 21.1872, 1821.0],\n",
        "   [1021.33, 21.7525, 1823.0],\n",
        "   [1022.37, 21.9927, 1825.0],\n",
        "   [1023.09, 22.3133, 1827.0],\n",
        "   [1024.84, 22.3774, 1829.0],\n",
        "   [1025.11, 22.8107, 1831.0],\n",
        "   [1026.51, 22.9611, 1833.0],\n",
        "   [1026.67, 23.4238, 1835.0],\n",
        "   [1027.0, 23.8427, 1837.0],\n",
        "   [1027.12, 24.3151, 1839.0],\n",
        "   [1028.77, 24.4015, 1841.0],\n",
        "   [1029.18, 24.802, 1843.0],\n",
        "   [1030.08, 25.0767, 1845.0],\n",
        "   [1030.78, 25.4043, 1847.0],\n",
        "   [1032.3, 25.5245, 1849.0],\n",
        "   [1031.81, 26.1491, 1851.0],\n",
        "   [1032.14, 26.5667, 1853.0],\n",
        "   [1032.51, 26.9755, 1855.0],\n",
        "   [1033.07, 27.3387, 1857.0],\n",
        "   [1034.55, 27.4697, 1859.0],\n",
        "   [1035.67, 27.6893, 1861.0],\n",
        "   [1035.24, 28.2984, 1863.0],\n",
        "   [1037.27, 28.2909, 1865.0],\n",
        "   [1036.54, 28.9766, 1867.0],\n",
        "   [1037.02, 29.3582, 1869.0],\n",
        "   [1038.02, 29.6096, 1871.0],\n",
        "   [1043.0, 28.8609, 1873.0],\n",
        "   [1044.61, 28.9587, 1875.0],\n",
        "   [1046.54, 28.978, 1877.0],\n",
        "   [1062.76, 25.409, 1879.0],\n",
        "   [1062.95, 25.8623, 1881.0],\n",
        "   [1063.0, 26.3512, 1883.0],\n",
        "   [1064.25, 26.5405, 1885.0],\n",
        "   [1064.96, 26.8626, 1887.0],\n",
        "   [1065.69, 27.1821, 1889.0],\n",
        "   [1067.15, 27.3192, 1891.0],\n",
        "   [1067.49, 27.7338, 1893.0],\n",
        "   [1068.31, 28.0312, 1895.0],\n",
        "   [1067.8, 28.6616, 1897.0],\n",
        "   [1068.23, 29.0541, 1899.0],\n",
        "   [1068.94, 29.3781, 1901.0],\n",
        "   [1069.53, 29.7328, 1903.0],\n",
        "   [1071.02, 29.8601, 1905.0],\n",
        "   [1071.03, 30.3603, 1907.0],\n",
        "   [1072.27, 30.5515, 1909.0],\n",
        "   [1071.97, 31.129, 1911.0],\n",
        "   [1072.3, 31.548, 1913.0],\n",
        "   [1072.5, 31.999, 1915.0],\n",
        "   [1073.25, 32.3119, 1917.0],\n",
        "   [1074.32, 32.5464, 1919.0],\n",
        "   [1074.54, 32.9933, 1921.0],\n",
        "   [1075.38, 33.2843, 1923.0],\n",
        "   [1075.79, 33.6833, 1925.0],\n",
        "   [1076.17, 34.0899, 1927.0],\n",
        "   [1076.09, 34.6112, 1929.0],\n",
        "   [1076.7, 34.9601, 1931.0],\n",
        "   [1077.03, 35.3789, 1933.0],\n",
        "   [1078.3, 35.5618, 1935.0],\n",
        "   [1079.74, 35.7037, 1937.0],\n",
        "   [1080.05, 36.1266, 1939.0],\n",
        "   [1079.63, 36.7348, 1941.0],\n",
        "   [1079.49, 37.2725, 1943.0],\n",
        "   [1080.0, 37.6465, 1945.0],\n",
        "   [1080.17, 38.105, 1947.0],\n",
        "   [1080.76, 38.4579, 1949.0],\n",
        "   [1081.19, 38.8521, 1951.0],\n",
        "   [1081.62, 39.2465, 1953.0],\n",
        "   [1082.43, 39.5453, 1955.0],\n",
        "   [1081.74, 40.2217, 1957.0]],\n",
        "  u'date': datetime.datetime(2014, 3, 3, 13, 18),\n",
        "  u'filename': u'WT2at_200pM_s2m4_refold_1.0s_1_up.str',\n",
        "  u'pulling_rate': 400.0,\n",
        "  u'refolding_time': 1.0,\n",
        "  u'sampling_time': 0.005,\n",
        "  u'step_size': 2.0,\n",
        "  u'stiffness': [0.295, 1.681],\n",
        "  u'total_pulls': 5})"
       ]
      }
     ],
     "prompt_number": 5
    },
    {
     "cell_type": "markdown",
     "metadata": {},
     "source": [
      "Process Images\n",
      "-------"
     ]
    },
    {
     "cell_type": "code",
     "collapsed": false,
     "input": [
      "dir_ = '2014.04.08'\n",
      "construct = 'WTUM'\n",
      "slide_id,mol_id = \n",
      "\n",
      "mol_name = 's%dm%d' % (slide_id,mol_id)\n",
      "print dir_, construct, mol_name\n",
      "\n",
      "PROJECT_DIR = '/Users/cfperez/Documents/FRET/'\n",
      "DATA_DIR = os.path.join(PROJECT_DIR, 'Data/') #'/Volumes/c$/Data/FRET/' #os.path.join(PROJECT_DIR, 'Data/')\n",
      "ANALYSIS_DIR = os.path.join(PROJECT_DIR, 'Analysis/')\n",
      "\n",
      "cdanl = lambda : os.chdir(ANALYSIS_DIR+dir_)\n",
      "cddata = lambda : os.chdir(DATA_DIR+dir_)\n",
      "    \n",
      "cddata()"
     ],
     "language": "python",
     "metadata": {},
     "outputs": [
      {
       "output_type": "stream",
       "stream": "stdout",
       "text": [
        "2014.04.08 WTUM s1m3\n"
       ]
      }
     ],
     "prompt_number": 4
    },
    {
     "cell_type": "code",
     "collapsed": false,
     "input": [
      "cddata()"
     ],
     "language": "python",
     "metadata": {},
     "outputs": [],
     "prompt_number": 16
    },
    {
     "cell_type": "code",
     "collapsed": false,
     "input": [
      "roi_file = 'roi.txt'\n",
      "roi=image.ROI.fromFile(roi_file, origin='relative')\n",
      "don,acc=roi"
     ],
     "language": "python",
     "metadata": {},
     "outputs": [],
     "prompt_number": 17
    },
    {
     "cell_type": "code",
     "collapsed": false,
     "input": [
      "fcalc.processMatch(construct, mol_name, 'refold', 'up', \n",
      "#background=92.5,\n",
      "background='background.img', \n",
      "beta=.13, gamma=1.1,\n",
      "roi=image.ROI.fromFile('roi_abs.txt', origin='absolute')\n",
      ")"
     ],
     "language": "python",
     "metadata": {},
     "outputs": [
      {
       "output_type": "stream",
       "stream": "stdout",
       "text": [
        "Opening WT2at_0.5nM_s2m1_refold_0.3s_1_up.img...\n",
        "Saving .fret data to file..."
       ]
      },
      {
       "output_type": "stream",
       "stream": "stdout",
       "text": [
        "\n",
        "Opening WT2at_0.5nM_s2m1_refold_0.3s_16_up.img...\n",
        "Saving .fret data to file..."
       ]
      },
      {
       "output_type": "stream",
       "stream": "stdout",
       "text": [
        "\n",
        "Opening WT2at_0.5nM_s2m1_refold_0.3s_17_up.img...\n",
        "Saving .fret data to file..."
       ]
      },
      {
       "output_type": "stream",
       "stream": "stdout",
       "text": [
        "\n",
        "Opening WT2at_0.5nM_s2m1_refold_0.3s_18_up.img...\n",
        "Saving .fret data to file..."
       ]
      },
      {
       "output_type": "stream",
       "stream": "stdout",
       "text": [
        "\n",
        "Opening WT2at_0.5nM_s2m1_refold_0.3s_19_up.img...\n",
        "Saving .fret data to file..."
       ]
      },
      {
       "output_type": "stream",
       "stream": "stdout",
       "text": [
        "\n",
        "Opening WT2at_0.5nM_s2m1_refold_0.3s_2_up.img...\n",
        "Saving .fret data to file..."
       ]
      },
      {
       "output_type": "stream",
       "stream": "stdout",
       "text": [
        "\n",
        "Opening WT2at_0.5nM_s2m1_refold_0.3s_20_up.img...\n",
        "Saving .fret data to file..."
       ]
      },
      {
       "output_type": "stream",
       "stream": "stdout",
       "text": [
        "\n",
        "Opening WT2at_0.5nM_s2m1_refold_0.3s_3_up.img...\n",
        "Saving .fret data to file..."
       ]
      },
      {
       "output_type": "stream",
       "stream": "stdout",
       "text": [
        "\n",
        "Opening WT2at_0.5nM_s2m1_refold_0.3s_4_up.img...\n",
        "Saving .fret data to file..."
       ]
      },
      {
       "output_type": "stream",
       "stream": "stdout",
       "text": [
        "\n",
        "Opening WT2at_0.5nM_s2m1_refold_0.3s_5_up.img...\n",
        "Saving .fret data to file..."
       ]
      },
      {
       "output_type": "stream",
       "stream": "stdout",
       "text": [
        "\n"
       ]
      }
     ],
     "prompt_number": 525
    },
    {
     "cell_type": "code",
     "collapsed": false,
     "input": [
      "img_files = fileIO.files_matching((construct, mol_name, 'refold', 'up'), with_ext='.img')\n",
      "print img_files"
     ],
     "language": "python",
     "metadata": {},
     "outputs": [
      {
       "output_type": "stream",
       "stream": "stdout",
       "text": [
        "['WT2at_0.5nM_s2m1_refold_0.3s_1_up', 'WT2at_0.5nM_s2m1_refold_0.3s_16_up', 'WT2at_0.5nM_s2m1_refold_0.3s_17_up', 'WT2at_0.5nM_s2m1_refold_0.3s_18_up', 'WT2at_0.5nM_s2m1_refold_0.3s_19_up', 'WT2at_0.5nM_s2m1_refold_0.3s_2_up', 'WT2at_0.5nM_s2m1_refold_0.3s_20_up', 'WT2at_0.5nM_s2m1_refold_0.3s_3_up', 'WT2at_0.5nM_s2m1_refold_0.3s_4_up', 'WT2at_0.5nM_s2m1_refold_0.3s_5_up']\n"
       ]
      }
     ],
     "prompt_number": 19
    },
    {
     "cell_type": "code",
     "collapsed": false,
     "input": [
      "img_files.sort(key=lambda f: int(f.split('_')[5]))\n",
      "print img_files"
     ],
     "language": "python",
     "metadata": {},
     "outputs": [
      {
       "output_type": "stream",
       "stream": "stdout",
       "text": [
        "['WT2at_0.5nM_s2m1_refold_0.3s_1_up', 'WT2at_0.5nM_s2m1_refold_0.3s_2_up', 'WT2at_0.5nM_s2m1_refold_0.3s_3_up', 'WT2at_0.5nM_s2m1_refold_0.3s_4_up', 'WT2at_0.5nM_s2m1_refold_0.3s_5_up', 'WT2at_0.5nM_s2m1_refold_0.3s_16_up', 'WT2at_0.5nM_s2m1_refold_0.3s_17_up', 'WT2at_0.5nM_s2m1_refold_0.3s_18_up', 'WT2at_0.5nM_s2m1_refold_0.3s_19_up', 'WT2at_0.5nM_s2m1_refold_0.3s_20_up']\n"
       ]
      }
     ],
     "prompt_number": 240
    },
    {
     "cell_type": "code",
     "collapsed": false,
     "input": [
      "bg = image.fromBackground('background.img', filter='median')"
     ],
     "language": "python",
     "metadata": {},
     "outputs": [],
     "prompt_number": 20
    },
    {
     "cell_type": "code",
     "collapsed": false,
     "input": [
      "bg.metadata"
     ],
     "language": "python",
     "metadata": {},
     "outputs": [
      {
       "output_type": "pyout",
       "prompt_number": 523,
       "text": [
        "{'binning': 1,\n",
        " 'datetime': datetime.datetime(2014, 4, 2, 11, 2),\n",
        " 'exposurems': 30,\n",
        " 'frames': 19,\n",
        " 'gain': 100,\n",
        " 'height': 283,\n",
        " 'roibottom': 30,\n",
        " 'roileft': 150,\n",
        " 'width': 43}"
       ]
      }
     ],
     "prompt_number": 523
    },
    {
     "cell_type": "code",
     "collapsed": false,
     "input": [
      "close('all')"
     ],
     "language": "python",
     "metadata": {},
     "outputs": [],
     "prompt_number": 21
    },
    {
     "cell_type": "code",
     "collapsed": false,
     "input": [
      "to_load = img_files[3]\n",
      "print \"Loading\", to_load\n",
      "img = image.fromFile(to_load,\n",
      "#background=92.5)\n",
      "#background='background_30.img')\n",
      "background=bg)\n",
      "print img.frames, \"frames in image\"\n",
      "\n",
      "img.addROI(don,acc)\n",
      "\n",
      "img.show(13)"
     ],
     "language": "python",
     "metadata": {},
     "outputs": [
      {
       "output_type": "stream",
       "stream": "stdout",
       "text": [
        "Loading WT2at_0.5nM_s2m1_refold_0.3s_4_up\n",
        "68"
       ]
      },
      {
       "output_type": "stream",
       "stream": "stdout",
       "text": [
        " frames in image\n"
       ]
      }
     ],
     "prompt_number": 440
    },
    {
     "cell_type": "code",
     "collapsed": false,
     "input": [
      "pwd"
     ],
     "language": "python",
     "metadata": {},
     "outputs": [
      {
       "output_type": "pyout",
       "prompt_number": 528,
       "text": [
        "u'/Users/cfperez/Documents/FRET/Data/2014.04.02'"
       ]
      }
     ],
     "prompt_number": 528
    },
    {
     "cell_type": "code",
     "collapsed": false,
     "input": [
      "img.show(3)"
     ],
     "language": "python",
     "metadata": {},
     "outputs": [],
     "prompt_number": 35
    },
    {
     "cell_type": "code",
     "collapsed": false,
     "input": [
      "image.ROI.save('roi_abs.txt', don.toAbsolute(img.origin), acc.toAbsolute(img.origin))"
     ],
     "language": "python",
     "metadata": {},
     "outputs": [],
     "prompt_number": 524
    },
    {
     "cell_type": "code",
     "collapsed": false,
     "input": [
      "don.left -= 0\n",
      "don.bottom += 1\n",
      "img.addROI(don,acc)"
     ],
     "language": "python",
     "metadata": {},
     "outputs": [],
     "prompt_number": 148
    },
    {
     "cell_type": "code",
     "collapsed": false,
     "input": [
      "img._roi = {}"
     ],
     "language": "python",
     "metadata": {},
     "outputs": [],
     "prompt_number": 441
    },
    {
     "cell_type": "code",
     "collapsed": false,
     "input": [
      "don.top += 4"
     ],
     "language": "python",
     "metadata": {},
     "outputs": [],
     "prompt_number": 418
    },
    {
     "cell_type": "code",
     "collapsed": false,
     "input": [
      "img.addROI(don)"
     ],
     "language": "python",
     "metadata": {},
     "outputs": [],
     "prompt_number": 442
    },
    {
     "cell_type": "code",
     "collapsed": false,
     "input": [
      "img.show(25)"
     ],
     "language": "python",
     "metadata": {},
     "outputs": [],
     "prompt_number": 443
    },
    {
     "cell_type": "code",
     "collapsed": false,
     "input": [
      "from itertools import cycle\n",
      "frame = cycle(range(img.frames))"
     ],
     "language": "python",
     "metadata": {},
     "outputs": [],
     "prompt_number": 444
    },
    {
     "cell_type": "code",
     "collapsed": false,
     "input": [
      "n = next(frame)\n",
      "img.show(n)\n",
      "title('N = %d/%d' % (n,img.frames))"
     ],
     "language": "python",
     "metadata": {},
     "outputs": [
      {
       "output_type": "pyout",
       "prompt_number": 522,
       "text": [
        "<matplotlib.text.Text at 0x104b132d0>"
       ]
      }
     ],
     "prompt_number": 522
    },
    {
     "cell_type": "code",
     "collapsed": false,
     "input": [
      "don,acc = image.ROI.fromFile(roi_file)\n",
      "print don,acc\n",
      "img.addROI(don,acc)\n",
      "img.show(10)"
     ],
     "language": "python",
     "metadata": {},
     "outputs": [
      {
       "output_type": "stream",
       "stream": "stdout",
       "text": [
        "<absolute ROI 'donor' = L: 165, R: 174, B: 279, T: 292> <absolute ROI 'acceptor' = L: 169, R: 179, B: 56, T: 71>\n"
       ]
      }
     ],
     "prompt_number": 696
    },
    {
     "cell_type": "code",
     "collapsed": false,
     "input": [
      "#fcalc.counts_from_image(img, don, 0.5)\n",
      "low_i = 150\n",
      "a = img.counts(acc)\n",
      "std_,mean_ = std(a[low_i:]), mean(a[low_i:])\n",
      "(mean_-std_)/acc.size"
     ],
     "language": "python",
     "metadata": {},
     "outputs": [
      {
       "output_type": "pyout",
       "prompt_number": 699,
       "text": [
        "0.9182154119390401"
       ]
      }
     ],
     "prompt_number": 699
    },
    {
     "cell_type": "code",
     "collapsed": false,
     "input": [
      "beta,gamma = 0.13,1.1\n",
      "#d,a,fret=fcalc.calculate(img.donor,img.acceptor,beta=beta,gamma=gamma)\n",
      "d,a,fret = fcalc.calculate(p.fret.donor,p.fret.acceptor,beta=beta,gamma=gamma)\n",
      "\n",
      "low_i = 150\n",
      "std_,mean_ = std(a[low_i:]), mean(a[low_i:])\n",
      "bg_pixel = (1+beta/gamma)*(mean_-std_)/acc.size\n",
      "\n",
      "print \"Pixel bg =\", bg_pixel\n",
      "d,a,fret = fcalc.calculate(\n",
      "    img.donor - don.size*bg_pixel,\n",
      "    img.acceptor - acc.size*bg_pixel, \n",
      "    beta=beta, gamma=gamma)"
     ],
     "language": "python",
     "metadata": {},
     "outputs": [
      {
       "output_type": "stream",
       "stream": "stdout",
       "text": [
        "Pixel bg = 0.61522294941\n"
       ]
      }
     ],
     "prompt_number": 885
    },
    {
     "cell_type": "code",
     "collapsed": false,
     "input": [
      "image.ROI.save('roi_s2m1.txt', don, acc)"
     ],
     "language": "python",
     "metadata": {},
     "outputs": []
    },
    {
     "cell_type": "code",
     "collapsed": false,
     "input": [
      "fcalc.toFile( date_+fileIO.change_extension(to_load, '.fret'), img.time, d, a, fret, img.metadata)"
     ],
     "language": "python",
     "metadata": {},
     "outputs": [],
     "prompt_number": 1031
    },
    {
     "cell_type": "code",
     "collapsed": false,
     "input": [
      "savefig( date_+fileIO.change_extension(to_load,'.png') )"
     ],
     "language": "python",
     "metadata": {},
     "outputs": [],
     "prompt_number": 1032
    },
    {
     "cell_type": "code",
     "collapsed": false,
     "input": [
      "s2m5 = {\n",
      "        1: {'img': img, 'beta':.13, 'gamma':1., 'donor':d, 'acceptor':a,'fret':fret}\n",
      "        }"
     ],
     "language": "python",
     "metadata": {},
     "outputs": [],
     "prompt_number": 472
    },
    {
     "cell_type": "code",
     "collapsed": false,
     "input": [
      "p = experiment.fromFile(fileIO.change_extension(to_load, '.str'))\n",
      "p.plot()"
     ],
     "language": "python",
     "metadata": {},
     "outputs": [
      {
       "output_type": "pyout",
       "prompt_number": 1033,
       "text": [
        "<smbanalyze.fplot.Figure at 0x114f056d0>"
       ]
      }
     ],
     "prompt_number": 1033
    },
    {
     "cell_type": "code",
     "collapsed": false,
     "input": [
      "savefig(date_+p.filename+\" rainbow.png\")"
     ],
     "language": "python",
     "metadata": {},
     "outputs": [],
     "prompt_number": 1035
    },
    {
     "cell_type": "code",
     "collapsed": false,
     "input": [
      "exp = experiment.fromMatch('WT2at','s2m5','refold','up').has_value(trap_f_atleast=20)"
     ],
     "language": "python",
     "metadata": {},
     "outputs": [],
     "prompt_number": 627
    },
    {
     "cell_type": "code",
     "collapsed": false,
     "input": [
      "p=next(exp)\n",
      "p.plot()"
     ],
     "language": "python",
     "metadata": {},
     "outputs": [
      {
       "output_type": "pyout",
       "prompt_number": 547,
       "text": [
        "<smbanalyze.fplot.Figure at 0x108dbcfd0>"
       ]
      }
     ],
     "prompt_number": 547
    },
    {
     "cell_type": "code",
     "collapsed": false,
     "input": [
      "img = p.loadimg()"
     ],
     "language": "python",
     "metadata": {},
     "outputs": [],
     "prompt_number": 548
    },
    {
     "cell_type": "code",
     "collapsed": false,
     "input": [
      "roi=image.ROI.fromFile('roi_refold.txt', origin='absolute')\n",
      "img.addROI(*roi)"
     ],
     "language": "python",
     "metadata": {},
     "outputs": [],
     "prompt_number": 549
    },
    {
     "cell_type": "code",
     "collapsed": false,
     "input": [
      "img.show(3)"
     ],
     "language": "python",
     "metadata": {},
     "outputs": [],
     "prompt_number": 551
    },
    {
     "cell_type": "markdown",
     "metadata": {},
     "source": [
      "Load experiment data\n",
      "------"
     ]
    },
    {
     "cell_type": "code",
     "collapsed": false,
     "input": [
      "close('all')"
     ],
     "language": "python",
     "metadata": {},
     "outputs": [],
     "prompt_number": 638
    },
    {
     "cell_type": "code",
     "collapsed": false,
     "input": [
      "dir_ = '2014.03.21'\n",
      "construct = 'WT2at'\n",
      "slide_id,mol_id = 2,5\n",
      "\n",
      "mol_name = 's%dm%d' % (slide_id,mol_id)\n",
      "\n",
      "cddata()\n",
      "\n",
      "print \"Loading molecules matching:\", dir_, construct, mol_name\n",
      "fig_name = ' '.join([dir_, construct, mol_name])\n",
      "original = experiment.fromMatch(construct, mol_name, 'refold', 'up') or experiment.fromMatch(construct, mol_name)\n",
      "if not original:\n",
      "    print \"WARNING: Failed to load\"\n",
      "else:\n",
      "    print \"Found %d molecules\" % len(original)\n",
      "\n",
      "#os.mkdir(ANALYSIS_DIR+dir_)\n",
      "#cdanl()"
     ],
     "language": "python",
     "metadata": {},
     "outputs": [
      {
       "output_type": "stream",
       "stream": "stdout",
       "text": [
        "Loading molecules matching: 2014.03.21 WT2at s2m5\n",
        "Found 5 molecules"
       ]
      },
      {
       "output_type": "stream",
       "stream": "stdout",
       "text": [
        "\n"
       ]
      }
     ],
     "prompt_number": 639
    },
    {
     "cell_type": "code",
     "collapsed": false,
     "input": [
      "cddata()\n",
      "#for fname in original.get('filename'):\n",
      "fcalc.processMatch(construct, mol_name, 'refold', 'up', \n",
      "#fcalc.processFiles(original.get('filename'),\n",
      "background='background_30.img', \n",
      "beta=.13, gamma=1.1,\n",
      "roi=image.ROI.fromFile('roi_abs.txt', origin='absolute')\n",
      ")\n",
      "\n",
      "#original = experiment.fromMatch(construct, mol_name, 'refold', 'up')"
     ],
     "language": "python",
     "metadata": {},
     "outputs": [
      {
       "output_type": "stream",
       "stream": "stdout",
       "text": [
        "Opening WT2at_500pM_s2m4_refold_0.9s_1_up.img...\n",
        "Saving .fret data to file..."
       ]
      },
      {
       "output_type": "stream",
       "stream": "stdout",
       "text": [
        "\n",
        "Opening WT2at_500pM_s2m4_refold_0.9s_2_up.img...\n",
        "Saving .fret data to file..."
       ]
      },
      {
       "output_type": "stream",
       "stream": "stdout",
       "text": [
        "\n",
        "Opening WT2at_500pM_s2m4_refold_0.9s_3_up.img...\n",
        "Saving .fret data to file..."
       ]
      },
      {
       "output_type": "stream",
       "stream": "stdout",
       "text": [
        "\n",
        "Opening WT2at_500pM_s2m4_refold_0.9s_4_up.img...\n",
        "Saving .fret data to file..."
       ]
      },
      {
       "output_type": "stream",
       "stream": "stdout",
       "text": [
        "\n",
        "Opening WT2at_500pM_s2m4_refold_0.9s_5_up.img...\n",
        "Saving .fret data to file..."
       ]
      },
      {
       "output_type": "stream",
       "stream": "stdout",
       "text": [
        "\n"
       ]
      }
     ],
     "prompt_number": 609
    },
    {
     "cell_type": "code",
     "collapsed": false,
     "input": [
      "metadata = {'conditions': {\n",
      "        'tpp': 10e-6,\n",
      "        'mg': 4e-3,\n",
      "        'tx': 3e-3,\n",
      "        'tq': 0.19,\n",
      "        'edta': 0.1e-3},\n",
      "    'construct': construct.lower(),\n",
      "    'mol': mol_id,\n",
      "    'slide': slide_id\n",
      "    }\n",
      "\n",
      "close('all')\n",
      "\n",
      "exp = original.has_value(trap_f_atleast=20).has_value(trap_ext_atmost=1200).has_value(trap_ext_atleast=1040)\n",
      "if len(exp) != len(original):\n",
      "    removed = original.filter(lambda p: p not in exp)\n",
      "    print \"Warning! Removed some traces from analysis:\\n%s\\n\" % '\\n'.join(removed.get('filename'))\n",
      "    removed.figure.new()\n",
      "    removed.plot(show_fret=False, style='', title='Removed traces')\n",
      "\n",
      "exp_fret = exp.has('fret')\n",
      "if exp_fret:\n",
      "    exp_fret.plot(title=fig_name)\n",
      "show_legend = 'upper left' if len(exp)<10 else None\n",
      "exp.plot(show_fret=False, style='-', title=fig_name+' FEC', legend=show_legend)\n",
      "print \"{} good molecules | {} have fret\".format(len(exp), len(exp_fret))\n",
      "\n",
      "p = next(exp)\n",
      "for p in exp:\n",
      "    p.metadata.update(metadata)"
     ],
     "language": "python",
     "metadata": {},
     "outputs": [
      {
       "output_type": "stream",
       "stream": "stdout",
       "text": [
        "5 good molecules | 0 have fret\n"
       ]
      }
     ],
     "prompt_number": 640
    },
    {
     "cell_type": "code",
     "collapsed": false,
     "input": [
      "to_align = exp\n",
      "\n",
      "to_align.plot('-', FEC=True, show_fret=False)\n",
      "align_to=pick_pt()\n",
      "\n",
      "align_cutoff,f_cutoff = align_to\n",
      "f_range = (f_cutoff,f_cutoff+1)\n",
      "to_align = to_align.has_value(trap_ext_atleast=align_cutoff)\n",
      "to_align.adjustOffset(force_x_range=(720,800), ext_f_range=f_range, ext_x_range=align_cutoff)\n",
      "\n",
      "exp.plot(show_fret=False, FEC=True, style='-')\n",
      "if to_align != exp:\n",
      "    print \"Following traces were not aligned:\\n\", exp.filter(lambda p: p not in to_align)"
     ],
     "language": "python",
     "metadata": {},
     "outputs": [],
     "prompt_number": 616
    },
    {
     "cell_type": "code",
     "collapsed": false,
     "input": [
      "mol = exp.collapse()\n",
      "mol.plot('k.', show_fret=False, FEC=True)"
     ],
     "language": "python",
     "metadata": {},
     "outputs": [
      {
       "output_type": "stream",
       "stream": "stdout",
       "text": [
        "Trap and FRET collection rates are not even multiples! 0.025 (trap) vs 50 (fret)\n"
       ]
      },
      {
       "output_type": "pyout",
       "prompt_number": 522,
       "text": [
        "<smbanalyze.fplot.Figure at 0x108df36d0>"
       ]
      }
     ],
     "prompt_number": 522
    },
    {
     "cell_type": "code",
     "collapsed": false,
     "input": [
      "regions = pick_intervals(2)"
     ],
     "language": "python",
     "metadata": {},
     "outputs": [],
     "prompt_number": 525
    },
    {
     "cell_type": "code",
     "collapsed": false,
     "input": [
      "above = pick_line()"
     ],
     "language": "python",
     "metadata": {},
     "outputs": [],
     "prompt_number": 523
    },
    {
     "cell_type": "code",
     "collapsed": false,
     "input": [
      "rips,fit = fec.analyze_rips(mol.trap, regions, [1], handle_above=above)\n",
      "print fit\n",
      "print rips"
     ],
     "language": "python",
     "metadata": {},
     "outputs": [
      {
       "output_type": "stream",
       "stream": "stdout",
       "text": [
        "\r",
        "Fitting: [=                                                                               ] 2%"
       ]
      },
      {
       "output_type": "stream",
       "stream": "stdout",
       "text": [
        "\r",
        "Fitting: [==                                                                              ] 3%"
       ]
      },
      {
       "output_type": "stream",
       "stream": "stdout",
       "text": [
        "\r",
        "Fitting: [===                                                                             ] 5%"
       ]
      },
      {
       "output_type": "stream",
       "stream": "stdout",
       "text": [
        "\r",
        "Fitting: [====                                                                            ] 6%"
       ]
      },
      {
       "output_type": "stream",
       "stream": "stdout",
       "text": [
        "\r",
        "Fitting: [======                                                                          ] 8%"
       ]
      },
      {
       "output_type": "stream",
       "stream": "stdout",
       "text": [
        "\r",
        "Fitting: [=======                                                                         ] 9%"
       ]
      },
      {
       "output_type": "stream",
       "stream": "stdout",
       "text": [
        "\r",
        "Fitting: [========                                                                        ] 11%"
       ]
      },
      {
       "output_type": "stream",
       "stream": "stdout",
       "text": [
        "\r",
        "Fitting: [=========                                                                       ] 12%"
       ]
      },
      {
       "output_type": "stream",
       "stream": "stdout",
       "text": [
        "\r",
        "Fitting: [===========                                                                     ] 14%"
       ]
      },
      {
       "output_type": "stream",
       "stream": "stdout",
       "text": [
        "\r",
        "Fitting: [============                                                                    ] 15%"
       ]
      },
      {
       "output_type": "stream",
       "stream": "stdout",
       "text": [
        "\r",
        "Fitting: [=============                                                                   ] 17%"
       ]
      },
      {
       "output_type": "stream",
       "stream": "stdout",
       "text": [
        "\r",
        "Fitting: [==============                                                                  ] 18%"
       ]
      },
      {
       "output_type": "stream",
       "stream": "stdout",
       "text": [
        "\r",
        "Fitting: [================                                                                ] 20%"
       ]
      },
      {
       "output_type": "stream",
       "stream": "stdout",
       "text": [
        "\r",
        "Fitting: [=================                                                               ] 22%"
       ]
      },
      {
       "output_type": "stream",
       "stream": "stdout",
       "text": [
        "\r",
        "Fitting: [==================                                                              ] 23%"
       ]
      },
      {
       "output_type": "stream",
       "stream": "stdout",
       "text": [
        "\r",
        "Fitting: [===================                                                             ] 25%"
       ]
      },
      {
       "output_type": "stream",
       "stream": "stdout",
       "text": [
        "\r",
        "Fitting: [====================                                                            ] 26%"
       ]
      },
      {
       "output_type": "stream",
       "stream": "stdout",
       "text": [
        "\r",
        "Fitting: [======================                                                          ] 28%"
       ]
      },
      {
       "output_type": "stream",
       "stream": "stdout",
       "text": [
        "\r",
        "Fitting: [=======================                                                         ] 29%"
       ]
      },
      {
       "output_type": "stream",
       "stream": "stdout",
       "text": [
        "\r",
        "Fitting: [========================                                                        ] 31%"
       ]
      },
      {
       "output_type": "stream",
       "stream": "stdout",
       "text": [
        "\r",
        "Fitting: [=========================                                                       ] 32%"
       ]
      },
      {
       "output_type": "stream",
       "stream": "stdout",
       "text": [
        "\r",
        "Fitting: [===========================                                                     ] 34%"
       ]
      },
      {
       "output_type": "stream",
       "stream": "stdout",
       "text": [
        "\r",
        "Fitting: [============================                                                    ] 35%"
       ]
      },
      {
       "output_type": "stream",
       "stream": "stdout",
       "text": [
        "\r",
        "Fitting: [=============================                                                   ] 37%"
       ]
      },
      {
       "output_type": "stream",
       "stream": "stdout",
       "text": [
        "\r",
        "Fitting: [==============================                                                  ] 38%"
       ]
      },
      {
       "output_type": "stream",
       "stream": "stdout",
       "text": [
        "\r",
        "Fitting: [================================                                                ] 40%"
       ]
      },
      {
       "output_type": "stream",
       "stream": "stdout",
       "text": [
        "\r",
        "Fitting: [=================================                                               ] 42%"
       ]
      },
      {
       "output_type": "stream",
       "stream": "stdout",
       "text": [
        "\r",
        "Fitting: [==================================                                              ] 43%"
       ]
      },
      {
       "output_type": "stream",
       "stream": "stdout",
       "text": [
        "\r",
        "Fitting: [===================================                                             ] 45%"
       ]
      },
      {
       "output_type": "stream",
       "stream": "stdout",
       "text": [
        "\r",
        "Fitting: [====================================                                            ] 46%"
       ]
      },
      {
       "output_type": "stream",
       "stream": "stdout",
       "text": [
        "\r",
        "Fitting: [======================================                                          ] 48%"
       ]
      },
      {
       "output_type": "stream",
       "stream": "stdout",
       "text": [
        "\r",
        "Fitting: [=======================================                                         ] 49%"
       ]
      },
      {
       "output_type": "stream",
       "stream": "stdout",
       "text": [
        "\r",
        "Fitting: [========================================                                        ] 51%"
       ]
      },
      {
       "output_type": "stream",
       "stream": "stdout",
       "text": [
        "\r",
        "Fitting: [=========================================                                       ] 52%"
       ]
      },
      {
       "output_type": "stream",
       "stream": "stdout",
       "text": [
        "\r",
        "Fitting: [================================================================================] Done!\n"
       ]
      },
      {
       "output_type": "stream",
       "stream": "stdout",
       "text": [
        "MMS_rip_region fit: Lp=17.68\u00b10.34 Lc=1053.33\u00b11.15 F0=-1.26\u00b10.01 Lc1=65.80\u00b10.26\n",
        "Rips: 115.3\u00b10.4 nt (65.80 nm)\n",
        "Total: 115.3\u00b10.4 nt (65.80 nm)\n"
       ]
      }
     ],
     "prompt_number": 526
    },
    {
     "cell_type": "markdown",
     "metadata": {},
     "source": [
      "Setting \"strongly bound\" molecules to have metadata \"bind_tpp\" = 2, \"weakly bound\" to 1."
     ]
    },
    {
     "cell_type": "code",
     "collapsed": false,
     "input": [
      "exp.plot('-', legend='upper left')\n",
      "print exp"
     ],
     "language": "python",
     "metadata": {},
     "outputs": [
      {
       "output_type": "stream",
       "stream": "stdout",
       "text": [
        "[0: <Experiment.Pulling from 'WTUM_200pM_s1m2_refold_0.3s_1_up'>\n",
        " 1: <Experiment.Pulling from 'WTUM_200pM_s1m2_refold_0.3s_2_up'>\n",
        " 2: <Experiment.Pulling from 'WTUM_200pM_s1m2_refold_0.3s_3_up'>\n",
        " 3: <Experiment.Pulling from 'WTUM_200pM_s1m2_refold_0.3s_4_up'>\n",
        " 4: <Experiment.Pulling from 'WTUM_200pM_s1m2_refold_0.3s_5_up'>\n",
        " 5: <Experiment.Pulling from 'WTUM_200pM_s1m2_refold_0.9s_1_up'>\n",
        " 6: <Experiment.Pulling from 'WTUM_200pM_s1m2_refold_0.9s_2_up'>\n",
        " 7: <Experiment.Pulling from 'WTUM_200pM_s1m2_refold_0.9s_3_up'>\n",
        " 8: <Experiment.Pulling from 'WTUM_200pM_s1m2_refold_0.9s_4_up'>\n",
        " 9: <Experiment.Pulling from 'WTUM_200pM_s1m2_refold_0.9s_5_up'>\n",
        " 10: <Experiment.Pulling from 'WTUM_200pM_s1m2_refold_1.2s_1_up'>]\n"
       ]
      }
     ],
     "prompt_number": 25
    },
    {
     "cell_type": "code",
     "collapsed": false,
     "input": [
      "def ptstr(pt):\n",
      "    return '{:.1f} nm | {:.1f} pN'.format(*pt)"
     ],
     "language": "python",
     "metadata": {},
     "outputs": [],
     "prompt_number": 332
    },
    {
     "cell_type": "code",
     "collapsed": false,
     "input": [
      "split_strong_bound = True\n",
      "\n",
      "if split_strong_bound:\n",
      "    strongly_bound = pick_pts(1)\n",
      "    print \"Splitting strongly bound at\", ', '.join(map(ptstr, strongly_bound))\n",
      "    weak_unbound, strong = fec.split(exp, *strongly_bound)\n",
      "    print \"Strongly bound:\\n\", strong\n",
      "    strong.plot('-', show_fret=False, title='Strongly bound')\n",
      "else:\n",
      "    strongly_bound = []\n",
      "    strong = experiment.List()\n",
      "    weak_unbound = exp\n",
      "weak_unbound.plot('-', show_fret=False, title='Weak and unbound')"
     ],
     "language": "python",
     "metadata": {},
     "outputs": [
      {
       "output_type": "stream",
       "stream": "stdout",
       "text": [
        "Splitting strongly bound at 1038.1 nm | 20.8 pN\n",
        "Strongly bound:\n",
        "[0: <Experiment.Pulling from 'WT2at_500pM_s2m4_refold_0.9s_1_up'>\n",
        " 1: <Experiment.Pulling from 'WT2at_500pM_s2m4_refold_0.9s_2_up'>\n",
        " 2: <Experiment.Pulling from 'WT2at_500pM_s2m4_refold_0.9s_3_up'>]\n"
       ]
      },
      {
       "output_type": "pyout",
       "prompt_number": 617,
       "text": [
        "<smbanalyze.fplot.Figure at 0x10f2261d0>"
       ]
      }
     ],
     "prompt_number": 617
    },
    {
     "cell_type": "code",
     "collapsed": false,
     "input": [
      "#strong.plot('-', show_fret=False, title='Strongly bound')\n",
      "#weak_unbound.plot('-', show_fret=False, title='Weak and unbound')"
     ],
     "language": "python",
     "metadata": {},
     "outputs": [],
     "prompt_number": 476
    },
    {
     "cell_type": "code",
     "collapsed": false,
     "input": [
      "split_weakly_bound = 0\n",
      "\n",
      "if split_weakly_bound:\n",
      "    weakly_bound = pick_pts(split_weakly_bound)\n",
      "    print \"Splitting at\", ', '.join(map(ptstr, weakly_bound))\n",
      "    unbound, weak = fec.split(weak_unbound, *weakly_bound)\n",
      "    print \"Weakly bound:\\n\", '\\n'.join(weak.get('filename'))\n",
      "else:\n",
      "    weakly_bound = []\n",
      "    unbound = weak_unbound\n",
      "    weak = []"
     ],
     "language": "python",
     "metadata": {},
     "outputs": [],
     "prompt_number": 618
    },
    {
     "cell_type": "code",
     "collapsed": false,
     "input": [
      "#weak_unbound.figure.close()\n",
      "fig('TPP binding')\n",
      "fplot.fplotall(trap=unbound, style='k-')\n",
      "fplot.fplotall(trap=weak, style='y-')\n",
      "fplot.fplotall(trap=strong, style='r-')"
     ],
     "language": "python",
     "metadata": {},
     "outputs": [],
     "prompt_number": 619
    },
    {
     "cell_type": "code",
     "collapsed": false,
     "input": [
      "unbound,weak,strong = exp,[],[]"
     ],
     "language": "python",
     "metadata": {},
     "outputs": [],
     "prompt_number": 604
    },
    {
     "cell_type": "code",
     "collapsed": false,
     "input": [
      "def set_all(list_, key, value):\n",
      "    for x in list_:\n",
      "        x[key] = value\n",
      "set_all(weak, 'bind_tpp', 1)\n",
      "set_all(strong, 'bind_tpp', 2)\n",
      "set_all(unbound, 'bind_tpp', 0)"
     ],
     "language": "python",
     "metadata": {},
     "outputs": [],
     "prompt_number": 620
    },
    {
     "cell_type": "code",
     "collapsed": false,
     "input": [
      "quality = 2\n",
      "set_all(exp, 'quality', quality)"
     ],
     "language": "python",
     "metadata": {},
     "outputs": [],
     "prompt_number": 621
    },
    {
     "cell_type": "code",
     "collapsed": false,
     "input": [
      "from smbanalyze import refolding\n",
      "refolding_delay = refolding.avg_time_until_f(exp, 8)\n",
      "print \"Refolding delay until P1 F1/2 = {:.3g} seconds\".format(refolding_delay)\n",
      "\n",
      "refold_dict = dict(delay=refolding_delay, strong_split=strongly_bound, weak_split=weakly_bound)\n",
      "for p in exp:\n",
      "    rd = refold_dict.copy()\n",
      "    rd['time'] = p['trap.refolding_time']+refolding_delay\n",
      "    p.metadata.update(refolding=rd)"
     ],
     "language": "python",
     "metadata": {},
     "outputs": [
      {
       "output_type": "stream",
       "stream": "stdout",
       "text": [
        "Refolding delay until P1 F1/2 = 2.9 seconds\n"
       ]
      }
     ],
     "prompt_number": 632
    },
    {
     "cell_type": "code",
     "collapsed": false,
     "input": [
      "p = next(exp)\n",
      "print p.info\n",
      "p.metadata"
     ],
     "language": "python",
     "metadata": {},
     "outputs": [
      {
       "output_type": "stream",
       "stream": "stdout",
       "text": [
        "(datetime.datetime(2014, 3, 21, 13, 49), 'WT2at', '500pM', 's2m4', 'refold', '0.9s', '3', 'up')\n"
       ]
      },
      {
       "output_type": "pyout",
       "prompt_number": 630,
       "text": [
        "{'bind_tpp': 2,\n",
        " 'conditions': {'edta': 0.0001,\n",
        "  'mg': 0.004,\n",
        "  'tpp': 1e-05,\n",
        "  'tq': 0.19,\n",
        "  'tx': 0.003},\n",
        " 'construct': 'wt2at',\n",
        " 'date': datetime.datetime(2014, 3, 21, 0, 0),\n",
        " 'datetime': datetime.datetime(2014, 3, 21, 13, 49),\n",
        " 'filename': 'WT2at_500pM_s2m4_refold_0.9s_3_up',\n",
        " 'fret': {'aom_amp': -0.35,\n",
        "  'aom_start': -0.35,\n",
        "  'beta': 0.13,\n",
        "  'bg_pixel': 0,\n",
        "  'binning': 1,\n",
        "  'datetime': [2014, 3, 21, 13, 50],\n",
        "  'exc_power': 46.4,\n",
        "  'exposure_time': 0.03,\n",
        "  'exposurems': 30,\n",
        "  'filename': 'WT2at_500pM_s2m4_refold_0.9s_3_up.fret',\n",
        "  'frames': 168,\n",
        "  'gain': 100,\n",
        "  'gamma': 1.1,\n",
        "  'height': 283,\n",
        "  'roi_acceptor': {'bottom': 56,\n",
        "   'left': 169,\n",
        "   'name': 'acceptor',\n",
        "   'origin': 'absolute',\n",
        "   'right': 179,\n",
        "   'top': 71},\n",
        "  'roi_donor': {'bottom': 279,\n",
        "   'left': 165,\n",
        "   'name': 'donor',\n",
        "   'origin': 'absolute',\n",
        "   'right': 174,\n",
        "   'top': 292},\n",
        "  'roibottom': 30,\n",
        "  'roileft': 150,\n",
        "  'width': 43},\n",
        " 'mol': 4,\n",
        " 'quality': 2,\n",
        " 'refolding': {'delay': 2.9033333333333329,\n",
        "  'strong_split': [(1038.0533665118087, 20.785435040873637)],\n",
        "  'time': 3.8033333333333328,\n",
        "  'weak_split': []},\n",
        " 'sampling_ratio': 3,\n",
        " 'slide': 2,\n",
        " 'trap': {'big_step_size': 5.0,\n",
        "  'current_pull': 3,\n",
        "  'date': datetime.datetime(2014, 3, 21, 13, 49),\n",
        "  'filename': 'WT2at_500pM_s2m4_refold_0.9s_3_up.str',\n",
        "  'pulling_rate': 100,\n",
        "  'refolding_time': 0.9,\n",
        "  'sampling_time': 0.01,\n",
        "  'step_size': 1.0,\n",
        "  'stiffness': [0.31, 1.767],\n",
        "  'total_pulls': 5}}"
       ]
      }
     ],
     "prompt_number": 630
    },
    {
     "cell_type": "code",
     "collapsed": false,
     "input": [
      "db.save_all(datadb.tpp, exp)"
     ],
     "language": "python",
     "metadata": {},
     "outputs": [],
     "prompt_number": 635
    },
    {
     "cell_type": "code",
     "collapsed": false,
     "input": [
      "set(db.find(datadb.tpp, construct='wt2at').select('date').all())"
     ],
     "language": "python",
     "metadata": {},
     "outputs": [
      {
       "output_type": "pyout",
       "prompt_number": 648,
       "text": [
        "set([(datetime.datetime(2014, 3, 11, 0, 0),),\n",
        "     (datetime.datetime(2014, 3, 3, 0, 0),),\n",
        "     (datetime.datetime(2014, 4, 2, 0, 0),),\n",
        "     (datetime.datetime(2014, 3, 21, 0, 0),)])"
       ]
      }
     ],
     "prompt_number": 648
    },
    {
     "cell_type": "code",
     "collapsed": false,
     "input": [
      "set(\n",
      "map(tuple, db.find(datadb.tpp, construct=construct.lower(), date=date(14,4,2)).select('date','construct', 'slide', 'mol').all())\n",
      ")"
     ],
     "language": "python",
     "metadata": {},
     "outputs": [
      {
       "output_type": "pyout",
       "prompt_number": 647,
       "text": [
        "set([(datetime.datetime(2014, 4, 2, 0, 0), u'wt2at', 2, 1),\n",
        "     (datetime.datetime(2014, 4, 2, 0, 0), u'wt2at', 1, 3)])"
       ]
      }
     ],
     "prompt_number": 647
    },
    {
     "cell_type": "code",
     "collapsed": false,
     "input": [
      "db.find(datadb.tpp, construct=construct.lower(), date=date(14,4,2)).select('datetime','construct', 'slide', 'mol').all()"
     ],
     "language": "python",
     "metadata": {},
     "outputs": [
      {
       "output_type": "pyout",
       "prompt_number": 646,
       "text": [
        "[(datetime.datetime(2014, 4, 2, 11, 19), u'wt2at', 1, 3),\n",
        " (datetime.datetime(2014, 4, 2, 11, 19), u'wt2at', 1, 3),\n",
        " (datetime.datetime(2014, 4, 2, 11, 19), u'wt2at', 1, 3),\n",
        " (datetime.datetime(2014, 4, 2, 11, 19), u'wt2at', 1, 3),\n",
        " (datetime.datetime(2014, 4, 2, 11, 19), u'wt2at', 1, 3),\n",
        " (datetime.datetime(2014, 4, 2, 11, 20), u'wt2at', 1, 3),\n",
        " (datetime.datetime(2014, 4, 2, 11, 20), u'wt2at', 1, 3),\n",
        " (datetime.datetime(2014, 4, 2, 11, 20), u'wt2at', 1, 3),\n",
        " (datetime.datetime(2014, 4, 2, 11, 20), u'wt2at', 1, 3),\n",
        " (datetime.datetime(2014, 4, 2, 11, 21), u'wt2at', 1, 3),\n",
        " (datetime.datetime(2014, 4, 2, 11, 22), u'wt2at', 1, 3),\n",
        " (datetime.datetime(2014, 4, 2, 11, 22), u'wt2at', 1, 3),\n",
        " (datetime.datetime(2014, 4, 2, 12, 10), u'wt2at', 2, 1),\n",
        " (datetime.datetime(2014, 4, 2, 12, 10), u'wt2at', 2, 1),\n",
        " (datetime.datetime(2014, 4, 2, 12, 10), u'wt2at', 2, 1),\n",
        " (datetime.datetime(2014, 4, 2, 12, 10), u'wt2at', 2, 1),\n",
        " (datetime.datetime(2014, 4, 2, 12, 10), u'wt2at', 2, 1),\n",
        " (datetime.datetime(2014, 4, 2, 12, 11), u'wt2at', 2, 1),\n",
        " (datetime.datetime(2014, 4, 2, 12, 11), u'wt2at', 2, 1),\n",
        " (datetime.datetime(2014, 4, 2, 12, 11), u'wt2at', 2, 1),\n",
        " (datetime.datetime(2014, 4, 2, 12, 11), u'wt2at', 2, 1),\n",
        " (datetime.datetime(2014, 4, 2, 12, 11), u'wt2at', 2, 1),\n",
        " (datetime.datetime(2014, 4, 2, 12, 12), u'wt2at', 2, 1),\n",
        " (datetime.datetime(2014, 4, 2, 12, 12), u'wt2at', 2, 1),\n",
        " (datetime.datetime(2014, 4, 2, 12, 12), u'wt2at', 2, 1),\n",
        " (datetime.datetime(2014, 4, 2, 12, 12), u'wt2at', 2, 1),\n",
        " (datetime.datetime(2014, 4, 2, 12, 12), u'wt2at', 2, 1),\n",
        " (datetime.datetime(2014, 4, 2, 12, 12), u'wt2at', 2, 1),\n",
        " (datetime.datetime(2014, 4, 2, 12, 12), u'wt2at', 2, 1),\n",
        " (datetime.datetime(2014, 4, 2, 12, 12), u'wt2at', 2, 1),\n",
        " (datetime.datetime(2014, 4, 2, 12, 12), u'wt2at', 2, 1),\n",
        " (datetime.datetime(2014, 4, 2, 12, 12), u'wt2at', 2, 1),\n",
        " (datetime.datetime(2014, 4, 2, 12, 13), u'wt2at', 2, 1),\n",
        " (datetime.datetime(2014, 4, 2, 12, 13), u'wt2at', 2, 1),\n",
        " (datetime.datetime(2014, 4, 2, 12, 13), u'wt2at', 2, 1),\n",
        " (datetime.datetime(2014, 4, 2, 12, 13), u'wt2at', 2, 1),\n",
        " (datetime.datetime(2014, 4, 2, 12, 14), u'wt2at', 2, 1),\n",
        " (datetime.datetime(2014, 4, 2, 12, 14), u'wt2at', 2, 1),\n",
        " (datetime.datetime(2014, 4, 2, 12, 14), u'wt2at', 2, 1),\n",
        " (datetime.datetime(2014, 4, 2, 12, 14), u'wt2at', 2, 1),\n",
        " (datetime.datetime(2014, 4, 2, 12, 14), u'wt2at', 2, 1),\n",
        " (datetime.datetime(2014, 4, 2, 12, 15), u'wt2at', 2, 1),\n",
        " (datetime.datetime(2014, 4, 2, 12, 16), u'wt2at', 2, 1),\n",
        " (datetime.datetime(2014, 4, 2, 12, 16), u'wt2at', 2, 1),\n",
        " (datetime.datetime(2014, 4, 2, 12, 17), u'wt2at', 2, 1),\n",
        " (datetime.datetime(2014, 4, 2, 12, 17), u'wt2at', 2, 1),\n",
        " (datetime.datetime(2014, 4, 2, 12, 17), u'wt2at', 2, 1),\n",
        " (datetime.datetime(2014, 4, 2, 12, 18), u'wt2at', 2, 1),\n",
        " (datetime.datetime(2014, 4, 2, 12, 18), u'wt2at', 2, 1),\n",
        " (datetime.datetime(2014, 4, 2, 12, 19), u'wt2at', 2, 1),\n",
        " (datetime.datetime(2014, 4, 2, 12, 19), u'wt2at', 2, 1),\n",
        " (datetime.datetime(2014, 4, 2, 12, 19), u'wt2at', 2, 1),\n",
        " (datetime.datetime(2014, 4, 2, 12, 20), u'wt2at', 2, 1),\n",
        " (datetime.datetime(2014, 4, 2, 12, 20), u'wt2at', 2, 1),\n",
        " (datetime.datetime(2014, 4, 2, 12, 21), u'wt2at', 2, 1),\n",
        " (datetime.datetime(2014, 4, 2, 12, 21), u'wt2at', 2, 1),\n",
        " (datetime.datetime(2014, 4, 2, 12, 21), u'wt2at', 2, 1),\n",
        " (datetime.datetime(2014, 4, 2, 12, 21), u'wt2at', 2, 1),\n",
        " (datetime.datetime(2014, 4, 2, 12, 21), u'wt2at', 2, 1),\n",
        " (datetime.datetime(2014, 4, 2, 12, 21), u'wt2at', 2, 1),\n",
        " (datetime.datetime(2014, 4, 2, 12, 21), u'wt2at', 2, 1)]"
       ]
      }
     ],
     "prompt_number": 646
    },
    {
     "cell_type": "code",
     "collapsed": false,
     "input": [
      "def update_metadata(list_, **meta):\n",
      "    for p in list_:\n",
      "        p.metadata.update(meta)"
     ],
     "language": "python",
     "metadata": {},
     "outputs": [],
     "prompt_number": 150
    },
    {
     "cell_type": "code",
     "collapsed": false,
     "input": [
      "by_time = experiment.group_by(exp, lambda p: p['trap.refolding_time'])\n",
      "for rtime,pulls in by_time.iteritems():\n",
      "    pulls.plot(style='-', title='Refolding time %s' % rtime)"
     ],
     "language": "python",
     "metadata": {},
     "outputs": [],
     "prompt_number": 535
    },
    {
     "cell_type": "code",
     "collapsed": false,
     "input": [
      "fig('all')\n",
      "for rtime,pulls in by_time.iteritems():\n",
      "    c = next(fplot.COLOR)\n",
      "    line = ':' if pulls[0]['trap.datetime'] else '-'\n",
      "    fplot.plotall(pulls.get('trap'), style=c+':')"
     ],
     "language": "python",
     "metadata": {},
     "outputs": [],
     "prompt_number": 471
    },
    {
     "cell_type": "code",
     "collapsed": false,
     "input": [
      "short = experiment.List(sorted(by_time[.3], key=lambda p: p.trap.metadata['date']))\n",
      "short"
     ],
     "language": "python",
     "metadata": {},
     "outputs": [
      {
       "output_type": "pyout",
       "prompt_number": 489,
       "text": [
        "[0: <Experiment.Pulling from 'WT2at_0.5nM_s2m1_refold_0.3s_1_up'>\n",
        " 1: <Experiment.Pulling from 'WT2at_0.5nM_s2m1_refold_0.3s_10_up'>\n",
        " 2: <Experiment.Pulling from 'WT2at_0.5nM_s2m1_refold_0.3s_11_up'>\n",
        " 3: <Experiment.Pulling from 'WT2at_0.5nM_s2m1_refold_0.3s_12_up'>\n",
        " 4: <Experiment.Pulling from 'WT2at_0.5nM_s2m1_refold_0.3s_13_up'>\n",
        " 5: <Experiment.Pulling from 'WT2at_0.5nM_s2m1_refold_0.3s_14_up'>\n",
        " 6: <Experiment.Pulling from 'WT2at_0.5nM_s2m1_refold_0.3s_15_up'>\n",
        " 7: <Experiment.Pulling from 'WT2at_0.5nM_s2m1_refold_0.3s_16_up'>\n",
        " 8: <Experiment.Pulling from 'WT2at_0.5nM_s2m1_refold_0.3s_17_up'>\n",
        " 9: <Experiment.Pulling from 'WT2at_0.5nM_s2m1_refold_0.3s_18_up'>\n",
        " 10: <Experiment.Pulling from 'WT2at_0.5nM_s2m1_refold_0.3s_19_up'>\n",
        " 11: <Experiment.Pulling from 'WT2at_0.5nM_s2m1_refold_0.3s_2_up'>\n",
        " 12: <Experiment.Pulling from 'WT2at_0.5nM_s2m1_refold_0.3s_3_up'>\n",
        " 13: <Experiment.Pulling from 'WT2at_0.5nM_s2m1_refold_0.3s_4_up'>\n",
        " 14: <Experiment.Pulling from 'WT2at_0.5nM_s2m1_refold_0.3s_5_up'>\n",
        " 15: <Experiment.Pulling from 'WT2at_0.5nM_s2m1_refold_0.3s_6_up'>\n",
        " 16: <Experiment.Pulling from 'WT2at_0.5nM_s2m1_refold_0.3s_7_up'>\n",
        " 17: <Experiment.Pulling from 'WT2at_0.5nM_s2m1_refold_0.3s_8_up'>\n",
        " 18: <Experiment.Pulling from 'WT2at_0.5nM_s2m1_refold_0.3s_9_up'>]"
       ]
      }
     ],
     "prompt_number": 489
    },
    {
     "cell_type": "code",
     "collapsed": false,
     "input": [
      "fig('compare 0.3')\n",
      "fplot.plotall(short[:10].get('trap'), style='r')\n",
      "fplot.plotall(short[10:].get('trap'), style='g')"
     ],
     "language": "python",
     "metadata": {},
     "outputs": [],
     "prompt_number": 492
    },
    {
     "cell_type": "code",
     "collapsed": false,
     "input": [
      "from scipy.signal import medfilt"
     ],
     "language": "python",
     "metadata": {},
     "outputs": [],
     "prompt_number": 15
    },
    {
     "cell_type": "code",
     "collapsed": false,
     "input": [
      "fig('pulling rate')\n",
      "f_rate_l = []\n",
      "for p in exp:\n",
      "    f_rate=diff(p.trap.f)/p['trap.sampling_time']\n",
      "    plot(p.trap.ext[:-1],\n",
      "     medfilt(f_rate,15),\n",
      "     '.', markersize=2\n",
      "     )\n",
      "    f_rate_l.append(medfilt(f_rate[:390],5))\n",
      "plot(p.trap.ext[:390], mean(f_rate_l, axis=0), '-' )"
     ],
     "language": "python",
     "metadata": {},
     "outputs": [
      {
       "output_type": "pyout",
       "prompt_number": 23,
       "text": [
        "[<matplotlib.lines.Line2D at 0x118b24510>]"
       ]
      }
     ],
     "prompt_number": 23
    },
    {
     "cell_type": "code",
     "collapsed": false,
     "input": [
      "for p in exp_fret:\n",
      "    p['fret.exposurems'] = int(p['fret.exposure_time']*1000)"
     ],
     "language": "python",
     "metadata": {},
     "outputs": [],
     "prompt_number": 542
    },
    {
     "cell_type": "code",
     "collapsed": false,
     "input": [
      "p = next(exp_fret)"
     ],
     "language": "python",
     "metadata": {},
     "outputs": [],
     "prompt_number": 537
    },
    {
     "cell_type": "code",
     "collapsed": false,
     "input": [
      "p.plot(style=fplot.PlotStyle())\n",
      "fig('seg')\n",
      "plot_segmented(p, exp=exp, title=p.filename)"
     ],
     "language": "python",
     "metadata": {},
     "outputs": [],
     "prompt_number": 544
    },
    {
     "cell_type": "code",
     "collapsed": false,
     "input": [
      "plot_segmented(p, exp=exp, title=p.filename)"
     ],
     "language": "python",
     "metadata": {},
     "outputs": [],
     "prompt_number": 555
    },
    {
     "cell_type": "code",
     "collapsed": false,
     "input": [
      "fig('counts')\n",
      "t,d,a,f = p.fret\n",
      "fplot.plot_counts(*p.fret)\n",
      "xlim(xmax=t[-1])"
     ],
     "language": "python",
     "metadata": {},
     "outputs": [
      {
       "output_type": "pyout",
       "prompt_number": 443,
       "text": [
        "(0.0, 1.8600000000000001)"
       ]
      }
     ],
     "prompt_number": 443
    },
    {
     "cell_type": "code",
     "collapsed": false,
     "input": [
      "cddata()\n",
      "img = p.loadimg()\n",
      "img.addROI(don,acc)\n",
      "img.show()"
     ],
     "language": "python",
     "metadata": {},
     "outputs": [],
     "prompt_number": 380
    },
    {
     "cell_type": "code",
     "collapsed": false,
     "input": [
      "from itertools import cycle\n",
      "frame = cycle(range(img.frames))"
     ],
     "language": "python",
     "metadata": {},
     "outputs": [],
     "prompt_number": 406
    },
    {
     "cell_type": "code",
     "collapsed": false,
     "input": [
      "n = next(frame)\n",
      "img.show(n)\n",
      "title('N = %d/%d' % (n,img.frames))"
     ],
     "language": "python",
     "metadata": {},
     "outputs": [
      {
       "output_type": "pyout",
       "prompt_number": 437,
       "text": [
        "<matplotlib.text.Text at 0x10e5b7910>"
       ]
      }
     ],
     "prompt_number": 437
    },
    {
     "cell_type": "code",
     "collapsed": false,
     "input": [
      "# Remove experiments with low donor levels\n",
      "min_donor_level = 1250\n",
      "exp_fret = exp_fret.has_value(fret_donor_atleast=min_donor_level)\n",
      "exp_fret.plot()"
     ],
     "language": "python",
     "metadata": {},
     "outputs": [
      {
       "output_type": "pyout",
       "prompt_number": 1214,
       "text": [
        "<smbanalyze.fplot.Figure at 0x1147abd90>"
       ]
      }
     ],
     "prompt_number": 1214
    },
    {
     "cell_type": "markdown",
     "metadata": {},
     "source": [
      "Align FEC\n",
      "------"
     ]
    },
    {
     "cell_type": "code",
     "collapsed": false,
     "input": [
      "align_to=pick_pt()"
     ],
     "language": "python",
     "metadata": {},
     "outputs": [],
     "prompt_number": 128
    },
    {
     "cell_type": "code",
     "collapsed": false,
     "input": [
      "to_align = exp"
     ],
     "language": "python",
     "metadata": {},
     "outputs": [],
     "prompt_number": 129
    },
    {
     "cell_type": "code",
     "collapsed": false,
     "input": [
      "exp.plot(FEC=True, show_fret=False, style='-')"
     ],
     "language": "python",
     "metadata": {},
     "outputs": [
      {
       "output_type": "pyout",
       "prompt_number": 126,
       "text": [
        "<smbanalyze.fplot.Figure at 0x1196ac210>"
       ]
      }
     ],
     "prompt_number": 126
    },
    {
     "cell_type": "code",
     "collapsed": false,
     "input": [
      "align_cutoff,f_cutoff = align_to\n",
      "f_range = (f_cutoff,f_cutoff+1)\n",
      "to_align = exp.has_value(trap_ext_atleast=align_cutoff)\n",
      "to_align.adjustOffset(force_x_range=(72,800), ext_f_range=f_range, ext_x_range=align_cutoff)\n",
      "exp.plot(show_fret=False, FEC=True, style='-')"
     ],
     "language": "python",
     "metadata": {},
     "outputs": [
      {
       "output_type": "pyout",
       "prompt_number": 130,
       "text": [
        "<smbanalyze.fplot.Figure at 0x1196ac210>"
       ]
      }
     ],
     "prompt_number": 130
    },
    {
     "cell_type": "code",
     "collapsed": false,
     "input": [
      "aux = experiment.List(set(exp) - set(to_align))\n",
      "aux"
     ],
     "language": "python",
     "metadata": {},
     "outputs": [
      {
       "ename": "NameError",
       "evalue": "name 'to_align' is not defined",
       "output_type": "pyerr",
       "traceback": [
        "\u001b[0;31m---------------------------------------------------------------------------\u001b[0m\n\u001b[0;31mNameError\u001b[0m                                 Traceback (most recent call last)",
        "\u001b[0;32m<ipython-input-16-93cd99dbebbd>\u001b[0m in \u001b[0;36m<module>\u001b[0;34m()\u001b[0m\n\u001b[0;32m----> 1\u001b[0;31m \u001b[0maux\u001b[0m \u001b[0;34m=\u001b[0m \u001b[0mexperiment\u001b[0m\u001b[0;34m.\u001b[0m\u001b[0mList\u001b[0m\u001b[0;34m(\u001b[0m\u001b[0mset\u001b[0m\u001b[0;34m(\u001b[0m\u001b[0mexp\u001b[0m\u001b[0;34m)\u001b[0m \u001b[0;34m-\u001b[0m \u001b[0mset\u001b[0m\u001b[0;34m(\u001b[0m\u001b[0mto_align\u001b[0m\u001b[0;34m)\u001b[0m\u001b[0;34m)\u001b[0m\u001b[0;34m\u001b[0m\u001b[0m\n\u001b[0m\u001b[1;32m      2\u001b[0m \u001b[0maux\u001b[0m\u001b[0;34m\u001b[0m\u001b[0m\n",
        "\u001b[0;31mNameError\u001b[0m: name 'to_align' is not defined"
       ]
      }
     ],
     "prompt_number": 16
    },
    {
     "cell_type": "code",
     "collapsed": false,
     "input": [
      "def force_align(to_align, to_align_to, f_range, force_x_range=(720,770)):\n",
      "    to_x = mean([p.trap.select(f=f_range).ext.mean() for p in to_align_to])\n",
      "    to_align.adjustOffset(to_x=to_x, force_x_range=force_x_range, ext_f_range=f_range)\n",
      "    return to_align"
     ],
     "language": "python",
     "metadata": {},
     "outputs": [],
     "prompt_number": 22
    },
    {
     "cell_type": "code",
     "collapsed": false,
     "input": [
      "force_align(exp, exp[:1], (4,5))"
     ],
     "language": "python",
     "metadata": {},
     "outputs": [
      {
       "output_type": "pyout",
       "prompt_number": 26,
       "text": [
        "[0: <Experiment.Pulling from 'WT2AL_0.5nM_s1m1'>\n",
        " 1: <Experiment.Pulling from 'WT2AL_0.5nM_s1m1_3'>\n",
        " 2: <Experiment.Pulling from 'WT2AL_0.5nM_s1m10'>\n",
        " 3: <Experiment.Pulling from 'WT2AL_0.5nM_s1m10_2'>\n",
        " 4: <Experiment.Pulling from 'WT2AL_0.5nM_s1m10_3'>\n",
        " 5: <Experiment.Pulling from 'WT2AL_0.5nM_s1m11'>\n",
        " 6: <Experiment.Pulling from 'WT2AL_0.5nM_s1m11_2'>\n",
        " 7: <Experiment.Pulling from 'WT2AL_0.5nM_s1m12'>\n",
        " 8: <Experiment.Pulling from 'WT2AL_0.5nM_s1m12_2'>\n",
        " 9: <Experiment.Pulling from 'WT2AL_0.5nM_s1m2'>\n",
        " 10: <Experiment.Pulling from 'WT2AL_0.5nM_s1m2_2'>\n",
        " 11: <Experiment.Pulling from 'WT2AL_0.5nM_s1m3'>\n",
        " 12: <Experiment.Pulling from 'WT2AL_0.5nM_s1m3_2'>\n",
        " 13: <Experiment.Pulling from 'WT2AL_0.5nM_s1m4'>\n",
        " 14: <Experiment.Pulling from 'WT2AL_0.5nM_s1m4_2'>\n",
        " 15: <Experiment.Pulling from 'WT2AL_0.5nM_s1m4_3'>\n",
        " 16: <Experiment.Pulling from 'WT2AL_0.5nM_s1m5'>\n",
        " 17: <Experiment.Pulling from 'WT2AL_0.5nM_s1m5_2'>\n",
        " 18: <Experiment.Pulling from 'WT2AL_0.5nM_s1m6'>\n",
        " 19: <Experiment.Pulling from 'WT2AL_0.5nM_s1m6_2'>\n",
        " 20: <Experiment.Pulling from 'WT2AL_0.5nM_s1m7'>\n",
        " 21: <Experiment.Pulling from 'WT2AL_0.5nM_s1m7_2'>\n",
        " 22: <Experiment.Pulling from 'WT2AL_0.5nM_s1m8'>\n",
        " 23: <Experiment.Pulling from 'WT2AL_0.5nM_s1m8_2'>\n",
        " 24: <Experiment.Pulling from 'WT2AL_0.5nM_s1m9'>\n",
        " 25: <Experiment.Pulling from 'WT2AL_0.5nM_s1m9_2'>]"
       ]
      }
     ],
     "prompt_number": 26
    },
    {
     "cell_type": "code",
     "collapsed": false,
     "input": [
      "f_range = (6,7)\n",
      "to_x = mean([p.trap.select(f=f_range).ext.mean() for p in to_align])\n",
      "aux.adjustOffset(to_x=to_x, force_x_range=(700,800), ext_f_range=f_range)\n",
      "exp.plot(show_fret=False, FEC=True, style='-')"
     ],
     "language": "python",
     "metadata": {},
     "outputs": [
      {
       "ename": "NameError",
       "evalue": "name 'to_align' is not defined",
       "output_type": "pyerr",
       "traceback": [
        "\u001b[0;31m---------------------------------------------------------------------------\u001b[0m\n\u001b[0;31mNameError\u001b[0m                                 Traceback (most recent call last)",
        "\u001b[0;32m<ipython-input-18-55f756ee2870>\u001b[0m in \u001b[0;36m<module>\u001b[0;34m()\u001b[0m\n\u001b[1;32m      1\u001b[0m \u001b[0mf_range\u001b[0m \u001b[0;34m=\u001b[0m \u001b[0;34m(\u001b[0m\u001b[0;36m6\u001b[0m\u001b[0;34m,\u001b[0m\u001b[0;36m7\u001b[0m\u001b[0;34m)\u001b[0m\u001b[0;34m\u001b[0m\u001b[0m\n\u001b[0;32m----> 2\u001b[0;31m \u001b[0mto_x\u001b[0m \u001b[0;34m=\u001b[0m \u001b[0mmean\u001b[0m\u001b[0;34m(\u001b[0m\u001b[0;34m[\u001b[0m\u001b[0mp\u001b[0m\u001b[0;34m.\u001b[0m\u001b[0mtrap\u001b[0m\u001b[0;34m.\u001b[0m\u001b[0mselect\u001b[0m\u001b[0;34m(\u001b[0m\u001b[0mf\u001b[0m\u001b[0;34m=\u001b[0m\u001b[0mf_range\u001b[0m\u001b[0;34m)\u001b[0m\u001b[0;34m.\u001b[0m\u001b[0mext\u001b[0m\u001b[0;34m.\u001b[0m\u001b[0mmean\u001b[0m\u001b[0;34m(\u001b[0m\u001b[0;34m)\u001b[0m \u001b[0;32mfor\u001b[0m \u001b[0mp\u001b[0m \u001b[0;32min\u001b[0m \u001b[0mto_align\u001b[0m\u001b[0;34m]\u001b[0m\u001b[0;34m)\u001b[0m\u001b[0;34m\u001b[0m\u001b[0m\n\u001b[0m\u001b[1;32m      3\u001b[0m \u001b[0maux\u001b[0m\u001b[0;34m.\u001b[0m\u001b[0madjustOffset\u001b[0m\u001b[0;34m(\u001b[0m\u001b[0mto_x\u001b[0m\u001b[0;34m=\u001b[0m\u001b[0mto_x\u001b[0m\u001b[0;34m,\u001b[0m \u001b[0mforce_x_range\u001b[0m\u001b[0;34m=\u001b[0m\u001b[0;34m(\u001b[0m\u001b[0;36m720\u001b[0m\u001b[0;34m,\u001b[0m\u001b[0;36m770\u001b[0m\u001b[0;34m)\u001b[0m\u001b[0;34m,\u001b[0m \u001b[0mext_f_range\u001b[0m\u001b[0;34m=\u001b[0m\u001b[0mf_range\u001b[0m\u001b[0;34m)\u001b[0m\u001b[0;34m\u001b[0m\u001b[0m\n\u001b[1;32m      4\u001b[0m \u001b[0mexp\u001b[0m\u001b[0;34m.\u001b[0m\u001b[0mplot\u001b[0m\u001b[0;34m(\u001b[0m\u001b[0mshow_fret\u001b[0m\u001b[0;34m=\u001b[0m\u001b[0mFalse\u001b[0m\u001b[0;34m,\u001b[0m \u001b[0mFEC\u001b[0m\u001b[0;34m=\u001b[0m\u001b[0mTrue\u001b[0m\u001b[0;34m,\u001b[0m \u001b[0mstyle\u001b[0m\u001b[0;34m=\u001b[0m\u001b[0;34m'-'\u001b[0m\u001b[0;34m)\u001b[0m\u001b[0;34m\u001b[0m\u001b[0m\n",
        "\u001b[0;31mNameError\u001b[0m: name 'to_align' is not defined"
       ]
      }
     ],
     "prompt_number": 18
    },
    {
     "cell_type": "code",
     "collapsed": false,
     "input": [
      "title(fig_name+\" FEC\")\n",
      "savefig(fig_name+\" FEC.png\")"
     ],
     "language": "python",
     "metadata": {},
     "outputs": [],
     "prompt_number": 1155
    },
    {
     "cell_type": "markdown",
     "metadata": {},
     "source": [
      "Looking at "
     ]
    },
    {
     "cell_type": "markdown",
     "metadata": {},
     "source": [
      "Clean up images\n",
      "------"
     ]
    },
    {
     "cell_type": "code",
     "collapsed": false,
     "input": [
      "img = p.loadimg(background=bg)\n",
      "don,acc = image.ROI.fromFile(roi_file)\n",
      "img.addROI(don,acc)\n",
      "img.show()"
     ],
     "language": "python",
     "metadata": {},
     "outputs": [],
     "prompt_number": 597
    },
    {
     "cell_type": "code",
     "collapsed": false,
     "input": [
      "bg_pixel = 3.5\n",
      "beta,gamma = 0.13,1\n",
      "don = fcalc.counts_from_image(img, rois[0], bg_pixel)\n",
      "acc = fcalc.counts_from_image(img, rois[1], bg_pixel)\n",
      "d,a,e = fcalc.calculate(don, acc, beta, gamma)\n",
      "\n",
      "counts=fig('counts')\n",
      "fplot.plot_counts(d,a,e)"
     ],
     "language": "python",
     "metadata": {},
     "outputs": [],
     "prompt_number": 1438
    },
    {
     "cell_type": "code",
     "collapsed": false,
     "input": [
      "fplot.plot_counts(img.donor,img.acceptor,p.fret.fret)"
     ],
     "language": "python",
     "metadata": {},
     "outputs": [],
     "prompt_number": 1198
    },
    {
     "cell_type": "code",
     "collapsed": false,
     "input": [
      "to_explore = exp_fret"
     ],
     "language": "python",
     "metadata": {},
     "outputs": [],
     "prompt_number": 590
    },
    {
     "cell_type": "code",
     "collapsed": false,
     "input": [
      "#fg.close()\n",
      "p.figure.close()\n",
      "close(p.filename+'_')\n",
      "p = next(to_explore)\n",
      "\n",
      "if p.fret:\n",
      "    p.plot(FEC=False, style=fplot.PlotStyle())\n",
      "    seg=fig(p.filename+'_')\n",
      "    plot_segmented(p, title=p.filename, exp=exp)\n",
      "    counts=fig('counts')\n",
      "    t,d,a,e = p.fret\n",
      "    fplot.plot_counts(d, a, e)\n",
      "else:\n",
      "    p.plot(FEC=True)"
     ],
     "language": "python",
     "metadata": {},
     "outputs": [],
     "prompt_number": 594
    },
    {
     "cell_type": "code",
     "collapsed": false,
     "input": [
      "p.fret = FretData.fromFields(img.time,d,a,e)"
     ],
     "language": "python",
     "metadata": {},
     "outputs": [],
     "prompt_number": 1448
    },
    {
     "cell_type": "code",
     "collapsed": false,
     "input": [
      "counts.figure.savefig(date_+p.filename+\" fret.png\")\n",
      "seg.figure.savefig(date_+p.filename+\" rainbow.png\")\n",
      "fcalc.toFile( date_+p.filename+'.fret', img.time, d, a, e, img.metadata)"
     ],
     "language": "python",
     "metadata": {},
     "outputs": [],
     "prompt_number": 1449
    },
    {
     "cell_type": "code",
     "collapsed": false,
     "input": [
      "experiment.fromMatch('s2m5','refold','up').has('fret')[2]['trap.refolding_time']"
     ],
     "language": "python",
     "metadata": {},
     "outputs": [
      {
       "output_type": "pyout",
       "prompt_number": 1456,
       "text": [
        "1.0"
       ]
      }
     ],
     "prompt_number": 1456
    },
    {
     "cell_type": "code",
     "collapsed": false,
     "input": [
      "notes = {'donor': 'bright', \n",
      "'acceptor': 'ok',\n",
      "'bind_tpp': 0\n",
      "}"
     ],
     "language": "python",
     "metadata": {},
     "outputs": [],
     "prompt_number": 1413
    },
    {
     "cell_type": "code",
     "collapsed": false,
     "input": [
      "p_db = datadb.tpp.find_one({'filename': p['filename'], 'date': p['date']})"
     ],
     "language": "python",
     "metadata": {},
     "outputs": [],
     "prompt_number": 1418
    },
    {
     "cell_type": "code",
     "collapsed": false,
     "input": [
      "p_db['experiment'] = p\n",
      "p_db.update(notes)\n",
      "datadb.tpp.save(p_db)"
     ],
     "language": "python",
     "metadata": {},
     "outputs": [
      {
       "ename": "InvalidDocument",
       "evalue": "Cannot encode object: <Experiment.Pulling from 'WT2at_200pM_s2m3_refold_0.5s_2_up'>",
       "output_type": "pyerr",
       "traceback": [
        "\u001b[0;31m---------------------------------------------------------------------------\u001b[0m\n\u001b[0;31mInvalidDocument\u001b[0m                           Traceback (most recent call last)",
        "\u001b[0;32m<ipython-input-1421-1d0bc4ddb5cf>\u001b[0m in \u001b[0;36m<module>\u001b[0;34m()\u001b[0m\n\u001b[1;32m      1\u001b[0m \u001b[0mp_db\u001b[0m\u001b[0;34m[\u001b[0m\u001b[0;34m'experiment'\u001b[0m\u001b[0;34m]\u001b[0m \u001b[0;34m=\u001b[0m \u001b[0mp\u001b[0m\u001b[0;34m\u001b[0m\u001b[0m\n\u001b[1;32m      2\u001b[0m \u001b[0mp_db\u001b[0m\u001b[0;34m.\u001b[0m\u001b[0mupdate\u001b[0m\u001b[0;34m(\u001b[0m\u001b[0mnotes\u001b[0m\u001b[0;34m)\u001b[0m\u001b[0;34m\u001b[0m\u001b[0m\n\u001b[0;32m----> 3\u001b[0;31m \u001b[0mdatadb\u001b[0m\u001b[0;34m.\u001b[0m\u001b[0mtpp\u001b[0m\u001b[0;34m.\u001b[0m\u001b[0msave\u001b[0m\u001b[0;34m(\u001b[0m\u001b[0mp_db\u001b[0m\u001b[0;34m)\u001b[0m\u001b[0;34m\u001b[0m\u001b[0m\n\u001b[0m",
        "\u001b[0;32m/Library/Python/2.7/site-packages/pymongo/collection.pyc\u001b[0m in \u001b[0;36msave\u001b[0;34m(self, to_save, manipulate, safe, check_keys, **kwargs)\u001b[0m\n\u001b[1;32m    267\u001b[0m         \u001b[0;32melse\u001b[0m\u001b[0;34m:\u001b[0m\u001b[0;34m\u001b[0m\u001b[0m\n\u001b[1;32m    268\u001b[0m             self.update({\"_id\": to_save[\"_id\"]}, to_save, True,\n\u001b[0;32m--> 269\u001b[0;31m                         manipulate, safe, check_keys=check_keys, **kwargs)\n\u001b[0m\u001b[1;32m    270\u001b[0m             \u001b[0;32mreturn\u001b[0m \u001b[0mto_save\u001b[0m\u001b[0;34m.\u001b[0m\u001b[0mget\u001b[0m\u001b[0;34m(\u001b[0m\u001b[0;34m\"_id\"\u001b[0m\u001b[0;34m,\u001b[0m \u001b[0mNone\u001b[0m\u001b[0;34m)\u001b[0m\u001b[0;34m\u001b[0m\u001b[0m\n\u001b[1;32m    271\u001b[0m \u001b[0;34m\u001b[0m\u001b[0m\n",
        "\u001b[0;32m/Library/Python/2.7/site-packages/pymongo/collection.pyc\u001b[0m in \u001b[0;36mupdate\u001b[0;34m(self, spec, document, upsert, manipulate, safe, multi, check_keys, **kwargs)\u001b[0m\n\u001b[1;32m    485\u001b[0m             message.update(self.__full_name, upsert, multi,\n\u001b[1;32m    486\u001b[0m                            \u001b[0mspec\u001b[0m\u001b[0;34m,\u001b[0m \u001b[0mdocument\u001b[0m\u001b[0;34m,\u001b[0m \u001b[0msafe\u001b[0m\u001b[0;34m,\u001b[0m \u001b[0moptions\u001b[0m\u001b[0;34m,\u001b[0m\u001b[0;34m\u001b[0m\u001b[0m\n\u001b[0;32m--> 487\u001b[0;31m                            check_keys, self.__uuid_subtype), safe)\n\u001b[0m\u001b[1;32m    488\u001b[0m \u001b[0;34m\u001b[0m\u001b[0m\n\u001b[1;32m    489\u001b[0m     \u001b[0;32mdef\u001b[0m \u001b[0mdrop\u001b[0m\u001b[0;34m(\u001b[0m\u001b[0mself\u001b[0m\u001b[0;34m)\u001b[0m\u001b[0;34m:\u001b[0m\u001b[0;34m\u001b[0m\u001b[0m\n",
        "\u001b[0;31mInvalidDocument\u001b[0m: Cannot encode object: <Experiment.Pulling from 'WT2at_200pM_s2m3_refold_0.5s_2_up'>"
       ]
      }
     ],
     "prompt_number": 1421
    },
    {
     "cell_type": "code",
     "collapsed": false,
     "input": [
      "db.save_exp(datadb.tpp, p, notes)"
     ],
     "language": "python",
     "metadata": {},
     "outputs": [
      {
       "ename": "InvalidDocument",
       "evalue": "Cannot encode object: <Experiment.Pulling from 'WT2at_200pM_s2m3_refold_0.5s_2_up'>",
       "output_type": "pyerr",
       "traceback": [
        "\u001b[0;31m---------------------------------------------------------------------------\u001b[0m\n\u001b[0;31mInvalidDocument\u001b[0m                           Traceback (most recent call last)",
        "\u001b[0;32m<ipython-input-1422-9ef8c6207c9b>\u001b[0m in \u001b[0;36m<module>\u001b[0;34m()\u001b[0m\n\u001b[0;32m----> 1\u001b[0;31m \u001b[0mdb\u001b[0m\u001b[0;34m.\u001b[0m\u001b[0msave_exp\u001b[0m\u001b[0;34m(\u001b[0m\u001b[0mdatadb\u001b[0m\u001b[0;34m.\u001b[0m\u001b[0mtpp\u001b[0m\u001b[0;34m,\u001b[0m \u001b[0mp\u001b[0m\u001b[0;34m,\u001b[0m \u001b[0mnotes\u001b[0m\u001b[0;34m)\u001b[0m\u001b[0;34m\u001b[0m\u001b[0m\n\u001b[0m",
        "\u001b[0;32m/Users/cfperez/Python/scientific/smbanalyze/db/api.pyc\u001b[0m in \u001b[0;36msave_exp\u001b[0;34m(db, exp, extra, **extra_)\u001b[0m\n\u001b[1;32m     82\u001b[0m     \u001b[0mto_insert\u001b[0m\u001b[0;34m.\u001b[0m\u001b[0mupdate\u001b[0m\u001b[0;34m(\u001b[0m\u001b[0mextra\u001b[0m\u001b[0;34m)\u001b[0m\u001b[0;34m\u001b[0m\u001b[0m\n\u001b[1;32m     83\u001b[0m     \u001b[0mto_insert\u001b[0m\u001b[0;34m.\u001b[0m\u001b[0mupdate\u001b[0m\u001b[0;34m(\u001b[0m\u001b[0mextra_\u001b[0m\u001b[0;34m)\u001b[0m\u001b[0;34m\u001b[0m\u001b[0m\n\u001b[0;32m---> 84\u001b[0;31m     \u001b[0mdb\u001b[0m\u001b[0;34m.\u001b[0m\u001b[0msave\u001b[0m\u001b[0;34m(\u001b[0m\u001b[0mto_insert\u001b[0m\u001b[0;34m)\u001b[0m\u001b[0;34m\u001b[0m\u001b[0m\n\u001b[0m\u001b[1;32m     85\u001b[0m \u001b[0;34m\u001b[0m\u001b[0m\n\u001b[1;32m     86\u001b[0m \u001b[0;32mdef\u001b[0m \u001b[0msave_all\u001b[0m\u001b[0;34m(\u001b[0m\u001b[0mdb\u001b[0m\u001b[0;34m,\u001b[0m \u001b[0mexps\u001b[0m\u001b[0;34m,\u001b[0m \u001b[0mextra\u001b[0m\u001b[0;34m=\u001b[0m\u001b[0;34m{\u001b[0m\u001b[0;34m}\u001b[0m\u001b[0;34m,\u001b[0m \u001b[0;34m**\u001b[0m\u001b[0mextra_\u001b[0m\u001b[0;34m)\u001b[0m\u001b[0;34m:\u001b[0m\u001b[0;34m\u001b[0m\u001b[0m\n",
        "\u001b[0;32m/Library/Python/2.7/site-packages/pymongo/collection.pyc\u001b[0m in \u001b[0;36msave\u001b[0;34m(self, to_save, manipulate, safe, check_keys, **kwargs)\u001b[0m\n\u001b[1;32m    264\u001b[0m \u001b[0;34m\u001b[0m\u001b[0m\n\u001b[1;32m    265\u001b[0m         \u001b[0;32mif\u001b[0m \u001b[0;34m\"_id\"\u001b[0m \u001b[0;32mnot\u001b[0m \u001b[0;32min\u001b[0m \u001b[0mto_save\u001b[0m\u001b[0;34m:\u001b[0m\u001b[0;34m\u001b[0m\u001b[0m\n\u001b[0;32m--> 266\u001b[0;31m             \u001b[0;32mreturn\u001b[0m \u001b[0mself\u001b[0m\u001b[0;34m.\u001b[0m\u001b[0minsert\u001b[0m\u001b[0;34m(\u001b[0m\u001b[0mto_save\u001b[0m\u001b[0;34m,\u001b[0m \u001b[0mmanipulate\u001b[0m\u001b[0;34m,\u001b[0m \u001b[0msafe\u001b[0m\u001b[0;34m,\u001b[0m \u001b[0mcheck_keys\u001b[0m\u001b[0;34m,\u001b[0m \u001b[0;34m**\u001b[0m\u001b[0mkwargs\u001b[0m\u001b[0;34m)\u001b[0m\u001b[0;34m\u001b[0m\u001b[0m\n\u001b[0m\u001b[1;32m    267\u001b[0m         \u001b[0;32melse\u001b[0m\u001b[0;34m:\u001b[0m\u001b[0;34m\u001b[0m\u001b[0m\n\u001b[1;32m    268\u001b[0m             self.update({\"_id\": to_save[\"_id\"]}, to_save, True,\n",
        "\u001b[0;32m/Library/Python/2.7/site-packages/pymongo/collection.pyc\u001b[0m in \u001b[0;36minsert\u001b[0;34m(self, doc_or_docs, manipulate, safe, check_keys, continue_on_error, **kwargs)\u001b[0m\n\u001b[1;32m    360\u001b[0m                                    \u001b[0mcheck_keys\u001b[0m\u001b[0;34m,\u001b[0m \u001b[0msafe\u001b[0m\u001b[0;34m,\u001b[0m \u001b[0moptions\u001b[0m\u001b[0;34m,\u001b[0m\u001b[0;34m\u001b[0m\u001b[0m\n\u001b[1;32m    361\u001b[0m                                    \u001b[0mcontinue_on_error\u001b[0m\u001b[0;34m,\u001b[0m \u001b[0mself\u001b[0m\u001b[0;34m.\u001b[0m\u001b[0m__uuid_subtype\u001b[0m\u001b[0;34m,\u001b[0m\u001b[0;34m\u001b[0m\u001b[0m\n\u001b[0;32m--> 362\u001b[0;31m                                    self.database.connection)\n\u001b[0m\u001b[1;32m    363\u001b[0m \u001b[0;34m\u001b[0m\u001b[0m\n\u001b[1;32m    364\u001b[0m         \u001b[0mids\u001b[0m \u001b[0;34m=\u001b[0m \u001b[0;34m[\u001b[0m\u001b[0mdoc\u001b[0m\u001b[0;34m.\u001b[0m\u001b[0mget\u001b[0m\u001b[0;34m(\u001b[0m\u001b[0;34m\"_id\"\u001b[0m\u001b[0;34m,\u001b[0m \u001b[0mNone\u001b[0m\u001b[0;34m)\u001b[0m \u001b[0;32mfor\u001b[0m \u001b[0mdoc\u001b[0m \u001b[0;32min\u001b[0m \u001b[0mdocs\u001b[0m\u001b[0;34m]\u001b[0m\u001b[0;34m\u001b[0m\u001b[0m\n",
        "\u001b[0;31mInvalidDocument\u001b[0m: Cannot encode object: <Experiment.Pulling from 'WT2at_200pM_s2m3_refold_0.5s_2_up'>"
       ]
      }
     ],
     "prompt_number": 1422
    },
    {
     "cell_type": "code",
     "collapsed": false,
     "input": [
      "unbound,bound = split_pulls_at_point(exp, pick_pts()[0])"
     ],
     "language": "python",
     "metadata": {},
     "outputs": [],
     "prompt_number": 142
    },
    {
     "cell_type": "code",
     "collapsed": false,
     "input": [
      "len(bound)/( len(unbound) + len(bound) + 0.)"
     ],
     "language": "python",
     "metadata": {},
     "outputs": [
      {
       "output_type": "pyout",
       "prompt_number": 143,
       "text": [
        "0.8529411764705882"
       ]
      }
     ],
     "prompt_number": 143
    },
    {
     "cell_type": "code",
     "collapsed": false,
     "input": [
      "from operator import itemgetter\n",
      "def getter(exps, *fields):\n",
      "    return map(itemgetter(*fields), exps)\n",
      "getter(exp, 'trap.sampling_time', 'trap.step_size')"
     ],
     "language": "python",
     "metadata": {},
     "outputs": [
      {
       "output_type": "pyout",
       "prompt_number": 55,
       "text": [
        "[(0.00625, 1.181),\n",
        " (0.00625, 1.181),\n",
        " (0.00625, 1.181),\n",
        " (0.00625, 1.181),\n",
        " (0.00625, 1.181),\n",
        " (0.00625, 1.181),\n",
        " (0.00625, 1.181),\n",
        " (0.00625, 1.181),\n",
        " (0.00625, 1.181),\n",
        " (0.00625, 1.181),\n",
        " (0.00625, 1.181),\n",
        " (0.00625, 1.181),\n",
        " (0.00625, 1.181),\n",
        " (0.00625, 1.181),\n",
        " (0.00625, 1.181),\n",
        " (0.00625, 1.181),\n",
        " (0.00625, 1.181),\n",
        " (0.00625, 1.181),\n",
        " (0.00625, 1.181),\n",
        " (0.00625, 1.181),\n",
        " (0.00625, 1.181),\n",
        " (0.00625, 1.181),\n",
        " (0.00625, 1.181),\n",
        " (0.00625, 1.181),\n",
        " (0.00625, 1.181),\n",
        " (0.00625, 1.181)]"
       ]
      }
     ],
     "prompt_number": 55
    },
    {
     "cell_type": "code",
     "collapsed": false,
     "input": [
      "weak,strong = split_pulls_at_point(bound, pick_pts()[0])"
     ],
     "language": "python",
     "metadata": {},
     "outputs": [],
     "prompt_number": 102
    },
    {
     "cell_type": "code",
     "collapsed": false,
     "input": [
      "strong.plot(style='-')"
     ],
     "language": "python",
     "metadata": {},
     "outputs": [
      {
       "output_type": "pyout",
       "prompt_number": 104,
       "text": [
        "<smbanalyze.fplot.Figure at 0x10c843490>"
       ]
      }
     ],
     "prompt_number": 104
    },
    {
     "cell_type": "code",
     "collapsed": false,
     "input": [
      "for p in exp:\n",
      "    s,m = map(int, re.search(r's(\\d+)m(\\d+)', p.filename).groups())\n",
      "    p.metadata.update(slide_id=s, mol_id=m)"
     ],
     "language": "python",
     "metadata": {},
     "outputs": [],
     "prompt_number": 115
    },
    {
     "cell_type": "code",
     "collapsed": false,
     "input": [
      "for p in datadb.tpp.find({'construct': \"WT2AL\"}):\n",
      "    fname = p['filename']\n",
      "    s,m = map(int, re.search(r's(\\d+)m(\\d+)', fname).groups())\n",
      "    p['slide_id'] = s\n",
      "    p['mol_id'] = m\n",
      "    datadb.tpp.save(p)"
     ],
     "language": "python",
     "metadata": {},
     "outputs": [],
     "prompt_number": 126
    },
    {
     "cell_type": "code",
     "collapsed": false,
     "input": [
      "[(p['date'],p.filename) for p in exp]"
     ],
     "language": "python",
     "metadata": {},
     "outputs": [
      {
       "output_type": "pyout",
       "prompt_number": 89,
       "text": [
        "[(datetime.datetime(2014, 2, 21, 11, 43), 'WT2AL_0.5nM_s1m1'),\n",
        " (datetime.datetime(2014, 2, 21, 11, 44), 'WT2AL_0.5nM_s1m1_3'),\n",
        " (datetime.datetime(2014, 2, 21, 12, 44), 'WT2AL_0.5nM_s1m10'),\n",
        " (datetime.datetime(2014, 2, 21, 12, 44), 'WT2AL_0.5nM_s1m10_2'),\n",
        " (datetime.datetime(2014, 2, 21, 12, 44), 'WT2AL_0.5nM_s1m10_3'),\n",
        " (datetime.datetime(2014, 2, 21, 12, 55), 'WT2AL_0.5nM_s1m11'),\n",
        " (datetime.datetime(2014, 2, 21, 12, 56), 'WT2AL_0.5nM_s1m11_2'),\n",
        " (datetime.datetime(2014, 2, 21, 13, 1), 'WT2AL_0.5nM_s1m12'),\n",
        " (datetime.datetime(2014, 2, 21, 13, 2), 'WT2AL_0.5nM_s1m12_2'),\n",
        " (datetime.datetime(2014, 2, 21, 11, 59), 'WT2AL_0.5nM_s1m2'),\n",
        " (datetime.datetime(2014, 2, 21, 12, 0), 'WT2AL_0.5nM_s1m2_2'),\n",
        " (datetime.datetime(2014, 2, 21, 12, 5), 'WT2AL_0.5nM_s1m3'),\n",
        " (datetime.datetime(2014, 2, 21, 12, 6), 'WT2AL_0.5nM_s1m3_2'),\n",
        " (datetime.datetime(2014, 2, 21, 12, 10), 'WT2AL_0.5nM_s1m4'),\n",
        " (datetime.datetime(2014, 2, 21, 12, 10), 'WT2AL_0.5nM_s1m4_2'),\n",
        " (datetime.datetime(2014, 2, 21, 12, 11), 'WT2AL_0.5nM_s1m4_3'),\n",
        " (datetime.datetime(2014, 2, 21, 12, 15), 'WT2AL_0.5nM_s1m5'),\n",
        " (datetime.datetime(2014, 2, 21, 12, 15), 'WT2AL_0.5nM_s1m5_2'),\n",
        " (datetime.datetime(2014, 2, 21, 12, 24), 'WT2AL_0.5nM_s1m6'),\n",
        " (datetime.datetime(2014, 2, 21, 12, 24), 'WT2AL_0.5nM_s1m6_2'),\n",
        " (datetime.datetime(2014, 2, 21, 12, 30), 'WT2AL_0.5nM_s1m7'),\n",
        " (datetime.datetime(2014, 2, 21, 12, 30), 'WT2AL_0.5nM_s1m7_2'),\n",
        " (datetime.datetime(2014, 2, 21, 12, 37), 'WT2AL_0.5nM_s1m8'),\n",
        " (datetime.datetime(2014, 2, 21, 12, 37), 'WT2AL_0.5nM_s1m8_2'),\n",
        " (datetime.datetime(2014, 2, 21, 12, 42), 'WT2AL_0.5nM_s1m9'),\n",
        " (datetime.datetime(2014, 2, 21, 12, 42), 'WT2AL_0.5nM_s1m9_2')]"
       ]
      }
     ],
     "prompt_number": 89
    },
    {
     "cell_type": "code",
     "collapsed": false,
     "input": [
      "db.save_all(datadb.tpp, exp)"
     ],
     "language": "python",
     "metadata": {},
     "outputs": [],
     "prompt_number": 168
    },
    {
     "cell_type": "code",
     "collapsed": false,
     "input": [
      "db.save_all(datadb.tpp, unbound, bind_tpp=0)\n",
      "db.save_all(datadb.tpp, weak, bind_tpp=1)\n",
      "db.save_all(datadb.tpp, strong, bind_tpp=2)"
     ],
     "language": "python",
     "metadata": {},
     "outputs": [],
     "prompt_number": 105
    },
    {
     "cell_type": "code",
     "collapsed": false,
     "input": [
      "db.save_all(datadb.tpp, unbound, bind_tpp=0)\n",
      "db.save_all(datadb.tpp, bound, bind_tpp=1)"
     ],
     "language": "python",
     "metadata": {},
     "outputs": [],
     "prompt_number": 144
    },
    {
     "cell_type": "code",
     "collapsed": false,
     "input": [
      "title(fig_name)"
     ],
     "language": "python",
     "metadata": {},
     "outputs": [
      {
       "output_type": "pyout",
       "prompt_number": 1926,
       "text": [
        "<matplotlib.text.Text at 0x11522a9d0>"
       ]
      }
     ],
     "prompt_number": 1926
    },
    {
     "cell_type": "code",
     "collapsed": false,
     "input": [
      "cdanl()\n",
      "exp.savefig(fig_name)"
     ],
     "language": "python",
     "metadata": {},
     "outputs": [],
     "prompt_number": 1930
    },
    {
     "cell_type": "markdown",
     "metadata": {},
     "source": [
      "Refolding analysis\n",
      "----"
     ]
    },
    {
     "cell_type": "code",
     "collapsed": false,
     "input": [
      "for rtime in refold_dict:\n",
      "    mols = refold_dict[rtime]\n",
      "    mols.plot(style='-', show_fret=False, FEC=True, title='Time %.2f' % rtime)"
     ],
     "language": "python",
     "metadata": {},
     "outputs": [],
     "prompt_number": 157
    },
    {
     "cell_type": "code",
     "collapsed": false,
     "input": [
      "wt2at = db.get_exp(datadb.tpp, construct='WT2at')\n",
      "by_time = refolding.by_time(wt2at)\n",
      "print refolding.pretty_str(by_time)"
     ],
     "language": "python",
     "metadata": {},
     "outputs": [
      {
       "output_type": "stream",
       "stream": "stdout",
       "text": [
        "0.5s refolding | N = 5\n",
        "-------------------------\n",
        "[0: <Experiment.Pulling from 'WT2at_200pM_s2m3_refold_0.5s_1_up'>\n",
        " 1: <Experiment.Pulling from 'WT2at_200pM_s2m3_refold_0.5s_2_up'>\n",
        " 2: <Experiment.Pulling from 'WT2at_200pM_s2m3_refold_0.5s_3_up'>\n",
        " 3: <Experiment.Pulling from 'WT2at_200pM_s2m3_refold_0.5s_4_up'>\n",
        " 4: <Experiment.Pulling from 'WT2at_200pM_s2m3_refold_0.5s_5_up'>]\n",
        "\n",
        "1.0s refolding | N = 17\n",
        "-------------------------\n",
        "[0: <Experiment.Pulling from 'WT2at_200pM_s2m4_refold_1.0s_1_up'>\n",
        " 1: <Experiment.Pulling from 'WT2at_200pM_s2m4_refold_1.0s_10_up'>\n",
        " 2: <Experiment.Pulling from 'WT2at_200pM_s2m4_refold_1.0s_2_up'>\n",
        " 3: <Experiment.Pulling from 'WT2at_200pM_s2m4_refold_1.0s_3_up'>\n",
        " 4: <Experiment.Pulling from 'WT2at_200pM_s2m4_refold_1.0s_4_up'>\n",
        " 5: <Experiment.Pulling from 'WT2at_200pM_s2m4_refold_1.0s_5_up'>\n",
        " 6: <Experiment.Pulling from 'WT2at_200pM_s2m4_refold_1.0s_6_up'>\n",
        " 7: <Experiment.Pulling from 'WT2at_200pM_s2m4_refold_1.0s_7_up'>\n",
        " 8: <Experiment.Pulling from 'WT2at_200pM_s2m4_refold_1.0s_8_up'>\n",
        " 9: <Experiment.Pulling from 'WT2at_200pM_s2m4_refold_1.0s_9_up'>\n",
        " 10: <Experiment.Pulling from 'WT2at_200pM_s2m5_refold_1.0s_1_up'>\n",
        " 11: <Experiment.Pulling from 'WT2at_200pM_s2m5_refold_1.0s_2_up'>\n",
        " 12: <Experiment.Pulling from 'WT2at_200pM_s2m5_refold_1.0s_3_up'>\n",
        " 13: <Experiment.Pulling from 'WT2at_200pM_s2m5_refold_1.0s_4_up'>\n",
        " 14: <Experiment.Pulling from 'WT2at_200pM_s2m5_refold_1.0s_5_up'>\n",
        " 15: <Experiment.Pulling from 'WT2at_200pM_s2m5_refold_1.0s_6_up'>\n",
        " 16: <Experiment.Pulling from 'WT2at_200pM_s2m5_refold_1.0s_7_up'>]\n",
        "\n",
        "5.0s refolding | N = 5\n",
        "-------------------------\n",
        "[0: <Experiment.Pulling from 'WT2at_200pM_s2m3_refold_5.0s_1_up'>\n",
        " 1: <Experiment.Pulling from 'WT2at_200pM_s2m3_refold_5.0s_2_up'>\n",
        " 2: <Experiment.Pulling from 'WT2at_200pM_s2m3_refold_5.0s_3_up'>\n",
        " 3: <Experiment.Pulling from 'WT2at_200pM_s2m3_refold_5.0s_4_up'>\n",
        " 4: <Experiment.Pulling from 'WT2at_200pM_s2m3_refold_5.0s_5_up'>]\n",
        "\n",
        "0.1s refolding | N = 5\n",
        "-------------------------\n",
        "[0: <Experiment.Pulling from 'WT2at_500pM_s1m4_refold_0.1s_1_up'>\n",
        " 1: <Experiment.Pulling from 'WT2at_500pM_s1m4_refold_0.1s_2_up'>\n",
        " 2: <Experiment.Pulling from 'WT2at_500pM_s1m4_refold_0.1s_3_up'>\n",
        " 3: <Experiment.Pulling from 'WT2at_500pM_s1m4_refold_0.1s_4_up'>\n",
        " 4: <Experiment.Pulling from 'WT2at_500pM_s1m4_refold_0.1s_5_up'>]\n",
        "\n",
        "10.0s refolding | N = 10\n",
        "-------------------------\n",
        "[0: <Experiment.Pulling from 'WT2at_200pM_s2m3_refold_10.0s_1_up'>\n",
        " 1: <Experiment.Pulling from 'WT2at_200pM_s2m3_refold_10.0s_10_up'>\n",
        " 2: <Experiment.Pulling from 'WT2at_200pM_s2m3_refold_10.0s_2_up'>\n",
        " 3: <Experiment.Pulling from 'WT2at_200pM_s2m3_refold_10.0s_3_up'>\n",
        " 4: <Experiment.Pulling from 'WT2at_200pM_s2m3_refold_10.0s_4_up'>\n",
        " 5: <Experiment.Pulling from 'WT2at_200pM_s2m3_refold_10.0s_5_up'>\n",
        " 6: <Experiment.Pulling from 'WT2at_200pM_s2m3_refold_10.0s_6_up'>\n",
        " 7: <Experiment.Pulling from 'WT2at_200pM_s2m3_refold_10.0s_7_up'>\n",
        " 8: <Experiment.Pulling from 'WT2at_200pM_s2m3_refold_10.0s_8_up'>\n",
        " 9: <Experiment.Pulling from 'WT2at_200pM_s2m3_refold_10.0s_9_up'>]\n",
        "\n",
        "30.0s refolding | N = 5\n",
        "-------------------------\n",
        "[0: <Experiment.Pulling from 'WT2at_200pM_s2m3_refold_30.0s_1_up'>\n",
        " 1: <Experiment.Pulling from 'WT2at_200pM_s2m3_refold_30.0s_2_up'>\n",
        " 2: <Experiment.Pulling from 'WT2at_200pM_s2m3_refold_30.0s_3_up'>\n",
        " 3: <Experiment.Pulling from 'WT2at_200pM_s2m3_refold_30.0s_4_up'>\n",
        " 4: <Experiment.Pulling from 'WT2at_200pM_s2m3_refold_30.0s_5_up'>]\n",
        "\n",
        "\n"
       ]
      }
     ],
     "prompt_number": 1333
    },
    {
     "cell_type": "code",
     "collapsed": false,
     "input": [
      "for refoldtime,exps in by_time.items():\n",
      "    exps.plot(show_fret=False, FEC=True, style=':', title=\"Refolding time {}s\".format(refoldtime))"
     ],
     "language": "python",
     "metadata": {},
     "outputs": [],
     "prompt_number": 1384
    },
    {
     "cell_type": "code",
     "collapsed": false,
     "input": [
      "clf()\n",
      "wt2at.plot(show_fret=False, style='-')"
     ],
     "language": "python",
     "metadata": {},
     "outputs": [
      {
       "output_type": "pyout",
       "prompt_number": 1381,
       "text": [
        "<smbanalyze.fplot.Figure at 0x114f535d0>"
       ]
      }
     ],
     "prompt_number": 1381
    },
    {
     "cell_type": "code",
     "collapsed": false,
     "input": [
      "to_align = wt2at"
     ],
     "language": "python",
     "metadata": {},
     "outputs": [],
     "prompt_number": 1370
    },
    {
     "cell_type": "code",
     "collapsed": false,
     "input": [
      "mol=by_time[1]\n",
      "to_align = mol"
     ],
     "language": "python",
     "metadata": {},
     "outputs": [],
     "prompt_number": 1338
    },
    {
     "cell_type": "code",
     "collapsed": false,
     "input": [
      "f_range = (3,4)\n",
      "to_x = mean([p.trap.select(f=f_range).ext.mean() for p in to_align])\n",
      "to_align.adjustOffset(to_x=940, force_x_range=(720,750), ext_f_range=f_range, ext_x_range=(700,955))"
     ],
     "language": "python",
     "metadata": {},
     "outputs": [
      {
       "output_type": "pyout",
       "prompt_number": 1346,
       "text": [
        "([-14.624915827296945,\n",
        "  -11.833597449127751,\n",
        "  -16.957221719022755,\n",
        "  -15.377713972986157,\n",
        "  -11.978474176736086,\n",
        "  -7.1119605761147113,\n",
        "  -7.0539603788928389,\n",
        "  -15.598576509436612,\n",
        "  -16.08403347171884,\n",
        "  -13.060879746280989,\n",
        "  -13.550084171921981,\n",
        "  -13.090179215580974,\n",
        "  -15.580694113756863,\n",
        "  -15.008556052394283,\n",
        "  -17.044900276140083,\n",
        "  -13.831822198200939,\n",
        "  -18.215168855853562,\n",
        "  -16.873070023350351,\n",
        "  -16.672878181443366,\n",
        "  -16.258025104985222,\n",
        "  -13.410869501383218,\n",
        "  -14.224498817307335,\n",
        "  -16.707043138360973,\n",
        "  -13.995557266125616,\n",
        "  -14.71427837293902,\n",
        "  -13.171197170977621,\n",
        "  -14.376303732112092,\n",
        "  -13.995889129901911,\n",
        "  -12.893186040521186,\n",
        "  -12.021241318697093,\n",
        "  8.2512160045947667,\n",
        "  5.4084310876645532,\n",
        "  8.0808385811060361,\n",
        "  3.1537016805045823,\n",
        "  7.3376802315358418,\n",
        "  8.1061092370489405,\n",
        "  7.6698535941095543,\n",
        "  2.91875073741096,\n",
        "  6.6618743379361831,\n",
        "  1.7475279406484105,\n",
        "  -9.6327456508248588,\n",
        "  -12.894570797613596,\n",
        "  -1.3737330595429285,\n",
        "  -12.252281484687614,\n",
        "  -11.120398910285303,\n",
        "  -8.9067072315525593,\n",
        "  -5.0498625595120075,\n",
        "  0.88507047266432437,\n",
        "  -9.7398039989501513,\n",
        "  -8.1480115862726734,\n",
        "  -2.8449503407209704,\n",
        "  2.242592173504363],\n",
        " [0.021628853333333364,\n",
        "  -0.0056996179487179832,\n",
        "  0.018990382571428543,\n",
        "  0.042683151648351569,\n",
        "  0.016972870666666695,\n",
        "  0.054111390666666592,\n",
        "  0.022015205000000038,\n",
        "  -0.0097280391813187039,\n",
        "  0.039406756000000098,\n",
        "  -0.0035039866666668473,\n",
        "  0.017535854166666698,\n",
        "  -0.042077199333333315,\n",
        "  0.02000915466666664,\n",
        "  0.01077800000000001,\n",
        "  0.0067828799999999911,\n",
        "  0.014979341346153752,\n",
        "  -0.0038496970285712973,\n",
        "  0.00076824171428580001,\n",
        "  0.012306038133333363,\n",
        "  0.015864701333333397,\n",
        "  0.0011194533333335754,\n",
        "  0.024005906666666743,\n",
        "  0.015721439999999975,\n",
        "  -0.029712537142857376,\n",
        "  -0.0029103950000002321,\n",
        "  0.017639499999999808,\n",
        "  0.081409830533333338,\n",
        "  0.031396879999999905,\n",
        "  0.0079775733333333765,\n",
        "  -0.007420225641025735,\n",
        "  0.015823428571428544,\n",
        "  0.031670692307692427,\n",
        "  0.070065539999999982,\n",
        "  -0.053394750000000046,\n",
        "  -0.028588533333333332,\n",
        "  0.066289000000000209,\n",
        "  -0.012913641025640965,\n",
        "  0.0071653174999999347,\n",
        "  -0.012634426666666587,\n",
        "  0.024408120000000033,\n",
        "  0.014449066666666732,\n",
        "  -0.0097119749999998728,\n",
        "  0.028536933333333292,\n",
        "  0.020740400000000214,\n",
        "  0.037659410256410342,\n",
        "  -0.0040290666666666919,\n",
        "  -0.00057076923076926356,\n",
        "  0.015694685714286005,\n",
        "  0.035986299999999916,\n",
        "  -0.00057119999999999393,\n",
        "  -0.0027644000000000002,\n",
        "  0.034502800000000111])"
       ]
      }
     ],
     "prompt_number": 1346
    },
    {
     "cell_type": "code",
     "collapsed": false,
     "input": [
      "align_cutoff = 1075\n",
      "to_align = to_align.has_value(trap_ext_atleast=align_cutoff)\n",
      "to_align.adjustOffset(force_x_range=(720,770), ext_f_range=(28,33), ext_x_range=align_cutoff)"
     ],
     "language": "python",
     "metadata": {},
     "outputs": [
      {
       "output_type": "pyout",
       "prompt_number": 1378,
       "text": [
        "([0.61934244216922707,\n",
        "  0.43830244515447703,\n",
        "  -0.3140198478477032,\n",
        "  0.31445282335926095,\n",
        "  -0.16955920054192575,\n",
        "  -0.25960981892876589,\n",
        "  0.28003638949303422,\n",
        "  -0.21911860521254312,\n",
        "  -0.081711119756846529,\n",
        "  0.32149076538121335,\n",
        "  -0.38677940891579965,\n",
        "  -0.42686022989914818,\n",
        "  -0.64878293286233202,\n",
        "  -0.28377286605791596,\n",
        "  -0.72853661956105498,\n",
        "  -0.13081330609634279,\n",
        "  0.1045307314116144,\n",
        "  1.4758256555815024,\n",
        "  0.91804261996230707,\n",
        "  -0.22177583288316782,\n",
        "  -0.56033884330781802,\n",
        "  -0.4494355426832044,\n",
        "  -0.046157774314679045,\n",
        "  -0.089118605212433977,\n",
        "  -0.38368381783652694,\n",
        "  -0.26411860521216113,\n",
        "  -0.79840431949810409,\n",
        "  0.43047560602349222,\n",
        "  0.57979865769902972,\n",
        "  -0.49860178113408438,\n",
        "  0.53892321864555015,\n",
        "  0.34595297382293211,\n",
        "  -0.56986313129550581,\n",
        "  -0.16020454888598579,\n",
        "  0.085897654016662273,\n",
        "  -0.29167419973259712,\n",
        "  -0.12118475943179874,\n",
        "  -0.21940601772621449,\n",
        "  -0.13859945995568523,\n",
        "  -0.35627974717840516,\n",
        "  -0.32101436144716899,\n",
        "  -0.26895333036304692,\n",
        "  0.75805344030095512,\n",
        "  0.3792839869454383,\n",
        "  0.17228627614008474,\n",
        "  0.39189869395681853,\n",
        "  0.2793587468579517,\n",
        "  0.04841115669228202,\n",
        "  0.04972103737713951,\n",
        "  0.52102764719575134,\n",
        "  0.35526566559406092],\n",
        " [1.6653345369377348e-16,\n",
        "  -1.1102230246251565e-16,\n",
        "  -0.0092081881538462751,\n",
        "  0.0,\n",
        "  0.0,\n",
        "  0.0,\n",
        "  0.0,\n",
        "  0.0,\n",
        "  1.6653345369377348e-16,\n",
        "  5.5511151231257827e-17,\n",
        "  0.0,\n",
        "  0.0,\n",
        "  0.0,\n",
        "  1.6653345369377348e-16,\n",
        "  5.5511151231257827e-17,\n",
        "  5.5511151231257827e-17,\n",
        "  0.0,\n",
        "  5.5511151231257827e-17,\n",
        "  0.0,\n",
        "  1.6653345369377348e-16,\n",
        "  0.0,\n",
        "  0.0,\n",
        "  5.5511151231257827e-17,\n",
        "  0.0,\n",
        "  0.0,\n",
        "  -1.1102230246251565e-16,\n",
        "  0.0,\n",
        "  1.6653345369377348e-16,\n",
        "  0.0,\n",
        "  0.0,\n",
        "  5.5511151231257827e-17,\n",
        "  0.0,\n",
        "  0.0,\n",
        "  5.5511151231257827e-17,\n",
        "  -1.1102230246251565e-16,\n",
        "  -1.1102230246251565e-16,\n",
        "  -1.1102230246251565e-16,\n",
        "  1.1102230246251565e-16,\n",
        "  5.5511151231257827e-17,\n",
        "  0.0,\n",
        "  -1.1102230246251565e-16,\n",
        "  5.5511151231257827e-17,\n",
        "  0.0,\n",
        "  0.0,\n",
        "  5.5511151231257827e-17,\n",
        "  0.0,\n",
        "  0.0,\n",
        "  0.0,\n",
        "  2.2204460492503131e-16,\n",
        "  -1.1102230246251565e-16,\n",
        "  -1.1102230246251565e-16])"
       ]
      }
     ],
     "prompt_number": 1378
    },
    {
     "cell_type": "code",
     "collapsed": false,
     "input": [
      "to_align.plot(show_fret=False)"
     ],
     "language": "python",
     "metadata": {},
     "outputs": [
      {
       "output_type": "pyout",
       "prompt_number": 1382,
       "text": [
        "<smbanalyze.fplot.Figure at 0x1152b7410>"
       ]
      }
     ],
     "prompt_number": 1382
    },
    {
     "cell_type": "code",
     "collapsed": false,
     "input": [
      "styles = {n+1:c+'-' for n,c in enumerate(fplot.COLOR_CYCLE)}\n",
      "for p in mol:\n",
      "    hold(True)\n",
      "    mol_id = p.metadata['mol']\n",
      "    fplot.plot(p.trap, style=styles[mol_id])"
     ],
     "language": "python",
     "metadata": {},
     "outputs": [],
     "prompt_number": 1342
    },
    {
     "cell_type": "code",
     "collapsed": false,
     "input": [
      "pt = pick_pts()[0]"
     ],
     "language": "python",
     "metadata": {},
     "outputs": [
      {
       "output_type": "pyout",
       "prompt_number": 1386,
       "text": [
        "[(1002.8683454656591, 12.826792242177911)]"
       ]
      }
     ],
     "prompt_number": 1386
    },
    {
     "cell_type": "code",
     "collapsed": false,
     "input": [
      "P1_force = 8\n",
      "dead_time = mean([find(p.trap.f <P1_force)[-1] * p.metadata['trap.sampling_time'] for p in wt2at])\n",
      "print \"Dead time =\", dead_time"
     ],
     "language": "python",
     "metadata": {},
     "outputs": [
      {
       "output_type": "stream",
       "stream": "stdout",
       "text": [
        "Dead time = 0.757019230769\n"
       ]
      }
     ],
     "prompt_number": 1590
    },
    {
     "cell_type": "code",
     "collapsed": false,
     "input": [
      "\n",
      "rtimes,prob,errors = refolding.calc_bound_prob(num_bound, dead_time)"
     ],
     "language": "python",
     "metadata": {},
     "outputs": [],
     "prompt_number": 1669
    },
    {
     "cell_type": "code",
     "collapsed": false,
     "input": [
      "fig('refolding '+construct)\n",
      "ylim(-.05,1.05)\n",
      "xlim(0.1,40)\n",
      "errorbar(rtimes, prob, ecolor='b', fmt='o', yerr=transposed(errors), barsabove=True)"
     ],
     "language": "python",
     "metadata": {},
     "outputs": [
      {
       "output_type": "pyout",
       "prompt_number": 1668,
       "text": [
        "<Container object of 3 artists>"
       ]
      }
     ],
     "prompt_number": 1668
    },
    {
     "cell_type": "code",
     "collapsed": false,
     "input": [
      "datetime.datetime.today()"
     ],
     "language": "python",
     "metadata": {},
     "outputs": [
      {
       "output_type": "pyout",
       "prompt_number": 1681,
       "text": [
        "datetime.datetime(2014, 3, 11, 17, 13, 30, 688315)"
       ]
      }
     ],
     "prompt_number": 1681
    },
    {
     "cell_type": "code",
     "collapsed": false,
     "input": [
      "datadb.analysis.save({'date':datetime.datetime.today(),\n",
      "                      'refold': (rtimes, prob, errors),\n",
      "                      'dead_time': dead_time\n",
      "                      'split_point': pt\n",
      "                      'bound_count': {str(k).replace('.','_'):v for k,v in num_bound.items()}\n",
      "                      'tpp': list(select_(db.find(datadb.tpp, construct='WT2at'), '_id'))\n",
      "                      })"
     ],
     "language": "python",
     "metadata": {},
     "outputs": [
      {
       "output_type": "pyout",
       "prompt_number": 1684,
       "text": [
        "ObjectId('531fa7145225fa37c57ef4f2')"
       ]
      }
     ],
     "prompt_number": 1684
    },
    {
     "cell_type": "code",
     "collapsed": false,
     "input": [
      "{str(k).replace('.','_'):v for k,v in num_bound.items()}"
     ],
     "language": "python",
     "metadata": {},
     "outputs": [
      {
       "output_type": "pyout",
       "prompt_number": 1697,
       "text": [
        "{'0_5': (0, 5), '10_0': (9, 10), '1_0': (3, 17), '30_0': (4, 5), '5_0': (3, 5)}"
       ]
      }
     ],
     "prompt_number": 1697
    },
    {
     "cell_type": "code",
     "collapsed": false,
     "input": [
      "obj=datadb.analysis.find_one()\n",
      "obj['dead_time'] = dead_time\n",
      "obj['split_point'] = pt\n",
      "obj['bound_count'] = {str(k).replace('.','_'):v for k,v in num_bound.items()}\n",
      "obj['tpp'] = list(select_(db.find(datadb.tpp, construct='WT2at'), '_id'))\n",
      "datadb.analysis.save(obj)"
     ],
     "language": "python",
     "metadata": {},
     "outputs": [
      {
       "output_type": "pyout",
       "prompt_number": 1701,
       "text": [
        "ObjectId('531fa7145225fa37c57ef4f2')"
       ]
      }
     ],
     "prompt_number": 1701
    },
    {
     "cell_type": "code",
     "collapsed": false,
     "input": [
      "from scipy.signal import medfilt"
     ],
     "language": "python",
     "metadata": {},
     "outputs": [],
     "prompt_number": 917
    },
    {
     "cell_type": "code",
     "collapsed": false,
     "input": [
      "fig('ramp rate')\n",
      "ramp_rate=diff(p.trap.f)/p.trap.metadata['sampling_time']\n",
      "plot(p.trap.ext[1:], medfilt(ramp_rate,7) )"
     ],
     "language": "python",
     "metadata": {},
     "outputs": [
      {
       "output_type": "pyout",
       "prompt_number": 920,
       "text": [
        "[<matplotlib.lines.Line2D at 0x1125a3f10>]"
       ]
      }
     ],
     "prompt_number": 920
    },
    {
     "cell_type": "code",
     "collapsed": false,
     "input": [
      "exp,_ = split_pulls_at_point(exp, ginput(1)[0])\n",
      "close('all')\n",
      "exp.plot()"
     ],
     "language": "python",
     "metadata": {},
     "outputs": [
      {
       "output_type": "pyout",
       "prompt_number": 6,
       "text": [
        "<smbanalyze.fplot.Figure at 0x10ae6e7d0>"
       ]
      }
     ],
     "prompt_number": 6
    },
    {
     "cell_type": "code",
     "collapsed": false,
     "input": [
      "exp.plot(show_fret=True, FEC=False, style='-')"
     ],
     "language": "python",
     "metadata": {},
     "outputs": [
      {
       "output_type": "pyout",
       "prompt_number": 326,
       "text": [
        "<smbanalyze.fplot.Figure at 0x10f067bd0>"
       ]
      }
     ],
     "prompt_number": 326
    },
    {
     "cell_type": "code",
     "collapsed": false,
     "input": [
      "mols = map(lambda q: pickle.loads(q.trap_data), query.all())"
     ],
     "language": "python",
     "metadata": {},
     "outputs": [],
     "prompt_number": 479
    },
    {
     "cell_type": "code",
     "collapsed": false,
     "input": [
      "mol = experiment.List(p['experiment'] for p in datadb.tpp.find({'construct': 'WT2at', 'slide':2, 'mol':5}, {'experiment':1, '_id':0}) )"
     ],
     "language": "python",
     "metadata": {},
     "outputs": [],
     "prompt_number": 1474
    },
    {
     "cell_type": "code",
     "collapsed": false,
     "input": [
      "spli"
     ],
     "language": "python",
     "metadata": {},
     "outputs": [
      {
       "output_type": "pyout",
       "prompt_number": 1478,
       "text": [
        "<smbanalyze.fplot.Figure at 0x116a13f50>"
       ]
      }
     ],
     "prompt_number": 1478
    },
    {
     "cell_type": "code",
     "collapsed": false,
     "input": [
      "p=mols[2]"
     ],
     "language": "python",
     "metadata": {},
     "outputs": [],
     "prompt_number": 523
    },
    {
     "cell_type": "code",
     "collapsed": false,
     "input": [
      "import cPickle as pickle"
     ],
     "language": "python",
     "metadata": {},
     "outputs": [],
     "prompt_number": 336
    },
    {
     "cell_type": "code",
     "collapsed": false,
     "input": [
      "regions = pick_intervals(2)"
     ],
     "language": "python",
     "metadata": {},
     "outputs": [],
     "prompt_number": 526
    },
    {
     "cell_type": "code",
     "collapsed": false,
     "input": [
      "regions[0] = Interval(880,1040)"
     ],
     "language": "python",
     "metadata": {},
     "outputs": [],
     "prompt_number": 618
    },
    {
     "cell_type": "code",
     "collapsed": false,
     "input": [
      "masks=p.trap.make_masks(regions)"
     ],
     "language": "python",
     "metadata": {},
     "outputs": [],
     "prompt_number": 619
    },
    {
     "cell_type": "code",
     "collapsed": false,
     "input": [
      "from scipy.optimize import curve_fit\n",
      "reload(fec)"
     ],
     "language": "python",
     "metadata": {},
     "outputs": [
      {
       "output_type": "pyout",
       "prompt_number": 539,
       "text": [
        "<module 'smbanalyze.fec' from '/Users/cfperez/Python/scientific/smbanalyze/fec.pyc'>"
       ]
      }
     ],
     "prompt_number": 539
    },
    {
     "cell_type": "code",
     "collapsed": false,
     "input": [
      "F0 = .1\n",
      "moroz = lambda F,Lp,Lc: fec.moroz_nelson(F,Lp,Lc,F0,1100)\n",
      "fitm,err = curve_fit(moroz, p.trap.f[masks[0]],p.trap.ext[masks[0]], p0=[30,1100])\n",
      "print fitm"
     ],
     "language": "python",
     "metadata": {},
     "outputs": [
      {
       "output_type": "stream",
       "stream": "stdout",
       "text": [
        "[   26.99309323  1049.72325063]\n"
       ]
      }
     ],
     "prompt_number": 684
    },
    {
     "cell_type": "code",
     "collapsed": false,
     "input": [
      "mask = masks[0]\n",
      "fitout = curvefit.moroz_nelson(p.trap.f, fitm[0], fitm[1], 0, 1100)\n",
      "fig('newfit')\n",
      "hold(True)\n",
      "plot(p.trap.ext, p.trap.f, 'c.')\n",
      "plot(fitout, p.trap.f, linewidth=2)\n",
      "plot(p.trap.ext[mask], p.trap.f[mask], 'r.')"
     ],
     "language": "python",
     "metadata": {},
     "outputs": [
      {
       "output_type": "pyout",
       "prompt_number": 685,
       "text": [
        "[<matplotlib.lines.Line2D at 0x112861e50>]"
       ]
      }
     ],
     "prompt_number": 685
    },
    {
     "cell_type": "code",
     "collapsed": false,
     "input": [
      "mask_rip = masks[1]\n",
      "moroz_rip = lambda F,Lc1: fec.moroz_nelson(F,fitm[0],fitm[1],F0,1100)+fec.moroz_nelson(F,1.5,Lc1,F0,800)\n",
      "fitrip,err = curve_fit(moroz_rip, p.trap.f[mask_rip], p.trap.ext[mask_rip], p0=[60])\n",
      "print fitrip,err\n",
      "fitout = moroz_rip(p.trap.f[mask_rip],fitrip[0])\n",
      "plot(fitout, p.trap.f[mask_rip], 'b', linewidth=2 )"
     ],
     "language": "python",
     "metadata": {},
     "outputs": [
      {
       "output_type": "stream",
       "stream": "stdout",
       "text": [
        "[ 66.25371929] [[ 0.02815952]]\n"
       ]
      },
      {
       "output_type": "pyout",
       "prompt_number": 692,
       "text": [
        "[<matplotlib.lines.Line2D at 0x11286ad10>]"
       ]
      }
     ],
     "prompt_number": 692
    },
    {
     "cell_type": "code",
     "collapsed": false,
     "input": [
      "mols.plot(FEC=True)"
     ],
     "language": "python",
     "metadata": {},
     "outputs": [
      {
       "output_type": "pyout",
       "prompt_number": 611,
       "text": [
        "<smbanalyze.fplot.Figure at 0x111a63490>"
       ]
      }
     ],
     "prompt_number": 611
    },
    {
     "cell_type": "code",
     "collapsed": false,
     "input": [
      "nm_to_nt(70)"
     ],
     "language": "python",
     "metadata": {},
     "outputs": [
      {
       "output_type": "pyout",
       "prompt_number": 622,
       "text": [
        "122.37288135593221"
       ]
      }
     ],
     "prompt_number": 622
    },
    {
     "cell_type": "code",
     "collapsed": false,
     "input": [
      "rips,fit=fec.analyze_rips(p.trap, regions, [1])\n",
      "print fit\n",
      "print rips"
     ],
     "language": "python",
     "metadata": {},
     "outputs": [
      {
       "output_type": "stream",
       "stream": "stdout",
       "text": [
        "\r",
        "Fitting: [=                                                                               ] 2%"
       ]
      },
      {
       "output_type": "stream",
       "stream": "stdout",
       "text": [
        "\r",
        "Fitting: [==                                                                              ] 4%"
       ]
      },
      {
       "output_type": "stream",
       "stream": "stdout",
       "text": [
        "\r",
        "Fitting: [====                                                                            ] 5%"
       ]
      },
      {
       "output_type": "stream",
       "stream": "stdout",
       "text": [
        "\r",
        "Fitting: [=====                                                                           ] 7%"
       ]
      },
      {
       "output_type": "stream",
       "stream": "stdout",
       "text": [
        "\r",
        "Fitting: [=======                                                                         ] 9%"
       ]
      },
      {
       "output_type": "stream",
       "stream": "stdout",
       "text": [
        "\r",
        "Fitting: [========                                                                        ] 11%"
       ]
      },
      {
       "output_type": "stream",
       "stream": "stdout",
       "text": [
        "\r",
        "Fitting: [==========                                                                      ] 12%"
       ]
      },
      {
       "output_type": "stream",
       "stream": "stdout",
       "text": [
        "\r",
        "Fitting: [===========                                                                     ] 14%"
       ]
      },
      {
       "output_type": "stream",
       "stream": "stdout",
       "text": [
        "\r",
        "Fitting: [============                                                                    ] 16%"
       ]
      },
      {
       "output_type": "stream",
       "stream": "stdout",
       "text": [
        "\r",
        "Fitting: [==============                                                                  ] 18%"
       ]
      },
      {
       "output_type": "stream",
       "stream": "stdout",
       "text": [
        "\r",
        "Fitting: [===============                                                                 ] 20%"
       ]
      },
      {
       "output_type": "stream",
       "stream": "stdout",
       "text": [
        "\r",
        "Fitting: [=================                                                               ] 21%"
       ]
      },
      {
       "output_type": "stream",
       "stream": "stdout",
       "text": [
        "\r",
        "Fitting: [==================                                                              ] 23%"
       ]
      },
      {
       "output_type": "stream",
       "stream": "stdout",
       "text": [
        "\r",
        "Fitting: [====================                                                            ] 25%"
       ]
      },
      {
       "output_type": "stream",
       "stream": "stdout",
       "text": [
        "\r",
        "Fitting: [=====================                                                           ] 27%"
       ]
      },
      {
       "output_type": "stream",
       "stream": "stdout",
       "text": [
        "\r",
        "Fitting: [======================                                                          ] 29%"
       ]
      },
      {
       "output_type": "stream",
       "stream": "stdout",
       "text": [
        "\r",
        "Fitting: [========================                                                        ] 30%"
       ]
      },
      {
       "output_type": "stream",
       "stream": "stdout",
       "text": [
        "\r",
        "Fitting: [=========================                                                       ] 32%"
       ]
      },
      {
       "output_type": "stream",
       "stream": "stdout",
       "text": [
        "\r",
        "Fitting: [===========================                                                     ] 34%"
       ]
      },
      {
       "output_type": "stream",
       "stream": "stdout",
       "text": [
        "\r",
        "Fitting: [============================                                                    ] 36%"
       ]
      },
      {
       "output_type": "stream",
       "stream": "stdout",
       "text": [
        "\r",
        "Fitting: [==============================                                                  ] 38%"
       ]
      },
      {
       "output_type": "stream",
       "stream": "stdout",
       "text": [
        "\r",
        "Fitting: [===============================                                                 ] 39%"
       ]
      },
      {
       "output_type": "stream",
       "stream": "stdout",
       "text": [
        "\r",
        "Fitting: [================================                                                ] 41%"
       ]
      },
      {
       "output_type": "stream",
       "stream": "stdout",
       "text": [
        "\r",
        "Fitting: [==================================                                              ] 43%"
       ]
      },
      {
       "output_type": "stream",
       "stream": "stdout",
       "text": [
        "\r",
        "Fitting: [===================================                                             ] 45%"
       ]
      },
      {
       "output_type": "stream",
       "stream": "stdout",
       "text": [
        "\r",
        "Fitting: [=====================================                                           ] 46%"
       ]
      },
      {
       "output_type": "stream",
       "stream": "stdout",
       "text": [
        "\r",
        "Fitting: [======================================                                          ] 48%"
       ]
      },
      {
       "output_type": "stream",
       "stream": "stdout",
       "text": [
        "\r",
        "Fitting: [========================================                                        ] 50%"
       ]
      },
      {
       "output_type": "stream",
       "stream": "stdout",
       "text": [
        "\r",
        "Fitting: [=========================================                                       ] 52%"
       ]
      },
      {
       "output_type": "stream",
       "stream": "stdout",
       "text": [
        "\r",
        "Fitting: [==========================================                                      ] 54%"
       ]
      },
      {
       "output_type": "stream",
       "stream": "stdout",
       "text": [
        "\r",
        "Fitting: [============================================                                    ] 55%"
       ]
      },
      {
       "output_type": "stream",
       "stream": "stdout",
       "text": [
        "\r",
        "Fitting: [=============================================                                   ] 57%"
       ]
      },
      {
       "output_type": "stream",
       "stream": "stdout",
       "text": [
        "\r",
        "Fitting: [===============================================                                 ] 59%"
       ]
      },
      {
       "output_type": "stream",
       "stream": "stdout",
       "text": [
        "\r",
        "Fitting: [================================================                                ] 61%"
       ]
      },
      {
       "output_type": "stream",
       "stream": "stdout",
       "text": [
        "\r",
        "Fitting: [================================================================================] Done!\n"
       ]
      },
      {
       "output_type": "stream",
       "stream": "stdout",
       "text": [
        "MMS_rip_region fit: Lp=13.75\u00b10.26 Lc=1071.68\u00b11.85 F0=-0.96\u00b10.01 Lc1=62.94\u00b10.84\n",
        "Rips: 110.4\u00b11.4 nt (62.94 nm)\n",
        "Total: 110.4\u00b11.4 nt (62.94 nm)\n"
       ]
      }
     ],
     "prompt_number": 674
    },
    {
     "cell_type": "code",
     "collapsed": false,
     "input": [
      "fitm"
     ],
     "language": "python",
     "metadata": {},
     "outputs": [
      {
       "output_type": "pyout",
       "prompt_number": 658,
       "text": [
        "array([   26.99309323,  1049.72325063])"
       ]
      }
     ],
     "prompt_number": 658
    },
    {
     "cell_type": "code",
     "collapsed": false,
     "input": [
      "fit.plot()"
     ],
     "language": "python",
     "metadata": {},
     "outputs": [
      {
       "output_type": "pyout",
       "prompt_number": 678,
       "text": [
        "<matplotlib.axes.AxesSubplot at 0x1123237d0>"
       ]
      }
     ],
     "prompt_number": 678
    },
    {
     "cell_type": "code",
     "collapsed": false,
     "input": [
      "p.plot()"
     ],
     "language": "python",
     "metadata": {},
     "outputs": [
      {
       "output_type": "pyout",
       "prompt_number": 425,
       "text": [
        "<smbanalyze.fplot.Figure at 0x10f9839d0>"
       ]
      }
     ],
     "prompt_number": 425
    },
    {
     "cell_type": "code",
     "collapsed": false,
     "input": [
      "rtime,pull = p.metadata['filename'].split('_')[-3:-1]\n",
      "float(rtime[:-1]), int(pull)"
     ],
     "language": "python",
     "metadata": {},
     "outputs": [
      {
       "output_type": "pyout",
       "prompt_number": 375,
       "text": [
        "(1.0, 7)"
       ]
      }
     ],
     "prompt_number": 375
    },
    {
     "cell_type": "code",
     "collapsed": false,
     "input": [
      "for p in exp[1:]:\n",
      "    _ = models.Refold(molecule=mol_, refold_time=1.0, pull=1, trap_data=p.trap, fret_data=p.fret, meta_data=p.metadata)\n",
      "    session.add(_)"
     ],
     "language": "python",
     "metadata": {},
     "outputs": [],
     "prompt_number": 86
    },
    {
     "cell_type": "code",
     "collapsed": false,
     "input": [
      "[map(p.metadata.get, ['trap.refolding_time', 'trap.current_pull']) for p in exp]"
     ],
     "language": "python",
     "metadata": {},
     "outputs": [
      {
       "output_type": "pyout",
       "prompt_number": 48,
       "text": [
        "[[1.0, 1], [1.0, 2], [1.0, 3], [1.0, 4], [1.0, 5], [1.0, 1], [1.0, 2]]"
       ]
      }
     ],
     "prompt_number": 48
    },
    {
     "cell_type": "code",
     "collapsed": false,
     "input": [
      "p=exp[0]"
     ],
     "language": "python",
     "metadata": {},
     "outputs": [],
     "prompt_number": 54
    },
    {
     "cell_type": "code",
     "collapsed": false,
     "input": [
      "from sqlalchemy.types import LargeBinary"
     ],
     "language": "python",
     "metadata": {},
     "outputs": []
    },
    {
     "cell_type": "code",
     "collapsed": false,
     "input": [
      "dumps = lambda p: pickle.dumps(p, protocol=2)"
     ],
     "language": "python",
     "metadata": {},
     "outputs": [],
     "prompt_number": 60
    },
    {
     "cell_type": "code",
     "collapsed": false,
     "input": [
      "dumps(p.metadata)"
     ],
     "language": "python",
     "metadata": {},
     "outputs": [
      {
       "output_type": "pyout",
       "prompt_number": 66,
       "text": [
        "'\\x80\\x02}q\\x01(U\\x0bfret.framesK9U\\rtrap.filenameU%WT2at_200pM_s2m5_refold_1.0s_1_up.strq\\x02U\\x0cfret.roileftK\\nU\\x0etrap.aom_startG\\xbf\\xd6ffffffU\\nfret.widthK_U\\x0cfret.binningK\\x01U\\x0etrap.stiffness]q\\x03(G?\\xd2\\xe1G\\xae\\x14z\\xe1G?\\xfa\\xe5`A\\x897LeU\\x0etrap.step_sizeG@\\x00\\x00\\x00\\x00\\x00\\x00\\x00U\\x10trap.total_pullsK\\x05U\\rfret.filenameU&WT2at_200pM_s2m5_refold_1.0s_1_up.fretq\\x04U\\x08filenameq\\x05U!WT2at_200pM_s2m5_refold_1.0s_1_upq\\x06U\\x0efret.roibottomK\\x15U\\x0ffret.exposuremsK\\x19U\\x13trap.refolding_timeG?\\xf0\\x00\\x00\\x00\\x00\\x00\\x00U\\tfret.gainKdU\\x0esampling_ratioq\\x07K\\x05U\\ttrap.date]q\\x08(K\\x0eK\\x03K\\x03K\\rK\\x17eU\\x11trap.pulling_rateq\\tG@y\\x00\\x00\\x00\\x00\\x00\\x00U\\x11trap.current_pullK\\x01U\\x12trap.sampling_timeG?tz\\xe1G\\xae\\x14{U\\x0bfret.heightM3\\x01u.'"
       ]
      }
     ],
     "prompt_number": 66
    },
    {
     "cell_type": "code",
     "collapsed": false,
     "input": [
      "models.Refold(molecule=mol_, refold_time=1.0, pull=1, trap_data=p.trap, fret_data=p.fret, meta_data=p.metadata)\n",
      "session.add(_)"
     ],
     "language": "python",
     "metadata": {},
     "outputs": [],
     "prompt_number": 83
    },
    {
     "cell_type": "code",
     "collapsed": false,
     "input": [
      "session.commit()"
     ],
     "language": "python",
     "metadata": {},
     "outputs": [],
     "prompt_number": 84
    },
    {
     "cell_type": "code",
     "collapsed": false,
     "input": [
      "session.query(models.Refold).first().molecule"
     ],
     "language": "python",
     "metadata": {},
     "outputs": [
      {
       "output_type": "pyout",
       "prompt_number": 90,
       "text": [
        "Molecule(construct='WT2at', slide_id=2, mol_id=5, date='2014-03-03'"
       ]
      }
     ],
     "prompt_number": 90
    },
    {
     "cell_type": "code",
     "collapsed": false,
     "input": [
      "import cPickle as pickle\n",
      "for p in exp:\n",
      "    dump = pickle.dumps(p, protocol=2)\n",
      "    rtime,pull = p.metadata['filename'].split('_')[-3:-1]\n",
      "    rtimef,pullf = float(rtime[:-1]), int(pull)\n",
      "    if pullf==7:\n",
      "        continue\n",
      "    print rtime,pull\n",
      "    #cursor.execute('''insert into refolds(molecule_id,refold_time,pull,trap_data,fret_data) values(?,?,?,?,?)''', (1,rtimef,pullf,sqlite3.Binary(dump),None))"
     ],
     "language": "python",
     "metadata": {},
     "outputs": [
      {
       "output_type": "stream",
       "stream": "stdout",
       "text": [
        "1.0s 1\n",
        "1.0s 2\n",
        "1.0s 3\n",
        "1.0s 4\n",
        "1.0s 5\n",
        "1.0s 6\n"
       ]
      }
     ],
     "prompt_number": 52
    },
    {
     "cell_type": "code",
     "collapsed": false,
     "input": [
      "unbound,bound = split_pulls_at_point(exp, pick_pts(1)[0])"
     ],
     "language": "python",
     "metadata": {},
     "outputs": [],
     "prompt_number": 312
    },
    {
     "cell_type": "code",
     "collapsed": false,
     "input": [
      "mol = unbound.collapse()\n",
      "mol.plot(style='.')"
     ],
     "language": "python",
     "metadata": {},
     "outputs": [
      {
       "output_type": "pyout",
       "prompt_number": 317,
       "text": [
        "<smbanalyze.fplot.Figure at 0x10fe058d0>"
       ]
      }
     ],
     "prompt_number": 317
    },
    {
     "cell_type": "code",
     "collapsed": false,
     "input": [
      "mol.plot(style={'donor':'bo','acceptor':'ro','fret':'o','trap':'.'})"
     ],
     "language": "python",
     "metadata": {},
     "outputs": [
      {
       "output_type": "pyout",
       "prompt_number": 322,
       "text": [
        "<smbanalyze.fplot.Figure at 0x10fe058d0>"
       ]
      }
     ],
     "prompt_number": 322
    },
    {
     "cell_type": "code",
     "collapsed": false,
     "input": [
      "mol = exp[0]\n",
      "mol.plot()"
     ],
     "language": "python",
     "metadata": {},
     "outputs": [
      {
       "output_type": "pyout",
       "prompt_number": 62,
       "text": [
        "<smbanalyze.fplot.Figure at 0x10ae816d0>"
       ]
      }
     ],
     "prompt_number": 62
    },
    {
     "cell_type": "code",
     "collapsed": false,
     "input": [
      "p=exp[1]\n",
      "p.plot()"
     ],
     "language": "python",
     "metadata": {},
     "outputs": [
      {
       "output_type": "pyout",
       "prompt_number": 395,
       "text": [
        "<smbanalyze.fplot.Figure at 0x10f9839d0>"
       ]
      }
     ],
     "prompt_number": 395
    },
    {
     "cell_type": "code",
     "collapsed": false,
     "input": [
      "regions = pick_intervals(1)"
     ],
     "language": "python",
     "metadata": {},
     "outputs": [],
     "prompt_number": 396
    },
    {
     "cell_type": "code",
     "collapsed": false,
     "input": [
      "above_line = pick_line()"
     ],
     "language": "python",
     "metadata": {},
     "outputs": [],
     "prompt_number": 113
    },
    {
     "cell_type": "code",
     "collapsed": false,
     "input": [
      "from smbanalyze import progressbar\n",
      "reload(progressbar)\n",
      "from smbanalyze import curvefit\n",
      "reload(curvefit)\n",
      "reload(fec)"
     ],
     "language": "python",
     "metadata": {},
     "outputs": [
      {
       "output_type": "pyout",
       "prompt_number": 190,
       "text": [
        "<module 'smbanalyze.fec' from '/Users/cfperez/Python/scientific/smbanalyze/fec.pyc'>"
       ]
      }
     ],
     "prompt_number": 190
    },
    {
     "cell_type": "code",
     "collapsed": false,
     "input": [
      "# This indicates how many stems are (assumed) lost for the Nth rip\n",
      "# For our construct, this pattern sums to 1 (assuming P1 is closed)\n",
      "# Negative indicates that two stems are revealed while one stem is broken\n",
      "# In order to calculate the nt from the nm rip size, we must know/guess this pattern to\n",
      "# correctly account for the width of the helix\n",
      "helix_opening_pattern = (-1,1,1)\n",
      "rips=fec.analyze(mol, regions, helix_opening_pattern) #, above_line)\n",
      "print rips"
     ],
     "language": "python",
     "metadata": {},
     "outputs": [
      {
       "output_type": "stream",
       "stream": "stdout",
       "text": [
        "\r",
        "Fitting: [=                                                                               ] 2%"
       ]
      },
      {
       "output_type": "stream",
       "stream": "stdout",
       "text": [
        "\r",
        "Fitting: [==                                                                              ] 3%"
       ]
      },
      {
       "output_type": "stream",
       "stream": "stdout",
       "text": [
        "\r",
        "Fitting: [====                                                                            ] 5%"
       ]
      },
      {
       "output_type": "stream",
       "stream": "stdout",
       "text": [
        "\r",
        "Fitting: [=====                                                                           ] 7%"
       ]
      },
      {
       "output_type": "stream",
       "stream": "stdout",
       "text": [
        "\r",
        "Fitting: [======                                                                          ] 8%"
       ]
      },
      {
       "output_type": "stream",
       "stream": "stdout",
       "text": [
        "\r",
        "Fitting: [========                                                                        ] 10%"
       ]
      },
      {
       "output_type": "stream",
       "stream": "stdout",
       "text": [
        "\r",
        "Fitting: [=========                                                                       ] 12%"
       ]
      },
      {
       "output_type": "stream",
       "stream": "stdout",
       "text": [
        "\r",
        "Fitting: [==========                                                                      ] 13%"
       ]
      },
      {
       "output_type": "stream",
       "stream": "stdout",
       "text": [
        "\r",
        "Fitting: [============                                                                    ] 15%"
       ]
      },
      {
       "output_type": "stream",
       "stream": "stdout",
       "text": [
        "\r",
        "Fitting: [=============                                                                   ] 17%"
       ]
      },
      {
       "output_type": "stream",
       "stream": "stdout",
       "text": [
        "\r",
        "Fitting: [==============                                                                  ] 18%"
       ]
      },
      {
       "output_type": "stream",
       "stream": "stdout",
       "text": [
        "\r",
        "Fitting: [================                                                                ] 20%"
       ]
      },
      {
       "output_type": "stream",
       "stream": "stdout",
       "text": [
        "\r",
        "Fitting: [=================                                                               ] 22%"
       ]
      },
      {
       "output_type": "stream",
       "stream": "stdout",
       "text": [
        "\r",
        "Fitting: [==================                                                              ] 23%"
       ]
      },
      {
       "output_type": "stream",
       "stream": "stdout",
       "text": [
        "\r",
        "Fitting: [====================                                                            ] 25%"
       ]
      },
      {
       "output_type": "stream",
       "stream": "stdout",
       "text": [
        "\r",
        "Fitting: [=====================                                                           ] 27%"
       ]
      },
      {
       "output_type": "stream",
       "stream": "stdout",
       "text": [
        "\r",
        "Fitting: [======================                                                          ] 28%"
       ]
      },
      {
       "output_type": "stream",
       "stream": "stdout",
       "text": [
        "\r",
        "Fitting: [========================                                                        ] 30%"
       ]
      },
      {
       "output_type": "stream",
       "stream": "stdout",
       "text": [
        "\r",
        "Fitting: [=========================                                                       ] 32%"
       ]
      },
      {
       "output_type": "stream",
       "stream": "stdout",
       "text": [
        "\r",
        "Fitting: [==========================                                                      ] 33%"
       ]
      },
      {
       "output_type": "stream",
       "stream": "stdout",
       "text": [
        "\r",
        "Fitting: [============================                                                    ] 35%"
       ]
      },
      {
       "output_type": "stream",
       "stream": "stdout",
       "text": [
        "\r",
        "Fitting: [=============================                                                   ] 37%"
       ]
      },
      {
       "output_type": "stream",
       "stream": "stdout",
       "text": [
        "\r",
        "Fitting: [==============================                                                  ] 38%"
       ]
      },
      {
       "output_type": "stream",
       "stream": "stdout",
       "text": [
        "\r",
        "Fitting: [================================                                                ] 40%"
       ]
      },
      {
       "output_type": "stream",
       "stream": "stdout",
       "text": [
        "\r",
        "Fitting: [=================================                                               ] 42%"
       ]
      },
      {
       "output_type": "stream",
       "stream": "stdout",
       "text": [
        "\r",
        "Fitting: [==================================                                              ] 43%"
       ]
      },
      {
       "output_type": "stream",
       "stream": "stdout",
       "text": [
        "\r",
        "Fitting: [====================================                                            ] 45%"
       ]
      },
      {
       "output_type": "stream",
       "stream": "stdout",
       "text": [
        "\r",
        "Fitting: [=====================================                                           ] 47%"
       ]
      },
      {
       "output_type": "stream",
       "stream": "stdout",
       "text": [
        "\r",
        "Fitting: [======================================                                          ] 48%"
       ]
      },
      {
       "output_type": "stream",
       "stream": "stdout",
       "text": [
        "\r",
        "Fitting: [========================================                                        ] 50%"
       ]
      },
      {
       "output_type": "stream",
       "stream": "stdout",
       "text": [
        "\r",
        "Fitting: [=========================================                                       ] 52%"
       ]
      },
      {
       "output_type": "stream",
       "stream": "stdout",
       "text": [
        "\r",
        "Fitting: [==========================================                                      ] 53%"
       ]
      },
      {
       "output_type": "stream",
       "stream": "stdout",
       "text": [
        "\r",
        "Fitting: [============================================                                    ] 55%"
       ]
      },
      {
       "output_type": "stream",
       "stream": "stdout",
       "text": [
        "\r",
        "Fitting: [=============================================                                   ] 57%"
       ]
      },
      {
       "output_type": "stream",
       "stream": "stdout",
       "text": [
        "\r",
        "Fitting: [==============================================                                  ] 58%"
       ]
      },
      {
       "output_type": "stream",
       "stream": "stdout",
       "text": [
        "\r",
        "Fitting: [================================================                                ] 60%"
       ]
      },
      {
       "output_type": "stream",
       "stream": "stdout",
       "text": [
        "\r",
        "Fitting: [=================================================                               ] 62%"
       ]
      },
      {
       "output_type": "stream",
       "stream": "stdout",
       "text": [
        "\r",
        "Fitting: [==================================================                              ] 63%"
       ]
      },
      {
       "output_type": "stream",
       "stream": "stdout",
       "text": [
        "\r",
        "Fitting: [====================================================                            ] 65%"
       ]
      },
      {
       "output_type": "stream",
       "stream": "stdout",
       "text": [
        "\r",
        "Fitting: [================================================================================] Done!\n"
       ]
      },
      {
       "output_type": "stream",
       "stream": "stdout",
       "text": [
        "Rips: 16.8\u00b127.3 nt (12.13 nm) | 34.5\u00b143.9 nt (18.15 nm) | 32.3\u00b146.7 nt (16.85 nm)\n",
        "Total: 83.6\u00b146.7 nt (47.14 nm)\n"
       ]
      }
     ],
     "prompt_number": 194
    },
    {
     "cell_type": "code",
     "collapsed": false,
     "input": [
      "mol.fit.plot()"
     ],
     "language": "python",
     "metadata": {},
     "outputs": [
      {
       "output_type": "pyout",
       "prompt_number": 122,
       "text": [
        "<matplotlib.axes.AxesSubplot at 0x112f51bd0>"
       ]
      }
     ],
     "prompt_number": 122
    },
    {
     "cell_type": "code",
     "collapsed": false,
     "input": [
      "rips.stems_lost = (-1,1,1)\n",
      "print rips"
     ],
     "language": "python",
     "metadata": {},
     "outputs": [
      {
       "output_type": "stream",
       "stream": "stdout",
       "text": [
        "Rips: 43.2 \u00b11.7 nt (27.70 nm) | 35.6 \u00b13.0 nt (18.82 nm) | 33.6 \u00b13.5 nt (17.64 nm)\n",
        "Total: 112.5 \u00b13.5 nt (64.17 nm)\n"
       ]
      }
     ],
     "prompt_number": 130
    },
    {
     "cell_type": "markdown",
     "metadata": {},
     "source": [
      "Refolding analysis\n",
      "-------"
     ]
    },
    {
     "cell_type": "code",
     "collapsed": false,
     "input": [
      "from smbanalyze import refolding"
     ],
     "language": "python",
     "metadata": {},
     "outputs": [],
     "prompt_number": 135
    },
    {
     "cell_type": "code",
     "collapsed": false,
     "input": [
      "unbound,bound = split_pulls_at_point(exp, ginput(1)[0])"
     ],
     "language": "python",
     "metadata": {},
     "outputs": [],
     "prompt_number": 183
    },
    {
     "cell_type": "code",
     "collapsed": false,
     "input": [
      "from collections import defaultdict"
     ],
     "language": "python",
     "metadata": {},
     "outputs": [],
     "prompt_number": 154
    },
    {
     "cell_type": "code",
     "collapsed": false,
     "input": [
      "bound.plot()"
     ],
     "language": "python",
     "metadata": {},
     "outputs": [
      {
       "output_type": "pyout",
       "prompt_number": 184,
       "text": [
        "<smbanalyze.fplot.Figure at 0x10f0d6e50>"
       ]
      }
     ],
     "prompt_number": 184
    },
    {
     "cell_type": "code",
     "collapsed": false,
     "input": [
      "sorted(exp, refold_sort_key)"
     ],
     "language": "python",
     "metadata": {},
     "outputs": [
      {
       "ename": "TypeError",
       "evalue": "refold_sort_key() takes exactly 1 argument (2 given)",
       "output_type": "pyerr",
       "traceback": [
        "\u001b[0;31m---------------------------------------------------------------------------\u001b[0m\n\u001b[0;31mTypeError\u001b[0m                                 Traceback (most recent call last)",
        "\u001b[0;32m<ipython-input-235-a6059913b7df>\u001b[0m in \u001b[0;36m<module>\u001b[0;34m()\u001b[0m\n\u001b[0;32m----> 1\u001b[0;31m \u001b[0msorted\u001b[0m\u001b[0;34m(\u001b[0m\u001b[0mexp\u001b[0m\u001b[0;34m,\u001b[0m \u001b[0mrefold_sort_key\u001b[0m\u001b[0;34m)\u001b[0m\u001b[0;34m\u001b[0m\u001b[0m\n\u001b[0m",
        "\u001b[0;31mTypeError\u001b[0m: refold_sort_key() takes exactly 1 argument (2 given)"
       ]
      }
     ],
     "prompt_number": 235
    },
    {
     "cell_type": "code",
     "collapsed": false,
     "input": [
      "from itertools import groupby\n",
      "for key_,e_ in groupby(sorted(exp, key=refold_sort_key), refold_key):\n",
      "    exp_ = list(e_)\n",
      "    key = exp_[0].trap.metadata['refolding_time']\n",
      "    print key,exp_ #list(exps)"
     ],
     "language": "python",
     "metadata": {},
     "outputs": [
      {
       "output_type": "stream",
       "stream": "stdout",
       "text": [
        "0.1 [<Experiment.Pulling from 'WTUL2_500pM_s1m1_4_refold_0.1s_1_up'>, <Experiment.Pulling from 'WTUL2_500pM_s1m1_4_refold_0.1s_2_up'>, <Experiment.Pulling from 'WTUL2_500pM_s1m1_4_refold_0.1s_3_up'>, <Experiment.Pulling from 'WTUL2_500pM_s1m1_4_refold_0.1s_4_up'>, <Experiment.Pulling from 'WTUL2_500pM_s1m1_4_refold_0.1s_5_up'>, <Experiment.Pulling from 'WTUL2_500pM_s1m1_4_refold_0.1s_6_up'>, <Experiment.Pulling from 'WTUL2_500pM_s1m1_4_refold_0.1s_7_up'>, <Experiment.Pulling from 'WTUL2_500pM_s1m1_4_refold_0.1s_8_up'>, <Experiment.Pulling from 'WTUL2_500pM_s1m1_4_refold_0.1s_9_up'>, <Experiment.Pulling from 'WTUL2_500pM_s1m1_4_refold_0.1s_10_up'>]\n",
        "0.5 [<Experiment.Pulling from 'WTUL2_500pM_s1m1_5_refold_0.5s_1_up'>, <Experiment.Pulling from 'WTUL2_500pM_s1m1_5_refold_0.5s_2_up'>, <Experiment.Pulling from 'WTUL2_500pM_s1m1_5_refold_0.5s_3_up'>, <Experiment.Pulling from 'WTUL2_500pM_s1m1_5_refold_0.5s_4_up'>, <Experiment.Pulling from 'WTUL2_500pM_s1m1_5_refold_0.5s_5_up'>, <Experiment.Pulling from 'WTUL2_500pM_s1m1_5_refold_0.5s_6_up'>, <Experiment.Pulling from 'WTUL2_500pM_s1m1_5_refold_0.5s_7_up'>, <Experiment.Pulling from 'WTUL2_500pM_s1m1_5_refold_0.5s_8_up'>, <Experiment.Pulling from 'WTUL2_500pM_s1m1_5_refold_0.5s_9_up'>, <Experiment.Pulling from 'WTUL2_500pM_s1m1_5_refold_0.5s_10_up'>]\n",
        "1.0 [<Experiment.Pulling from 'WTUL2_500pM_s1m1_3_refold_1.0s_2_up'>, <Experiment.Pulling from 'WTUL2_500pM_s1m1_3_refold_1.0s_3_up'>, <Experiment.Pulling from 'WTUL2_500pM_s1m1_3_refold_1.0s_4_up'>, <Experiment.Pulling from 'WTUL2_500pM_s1m1_3_refold_1.0s_5_up'>, <Experiment.Pulling from 'WTUL2_500pM_s1m1_3_refold_1.0s_6_up'>, <Experiment.Pulling from 'WTUL2_500pM_s1m1_3_refold_1.0s_7_up'>, <Experiment.Pulling from 'WTUL2_500pM_s1m1_3_refold_1.0s_8_up'>, <Experiment.Pulling from 'WTUL2_500pM_s1m1_3_refold_1.0s_9_up'>, <Experiment.Pulling from 'WTUL2_500pM_s1m1_3_refold_1.0s_10_up'>]\n",
        "10.0 [<Experiment.Pulling from 'WTUL2_500pM_s1m1_7_refold_10.0s_1_up'>, <Experiment.Pulling from 'WTUL2_500pM_s1m1_7_refold_10.0s_2_up'>, <Experiment.Pulling from 'WTUL2_500pM_s1m1_7_refold_10.0s_3_up'>, <Experiment.Pulling from 'WTUL2_500pM_s1m1_7_refold_10.0s_4_up'>, <Experiment.Pulling from 'WTUL2_500pM_s1m1_7_refold_10.0s_5_up'>, <Experiment.Pulling from 'WTUL2_500pM_s1m1_7_refold_10.0s_6_up'>, <Experiment.Pulling from 'WTUL2_500pM_s1m1_7_refold_10.0s_7_up'>, <Experiment.Pulling from 'WTUL2_500pM_s1m1_7_refold_10.0s_8_up'>, <Experiment.Pulling from 'WTUL2_500pM_s1m1_7_refold_10.0s_9_up'>]\n"
       ]
      }
     ],
     "prompt_number": 239
    },
    {
     "cell_type": "code",
     "collapsed": false,
     "input": [
      "def refold_key(p):\n",
      "    name_split = p.metadata['filename'].split('_')\n",
      "    refold_i = name_split.index('refold')+1\n",
      "    return name_split[refold_i]"
     ],
     "language": "python",
     "metadata": {},
     "outputs": [],
     "prompt_number": 222
    },
    {
     "cell_type": "code",
     "collapsed": false,
     "input": [
      "def refold_sort_key(p):\n",
      "    name_split = p.metadata['filename'].split('_')\n",
      "    refold_i = name_split.index('refold')+1\n",
      "    return name_split[0:3], name_split[refold_i], int(name_split[refold_i+1])"
     ],
     "language": "python",
     "metadata": {},
     "outputs": [],
     "prompt_number": 220
    },
    {
     "cell_type": "code",
     "collapsed": false,
     "input": [
      "bound_count = defaultdict(lambda : 0)\n",
      "total_count = defaultdict(lambda : 0)\n",
      "for p in exp:\n",
      "    meta = p.trap.metadata\n",
      "    pull = meta['current_pull']\n",
      "    refold_time = meta['refolding_time']\n",
      "    if (p.trap.at(ext=1040).f>16): bound_count[refold_time] += 1\n",
      "    total_count[refold_time] += 1"
     ],
     "language": "python",
     "metadata": {},
     "outputs": [],
     "prompt_number": 209
    },
    {
     "cell_type": "code",
     "collapsed": false,
     "input": [
      "exp[29].trap.metadata['refolding_time']"
     ],
     "language": "python",
     "metadata": {},
     "outputs": [
      {
       "output_type": "pyout",
       "prompt_number": 206,
       "text": [
        "10.0"
       ]
      }
     ],
     "prompt_number": 206
    },
    {
     "cell_type": "code",
     "collapsed": false,
     "input": [
      "for key in sorted(total_count):\n",
      "    b,t = bound_count[key], total_count[key]\n",
      "    print key, float(b)/t, b, t"
     ],
     "language": "python",
     "metadata": {},
     "outputs": [
      {
       "output_type": "stream",
       "stream": "stdout",
       "text": [
        "0.1 0.3 3 10\n",
        "0.5 0.3 3 10\n",
        "1.0 0.555555555556 5 9\n",
        "10.0 0.0 0 9\n"
       ]
      }
     ],
     "prompt_number": 210
    },
    {
     "cell_type": "code",
     "collapsed": false,
     "input": [
      "for exp_refold in refolding.by_time(exp):\n",
      "    unbound,bound = split_pulls_at_point(exp_refold, pt)\n",
      "    print len(bound)/float(len(exp_refold))"
     ],
     "language": "python",
     "metadata": {},
     "outputs": [
      {
       "output_type": "pyout",
       "prompt_number": 191,
       "text": [
        "[0: <Experiment.Pulling from 'WTUL2_500pM_s1m1_3_refold_1.0s_10_up'>\n",
        " 1: <Experiment.Pulling from 'WTUL2_500pM_s1m1_3_refold_1.0s_2_up'>\n",
        " 2: <Experiment.Pulling from 'WTUL2_500pM_s1m1_3_refold_1.0s_3_up'>\n",
        " 3: <Experiment.Pulling from 'WTUL2_500pM_s1m1_3_refold_1.0s_4_up'>\n",
        " 4: <Experiment.Pulling from 'WTUL2_500pM_s1m1_3_refold_1.0s_5_up'>\n",
        " 5: <Experiment.Pulling from 'WTUL2_500pM_s1m1_3_refold_1.0s_6_up'>\n",
        " 6: <Experiment.Pulling from 'WTUL2_500pM_s1m1_3_refold_1.0s_7_up'>\n",
        " 7: <Experiment.Pulling from 'WTUL2_500pM_s1m1_3_refold_1.0s_8_up'>\n",
        " 8: <Experiment.Pulling from 'WTUL2_500pM_s1m1_3_refold_1.0s_9_up'>\n",
        " 9: <Experiment.Pulling from 'WTUL2_500pM_s1m1_4_refold_0.1s_1_up'>\n",
        " 10: <Experiment.Pulling from 'WTUL2_500pM_s1m1_4_refold_0.1s_10_up'>\n",
        " 11: <Experiment.Pulling from 'WTUL2_500pM_s1m1_4_refold_0.1s_2_up'>\n",
        " 12: <Experiment.Pulling from 'WTUL2_500pM_s1m1_4_refold_0.1s_3_up'>\n",
        " 13: <Experiment.Pulling from 'WTUL2_500pM_s1m1_4_refold_0.1s_4_up'>\n",
        " 14: <Experiment.Pulling from 'WTUL2_500pM_s1m1_4_refold_0.1s_5_up'>\n",
        " 15: <Experiment.Pulling from 'WTUL2_500pM_s1m1_4_refold_0.1s_6_up'>\n",
        " 16: <Experiment.Pulling from 'WTUL2_500pM_s1m1_4_refold_0.1s_7_up'>\n",
        " 17: <Experiment.Pulling from 'WTUL2_500pM_s1m1_4_refold_0.1s_8_up'>\n",
        " 18: <Experiment.Pulling from 'WTUL2_500pM_s1m1_4_refold_0.1s_9_up'>\n",
        " 19: <Experiment.Pulling from 'WTUL2_500pM_s1m1_5_refold_0.5s_1_up'>\n",
        " 20: <Experiment.Pulling from 'WTUL2_500pM_s1m1_5_refold_0.5s_10_up'>\n",
        " 21: <Experiment.Pulling from 'WTUL2_500pM_s1m1_5_refold_0.5s_2_up'>\n",
        " 22: <Experiment.Pulling from 'WTUL2_500pM_s1m1_5_refold_0.5s_3_up'>\n",
        " 23: <Experiment.Pulling from 'WTUL2_500pM_s1m1_5_refold_0.5s_4_up'>\n",
        " 24: <Experiment.Pulling from 'WTUL2_500pM_s1m1_5_refold_0.5s_5_up'>\n",
        " 25: <Experiment.Pulling from 'WTUL2_500pM_s1m1_5_refold_0.5s_6_up'>\n",
        " 26: <Experiment.Pulling from 'WTUL2_500pM_s1m1_5_refold_0.5s_7_up'>\n",
        " 27: <Experiment.Pulling from 'WTUL2_500pM_s1m1_5_refold_0.5s_8_up'>\n",
        " 28: <Experiment.Pulling from 'WTUL2_500pM_s1m1_5_refold_0.5s_9_up'>\n",
        " 29: <Experiment.Pulling from 'WTUL2_500pM_s1m1_7_refold_10.0s_1_up'>\n",
        " 30: <Experiment.Pulling from 'WTUL2_500pM_s1m1_7_refold_10.0s_2_up'>\n",
        " 31: <Experiment.Pulling from 'WTUL2_500pM_s1m1_7_refold_10.0s_3_up'>\n",
        " 32: <Experiment.Pulling from 'WTUL2_500pM_s1m1_7_refold_10.0s_4_up'>\n",
        " 33: <Experiment.Pulling from 'WTUL2_500pM_s1m1_7_refold_10.0s_5_up'>\n",
        " 34: <Experiment.Pulling from 'WTUL2_500pM_s1m1_7_refold_10.0s_6_up'>\n",
        " 35: <Experiment.Pulling from 'WTUL2_500pM_s1m1_7_refold_10.0s_7_up'>\n",
        " 36: <Experiment.Pulling from 'WTUL2_500pM_s1m1_7_refold_10.0s_8_up'>\n",
        " 37: <Experiment.Pulling from 'WTUL2_500pM_s1m1_7_refold_10.0s_9_up'>]"
       ]
      }
     ],
     "prompt_number": 191
    }
   ],
   "metadata": {}
  }
 ]
}