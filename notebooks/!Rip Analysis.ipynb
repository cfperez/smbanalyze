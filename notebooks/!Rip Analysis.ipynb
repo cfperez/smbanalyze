{
 "metadata": {
  "name": "!Rip Analysis"
 },
 "nbformat": 3,
 "nbformat_minor": 0,
 "worksheets": [
  {
   "cells": [
    {
     "cell_type": "code",
     "collapsed": false,
     "input": [
      "from smbanalyze.shell import *"
     ],
     "language": "python",
     "metadata": {},
     "outputs": [],
     "prompt_number": 1
    },
    {
     "cell_type": "code",
     "collapsed": false,
     "input": [
      "datadb = db.connect()"
     ],
     "language": "python",
     "metadata": {},
     "outputs": [],
     "prompt_number": 2
    },
    {
     "cell_type": "code",
     "collapsed": false,
     "input": [
      "exp=db.api.get_exp(datadb.tpp, construct='WT2at', date=db.lessorequal(date(14,3,3)), mol={'$in': (3,5)})\n",
      "exp"
     ],
     "language": "python",
     "metadata": {},
     "outputs": [
      {
       "output_type": "pyout",
       "prompt_number": 3,
       "text": [
        "[0: <Experiment.Pulling from 'WT2at_200pM_s2m3_refold_0.5s_1_up'>\n",
        " 1: <Experiment.Pulling from 'WT2at_200pM_s2m3_refold_0.5s_2_up'>\n",
        " 2: <Experiment.Pulling from 'WT2at_200pM_s2m3_refold_0.5s_3_up'>\n",
        " 3: <Experiment.Pulling from 'WT2at_200pM_s2m3_refold_0.5s_4_up'>\n",
        " 4: <Experiment.Pulling from 'WT2at_200pM_s2m3_refold_0.5s_5_up'>\n",
        " 5: <Experiment.Pulling from 'WT2at_200pM_s2m3_refold_1.0s_1_up'>\n",
        " 6: <Experiment.Pulling from 'WT2at_200pM_s2m3_refold_1.0s_2_up'>\n",
        " 7: <Experiment.Pulling from 'WT2at_200pM_s2m3_refold_1.0s_3_up'>\n",
        " 8: <Experiment.Pulling from 'WT2at_200pM_s2m3_refold_1.0s_4_up'>\n",
        " 9: <Experiment.Pulling from 'WT2at_200pM_s2m3_refold_1.0s_5_up'>\n",
        " 10: <Experiment.Pulling from 'WT2at_200pM_s2m3_refold_10.0s_1_up'>\n",
        " 11: <Experiment.Pulling from 'WT2at_200pM_s2m3_refold_10.0s_10_up'>\n",
        " 12: <Experiment.Pulling from 'WT2at_200pM_s2m3_refold_10.0s_2_up'>\n",
        " 13: <Experiment.Pulling from 'WT2at_200pM_s2m3_refold_10.0s_3_up'>\n",
        " 14: <Experiment.Pulling from 'WT2at_200pM_s2m3_refold_10.0s_4_up'>\n",
        " 15: <Experiment.Pulling from 'WT2at_200pM_s2m3_refold_10.0s_5_up'>\n",
        " 16: <Experiment.Pulling from 'WT2at_200pM_s2m3_refold_10.0s_6_up'>\n",
        " 17: <Experiment.Pulling from 'WT2at_200pM_s2m3_refold_10.0s_7_up'>\n",
        " 18: <Experiment.Pulling from 'WT2at_200pM_s2m3_refold_10.0s_8_up'>\n",
        " 19: <Experiment.Pulling from 'WT2at_200pM_s2m3_refold_10.0s_9_up'>\n",
        " 20: <Experiment.Pulling from 'WT2at_200pM_s2m3_refold_30.0s_1_up'>\n",
        " 21: <Experiment.Pulling from 'WT2at_200pM_s2m3_refold_30.0s_2_up'>\n",
        " 22: <Experiment.Pulling from 'WT2at_200pM_s2m3_refold_30.0s_3_up'>\n",
        " 23: <Experiment.Pulling from 'WT2at_200pM_s2m3_refold_30.0s_4_up'>\n",
        " 24: <Experiment.Pulling from 'WT2at_200pM_s2m3_refold_30.0s_5_up'>\n",
        " 25: <Experiment.Pulling from 'WT2at_200pM_s2m3_refold_5.0s_1_up'>\n",
        " 26: <Experiment.Pulling from 'WT2at_200pM_s2m3_refold_5.0s_2_up'>\n",
        " 27: <Experiment.Pulling from 'WT2at_200pM_s2m3_refold_5.0s_3_up'>\n",
        " 28: <Experiment.Pulling from 'WT2at_200pM_s2m3_refold_5.0s_4_up'>\n",
        " 29: <Experiment.Pulling from 'WT2at_200pM_s2m3_refold_5.0s_5_up'>\n",
        " 30: <Experiment.Pulling from 'WT2at_200pM_s2m5_refold_1.0s_1_up'>\n",
        " 31: <Experiment.Pulling from 'WT2at_200pM_s2m5_refold_1.0s_2_up'>\n",
        " 32: <Experiment.Pulling from 'WT2at_200pM_s2m5_refold_1.0s_3_up'>\n",
        " 33: <Experiment.Pulling from 'WT2at_200pM_s2m5_refold_1.0s_4_up'>\n",
        " 34: <Experiment.Pulling from 'WT2at_200pM_s2m5_refold_1.0s_5_up'>\n",
        " 35: <Experiment.Pulling from 'WT2at_200pM_s2m5_refold_1.0s_6_up'>\n",
        " 36: <Experiment.Pulling from 'WT2at_200pM_s2m5_refold_1.0s_7_up'>]"
       ]
      }
     ],
     "prompt_number": 3
    },
    {
     "cell_type": "code",
     "collapsed": false,
     "input": [
      "def matching(matchstr):\n",
      "    return exp.matching(matchstr)"
     ],
     "language": "python",
     "metadata": {},
     "outputs": [],
     "prompt_number": 4
    },
    {
     "cell_type": "code",
     "collapsed": false,
     "input": [
      "to_fit = matching('s2m5')"
     ],
     "language": "python",
     "metadata": {},
     "outputs": [],
     "prompt_number": 68
    },
    {
     "cell_type": "code",
     "collapsed": false,
     "input": [
      "fig('fitting')\n",
      "def plotall(exps, **kwargs):\n",
      "    for p in exps:\n",
      "        fplot.plot(p.trap, hold=True, label=p.filename, **kwargs)\n",
      "plotall(to_fit, style='--')"
     ],
     "language": "python",
     "metadata": {},
     "outputs": [],
     "prompt_number": 39
    },
    {
     "cell_type": "code",
     "collapsed": false,
     "input": [
      "pt = pick_pt()"
     ],
     "language": "python",
     "metadata": {},
     "outputs": [],
     "prompt_number": 19
    },
    {
     "cell_type": "code",
     "collapsed": false,
     "input": [
      "split_pulls_at_point(to_fit, "
     ],
     "language": "python",
     "metadata": {},
     "outputs": [
      {
       "output_type": "pyout",
       "prompt_number": 17,
       "text": [
        "<matplotlib.legend.Legend at 0x110e9d250>"
       ]
      }
     ],
     "prompt_number": 17
    },
    {
     "cell_type": "code",
     "collapsed": false,
     "input": [
      "def pull(n, exps):\n",
      "    try:\n",
      "        return exps.matching(str(int(n)))[0]\n",
      "    except IndexError:\n",
      "        raise ValueError('No pulls matching pull number %d' % n)\n",
      "        \n",
      "def pulls(N, exps):\n",
      "    return experiment.List(pull(n, exps) for n in N)"
     ],
     "language": "python",
     "metadata": {},
     "outputs": [],
     "prompt_number": 111
    },
    {
     "cell_type": "code",
     "collapsed": false,
     "input": [
      "p=pull(2,to_fit)"
     ],
     "language": "python",
     "metadata": {},
     "outputs": [],
     "prompt_number": 257
    },
    {
     "cell_type": "code",
     "collapsed": false,
     "input": [
      "intervals = pick_intervals(3)"
     ],
     "language": "python",
     "metadata": {},
     "outputs": [],
     "prompt_number": 40
    },
    {
     "cell_type": "code",
     "collapsed": false,
     "input": [
      "stems_lost = (-1,2)"
     ],
     "language": "python",
     "metadata": {},
     "outputs": [],
     "prompt_number": 258
    },
    {
     "cell_type": "code",
     "collapsed": false,
     "input": [
      "p.plot(show_fret=False, style='-')\n",
      "rips,fit = fec.analyze_rips(p.trap, intervals, stems_lost, Lp1=1.5)#, handle_above=above_line)\n",
      "fit.plot(hold=True)\n",
      "print rips\n",
      "print fit"
     ],
     "language": "python",
     "metadata": {},
     "outputs": [
      {
       "output_type": "stream",
       "stream": "stdout",
       "text": [
        "\r",
        "Fitting: [=                                                                               ] 2%"
       ]
      },
      {
       "output_type": "stream",
       "stream": "stdout",
       "text": [
        "\r",
        "Fitting: [==                                                                              ] 4%"
       ]
      },
      {
       "output_type": "stream",
       "stream": "stdout",
       "text": [
        "\r",
        "Fitting: [====                                                                            ] 5%"
       ]
      },
      {
       "output_type": "stream",
       "stream": "stdout",
       "text": [
        "\r",
        "Fitting: [=====                                                                           ] 7%"
       ]
      },
      {
       "output_type": "stream",
       "stream": "stdout",
       "text": [
        "\r",
        "Fitting: [=======                                                                         ] 9%"
       ]
      },
      {
       "output_type": "stream",
       "stream": "stdout",
       "text": [
        "\r",
        "Fitting: [========                                                                        ] 11%"
       ]
      },
      {
       "output_type": "stream",
       "stream": "stdout",
       "text": [
        "\r",
        "Fitting: [=========                                                                       ] 12%"
       ]
      },
      {
       "output_type": "stream",
       "stream": "stdout",
       "text": [
        "\r",
        "Fitting: [===========                                                                     ] 14%"
       ]
      },
      {
       "output_type": "stream",
       "stream": "stdout",
       "text": [
        "\r",
        "Fitting: [============                                                                    ] 16%"
       ]
      },
      {
       "output_type": "stream",
       "stream": "stdout",
       "text": [
        "\r",
        "Fitting: [==============                                                                  ] 18%"
       ]
      },
      {
       "output_type": "stream",
       "stream": "stdout",
       "text": [
        "\r",
        "Fitting: [===============                                                                 ] 19%"
       ]
      },
      {
       "output_type": "stream",
       "stream": "stdout",
       "text": [
        "\r",
        "Fitting: [================                                                                ] 21%"
       ]
      },
      {
       "output_type": "stream",
       "stream": "stdout",
       "text": [
        "\r",
        "Fitting: [==================                                                              ] 23%"
       ]
      },
      {
       "output_type": "stream",
       "stream": "stdout",
       "text": [
        "\r",
        "Fitting: [===================                                                             ] 25%"
       ]
      },
      {
       "output_type": "stream",
       "stream": "stdout",
       "text": [
        "\r",
        "Fitting: [=====================                                                           ] 26%"
       ]
      },
      {
       "output_type": "stream",
       "stream": "stdout",
       "text": [
        "\r",
        "Fitting: [======================                                                          ] 28%"
       ]
      },
      {
       "output_type": "stream",
       "stream": "stdout",
       "text": [
        "\r",
        "Fitting: [=======================                                                         ] 30%"
       ]
      },
      {
       "output_type": "stream",
       "stream": "stdout",
       "text": [
        "\r",
        "Fitting: [=========================                                                       ] 32%"
       ]
      },
      {
       "output_type": "stream",
       "stream": "stdout",
       "text": [
        "\r",
        "Fitting: [==========================                                                      ] 33%"
       ]
      },
      {
       "output_type": "stream",
       "stream": "stdout",
       "text": [
        "\r",
        "Fitting: [============================                                                    ] 35%"
       ]
      },
      {
       "output_type": "stream",
       "stream": "stdout",
       "text": [
        "\r",
        "Fitting: [=============================                                                   ] 37%"
       ]
      },
      {
       "output_type": "stream",
       "stream": "stdout",
       "text": [
        "\r",
        "Fitting: [==============================                                                  ] 39%"
       ]
      },
      {
       "output_type": "stream",
       "stream": "stdout",
       "text": [
        "\r",
        "Fitting: [================================                                                ] 40%"
       ]
      },
      {
       "output_type": "stream",
       "stream": "stdout",
       "text": [
        "\r",
        "Fitting: [=================================                                               ] 42%"
       ]
      },
      {
       "output_type": "stream",
       "stream": "stdout",
       "text": [
        "\r",
        "Fitting: [===================================                                             ] 44%"
       ]
      },
      {
       "output_type": "stream",
       "stream": "stdout",
       "text": [
        "\r",
        "Fitting: [====================================                                            ] 46%"
       ]
      },
      {
       "output_type": "stream",
       "stream": "stdout",
       "text": [
        "\r",
        "Fitting: [=====================================                                           ] 47%"
       ]
      },
      {
       "output_type": "stream",
       "stream": "stdout",
       "text": [
        "\r",
        "Fitting: [=======================================                                         ] 49%"
       ]
      },
      {
       "output_type": "stream",
       "stream": "stdout",
       "text": [
        "\r",
        "Fitting: [========================================                                        ] 51%"
       ]
      },
      {
       "output_type": "stream",
       "stream": "stdout",
       "text": [
        "\r",
        "Fitting: [==========================================                                      ] 53%"
       ]
      },
      {
       "output_type": "stream",
       "stream": "stdout",
       "text": [
        "\r",
        "Fitting: [===========================================                                     ] 54%"
       ]
      },
      {
       "output_type": "stream",
       "stream": "stdout",
       "text": [
        "\r",
        "Fitting: [============================================                                    ] 56%"
       ]
      },
      {
       "output_type": "stream",
       "stream": "stdout",
       "text": [
        "\r",
        "Fitting: [==============================================                                  ] 58%"
       ]
      },
      {
       "output_type": "stream",
       "stream": "stdout",
       "text": [
        "\r",
        "Fitting: [===============================================                                 ] 60%"
       ]
      },
      {
       "output_type": "stream",
       "stream": "stdout",
       "text": [
        "\r",
        "Fitting: [================================================================================] Done!\n"
       ]
      },
      {
       "output_type": "stream",
       "stream": "stdout",
       "text": [
        "Rips: 16.5\u00b13.3 nt (11.95 nm) | 96.0\u00b14.5 nt (52.24 nm)\n",
        "Total: 112.5\u00b14.5 nt (64.19 nm)\n",
        "MMS_rip_region fit: Lp=17.28\u00b10.79 Lc=1068.39\u00b14.21 F0=-0.58\u00b10.01 Lc1=11.95\u00b11.92 Lc2=64.19\u00b11.86\n"
       ]
      }
     ],
     "prompt_number": 273
    },
    {
     "cell_type": "code",
     "collapsed": false,
     "input": [
      "s2m5[2] = {'rips': repr(rips), 'fit': repr(fit), 'intervals': tuple(intervals), 'stems_lost': stems_lost}"
     ],
     "language": "python",
     "metadata": {},
     "outputs": [],
     "prompt_number": 107
    },
    {
     "cell_type": "code",
     "collapsed": false,
     "input": [
      "p = pulls([3,5,6],to_fit).collapse()\n",
      "p.plot(show_fret=False)"
     ],
     "language": "python",
     "metadata": {},
     "outputs": [
      {
       "output_type": "pyout",
       "prompt_number": 275,
       "text": [
        "<smbanalyze.fplot.Figure at 0x11153f810>"
       ]
      }
     ],
     "prompt_number": 275
    },
    {
     "cell_type": "code",
     "collapsed": false,
     "input": [
      "mid = mid_intervals"
     ],
     "language": "python",
     "metadata": {},
     "outputs": [],
     "prompt_number": 279
    },
    {
     "cell_type": "code",
     "collapsed": false,
     "input": [
      "mid_intervals = pick_intervals(4)"
     ],
     "language": "python",
     "metadata": {},
     "outputs": [],
     "prompt_number": 281
    },
    {
     "cell_type": "code",
     "collapsed": false,
     "input": [
      "def handle(f):\n",
      "    return {param:val for param,val in f.parameters.items()[:4]}"
     ],
     "language": "python",
     "metadata": {},
     "outputs": [],
     "prompt_number": 132
    },
    {
     "cell_type": "code",
     "collapsed": false,
     "input": [
      "above_line=pick_line()"
     ],
     "language": "python",
     "metadata": {},
     "outputs": [],
     "prompt_number": 188
    },
    {
     "cell_type": "code",
     "collapsed": false,
     "input": [
      "masks = p.trap.make_masks(mid_intervals)\n",
      "masks[2] &= p.trap.mask_above(above_line)"
     ],
     "language": "python",
     "metadata": {},
     "outputs": [],
     "prompt_number": 282
    },
    {
     "cell_type": "code",
     "collapsed": false,
     "input": [
      "handle_params = handle(fit)\n",
      "fit_mid = fec.fit_rips(p.trap, masks, fixed=handle_params.keys(), Lp1=1.5, **handle(fit))\n",
      "print fit_mid\n",
      "fit_mid.plot()\n",
      "rip_mid = Rips.from_fit(fit_mid, (-1,1,1), 'RNA')\n",
      "print rip_mid"
     ],
     "language": "python",
     "metadata": {},
     "outputs": [
      {
       "output_type": "stream",
       "stream": "stdout",
       "text": [
        "\r",
        "Fitting: [=                                                                               ] 2%"
       ]
      },
      {
       "output_type": "stream",
       "stream": "stdout",
       "text": [
        "\r",
        "Fitting: [==                                                                              ] 3%"
       ]
      },
      {
       "output_type": "stream",
       "stream": "stdout",
       "text": [
        "\r",
        "Fitting: [====                                                                            ] 5%"
       ]
      },
      {
       "output_type": "stream",
       "stream": "stdout",
       "text": [
        "\r",
        "Fitting: [=====                                                                           ] 7%"
       ]
      },
      {
       "output_type": "stream",
       "stream": "stdout",
       "text": [
        "\r",
        "Fitting: [======                                                                          ] 9%"
       ]
      },
      {
       "output_type": "stream",
       "stream": "stdout",
       "text": [
        "\r",
        "Fitting: [========                                                                        ] 10%"
       ]
      },
      {
       "output_type": "stream",
       "stream": "stdout",
       "text": [
        "\r",
        "Fitting: [=========                                                                       ] 12%"
       ]
      },
      {
       "output_type": "stream",
       "stream": "stdout",
       "text": [
        "\r",
        "Fitting: [===========                                                                     ] 14%"
       ]
      },
      {
       "output_type": "stream",
       "stream": "stdout",
       "text": [
        "\r",
        "Fitting: [============                                                                    ] 16%"
       ]
      },
      {
       "output_type": "stream",
       "stream": "stdout",
       "text": [
        "\r",
        "Fitting: [=============                                                                   ] 17%"
       ]
      },
      {
       "output_type": "stream",
       "stream": "stdout",
       "text": [
        "\r",
        "Fitting: [===============                                                                 ] 19%"
       ]
      },
      {
       "output_type": "stream",
       "stream": "stdout",
       "text": [
        "\r",
        "Fitting: [================                                                                ] 21%"
       ]
      },
      {
       "output_type": "stream",
       "stream": "stdout",
       "text": [
        "\r",
        "Fitting: [================================================================================] Done!\n"
       ]
      },
      {
       "output_type": "stream",
       "stream": "stdout",
       "text": [
        "MMS_rip_region fit: Lc1=24.68\u00b11.10 Lc2=40.19\u00b10.57 Lc3=64.33\u00b10.43\n",
        "Rips: 38.1\u00b11.9 nt (24.68 nm) | 30.0\u00b12.1 nt (15.51 nm) | 44.6\u00b11.2 nt (24.14 nm)\n",
        "Total: 112.8\u00b11.2 nt (64.33 nm)\n"
       ]
      }
     ],
     "prompt_number": 284
    },
    {
     "cell_type": "code",
     "collapsed": false,
     "input": [
      "17+21, 12+15, 32+11"
     ],
     "language": "python",
     "metadata": {},
     "outputs": [
      {
       "output_type": "pyout",
       "prompt_number": 249,
       "text": [
        "(38, 27, 43)"
       ]
      }
     ],
     "prompt_number": 249
    },
    {
     "cell_type": "code",
     "collapsed": false,
     "input": [
      "wtum = db.get_exp(datadb.tpp, construct='wtum' ).has_value(trap_ext_atleast=1090)"
     ],
     "language": "python",
     "metadata": {},
     "outputs": [],
     "prompt_number": 292
    },
    {
     "cell_type": "code",
     "collapsed": false,
     "input": [
      "wtum.adjustOffset(force_x_range=(700,800), ext_f_range=(31,32), ext_x_range=1100)"
     ],
     "language": "python",
     "metadata": {},
     "outputs": [
      {
       "output_type": "pyout",
       "prompt_number": 295,
       "text": [
        "([0.747333082783598,\n",
        "  0.15640639488947272,\n",
        "  -0.4065998681835481,\n",
        "  -0.17896877509610931,\n",
        "  0.2006869111726246,\n",
        "  0.2653784665310468,\n",
        "  -0.37893724423838648,\n",
        "  -0.1174375163309378,\n",
        "  0.029394988092917629,\n",
        "  0.075391321999859429,\n",
        "  0.61477430032664415,\n",
        "  0.010563873746605168,\n",
        "  -0.5532407755802069,\n",
        "  -0.86199346771559249,\n",
        "  -0.34195000050340241,\n",
        "  0.41473470578898741,\n",
        "  0.060710157984658508,\n",
        "  0.0003696900764680322,\n",
        "  -0.15759925593033586,\n",
        "  0.02067340437065468,\n",
        "  -0.57192334870524064,\n",
        "  0.0032632569268571388,\n",
        "  -0.33892848446998869,\n",
        "  -0.10930147445105831,\n",
        "  0.35328126947661076,\n",
        "  0.19751432271027625,\n",
        "  -0.30427435217711718,\n",
        "  -0.41836828415853233,\n",
        "  -0.059975756170615568,\n",
        "  -0.28140142679308155,\n",
        "  -0.14229237362656022,\n",
        "  -0.47128954316167437,\n",
        "  0.21362199563850481,\n",
        "  -0.27069055404786013,\n",
        "  0.046500390728624552,\n",
        "  -0.56581811190039843,\n",
        "  0.65281369374656606,\n",
        "  -0.020125290514215521,\n",
        "  0.34856530707884303,\n",
        "  0.67771341263869544,\n",
        "  -0.15614777054202023,\n",
        "  0.41640291337284907,\n",
        "  -0.076835178535020532,\n",
        "  0.33201620653653663,\n",
        "  0.072779882234272009,\n",
        "  0.18039789604745238,\n",
        "  0.035895524671559542,\n",
        "  -0.25062158814012037,\n",
        "  -0.85255069610752798,\n",
        "  -0.28517076748016734,\n",
        "  -0.20525920415866494,\n",
        "  -0.28645907880923005,\n",
        "  -0.0788520261874055,\n",
        "  0.99097741415744167,\n",
        "  0.84203634504706315,\n",
        "  -0.70121127594825339,\n",
        "  -0.29559949587360279,\n",
        "  0.021613504781953452,\n",
        "  -0.33657484643504176,\n",
        "  -0.31013002296776904,\n",
        "  0.22914994826282964,\n",
        "  0.18852432281119036,\n",
        "  0.70614497987230607,\n",
        "  0.24258295215804537,\n",
        "  0.94547201724913066,\n",
        "  -0.13531209686084367,\n",
        "  0.22815509787437804],\n",
        " [-0.15382048500000001,\n",
        "  -0.071189716666666736,\n",
        "  0.070101776666666615,\n",
        "  0.012975703333333422,\n",
        "  -0.082302311111111082,\n",
        "  -0.10857559999999999,\n",
        "  0.063159592000000042,\n",
        "  -0.002466120333333377,\n",
        "  -0.039315060000000068,\n",
        "  -0.050858254333333353,\n",
        "  -0.086255933333333257,\n",
        "  -0.03458922222222216,\n",
        "  0.10690263333333327,\n",
        "  0.10073389999999993,\n",
        "  0.053877309999999956,\n",
        "  -0.13601953333333339,\n",
        "  0.024349433333333337,\n",
        "  -0.032030899999999973,\n",
        "  0.0076128299999999594,\n",
        "  -0.037126299999999945,\n",
        "  0.059308066666666714,\n",
        "  -0.032757066666666557,\n",
        "  0.053119033333333399,\n",
        "  -0.0045079333333333249,\n",
        "  -0.071660233333333379,\n",
        "  -0.036333500000000019,\n",
        "  0.044422266666666654,\n",
        "  0.073055166666666671,\n",
        "  -0.016886666666666716,\n",
        "  0.038682100000000108,\n",
        "  0.0037714300000001311,\n",
        "  0.08633623333333329,\n",
        "  -0.12444713333333335,\n",
        "  0.035994110000000024,\n",
        "  -0.047372199999999975,\n",
        "  0.12511656966666662,\n",
        "  -0.19576760000000004,\n",
        "  -0.026887499999999953,\n",
        "  -0.11941372666666661,\n",
        "  -0.11146203333333349,\n",
        "  0.0072485666666667337,\n",
        "  -0.031453666666666713,\n",
        "  0.072670419999999958,\n",
        "  -0.090164679999999886,\n",
        "  -0.050202889999999889,\n",
        "  -0.077210600000000018,\n",
        "  -0.044710813333333266,\n",
        "  0.030957622222222203,\n",
        "  0.05486458999999988,\n",
        "  0.03962804999999997,\n",
        "  0.019573523333333287,\n",
        "  0.039951363333333378,\n",
        "  -0.012149496666666648,\n",
        "  -0.12001906666666673,\n",
        "  -0.17465926666666665,\n",
        "  0.14403716333333338,\n",
        "  0.042245233333333299,\n",
        "  -0.037362226666666665,\n",
        "  0.052528366666666604,\n",
        "  0.045891800000000038,\n",
        "  -0.089445366666666803,\n",
        "  -0.079249999999999932,\n",
        "  -0.20915156666666679,\n",
        "  -0.092816499999999968,\n",
        "  -0.086012766666666685,\n",
        "  0.0020196666666666419,\n",
        "  -0.089195699999999989])"
       ]
      }
     ],
     "prompt_number": 295
    },
    {
     "cell_type": "code",
     "collapsed": false,
     "input": [
      "wtum.plot(style='-')"
     ],
     "language": "python",
     "metadata": {},
     "outputs": [
      {
       "output_type": "pyout",
       "prompt_number": 297,
       "text": [
        "<smbanalyze.fplot.Figure at 0x11171d0d0>"
       ]
      }
     ],
     "prompt_number": 297
    }
   ],
   "metadata": {}
  }
 ]
}