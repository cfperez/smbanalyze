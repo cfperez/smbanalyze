{
 "metadata": {
  "name": "!Loading data"
 },
 "nbformat": 3,
 "nbformat_minor": 0,
 "worksheets": [
  {
   "cells": [
    {
     "cell_type": "code",
     "collapsed": false,
     "input": [
      "from smbanalyze import shell\n",
      "reload(shell)"
     ],
     "language": "python",
     "metadata": {},
     "outputs": [
      {
       "output_type": "pyout",
       "prompt_number": 5,
       "text": [
        "<module 'smbanalyze.shell' from '/Users/cfperez/Python/scientific/smbanalyze/shell.py'>"
       ]
      }
     ],
     "prompt_number": 5
    },
    {
     "cell_type": "code",
     "collapsed": false,
     "input": [
      "from smbanalyze.shell import *\n",
      "\n",
      "PROJECT_DIR = '/Users/cfperez/Documents/FRET/'\n",
      "DATA_DIR = os.path.join(PROJECT_DIR, 'Data/') #'/Volumes/c$/Data/FRET/' #os.path.join(PROJECT_DIR, 'Data/')\n",
      "ANALYSIS_DIR = os.path.join(PROJECT_DIR, 'Analysis/')"
     ],
     "language": "python",
     "metadata": {},
     "outputs": [],
     "prompt_number": 1
    },
    {
     "cell_type": "code",
     "collapsed": false,
     "input": [
      "datadb = db.connect()"
     ],
     "language": "python",
     "metadata": {},
     "outputs": [],
     "prompt_number": 2
    },
    {
     "cell_type": "code",
     "collapsed": false,
     "input": [
      "dir_ = '2014.03.03'\n",
      "construct = 'WT2at'\n",
      "slide_id,mol_id = 2,5\n",
      "\n",
      "mol_name = 's%dm%d' % (slide_id,mol_id)\n",
      "print dir_, construct, mol_name\n",
      "\n",
      "PROJECT_DIR = '/Users/cfperez/Documents/FRET/'\n",
      "DATA_DIR = os.path.join(PROJECT_DIR, 'Data/') #'/Volumes/c$/Data/FRET/' #os.path.join(PROJECT_DIR, 'Data/')\n",
      "ANALYSIS_DIR = os.path.join(PROJECT_DIR, 'Analysis/')\n",
      "\n",
      "cdanl = lambda : os.chdir(ANALYSIS_DIR+dir_)\n",
      "cddata = lambda : os.chdir(DATA_DIR+dir_)\n",
      "    \n",
      "cdanl()"
     ],
     "language": "python",
     "metadata": {},
     "outputs": [
      {
       "output_type": "stream",
       "stream": "stdout",
       "text": [
        "2014.03.03 WT2at s2m5\n"
       ]
      }
     ],
     "prompt_number": 180
    },
    {
     "cell_type": "markdown",
     "metadata": {},
     "source": [
      "Process Images\n",
      "-------"
     ]
    },
    {
     "cell_type": "code",
     "collapsed": false,
     "input": [
      "roi_file = 'roi.txt'"
     ],
     "language": "python",
     "metadata": {},
     "outputs": [],
     "prompt_number": 184
    },
    {
     "cell_type": "code",
     "collapsed": false,
     "input": [
      "fcalc.processMatch(construct, mol_name, 'refold', 'up', \n",
      "#background=92.5,\n",
      "background='background.img', \n",
      "beta=.15, roi=roi_file, \n",
      "minsub=False)"
     ],
     "language": "python",
     "metadata": {},
     "outputs": [
      {
       "output_type": "stream",
       "stream": "stdout",
       "text": [
        "Opening WT2at_1nM_s2m4_24_refold_0.0s_1_up.img...\n",
        "Saving .fret data to file..."
       ]
      },
      {
       "output_type": "stream",
       "stream": "stdout",
       "text": [
        "\n",
        "Opening WT2at_1nM_s2m4_24_refold_0.0s_3_up.img...\n",
        "Saving .fret data to file..."
       ]
      },
      {
       "output_type": "stream",
       "stream": "stdout",
       "text": [
        "\n",
        "Opening WT2at_1nM_s2m4_24_refold_0.0s_5_up.img...\n",
        "\n",
        "** Error processing file WT2at_1nM_s2m4_24_refold_0.0s_5_up.img: .img file and .cam file dimensions do not agree**\n"
       ]
      },
      {
       "output_type": "stream",
       "stream": "stdout",
       "text": [
        "\n",
        "Opening WT2at_1nM_s2m4_3_refold_0.0s_1_up.img...\n",
        "Saving .fret data to file..."
       ]
      },
      {
       "output_type": "stream",
       "stream": "stdout",
       "text": [
        "\n",
        "Opening WT2at_1nM_s2m4_3_refold_0.0s_3_up.img...\n",
        "Saving .fret data to file..."
       ]
      },
      {
       "output_type": "stream",
       "stream": "stdout",
       "text": [
        "\n",
        "Opening WT2at_1nM_s2m4_3_refold_0.0s_5_up.img...\n",
        "Saving .fret data to file..."
       ]
      },
      {
       "output_type": "stream",
       "stream": "stdout",
       "text": [
        "\n",
        "Opening WT2at_1nM_s2m4_3_refold_0.0s_7_up.img...\n",
        "Saving .fret data to file..."
       ]
      },
      {
       "output_type": "stream",
       "stream": "stdout",
       "text": [
        "\n",
        "Opening WT2at_1nM_s2m4_3_refold_0.0s_9_up.img...\n",
        "Saving .fret data to file..."
       ]
      },
      {
       "output_type": "stream",
       "stream": "stdout",
       "text": [
        "\n",
        "Opening WT2at_1nM_s2m4_35_refold_0.0s_1_up.img...\n",
        "Saving .fret data to file..."
       ]
      },
      {
       "output_type": "stream",
       "stream": "stdout",
       "text": [
        "\n",
        "Opening WT2at_1nM_s2m4_35_refold_0.0s_3_up.img...\n",
        "Saving .fret data to file..."
       ]
      },
      {
       "output_type": "stream",
       "stream": "stdout",
       "text": [
        "\n",
        "Opening WT2at_1nM_s2m4_35_refold_0.0s_5_up.img...\n",
        "\n",
        "** Error processing file WT2at_1nM_s2m4_35_refold_0.0s_5_up.img: .img file and .cam file dimensions do not agree**\n"
       ]
      },
      {
       "output_type": "stream",
       "stream": "stdout",
       "text": [
        "\n",
        "Opening WT2at_1nM_s2m4_46_refold_0.0s_1_up.img...\n",
        "Saving .fret data to file..."
       ]
      },
      {
       "output_type": "stream",
       "stream": "stdout",
       "text": [
        "\n",
        "Opening WT2at_1nM_s2m4_46_refold_0.0s_3_up.img...\n",
        "\n",
        "** Error processing file WT2at_1nM_s2m4_46_refold_0.0s_3_up.img: .img file and .cam file dimensions do not agree**\n"
       ]
      },
      {
       "output_type": "stream",
       "stream": "stdout",
       "text": [
        "\n"
       ]
      }
     ],
     "prompt_number": 258
    },
    {
     "cell_type": "code",
     "collapsed": false,
     "input": [
      "img_files = fileIO.files_matching((construct, mol_name, 'refold', 'up'), with_ext='.img')\n",
      "print img_files"
     ],
     "language": "python",
     "metadata": {},
     "outputs": [
      {
       "output_type": "stream",
       "stream": "stdout",
       "text": [
        "['WT2at_200pM_s2m5_refold_1.0s_1_up.img', 'WT2at_200pM_s2m5_refold_1.0s_10_up.img', 'WT2at_200pM_s2m5_refold_1.0s_2_up.img', 'WT2at_200pM_s2m5_refold_1.0s_3_up.img', 'WT2at_200pM_s2m5_refold_1.0s_4_up.img', 'WT2at_200pM_s2m5_refold_1.0s_5_up.img', 'WT2at_200pM_s2m5_refold_1.0s_6_up.img', 'WT2at_200pM_s2m5_refold_1.0s_7_up.img', 'WT2at_200pM_s2m5_refold_1.0s_8_up.img']\n"
       ]
      }
     ],
     "prompt_number": 1083
    },
    {
     "cell_type": "code",
     "collapsed": false,
     "input": [
      "bg = image.fromBackground('background.img', filter='min')"
     ],
     "language": "python",
     "metadata": {},
     "outputs": [],
     "prompt_number": 1080
    },
    {
     "cell_type": "code",
     "collapsed": false,
     "input": [
      "close('all')"
     ],
     "language": "python",
     "metadata": {},
     "outputs": [],
     "prompt_number": 851
    },
    {
     "cell_type": "code",
     "collapsed": false,
     "input": [
      "to_load = img_files[7]\n",
      "print \"Loading\", to_load\n",
      "img = image.fromFile(to_load,\n",
      "#background=92.5)\n",
      "#background='background_30.img')\n",
      "background=bg)\n",
      "print img.frames, \"frames in image\"\n",
      "\n",
      "img.addROI(don,acc)\n",
      "\n",
      "img.show(13)"
     ],
     "language": "python",
     "metadata": {},
     "outputs": [
      {
       "output_type": "stream",
       "stream": "stdout",
       "text": [
        "Loading WT2at_200pM_s2m5_refold_1.0s_7_up.img\n",
        "57"
       ]
      },
      {
       "output_type": "stream",
       "stream": "stdout",
       "text": [
        " frames in image\n"
       ]
      }
     ],
     "prompt_number": 852
    },
    {
     "cell_type": "code",
     "collapsed": false,
     "input": [
      "don.left -= 1\n",
      "don.top += 1\n",
      "img.addROI(don,acc)"
     ],
     "language": "python",
     "metadata": {},
     "outputs": [],
     "prompt_number": 936
    },
    {
     "cell_type": "code",
     "collapsed": false,
     "input": [
      "frame = itertools.cycle(range(img.frames))"
     ],
     "language": "python",
     "metadata": {},
     "outputs": [],
     "prompt_number": 1522
    },
    {
     "cell_type": "code",
     "collapsed": false,
     "input": [
      "n = next(frame)\n",
      "img.show(n)\n",
      "title('N = %d' % n)"
     ],
     "language": "python",
     "metadata": {},
     "outputs": [
      {
       "output_type": "pyout",
       "prompt_number": 1523,
       "text": [
        "<matplotlib.text.Text at 0x116e3f050>"
       ]
      }
     ],
     "prompt_number": 1523
    },
    {
     "cell_type": "code",
     "collapsed": false,
     "input": [
      "don.save('roi_7.txt', don, acc)"
     ],
     "language": "python",
     "metadata": {},
     "outputs": [],
     "prompt_number": 1014
    },
    {
     "cell_type": "code",
     "collapsed": false,
     "input": [
      "don,acc = image.ROI.fromFile(roi_file)\n",
      "print don,acc\n",
      "img.addROI(don,acc)\n",
      "img.show(10)"
     ],
     "language": "python",
     "metadata": {},
     "outputs": [
      {
       "output_type": "stream",
       "stream": "stdout",
       "text": [
        "<absolute ROI 'donor' = L: 70, R: 81, B: 280, T: 292> <absolute ROI 'acceptor' = L: 28, R: 42, B: 46, T: 60>\n"
       ]
      }
     ],
     "prompt_number": 293
    },
    {
     "cell_type": "code",
     "collapsed": false,
     "input": [
      "bg_pixel = 4.5\n",
      "beta,gamma = .13,1.1\n",
      "d,a,fret = fcalc.calculate(\n",
      "    img.donor - don.size*bg_pixel,\n",
      "    img.acceptor - acc.size*bg_pixel, \n",
      "    beta=0.13, gamma=1.1)\n",
      "d *= (1+beta/gamma)"
     ],
     "language": "python",
     "metadata": {},
     "outputs": [],
     "prompt_number": 1076
    },
    {
     "cell_type": "code",
     "collapsed": false,
     "input": [
      "reload(fplot)\n",
      "fig('test')\n",
      "fplot.plot_counts(d,a,fret)"
     ],
     "language": "python",
     "metadata": {},
     "outputs": [],
     "prompt_number": 1107
    },
    {
     "cell_type": "code",
     "collapsed": false,
     "input": [
      "date_ = '2014.3.3_'"
     ],
     "language": "python",
     "metadata": {},
     "outputs": [],
     "prompt_number": 843
    },
    {
     "cell_type": "code",
     "collapsed": false,
     "input": [
      "fcalc.toFile( date_+fileIO.change_extension(to_load, '.fret'), img.time, d, a, fret, img.metadata)"
     ],
     "language": "python",
     "metadata": {},
     "outputs": [],
     "prompt_number": 1031
    },
    {
     "cell_type": "code",
     "collapsed": false,
     "input": [
      "savefig( date_+fileIO.change_extension(to_load,'.png') )"
     ],
     "language": "python",
     "metadata": {},
     "outputs": [],
     "prompt_number": 1032
    },
    {
     "cell_type": "code",
     "collapsed": false,
     "input": [
      "s2m5 = {\n",
      "        1: {'img': img, 'beta':.13, 'gamma':1., 'donor':d, 'acceptor':a,'fret':fret}\n",
      "        }"
     ],
     "language": "python",
     "metadata": {},
     "outputs": [],
     "prompt_number": 472
    },
    {
     "cell_type": "code",
     "collapsed": false,
     "input": [
      "p = experiment.fromFile(fileIO.change_extension(to_load, '.str'))\n",
      "p.plot()"
     ],
     "language": "python",
     "metadata": {},
     "outputs": [
      {
       "output_type": "pyout",
       "prompt_number": 1033,
       "text": [
        "<smbanalyze.fplot.Figure at 0x114f056d0>"
       ]
      }
     ],
     "prompt_number": 1033
    },
    {
     "cell_type": "code",
     "collapsed": false,
     "input": [
      "fig('Segmented')\n",
      "plot_segmented(p, exp=exp, title=p.filename)"
     ],
     "language": "python",
     "metadata": {},
     "outputs": [],
     "prompt_number": 1034
    },
    {
     "cell_type": "code",
     "collapsed": false,
     "input": [
      "savefig(date_+p.filename+\" rainbow.png\")"
     ],
     "language": "python",
     "metadata": {},
     "outputs": [],
     "prompt_number": 1035
    },
    {
     "cell_type": "code",
     "collapsed": false,
     "input": [
      "exp = experiment.fromMatch('WT2at','s2m5','refold','up').has_value(trap_f_atleast=20)"
     ],
     "language": "python",
     "metadata": {},
     "outputs": [],
     "prompt_number": 627
    },
    {
     "cell_type": "markdown",
     "metadata": {},
     "source": [
      "Load experiment data\n",
      "------"
     ]
    },
    {
     "cell_type": "code",
     "collapsed": false,
     "input": [
      "close('all')"
     ],
     "language": "python",
     "metadata": {},
     "outputs": [],
     "prompt_number": 1524
    },
    {
     "cell_type": "code",
     "collapsed": false,
     "input": [
      "bg = image.fromBackground('background.img', filter='min')"
     ],
     "language": "python",
     "metadata": {},
     "outputs": [],
     "prompt_number": 1219
    },
    {
     "cell_type": "code",
     "collapsed": false,
     "input": [
      "dir_ = '2014.03.03'\n",
      "construct = 'WT2at'\n",
      "slide_id,mol_id = 2,3\n",
      "\n",
      "os.chdir(ANALYSIS_DIR+dir_)\n",
      "\n",
      "mol_name = 's%dm%d' % (slide_id,mol_id)\n",
      "\n",
      "print \"Loading molecules matching:\", dir_, construct, mol_name\n",
      "fig_name = ' '.join([dir_, construct, mol_name])\n",
      "original = experiment.fromMatch(construct, mol_name, 'refold', 'up')\n",
      "if not original:\n",
      "    print \"WARNING: Failed to load\"\n",
      "else:\n",
      "    print \"Found %d molecules\" % len(original)"
     ],
     "language": "python",
     "metadata": {},
     "outputs": [
      {
       "output_type": "stream",
       "stream": "stdout",
       "text": [
        "Loading molecules matching: 2014.03.03 WT2at s2m3\n",
        "Found 30 molecules"
       ]
      },
      {
       "output_type": "stream",
       "stream": "stdout",
       "text": [
        "\n"
       ]
      }
     ],
     "prompt_number": 1088
    },
    {
     "cell_type": "code",
     "collapsed": false,
     "input": [
      "exp = original.has_value(trap_f_atleast=20).has_value(trap_ext_atmost=1200).has_value(trap_ext_atleast=1040)\n",
      "if exp != original:\n",
      "    removed = original.filter(lambda p: p not in exp)\n",
      "    print \"Warning! Removed some traces from analysis:\\n%s\\n\" % str(list(removed))\n",
      "    removed.figure.new()\n",
      "    removed.plot(show_fret=False, style='-', title='Removed traces')\n",
      "\n",
      "close('all')\n",
      "p = next(exp)\n",
      "exp_fret = exp.has('fret')\n",
      "if exp_fret:\n",
      "    exp_fret.plot(title=fig_name)\n",
      "show_legend = 'upper left' if len(exp)<10 else None\n",
      "exp.plot(show_fret=False, style='-', title=fig_name+' FEC', legend=show_legend)\n",
      "print \"{} good molecules | {} have fret\".format(len(exp), len(exp_fret))"
     ],
     "language": "python",
     "metadata": {},
     "outputs": [
      {
       "output_type": "stream",
       "stream": "stdout",
       "text": [
        "Warning! Removed some traces from analysis:\n",
        "[<Experiment.Pulling from 'WT2at_200pM_s2m3_refold_10.0s_10_up'>]\n",
        "\n",
        "29 good molecules | 10 have fret"
       ]
      },
      {
       "output_type": "stream",
       "stream": "stdout",
       "text": [
        "\n"
       ]
      }
     ],
     "prompt_number": 1213
    },
    {
     "cell_type": "code",
     "collapsed": false,
     "input": [
      "exp_fret = exp_fret.has_value(fret_donor_atleast=1250)\n",
      "exp_fret.plot()"
     ],
     "language": "python",
     "metadata": {},
     "outputs": [
      {
       "output_type": "pyout",
       "prompt_number": 1214,
       "text": [
        "<smbanalyze.fplot.Figure at 0x1147abd90>"
       ]
      }
     ],
     "prompt_number": 1214
    },
    {
     "cell_type": "code",
     "collapsed": false,
     "input": [
      "for p in exp:\n",
      "    #s,m = map(int, re.match(r's(\\d+)m(\\d+)', p.filename).groups())\n",
      "    p.metadata.update({\n",
      "    'tpp': 10e-6,\n",
      "    'mg': 4e-3,\n",
      "    'tx': 3e-3,\n",
      "    'tq': 0.19,\n",
      "    'edta': 0.1e-3,\n",
      "    'construct': construct,\n",
      "    'mol': slide_id,\n",
      "    'slide': mol_id\n",
      "    })"
     ],
     "language": "python",
     "metadata": {},
     "outputs": [],
     "prompt_number": 1215
    },
    {
     "cell_type": "code",
     "collapsed": false,
     "input": [
      "p = next(exp_fret)\n",
      "print p"
     ],
     "language": "python",
     "metadata": {},
     "outputs": [
      {
       "output_type": "stream",
       "stream": "stdout",
       "text": [
        "<Experiment.Pulling from 'WT2at_200pM_s2m3_refold_0.5s_3_up'>\n"
       ]
      }
     ],
     "prompt_number": 1433
    },
    {
     "cell_type": "code",
     "collapsed": false,
     "input": [
      "roi_file = 'roi_s2m3_2.txt'\n",
      "img = p.loadimg(background=bg)\n",
      "don,acc = image.ROI.fromFile(roi_file)\n",
      "img.addROI(don,acc)\n",
      "img.show()"
     ],
     "language": "python",
     "metadata": {},
     "outputs": [],
     "prompt_number": 1436
    },
    {
     "cell_type": "code",
     "collapsed": false,
     "input": [
      "#don.top += 1\n",
      "img.addROI(don)"
     ],
     "language": "python",
     "metadata": {},
     "outputs": [],
     "prompt_number": 1346
    },
    {
     "cell_type": "code",
     "collapsed": false,
     "input": [
      "img.show(18)"
     ],
     "language": "python",
     "metadata": {},
     "outputs": [],
     "prompt_number": 1356
    },
    {
     "cell_type": "code",
     "collapsed": false,
     "input": [
      "image.ROI.save('roi_s2m3_3.txt', don, acc)"
     ],
     "language": "python",
     "metadata": {},
     "outputs": [],
     "prompt_number": 1437
    },
    {
     "cell_type": "code",
     "collapsed": false,
     "input": [
      "align_cutoff = 1060\n",
      "f_range = (31,32)\n",
      "to_align = exp.has_value(trap_ext_atleast=align_cutoff)\n",
      "to_align.adjustOffset(force_x_range=(72,800), ext_f_range=f_range, ext_x_range=align_cutoff)\n",
      "exp.plot(show_fret=False, FEC=True, style='-')"
     ],
     "language": "python",
     "metadata": {},
     "outputs": [
      {
       "output_type": "pyout",
       "prompt_number": 1221,
       "text": [
        "<smbanalyze.fplot.Figure at 0x114da43d0>"
       ]
      }
     ],
     "prompt_number": 1221
    },
    {
     "cell_type": "code",
     "collapsed": false,
     "input": [
      "aux = experiment.List(set(exp) - set(to_align))\n",
      "aux"
     ],
     "language": "python",
     "metadata": {},
     "outputs": [
      {
       "ename": "NameError",
       "evalue": "name 'to_align' is not defined",
       "output_type": "pyerr",
       "traceback": [
        "\u001b[0;31m---------------------------------------------------------------------------\u001b[0m\n\u001b[0;31mNameError\u001b[0m                                 Traceback (most recent call last)",
        "\u001b[0;32m<ipython-input-16-93cd99dbebbd>\u001b[0m in \u001b[0;36m<module>\u001b[0;34m()\u001b[0m\n\u001b[0;32m----> 1\u001b[0;31m \u001b[0maux\u001b[0m \u001b[0;34m=\u001b[0m \u001b[0mexperiment\u001b[0m\u001b[0;34m.\u001b[0m\u001b[0mList\u001b[0m\u001b[0;34m(\u001b[0m\u001b[0mset\u001b[0m\u001b[0;34m(\u001b[0m\u001b[0mexp\u001b[0m\u001b[0;34m)\u001b[0m \u001b[0;34m-\u001b[0m \u001b[0mset\u001b[0m\u001b[0;34m(\u001b[0m\u001b[0mto_align\u001b[0m\u001b[0;34m)\u001b[0m\u001b[0;34m)\u001b[0m\u001b[0;34m\u001b[0m\u001b[0m\n\u001b[0m\u001b[1;32m      2\u001b[0m \u001b[0maux\u001b[0m\u001b[0;34m\u001b[0m\u001b[0m\n",
        "\u001b[0;31mNameError\u001b[0m: name 'to_align' is not defined"
       ]
      }
     ],
     "prompt_number": 16
    },
    {
     "cell_type": "code",
     "collapsed": false,
     "input": [
      "def force_align(to_align, to_align_to, f_range, force_x_range=(720,770)):\n",
      "    to_x = mean([p.trap.select(f=f_range).ext.mean() for p in to_align_to])\n",
      "    to_align.adjustOffset(to_x=to_x, force_x_range=force_x_range, ext_f_range=f_range)\n",
      "    return to_align"
     ],
     "language": "python",
     "metadata": {},
     "outputs": [],
     "prompt_number": 22
    },
    {
     "cell_type": "code",
     "collapsed": false,
     "input": [
      "force_align(exp, exp[:1], (4,5))"
     ],
     "language": "python",
     "metadata": {},
     "outputs": [
      {
       "output_type": "pyout",
       "prompt_number": 26,
       "text": [
        "[0: <Experiment.Pulling from 'WT2AL_0.5nM_s1m1'>\n",
        " 1: <Experiment.Pulling from 'WT2AL_0.5nM_s1m1_3'>\n",
        " 2: <Experiment.Pulling from 'WT2AL_0.5nM_s1m10'>\n",
        " 3: <Experiment.Pulling from 'WT2AL_0.5nM_s1m10_2'>\n",
        " 4: <Experiment.Pulling from 'WT2AL_0.5nM_s1m10_3'>\n",
        " 5: <Experiment.Pulling from 'WT2AL_0.5nM_s1m11'>\n",
        " 6: <Experiment.Pulling from 'WT2AL_0.5nM_s1m11_2'>\n",
        " 7: <Experiment.Pulling from 'WT2AL_0.5nM_s1m12'>\n",
        " 8: <Experiment.Pulling from 'WT2AL_0.5nM_s1m12_2'>\n",
        " 9: <Experiment.Pulling from 'WT2AL_0.5nM_s1m2'>\n",
        " 10: <Experiment.Pulling from 'WT2AL_0.5nM_s1m2_2'>\n",
        " 11: <Experiment.Pulling from 'WT2AL_0.5nM_s1m3'>\n",
        " 12: <Experiment.Pulling from 'WT2AL_0.5nM_s1m3_2'>\n",
        " 13: <Experiment.Pulling from 'WT2AL_0.5nM_s1m4'>\n",
        " 14: <Experiment.Pulling from 'WT2AL_0.5nM_s1m4_2'>\n",
        " 15: <Experiment.Pulling from 'WT2AL_0.5nM_s1m4_3'>\n",
        " 16: <Experiment.Pulling from 'WT2AL_0.5nM_s1m5'>\n",
        " 17: <Experiment.Pulling from 'WT2AL_0.5nM_s1m5_2'>\n",
        " 18: <Experiment.Pulling from 'WT2AL_0.5nM_s1m6'>\n",
        " 19: <Experiment.Pulling from 'WT2AL_0.5nM_s1m6_2'>\n",
        " 20: <Experiment.Pulling from 'WT2AL_0.5nM_s1m7'>\n",
        " 21: <Experiment.Pulling from 'WT2AL_0.5nM_s1m7_2'>\n",
        " 22: <Experiment.Pulling from 'WT2AL_0.5nM_s1m8'>\n",
        " 23: <Experiment.Pulling from 'WT2AL_0.5nM_s1m8_2'>\n",
        " 24: <Experiment.Pulling from 'WT2AL_0.5nM_s1m9'>\n",
        " 25: <Experiment.Pulling from 'WT2AL_0.5nM_s1m9_2'>]"
       ]
      }
     ],
     "prompt_number": 26
    },
    {
     "cell_type": "code",
     "collapsed": false,
     "input": [
      "exp.plot(style='-')"
     ],
     "language": "python",
     "metadata": {},
     "outputs": [
      {
       "output_type": "pyout",
       "prompt_number": 28,
       "text": [
        "<smbanalyze.fplot.Figure at 0x10c38a9d0>"
       ]
      }
     ],
     "prompt_number": 28
    },
    {
     "cell_type": "code",
     "collapsed": false,
     "input": [
      "f_range = (6,7)\n",
      "to_x = mean([p.trap.select(f=f_range).ext.mean() for p in to_align])\n",
      "aux.adjustOffset(to_x=to_x, force_x_range=(700,800), ext_f_range=f_range)\n",
      "exp.plot(show_fret=False, FEC=True, style='-')"
     ],
     "language": "python",
     "metadata": {},
     "outputs": [
      {
       "ename": "NameError",
       "evalue": "name 'to_align' is not defined",
       "output_type": "pyerr",
       "traceback": [
        "\u001b[0;31m---------------------------------------------------------------------------\u001b[0m\n\u001b[0;31mNameError\u001b[0m                                 Traceback (most recent call last)",
        "\u001b[0;32m<ipython-input-18-55f756ee2870>\u001b[0m in \u001b[0;36m<module>\u001b[0;34m()\u001b[0m\n\u001b[1;32m      1\u001b[0m \u001b[0mf_range\u001b[0m \u001b[0;34m=\u001b[0m \u001b[0;34m(\u001b[0m\u001b[0;36m6\u001b[0m\u001b[0;34m,\u001b[0m\u001b[0;36m7\u001b[0m\u001b[0;34m)\u001b[0m\u001b[0;34m\u001b[0m\u001b[0m\n\u001b[0;32m----> 2\u001b[0;31m \u001b[0mto_x\u001b[0m \u001b[0;34m=\u001b[0m \u001b[0mmean\u001b[0m\u001b[0;34m(\u001b[0m\u001b[0;34m[\u001b[0m\u001b[0mp\u001b[0m\u001b[0;34m.\u001b[0m\u001b[0mtrap\u001b[0m\u001b[0;34m.\u001b[0m\u001b[0mselect\u001b[0m\u001b[0;34m(\u001b[0m\u001b[0mf\u001b[0m\u001b[0;34m=\u001b[0m\u001b[0mf_range\u001b[0m\u001b[0;34m)\u001b[0m\u001b[0;34m.\u001b[0m\u001b[0mext\u001b[0m\u001b[0;34m.\u001b[0m\u001b[0mmean\u001b[0m\u001b[0;34m(\u001b[0m\u001b[0;34m)\u001b[0m \u001b[0;32mfor\u001b[0m \u001b[0mp\u001b[0m \u001b[0;32min\u001b[0m \u001b[0mto_align\u001b[0m\u001b[0;34m]\u001b[0m\u001b[0;34m)\u001b[0m\u001b[0;34m\u001b[0m\u001b[0m\n\u001b[0m\u001b[1;32m      3\u001b[0m \u001b[0maux\u001b[0m\u001b[0;34m.\u001b[0m\u001b[0madjustOffset\u001b[0m\u001b[0;34m(\u001b[0m\u001b[0mto_x\u001b[0m\u001b[0;34m=\u001b[0m\u001b[0mto_x\u001b[0m\u001b[0;34m,\u001b[0m \u001b[0mforce_x_range\u001b[0m\u001b[0;34m=\u001b[0m\u001b[0;34m(\u001b[0m\u001b[0;36m720\u001b[0m\u001b[0;34m,\u001b[0m\u001b[0;36m770\u001b[0m\u001b[0;34m)\u001b[0m\u001b[0;34m,\u001b[0m \u001b[0mext_f_range\u001b[0m\u001b[0;34m=\u001b[0m\u001b[0mf_range\u001b[0m\u001b[0;34m)\u001b[0m\u001b[0;34m\u001b[0m\u001b[0m\n\u001b[1;32m      4\u001b[0m \u001b[0mexp\u001b[0m\u001b[0;34m.\u001b[0m\u001b[0mplot\u001b[0m\u001b[0;34m(\u001b[0m\u001b[0mshow_fret\u001b[0m\u001b[0;34m=\u001b[0m\u001b[0mFalse\u001b[0m\u001b[0;34m,\u001b[0m \u001b[0mFEC\u001b[0m\u001b[0;34m=\u001b[0m\u001b[0mTrue\u001b[0m\u001b[0;34m,\u001b[0m \u001b[0mstyle\u001b[0m\u001b[0;34m=\u001b[0m\u001b[0;34m'-'\u001b[0m\u001b[0;34m)\u001b[0m\u001b[0;34m\u001b[0m\u001b[0m\n",
        "\u001b[0;31mNameError\u001b[0m: name 'to_align' is not defined"
       ]
      }
     ],
     "prompt_number": 18
    },
    {
     "cell_type": "code",
     "collapsed": false,
     "input": [
      "title(fig_name+\" FEC\")\n",
      "savefig(fig_name+\" FEC.png\")"
     ],
     "language": "python",
     "metadata": {},
     "outputs": [],
     "prompt_number": 1155
    },
    {
     "cell_type": "code",
     "collapsed": false,
     "input": [
      "to_explore = exp_fret"
     ],
     "language": "python",
     "metadata": {},
     "outputs": [],
     "prompt_number": 1222
    },
    {
     "cell_type": "code",
     "collapsed": false,
     "input": [
      "fplot.plot_counts(img.donor,img.acceptor,p.fret.fret)"
     ],
     "language": "python",
     "metadata": {},
     "outputs": [],
     "prompt_number": 1198
    },
    {
     "cell_type": "code",
     "collapsed": false,
     "input": [
      "bg_pixel = 3.5\n",
      "beta,gamma = 0.13,1\n",
      "don = fcalc.counts_from_image(img, rois[0], bg_pixel)\n",
      "acc = fcalc.counts_from_image(img, rois[1], bg_pixel)\n",
      "d,a,e = fcalc.calculate(don, acc, beta, gamma)\n",
      "\n",
      "counts=fig('counts')\n",
      "fplot.plot_counts(d,a,e)"
     ],
     "language": "python",
     "metadata": {},
     "outputs": [],
     "prompt_number": 1438
    },
    {
     "cell_type": "code",
     "collapsed": false,
     "input": [
      "(mean(a[22:31])-mean(a[36:])) / (mean(d[36:])-mean(d[22:31]))"
     ],
     "language": "python",
     "metadata": {},
     "outputs": [
      {
       "output_type": "pyout",
       "prompt_number": 1441,
       "text": [
        "0.44260622469243266"
       ]
      }
     ],
     "prompt_number": 1441
    },
    {
     "cell_type": "code",
     "collapsed": false,
     "input": [
      "#fg.close()\n",
      "p.figure.close()\n",
      "close(p.filename+'_')\n",
      "#p = next(to_explore)\n",
      "\n",
      "if p.fret:\n",
      "    p.plot(FEC=False)\n",
      "    seg=fig(p.filename+'_')\n",
      "    plot_segmented(p, title=p.filename, exp=exp)\n",
      "    #counts=fig('counts')\n",
      "    #fplot.plot_counts(d, a, e)\n",
      "else:\n",
      "    p.plot(FEC=True)"
     ],
     "language": "python",
     "metadata": {},
     "outputs": [],
     "prompt_number": 1443
    },
    {
     "cell_type": "code",
     "collapsed": false,
     "input": [
      "p.fret = FretData.fromFields(img.time,d,a,e)"
     ],
     "language": "python",
     "metadata": {},
     "outputs": [],
     "prompt_number": 1448
    },
    {
     "cell_type": "code",
     "collapsed": false,
     "input": [
      "counts.figure.savefig(date_+p.filename+\" fret.png\")\n",
      "seg.figure.savefig(date_+p.filename+\" rainbow.png\")\n",
      "fcalc.toFile( date_+p.filename+'.fret', img.time, d, a, e, img.metadata)"
     ],
     "language": "python",
     "metadata": {},
     "outputs": [],
     "prompt_number": 1449
    },
    {
     "cell_type": "code",
     "collapsed": false,
     "input": [
      "experiment.fromMatch('s2m5','refold','up').has('fret')[2]['trap.refolding_time']"
     ],
     "language": "python",
     "metadata": {},
     "outputs": [
      {
       "output_type": "pyout",
       "prompt_number": 1456,
       "text": [
        "1.0"
       ]
      }
     ],
     "prompt_number": 1456
    },
    {
     "cell_type": "code",
     "collapsed": false,
     "input": [
      "notes = {'donor': 'bright', \n",
      "'acceptor': 'ok',\n",
      "'bind_tpp': 0\n",
      "}"
     ],
     "language": "python",
     "metadata": {},
     "outputs": [],
     "prompt_number": 1413
    },
    {
     "cell_type": "code",
     "collapsed": false,
     "input": [
      "p_db = datadb.tpp.find_one({'filename': p['filename'], 'date': p['date']})"
     ],
     "language": "python",
     "metadata": {},
     "outputs": [],
     "prompt_number": 1418
    },
    {
     "cell_type": "code",
     "collapsed": false,
     "input": [
      "p_db['experiment'] = p\n",
      "p_db.update(notes)\n",
      "datadb.tpp.save(p_db)"
     ],
     "language": "python",
     "metadata": {},
     "outputs": [
      {
       "ename": "InvalidDocument",
       "evalue": "Cannot encode object: <Experiment.Pulling from 'WT2at_200pM_s2m3_refold_0.5s_2_up'>",
       "output_type": "pyerr",
       "traceback": [
        "\u001b[0;31m---------------------------------------------------------------------------\u001b[0m\n\u001b[0;31mInvalidDocument\u001b[0m                           Traceback (most recent call last)",
        "\u001b[0;32m<ipython-input-1421-1d0bc4ddb5cf>\u001b[0m in \u001b[0;36m<module>\u001b[0;34m()\u001b[0m\n\u001b[1;32m      1\u001b[0m \u001b[0mp_db\u001b[0m\u001b[0;34m[\u001b[0m\u001b[0;34m'experiment'\u001b[0m\u001b[0;34m]\u001b[0m \u001b[0;34m=\u001b[0m \u001b[0mp\u001b[0m\u001b[0;34m\u001b[0m\u001b[0m\n\u001b[1;32m      2\u001b[0m \u001b[0mp_db\u001b[0m\u001b[0;34m.\u001b[0m\u001b[0mupdate\u001b[0m\u001b[0;34m(\u001b[0m\u001b[0mnotes\u001b[0m\u001b[0;34m)\u001b[0m\u001b[0;34m\u001b[0m\u001b[0m\n\u001b[0;32m----> 3\u001b[0;31m \u001b[0mdatadb\u001b[0m\u001b[0;34m.\u001b[0m\u001b[0mtpp\u001b[0m\u001b[0;34m.\u001b[0m\u001b[0msave\u001b[0m\u001b[0;34m(\u001b[0m\u001b[0mp_db\u001b[0m\u001b[0;34m)\u001b[0m\u001b[0;34m\u001b[0m\u001b[0m\n\u001b[0m",
        "\u001b[0;32m/Library/Python/2.7/site-packages/pymongo/collection.pyc\u001b[0m in \u001b[0;36msave\u001b[0;34m(self, to_save, manipulate, safe, check_keys, **kwargs)\u001b[0m\n\u001b[1;32m    267\u001b[0m         \u001b[0;32melse\u001b[0m\u001b[0;34m:\u001b[0m\u001b[0;34m\u001b[0m\u001b[0m\n\u001b[1;32m    268\u001b[0m             self.update({\"_id\": to_save[\"_id\"]}, to_save, True,\n\u001b[0;32m--> 269\u001b[0;31m                         manipulate, safe, check_keys=check_keys, **kwargs)\n\u001b[0m\u001b[1;32m    270\u001b[0m             \u001b[0;32mreturn\u001b[0m \u001b[0mto_save\u001b[0m\u001b[0;34m.\u001b[0m\u001b[0mget\u001b[0m\u001b[0;34m(\u001b[0m\u001b[0;34m\"_id\"\u001b[0m\u001b[0;34m,\u001b[0m \u001b[0mNone\u001b[0m\u001b[0;34m)\u001b[0m\u001b[0;34m\u001b[0m\u001b[0m\n\u001b[1;32m    271\u001b[0m \u001b[0;34m\u001b[0m\u001b[0m\n",
        "\u001b[0;32m/Library/Python/2.7/site-packages/pymongo/collection.pyc\u001b[0m in \u001b[0;36mupdate\u001b[0;34m(self, spec, document, upsert, manipulate, safe, multi, check_keys, **kwargs)\u001b[0m\n\u001b[1;32m    485\u001b[0m             message.update(self.__full_name, upsert, multi,\n\u001b[1;32m    486\u001b[0m                            \u001b[0mspec\u001b[0m\u001b[0;34m,\u001b[0m \u001b[0mdocument\u001b[0m\u001b[0;34m,\u001b[0m \u001b[0msafe\u001b[0m\u001b[0;34m,\u001b[0m \u001b[0moptions\u001b[0m\u001b[0;34m,\u001b[0m\u001b[0;34m\u001b[0m\u001b[0m\n\u001b[0;32m--> 487\u001b[0;31m                            check_keys, self.__uuid_subtype), safe)\n\u001b[0m\u001b[1;32m    488\u001b[0m \u001b[0;34m\u001b[0m\u001b[0m\n\u001b[1;32m    489\u001b[0m     \u001b[0;32mdef\u001b[0m \u001b[0mdrop\u001b[0m\u001b[0;34m(\u001b[0m\u001b[0mself\u001b[0m\u001b[0;34m)\u001b[0m\u001b[0;34m:\u001b[0m\u001b[0;34m\u001b[0m\u001b[0m\n",
        "\u001b[0;31mInvalidDocument\u001b[0m: Cannot encode object: <Experiment.Pulling from 'WT2at_200pM_s2m3_refold_0.5s_2_up'>"
       ]
      }
     ],
     "prompt_number": 1421
    },
    {
     "cell_type": "code",
     "collapsed": false,
     "input": [
      "datadb = db.connect()"
     ],
     "language": "python",
     "metadata": {},
     "outputs": [],
     "prompt_number": 1417
    },
    {
     "cell_type": "code",
     "collapsed": false,
     "input": [
      "db.save_exp(datadb.tpp, p, notes)"
     ],
     "language": "python",
     "metadata": {},
     "outputs": [
      {
       "ename": "InvalidDocument",
       "evalue": "Cannot encode object: <Experiment.Pulling from 'WT2at_200pM_s2m3_refold_0.5s_2_up'>",
       "output_type": "pyerr",
       "traceback": [
        "\u001b[0;31m---------------------------------------------------------------------------\u001b[0m\n\u001b[0;31mInvalidDocument\u001b[0m                           Traceback (most recent call last)",
        "\u001b[0;32m<ipython-input-1422-9ef8c6207c9b>\u001b[0m in \u001b[0;36m<module>\u001b[0;34m()\u001b[0m\n\u001b[0;32m----> 1\u001b[0;31m \u001b[0mdb\u001b[0m\u001b[0;34m.\u001b[0m\u001b[0msave_exp\u001b[0m\u001b[0;34m(\u001b[0m\u001b[0mdatadb\u001b[0m\u001b[0;34m.\u001b[0m\u001b[0mtpp\u001b[0m\u001b[0;34m,\u001b[0m \u001b[0mp\u001b[0m\u001b[0;34m,\u001b[0m \u001b[0mnotes\u001b[0m\u001b[0;34m)\u001b[0m\u001b[0;34m\u001b[0m\u001b[0m\n\u001b[0m",
        "\u001b[0;32m/Users/cfperez/Python/scientific/smbanalyze/db/api.pyc\u001b[0m in \u001b[0;36msave_exp\u001b[0;34m(db, exp, extra, **extra_)\u001b[0m\n\u001b[1;32m     82\u001b[0m     \u001b[0mto_insert\u001b[0m\u001b[0;34m.\u001b[0m\u001b[0mupdate\u001b[0m\u001b[0;34m(\u001b[0m\u001b[0mextra\u001b[0m\u001b[0;34m)\u001b[0m\u001b[0;34m\u001b[0m\u001b[0m\n\u001b[1;32m     83\u001b[0m     \u001b[0mto_insert\u001b[0m\u001b[0;34m.\u001b[0m\u001b[0mupdate\u001b[0m\u001b[0;34m(\u001b[0m\u001b[0mextra_\u001b[0m\u001b[0;34m)\u001b[0m\u001b[0;34m\u001b[0m\u001b[0m\n\u001b[0;32m---> 84\u001b[0;31m     \u001b[0mdb\u001b[0m\u001b[0;34m.\u001b[0m\u001b[0msave\u001b[0m\u001b[0;34m(\u001b[0m\u001b[0mto_insert\u001b[0m\u001b[0;34m)\u001b[0m\u001b[0;34m\u001b[0m\u001b[0m\n\u001b[0m\u001b[1;32m     85\u001b[0m \u001b[0;34m\u001b[0m\u001b[0m\n\u001b[1;32m     86\u001b[0m \u001b[0;32mdef\u001b[0m \u001b[0msave_all\u001b[0m\u001b[0;34m(\u001b[0m\u001b[0mdb\u001b[0m\u001b[0;34m,\u001b[0m \u001b[0mexps\u001b[0m\u001b[0;34m,\u001b[0m \u001b[0mextra\u001b[0m\u001b[0;34m=\u001b[0m\u001b[0;34m{\u001b[0m\u001b[0;34m}\u001b[0m\u001b[0;34m,\u001b[0m \u001b[0;34m**\u001b[0m\u001b[0mextra_\u001b[0m\u001b[0;34m)\u001b[0m\u001b[0;34m:\u001b[0m\u001b[0;34m\u001b[0m\u001b[0m\n",
        "\u001b[0;32m/Library/Python/2.7/site-packages/pymongo/collection.pyc\u001b[0m in \u001b[0;36msave\u001b[0;34m(self, to_save, manipulate, safe, check_keys, **kwargs)\u001b[0m\n\u001b[1;32m    264\u001b[0m \u001b[0;34m\u001b[0m\u001b[0m\n\u001b[1;32m    265\u001b[0m         \u001b[0;32mif\u001b[0m \u001b[0;34m\"_id\"\u001b[0m \u001b[0;32mnot\u001b[0m \u001b[0;32min\u001b[0m \u001b[0mto_save\u001b[0m\u001b[0;34m:\u001b[0m\u001b[0;34m\u001b[0m\u001b[0m\n\u001b[0;32m--> 266\u001b[0;31m             \u001b[0;32mreturn\u001b[0m \u001b[0mself\u001b[0m\u001b[0;34m.\u001b[0m\u001b[0minsert\u001b[0m\u001b[0;34m(\u001b[0m\u001b[0mto_save\u001b[0m\u001b[0;34m,\u001b[0m \u001b[0mmanipulate\u001b[0m\u001b[0;34m,\u001b[0m \u001b[0msafe\u001b[0m\u001b[0;34m,\u001b[0m \u001b[0mcheck_keys\u001b[0m\u001b[0;34m,\u001b[0m \u001b[0;34m**\u001b[0m\u001b[0mkwargs\u001b[0m\u001b[0;34m)\u001b[0m\u001b[0;34m\u001b[0m\u001b[0m\n\u001b[0m\u001b[1;32m    267\u001b[0m         \u001b[0;32melse\u001b[0m\u001b[0;34m:\u001b[0m\u001b[0;34m\u001b[0m\u001b[0m\n\u001b[1;32m    268\u001b[0m             self.update({\"_id\": to_save[\"_id\"]}, to_save, True,\n",
        "\u001b[0;32m/Library/Python/2.7/site-packages/pymongo/collection.pyc\u001b[0m in \u001b[0;36minsert\u001b[0;34m(self, doc_or_docs, manipulate, safe, check_keys, continue_on_error, **kwargs)\u001b[0m\n\u001b[1;32m    360\u001b[0m                                    \u001b[0mcheck_keys\u001b[0m\u001b[0;34m,\u001b[0m \u001b[0msafe\u001b[0m\u001b[0;34m,\u001b[0m \u001b[0moptions\u001b[0m\u001b[0;34m,\u001b[0m\u001b[0;34m\u001b[0m\u001b[0m\n\u001b[1;32m    361\u001b[0m                                    \u001b[0mcontinue_on_error\u001b[0m\u001b[0;34m,\u001b[0m \u001b[0mself\u001b[0m\u001b[0;34m.\u001b[0m\u001b[0m__uuid_subtype\u001b[0m\u001b[0;34m,\u001b[0m\u001b[0;34m\u001b[0m\u001b[0m\n\u001b[0;32m--> 362\u001b[0;31m                                    self.database.connection)\n\u001b[0m\u001b[1;32m    363\u001b[0m \u001b[0;34m\u001b[0m\u001b[0m\n\u001b[1;32m    364\u001b[0m         \u001b[0mids\u001b[0m \u001b[0;34m=\u001b[0m \u001b[0;34m[\u001b[0m\u001b[0mdoc\u001b[0m\u001b[0;34m.\u001b[0m\u001b[0mget\u001b[0m\u001b[0;34m(\u001b[0m\u001b[0;34m\"_id\"\u001b[0m\u001b[0;34m,\u001b[0m \u001b[0mNone\u001b[0m\u001b[0;34m)\u001b[0m \u001b[0;32mfor\u001b[0m \u001b[0mdoc\u001b[0m \u001b[0;32min\u001b[0m \u001b[0mdocs\u001b[0m\u001b[0;34m]\u001b[0m\u001b[0;34m\u001b[0m\u001b[0m\n",
        "\u001b[0;31mInvalidDocument\u001b[0m: Cannot encode object: <Experiment.Pulling from 'WT2at_200pM_s2m3_refold_0.5s_2_up'>"
       ]
      }
     ],
     "prompt_number": 1422
    },
    {
     "cell_type": "code",
     "collapsed": false,
     "input": [
      "unbound,bound = split_pulls_at_point(exp, pick_pts()[0])"
     ],
     "language": "python",
     "metadata": {},
     "outputs": [],
     "prompt_number": 142
    },
    {
     "cell_type": "code",
     "collapsed": false,
     "input": [
      "len(bound)/( len(unbound) + len(bound) + 0.)"
     ],
     "language": "python",
     "metadata": {},
     "outputs": [
      {
       "output_type": "pyout",
       "prompt_number": 143,
       "text": [
        "0.8529411764705882"
       ]
      }
     ],
     "prompt_number": 143
    },
    {
     "cell_type": "code",
     "collapsed": false,
     "input": [
      "from operator import itemgetter\n",
      "def getter(exps, *fields):\n",
      "    return map(itemgetter(*fields), exps)\n",
      "getter(exp, 'trap.sampling_time', 'trap.step_size')"
     ],
     "language": "python",
     "metadata": {},
     "outputs": [
      {
       "output_type": "pyout",
       "prompt_number": 55,
       "text": [
        "[(0.00625, 1.181),\n",
        " (0.00625, 1.181),\n",
        " (0.00625, 1.181),\n",
        " (0.00625, 1.181),\n",
        " (0.00625, 1.181),\n",
        " (0.00625, 1.181),\n",
        " (0.00625, 1.181),\n",
        " (0.00625, 1.181),\n",
        " (0.00625, 1.181),\n",
        " (0.00625, 1.181),\n",
        " (0.00625, 1.181),\n",
        " (0.00625, 1.181),\n",
        " (0.00625, 1.181),\n",
        " (0.00625, 1.181),\n",
        " (0.00625, 1.181),\n",
        " (0.00625, 1.181),\n",
        " (0.00625, 1.181),\n",
        " (0.00625, 1.181),\n",
        " (0.00625, 1.181),\n",
        " (0.00625, 1.181),\n",
        " (0.00625, 1.181),\n",
        " (0.00625, 1.181),\n",
        " (0.00625, 1.181),\n",
        " (0.00625, 1.181),\n",
        " (0.00625, 1.181),\n",
        " (0.00625, 1.181)]"
       ]
      }
     ],
     "prompt_number": 55
    },
    {
     "cell_type": "code",
     "collapsed": false,
     "input": [
      "weak,strong = split_pulls_at_point(bound, pick_pts()[0])"
     ],
     "language": "python",
     "metadata": {},
     "outputs": [],
     "prompt_number": 102
    },
    {
     "cell_type": "code",
     "collapsed": false,
     "input": [
      "strong.plot(style='-')"
     ],
     "language": "python",
     "metadata": {},
     "outputs": [
      {
       "output_type": "pyout",
       "prompt_number": 104,
       "text": [
        "<smbanalyze.fplot.Figure at 0x10c843490>"
       ]
      }
     ],
     "prompt_number": 104
    },
    {
     "cell_type": "code",
     "collapsed": false,
     "input": [
      "for p in exp:\n",
      "    s,m = map(int, re.search(r's(\\d+)m(\\d+)', p.filename).groups())\n",
      "    p.metadata.update(slide_id=s, mol_id=m)"
     ],
     "language": "python",
     "metadata": {},
     "outputs": [],
     "prompt_number": 115
    },
    {
     "cell_type": "code",
     "collapsed": false,
     "input": [
      "for p in datadb.tpp.find({'construct': \"WT2AL\"}):\n",
      "    fname = p['filename']\n",
      "    s,m = map(int, re.search(r's(\\d+)m(\\d+)', fname).groups())\n",
      "    p['slide_id'] = s\n",
      "    p['mol_id'] = m\n",
      "    datadb.tpp.save(p)"
     ],
     "language": "python",
     "metadata": {},
     "outputs": [],
     "prompt_number": 126
    },
    {
     "cell_type": "code",
     "collapsed": false,
     "input": [
      "[(p['date'],p.filename) for p in exp]"
     ],
     "language": "python",
     "metadata": {},
     "outputs": [
      {
       "output_type": "pyout",
       "prompt_number": 89,
       "text": [
        "[(datetime.datetime(2014, 2, 21, 11, 43), 'WT2AL_0.5nM_s1m1'),\n",
        " (datetime.datetime(2014, 2, 21, 11, 44), 'WT2AL_0.5nM_s1m1_3'),\n",
        " (datetime.datetime(2014, 2, 21, 12, 44), 'WT2AL_0.5nM_s1m10'),\n",
        " (datetime.datetime(2014, 2, 21, 12, 44), 'WT2AL_0.5nM_s1m10_2'),\n",
        " (datetime.datetime(2014, 2, 21, 12, 44), 'WT2AL_0.5nM_s1m10_3'),\n",
        " (datetime.datetime(2014, 2, 21, 12, 55), 'WT2AL_0.5nM_s1m11'),\n",
        " (datetime.datetime(2014, 2, 21, 12, 56), 'WT2AL_0.5nM_s1m11_2'),\n",
        " (datetime.datetime(2014, 2, 21, 13, 1), 'WT2AL_0.5nM_s1m12'),\n",
        " (datetime.datetime(2014, 2, 21, 13, 2), 'WT2AL_0.5nM_s1m12_2'),\n",
        " (datetime.datetime(2014, 2, 21, 11, 59), 'WT2AL_0.5nM_s1m2'),\n",
        " (datetime.datetime(2014, 2, 21, 12, 0), 'WT2AL_0.5nM_s1m2_2'),\n",
        " (datetime.datetime(2014, 2, 21, 12, 5), 'WT2AL_0.5nM_s1m3'),\n",
        " (datetime.datetime(2014, 2, 21, 12, 6), 'WT2AL_0.5nM_s1m3_2'),\n",
        " (datetime.datetime(2014, 2, 21, 12, 10), 'WT2AL_0.5nM_s1m4'),\n",
        " (datetime.datetime(2014, 2, 21, 12, 10), 'WT2AL_0.5nM_s1m4_2'),\n",
        " (datetime.datetime(2014, 2, 21, 12, 11), 'WT2AL_0.5nM_s1m4_3'),\n",
        " (datetime.datetime(2014, 2, 21, 12, 15), 'WT2AL_0.5nM_s1m5'),\n",
        " (datetime.datetime(2014, 2, 21, 12, 15), 'WT2AL_0.5nM_s1m5_2'),\n",
        " (datetime.datetime(2014, 2, 21, 12, 24), 'WT2AL_0.5nM_s1m6'),\n",
        " (datetime.datetime(2014, 2, 21, 12, 24), 'WT2AL_0.5nM_s1m6_2'),\n",
        " (datetime.datetime(2014, 2, 21, 12, 30), 'WT2AL_0.5nM_s1m7'),\n",
        " (datetime.datetime(2014, 2, 21, 12, 30), 'WT2AL_0.5nM_s1m7_2'),\n",
        " (datetime.datetime(2014, 2, 21, 12, 37), 'WT2AL_0.5nM_s1m8'),\n",
        " (datetime.datetime(2014, 2, 21, 12, 37), 'WT2AL_0.5nM_s1m8_2'),\n",
        " (datetime.datetime(2014, 2, 21, 12, 42), 'WT2AL_0.5nM_s1m9'),\n",
        " (datetime.datetime(2014, 2, 21, 12, 42), 'WT2AL_0.5nM_s1m9_2')]"
       ]
      }
     ],
     "prompt_number": 89
    },
    {
     "cell_type": "code",
     "collapsed": false,
     "input": [
      "db.save_all(datadb.tpp, exp)"
     ],
     "language": "python",
     "metadata": {},
     "outputs": [],
     "prompt_number": 168
    },
    {
     "cell_type": "code",
     "collapsed": false,
     "input": [
      "db.save_all(datadb.tpp, unbound, bind_tpp=0)\n",
      "db.save_all(datadb.tpp, weak, bind_tpp=1)\n",
      "db.save_all(datadb.tpp, strong, bind_tpp=2)"
     ],
     "language": "python",
     "metadata": {},
     "outputs": [],
     "prompt_number": 105
    },
    {
     "cell_type": "code",
     "collapsed": false,
     "input": [
      "db.save_all(datadb.tpp, unbound, bind_tpp=0)\n",
      "db.save_all(datadb.tpp, bound, bind_tpp=1)"
     ],
     "language": "python",
     "metadata": {},
     "outputs": [],
     "prompt_number": 144
    },
    {
     "cell_type": "code",
     "collapsed": false,
     "input": [
      "title(fig_name)"
     ],
     "language": "python",
     "metadata": {},
     "outputs": [
      {
       "output_type": "pyout",
       "prompt_number": 1926,
       "text": [
        "<matplotlib.text.Text at 0x11522a9d0>"
       ]
      }
     ],
     "prompt_number": 1926
    },
    {
     "cell_type": "code",
     "collapsed": false,
     "input": [
      "cdanl()\n",
      "exp.savefig(fig_name)"
     ],
     "language": "python",
     "metadata": {},
     "outputs": [],
     "prompt_number": 1930
    },
    {
     "cell_type": "markdown",
     "metadata": {},
     "source": [
      "Refolding analysis\n",
      "----"
     ]
    },
    {
     "cell_type": "code",
     "collapsed": false,
     "input": [
      "for rtime in refold_dict:\n",
      "    mols = refold_dict[rtime]\n",
      "    mols.plot(style='-', show_fret=False, FEC=True, title='Time %.2f' % rtime)"
     ],
     "language": "python",
     "metadata": {},
     "outputs": [],
     "prompt_number": 157
    },
    {
     "cell_type": "code",
     "collapsed": false,
     "input": [
      "wt2at = db.get_exp(datadb.tpp, construct='WT2at')\n",
      "by_time = refolding.by_time(wt2at)\n",
      "print refolding.pretty_str(by_time)"
     ],
     "language": "python",
     "metadata": {},
     "outputs": [
      {
       "output_type": "stream",
       "stream": "stdout",
       "text": [
        "0.5s refolding | N = 5\n",
        "-------------------------\n",
        "[0: <Experiment.Pulling from 'WT2at_200pM_s2m3_refold_0.5s_1_up'>\n",
        " 1: <Experiment.Pulling from 'WT2at_200pM_s2m3_refold_0.5s_2_up'>\n",
        " 2: <Experiment.Pulling from 'WT2at_200pM_s2m3_refold_0.5s_3_up'>\n",
        " 3: <Experiment.Pulling from 'WT2at_200pM_s2m3_refold_0.5s_4_up'>\n",
        " 4: <Experiment.Pulling from 'WT2at_200pM_s2m3_refold_0.5s_5_up'>]\n",
        "\n",
        "1.0s refolding | N = 17\n",
        "-------------------------\n",
        "[0: <Experiment.Pulling from 'WT2at_200pM_s2m4_refold_1.0s_1_up'>\n",
        " 1: <Experiment.Pulling from 'WT2at_200pM_s2m4_refold_1.0s_10_up'>\n",
        " 2: <Experiment.Pulling from 'WT2at_200pM_s2m4_refold_1.0s_2_up'>\n",
        " 3: <Experiment.Pulling from 'WT2at_200pM_s2m4_refold_1.0s_3_up'>\n",
        " 4: <Experiment.Pulling from 'WT2at_200pM_s2m4_refold_1.0s_4_up'>\n",
        " 5: <Experiment.Pulling from 'WT2at_200pM_s2m4_refold_1.0s_5_up'>\n",
        " 6: <Experiment.Pulling from 'WT2at_200pM_s2m4_refold_1.0s_6_up'>\n",
        " 7: <Experiment.Pulling from 'WT2at_200pM_s2m4_refold_1.0s_7_up'>\n",
        " 8: <Experiment.Pulling from 'WT2at_200pM_s2m4_refold_1.0s_8_up'>\n",
        " 9: <Experiment.Pulling from 'WT2at_200pM_s2m4_refold_1.0s_9_up'>\n",
        " 10: <Experiment.Pulling from 'WT2at_200pM_s2m5_refold_1.0s_1_up'>\n",
        " 11: <Experiment.Pulling from 'WT2at_200pM_s2m5_refold_1.0s_2_up'>\n",
        " 12: <Experiment.Pulling from 'WT2at_200pM_s2m5_refold_1.0s_3_up'>\n",
        " 13: <Experiment.Pulling from 'WT2at_200pM_s2m5_refold_1.0s_4_up'>\n",
        " 14: <Experiment.Pulling from 'WT2at_200pM_s2m5_refold_1.0s_5_up'>\n",
        " 15: <Experiment.Pulling from 'WT2at_200pM_s2m5_refold_1.0s_6_up'>\n",
        " 16: <Experiment.Pulling from 'WT2at_200pM_s2m5_refold_1.0s_7_up'>]\n",
        "\n",
        "5.0s refolding | N = 5\n",
        "-------------------------\n",
        "[0: <Experiment.Pulling from 'WT2at_200pM_s2m3_refold_5.0s_1_up'>\n",
        " 1: <Experiment.Pulling from 'WT2at_200pM_s2m3_refold_5.0s_2_up'>\n",
        " 2: <Experiment.Pulling from 'WT2at_200pM_s2m3_refold_5.0s_3_up'>\n",
        " 3: <Experiment.Pulling from 'WT2at_200pM_s2m3_refold_5.0s_4_up'>\n",
        " 4: <Experiment.Pulling from 'WT2at_200pM_s2m3_refold_5.0s_5_up'>]\n",
        "\n",
        "0.1s refolding | N = 5\n",
        "-------------------------\n",
        "[0: <Experiment.Pulling from 'WT2at_500pM_s1m4_refold_0.1s_1_up'>\n",
        " 1: <Experiment.Pulling from 'WT2at_500pM_s1m4_refold_0.1s_2_up'>\n",
        " 2: <Experiment.Pulling from 'WT2at_500pM_s1m4_refold_0.1s_3_up'>\n",
        " 3: <Experiment.Pulling from 'WT2at_500pM_s1m4_refold_0.1s_4_up'>\n",
        " 4: <Experiment.Pulling from 'WT2at_500pM_s1m4_refold_0.1s_5_up'>]\n",
        "\n",
        "10.0s refolding | N = 10\n",
        "-------------------------\n",
        "[0: <Experiment.Pulling from 'WT2at_200pM_s2m3_refold_10.0s_1_up'>\n",
        " 1: <Experiment.Pulling from 'WT2at_200pM_s2m3_refold_10.0s_10_up'>\n",
        " 2: <Experiment.Pulling from 'WT2at_200pM_s2m3_refold_10.0s_2_up'>\n",
        " 3: <Experiment.Pulling from 'WT2at_200pM_s2m3_refold_10.0s_3_up'>\n",
        " 4: <Experiment.Pulling from 'WT2at_200pM_s2m3_refold_10.0s_4_up'>\n",
        " 5: <Experiment.Pulling from 'WT2at_200pM_s2m3_refold_10.0s_5_up'>\n",
        " 6: <Experiment.Pulling from 'WT2at_200pM_s2m3_refold_10.0s_6_up'>\n",
        " 7: <Experiment.Pulling from 'WT2at_200pM_s2m3_refold_10.0s_7_up'>\n",
        " 8: <Experiment.Pulling from 'WT2at_200pM_s2m3_refold_10.0s_8_up'>\n",
        " 9: <Experiment.Pulling from 'WT2at_200pM_s2m3_refold_10.0s_9_up'>]\n",
        "\n",
        "30.0s refolding | N = 5\n",
        "-------------------------\n",
        "[0: <Experiment.Pulling from 'WT2at_200pM_s2m3_refold_30.0s_1_up'>\n",
        " 1: <Experiment.Pulling from 'WT2at_200pM_s2m3_refold_30.0s_2_up'>\n",
        " 2: <Experiment.Pulling from 'WT2at_200pM_s2m3_refold_30.0s_3_up'>\n",
        " 3: <Experiment.Pulling from 'WT2at_200pM_s2m3_refold_30.0s_4_up'>\n",
        " 4: <Experiment.Pulling from 'WT2at_200pM_s2m3_refold_30.0s_5_up'>]\n",
        "\n",
        "\n"
       ]
      }
     ],
     "prompt_number": 1333
    },
    {
     "cell_type": "code",
     "collapsed": false,
     "input": [
      "for refoldtime,exps in by_time.items():\n",
      "    exps.plot(show_fret=False, FEC=True, style=':', title=\"Refolding time {}s\".format(refoldtime))"
     ],
     "language": "python",
     "metadata": {},
     "outputs": [],
     "prompt_number": 1384
    },
    {
     "cell_type": "code",
     "collapsed": false,
     "input": [
      "clf()\n",
      "wt2at.plot(show_fret=False, style='-')"
     ],
     "language": "python",
     "metadata": {},
     "outputs": [
      {
       "output_type": "pyout",
       "prompt_number": 1381,
       "text": [
        "<smbanalyze.fplot.Figure at 0x114f535d0>"
       ]
      }
     ],
     "prompt_number": 1381
    },
    {
     "cell_type": "code",
     "collapsed": false,
     "input": [
      "to_align = wt2at"
     ],
     "language": "python",
     "metadata": {},
     "outputs": [],
     "prompt_number": 1370
    },
    {
     "cell_type": "code",
     "collapsed": false,
     "input": [
      "mol=by_time[1]\n",
      "to_align = mol"
     ],
     "language": "python",
     "metadata": {},
     "outputs": [],
     "prompt_number": 1338
    },
    {
     "cell_type": "code",
     "collapsed": false,
     "input": [
      "f_range = (3,4)\n",
      "to_x = mean([p.trap.select(f=f_range).ext.mean() for p in to_align])\n",
      "to_align.adjustOffset(to_x=940, force_x_range=(720,750), ext_f_range=f_range, ext_x_range=(700,955))"
     ],
     "language": "python",
     "metadata": {},
     "outputs": [
      {
       "output_type": "pyout",
       "prompt_number": 1346,
       "text": [
        "([-14.624915827296945,\n",
        "  -11.833597449127751,\n",
        "  -16.957221719022755,\n",
        "  -15.377713972986157,\n",
        "  -11.978474176736086,\n",
        "  -7.1119605761147113,\n",
        "  -7.0539603788928389,\n",
        "  -15.598576509436612,\n",
        "  -16.08403347171884,\n",
        "  -13.060879746280989,\n",
        "  -13.550084171921981,\n",
        "  -13.090179215580974,\n",
        "  -15.580694113756863,\n",
        "  -15.008556052394283,\n",
        "  -17.044900276140083,\n",
        "  -13.831822198200939,\n",
        "  -18.215168855853562,\n",
        "  -16.873070023350351,\n",
        "  -16.672878181443366,\n",
        "  -16.258025104985222,\n",
        "  -13.410869501383218,\n",
        "  -14.224498817307335,\n",
        "  -16.707043138360973,\n",
        "  -13.995557266125616,\n",
        "  -14.71427837293902,\n",
        "  -13.171197170977621,\n",
        "  -14.376303732112092,\n",
        "  -13.995889129901911,\n",
        "  -12.893186040521186,\n",
        "  -12.021241318697093,\n",
        "  8.2512160045947667,\n",
        "  5.4084310876645532,\n",
        "  8.0808385811060361,\n",
        "  3.1537016805045823,\n",
        "  7.3376802315358418,\n",
        "  8.1061092370489405,\n",
        "  7.6698535941095543,\n",
        "  2.91875073741096,\n",
        "  6.6618743379361831,\n",
        "  1.7475279406484105,\n",
        "  -9.6327456508248588,\n",
        "  -12.894570797613596,\n",
        "  -1.3737330595429285,\n",
        "  -12.252281484687614,\n",
        "  -11.120398910285303,\n",
        "  -8.9067072315525593,\n",
        "  -5.0498625595120075,\n",
        "  0.88507047266432437,\n",
        "  -9.7398039989501513,\n",
        "  -8.1480115862726734,\n",
        "  -2.8449503407209704,\n",
        "  2.242592173504363],\n",
        " [0.021628853333333364,\n",
        "  -0.0056996179487179832,\n",
        "  0.018990382571428543,\n",
        "  0.042683151648351569,\n",
        "  0.016972870666666695,\n",
        "  0.054111390666666592,\n",
        "  0.022015205000000038,\n",
        "  -0.0097280391813187039,\n",
        "  0.039406756000000098,\n",
        "  -0.0035039866666668473,\n",
        "  0.017535854166666698,\n",
        "  -0.042077199333333315,\n",
        "  0.02000915466666664,\n",
        "  0.01077800000000001,\n",
        "  0.0067828799999999911,\n",
        "  0.014979341346153752,\n",
        "  -0.0038496970285712973,\n",
        "  0.00076824171428580001,\n",
        "  0.012306038133333363,\n",
        "  0.015864701333333397,\n",
        "  0.0011194533333335754,\n",
        "  0.024005906666666743,\n",
        "  0.015721439999999975,\n",
        "  -0.029712537142857376,\n",
        "  -0.0029103950000002321,\n",
        "  0.017639499999999808,\n",
        "  0.081409830533333338,\n",
        "  0.031396879999999905,\n",
        "  0.0079775733333333765,\n",
        "  -0.007420225641025735,\n",
        "  0.015823428571428544,\n",
        "  0.031670692307692427,\n",
        "  0.070065539999999982,\n",
        "  -0.053394750000000046,\n",
        "  -0.028588533333333332,\n",
        "  0.066289000000000209,\n",
        "  -0.012913641025640965,\n",
        "  0.0071653174999999347,\n",
        "  -0.012634426666666587,\n",
        "  0.024408120000000033,\n",
        "  0.014449066666666732,\n",
        "  -0.0097119749999998728,\n",
        "  0.028536933333333292,\n",
        "  0.020740400000000214,\n",
        "  0.037659410256410342,\n",
        "  -0.0040290666666666919,\n",
        "  -0.00057076923076926356,\n",
        "  0.015694685714286005,\n",
        "  0.035986299999999916,\n",
        "  -0.00057119999999999393,\n",
        "  -0.0027644000000000002,\n",
        "  0.034502800000000111])"
       ]
      }
     ],
     "prompt_number": 1346
    },
    {
     "cell_type": "code",
     "collapsed": false,
     "input": [
      "align_cutoff = 1075\n",
      "to_align = to_align.has_value(trap_ext_atleast=align_cutoff)\n",
      "to_align.adjustOffset(force_x_range=(720,770), ext_f_range=(28,33), ext_x_range=align_cutoff)"
     ],
     "language": "python",
     "metadata": {},
     "outputs": [
      {
       "output_type": "pyout",
       "prompt_number": 1378,
       "text": [
        "([0.61934244216922707,\n",
        "  0.43830244515447703,\n",
        "  -0.3140198478477032,\n",
        "  0.31445282335926095,\n",
        "  -0.16955920054192575,\n",
        "  -0.25960981892876589,\n",
        "  0.28003638949303422,\n",
        "  -0.21911860521254312,\n",
        "  -0.081711119756846529,\n",
        "  0.32149076538121335,\n",
        "  -0.38677940891579965,\n",
        "  -0.42686022989914818,\n",
        "  -0.64878293286233202,\n",
        "  -0.28377286605791596,\n",
        "  -0.72853661956105498,\n",
        "  -0.13081330609634279,\n",
        "  0.1045307314116144,\n",
        "  1.4758256555815024,\n",
        "  0.91804261996230707,\n",
        "  -0.22177583288316782,\n",
        "  -0.56033884330781802,\n",
        "  -0.4494355426832044,\n",
        "  -0.046157774314679045,\n",
        "  -0.089118605212433977,\n",
        "  -0.38368381783652694,\n",
        "  -0.26411860521216113,\n",
        "  -0.79840431949810409,\n",
        "  0.43047560602349222,\n",
        "  0.57979865769902972,\n",
        "  -0.49860178113408438,\n",
        "  0.53892321864555015,\n",
        "  0.34595297382293211,\n",
        "  -0.56986313129550581,\n",
        "  -0.16020454888598579,\n",
        "  0.085897654016662273,\n",
        "  -0.29167419973259712,\n",
        "  -0.12118475943179874,\n",
        "  -0.21940601772621449,\n",
        "  -0.13859945995568523,\n",
        "  -0.35627974717840516,\n",
        "  -0.32101436144716899,\n",
        "  -0.26895333036304692,\n",
        "  0.75805344030095512,\n",
        "  0.3792839869454383,\n",
        "  0.17228627614008474,\n",
        "  0.39189869395681853,\n",
        "  0.2793587468579517,\n",
        "  0.04841115669228202,\n",
        "  0.04972103737713951,\n",
        "  0.52102764719575134,\n",
        "  0.35526566559406092],\n",
        " [1.6653345369377348e-16,\n",
        "  -1.1102230246251565e-16,\n",
        "  -0.0092081881538462751,\n",
        "  0.0,\n",
        "  0.0,\n",
        "  0.0,\n",
        "  0.0,\n",
        "  0.0,\n",
        "  1.6653345369377348e-16,\n",
        "  5.5511151231257827e-17,\n",
        "  0.0,\n",
        "  0.0,\n",
        "  0.0,\n",
        "  1.6653345369377348e-16,\n",
        "  5.5511151231257827e-17,\n",
        "  5.5511151231257827e-17,\n",
        "  0.0,\n",
        "  5.5511151231257827e-17,\n",
        "  0.0,\n",
        "  1.6653345369377348e-16,\n",
        "  0.0,\n",
        "  0.0,\n",
        "  5.5511151231257827e-17,\n",
        "  0.0,\n",
        "  0.0,\n",
        "  -1.1102230246251565e-16,\n",
        "  0.0,\n",
        "  1.6653345369377348e-16,\n",
        "  0.0,\n",
        "  0.0,\n",
        "  5.5511151231257827e-17,\n",
        "  0.0,\n",
        "  0.0,\n",
        "  5.5511151231257827e-17,\n",
        "  -1.1102230246251565e-16,\n",
        "  -1.1102230246251565e-16,\n",
        "  -1.1102230246251565e-16,\n",
        "  1.1102230246251565e-16,\n",
        "  5.5511151231257827e-17,\n",
        "  0.0,\n",
        "  -1.1102230246251565e-16,\n",
        "  5.5511151231257827e-17,\n",
        "  0.0,\n",
        "  0.0,\n",
        "  5.5511151231257827e-17,\n",
        "  0.0,\n",
        "  0.0,\n",
        "  0.0,\n",
        "  2.2204460492503131e-16,\n",
        "  -1.1102230246251565e-16,\n",
        "  -1.1102230246251565e-16])"
       ]
      }
     ],
     "prompt_number": 1378
    },
    {
     "cell_type": "code",
     "collapsed": false,
     "input": [
      "to_align.plot(show_fret=False)"
     ],
     "language": "python",
     "metadata": {},
     "outputs": [
      {
       "output_type": "pyout",
       "prompt_number": 1382,
       "text": [
        "<smbanalyze.fplot.Figure at 0x1152b7410>"
       ]
      }
     ],
     "prompt_number": 1382
    },
    {
     "cell_type": "code",
     "collapsed": false,
     "input": [
      "styles = {n+1:c+'-' for n,c in enumerate(fplot.COLOR_CYCLE)}\n",
      "for p in mol:\n",
      "    hold(True)\n",
      "    mol_id = p.metadata['mol']\n",
      "    fplot.plot(p.trap, style=styles[mol_id])"
     ],
     "language": "python",
     "metadata": {},
     "outputs": [],
     "prompt_number": 1342
    },
    {
     "cell_type": "code",
     "collapsed": false,
     "input": [
      "pt = pick_pts()[0]"
     ],
     "language": "python",
     "metadata": {},
     "outputs": [
      {
       "output_type": "pyout",
       "prompt_number": 1386,
       "text": [
        "[(1002.8683454656591, 12.826792242177911)]"
       ]
      }
     ],
     "prompt_number": 1386
    },
    {
     "cell_type": "code",
     "collapsed": false,
     "input": [
      "P1_force = 8\n",
      "dead_time = mean([find(p.trap.f <P1_force)[-1] * p.metadata['trap.sampling_time'] for p in wt2at])\n",
      "print \"Dead time =\", dead_time"
     ],
     "language": "python",
     "metadata": {},
     "outputs": [
      {
       "output_type": "stream",
       "stream": "stdout",
       "text": [
        "Dead time = 0.757019230769\n"
       ]
      }
     ],
     "prompt_number": 1590
    },
    {
     "cell_type": "code",
     "collapsed": false,
     "input": [
      "\n",
      "rtimes,prob,errors = refolding.calc_bound_prob(num_bound, dead_time)"
     ],
     "language": "python",
     "metadata": {},
     "outputs": [],
     "prompt_number": 1669
    },
    {
     "cell_type": "code",
     "collapsed": false,
     "input": [
      "fig('refolding '+construct)\n",
      "ylim(-.05,1.05)\n",
      "xlim(0.1,40)\n",
      "errorbar(rtimes, prob, ecolor='b', fmt='o', yerr=transposed(errors), barsabove=True)"
     ],
     "language": "python",
     "metadata": {},
     "outputs": [
      {
       "output_type": "pyout",
       "prompt_number": 1668,
       "text": [
        "<Container object of 3 artists>"
       ]
      }
     ],
     "prompt_number": 1668
    },
    {
     "cell_type": "code",
     "collapsed": false,
     "input": [
      "datetime.datetime.today()"
     ],
     "language": "python",
     "metadata": {},
     "outputs": [
      {
       "output_type": "pyout",
       "prompt_number": 1681,
       "text": [
        "datetime.datetime(2014, 3, 11, 17, 13, 30, 688315)"
       ]
      }
     ],
     "prompt_number": 1681
    },
    {
     "cell_type": "code",
     "collapsed": false,
     "input": [
      "datadb.analysis.save({'date':datetime.datetime.today(),\n",
      "                      'refold': (rtimes, prob, errors),\n",
      "                      'dead_time': dead_time\n",
      "                      'split_point': pt\n",
      "                      'bound_count': {str(k).replace('.','_'):v for k,v in num_bound.items()}\n",
      "                      'tpp': list(select_(db.find(datadb.tpp, construct='WT2at'), '_id'))\n",
      "                      })"
     ],
     "language": "python",
     "metadata": {},
     "outputs": [
      {
       "output_type": "pyout",
       "prompt_number": 1684,
       "text": [
        "ObjectId('531fa7145225fa37c57ef4f2')"
       ]
      }
     ],
     "prompt_number": 1684
    },
    {
     "cell_type": "code",
     "collapsed": false,
     "input": [
      "{str(k).replace('.','_'):v for k,v in num_bound.items()}"
     ],
     "language": "python",
     "metadata": {},
     "outputs": [
      {
       "output_type": "pyout",
       "prompt_number": 1697,
       "text": [
        "{'0_5': (0, 5), '10_0': (9, 10), '1_0': (3, 17), '30_0': (4, 5), '5_0': (3, 5)}"
       ]
      }
     ],
     "prompt_number": 1697
    },
    {
     "cell_type": "code",
     "collapsed": false,
     "input": [
      "obj=datadb.analysis.find_one()\n",
      "obj['dead_time'] = dead_time\n",
      "obj['split_point'] = pt\n",
      "obj['bound_count'] = {str(k).replace('.','_'):v for k,v in num_bound.items()}\n",
      "obj['tpp'] = list(select_(db.find(datadb.tpp, construct='WT2at'), '_id'))\n",
      "datadb.analysis.save(obj)"
     ],
     "language": "python",
     "metadata": {},
     "outputs": [
      {
       "output_type": "pyout",
       "prompt_number": 1701,
       "text": [
        "ObjectId('531fa7145225fa37c57ef4f2')"
       ]
      }
     ],
     "prompt_number": 1701
    },
    {
     "cell_type": "code",
     "collapsed": false,
     "input": [
      "from scipy.signal import medfilt"
     ],
     "language": "python",
     "metadata": {},
     "outputs": [],
     "prompt_number": 917
    },
    {
     "cell_type": "code",
     "collapsed": false,
     "input": [
      "fig('ramp rate')\n",
      "ramp_rate=diff(p.trap.f)/p.trap.metadata['sampling_time']\n",
      "plot(p.trap.ext[1:], medfilt(ramp_rate,7) )"
     ],
     "language": "python",
     "metadata": {},
     "outputs": [
      {
       "output_type": "pyout",
       "prompt_number": 920,
       "text": [
        "[<matplotlib.lines.Line2D at 0x1125a3f10>]"
       ]
      }
     ],
     "prompt_number": 920
    },
    {
     "cell_type": "code",
     "collapsed": false,
     "input": [
      "exp,_ = split_pulls_at_point(exp, ginput(1)[0])\n",
      "close('all')\n",
      "exp.plot()"
     ],
     "language": "python",
     "metadata": {},
     "outputs": [
      {
       "output_type": "pyout",
       "prompt_number": 6,
       "text": [
        "<smbanalyze.fplot.Figure at 0x10ae6e7d0>"
       ]
      }
     ],
     "prompt_number": 6
    },
    {
     "cell_type": "code",
     "collapsed": false,
     "input": [
      "exp.plot(show_fret=True, FEC=False, style='-')"
     ],
     "language": "python",
     "metadata": {},
     "outputs": [
      {
       "output_type": "pyout",
       "prompt_number": 326,
       "text": [
        "<smbanalyze.fplot.Figure at 0x10f067bd0>"
       ]
      }
     ],
     "prompt_number": 326
    },
    {
     "cell_type": "code",
     "collapsed": false,
     "input": [
      "mols = map(lambda q: pickle.loads(q.trap_data), query.all())"
     ],
     "language": "python",
     "metadata": {},
     "outputs": [],
     "prompt_number": 479
    },
    {
     "cell_type": "code",
     "collapsed": false,
     "input": [
      "mol = experiment.List(p['experiment'] for p in datadb.tpp.find({'construct': 'WT2at', 'slide':2, 'mol':5}, {'experiment':1, '_id':0}) )"
     ],
     "language": "python",
     "metadata": {},
     "outputs": [],
     "prompt_number": 1474
    },
    {
     "cell_type": "code",
     "collapsed": false,
     "input": [
      "spli"
     ],
     "language": "python",
     "metadata": {},
     "outputs": [
      {
       "output_type": "pyout",
       "prompt_number": 1478,
       "text": [
        "<smbanalyze.fplot.Figure at 0x116a13f50>"
       ]
      }
     ],
     "prompt_number": 1478
    },
    {
     "cell_type": "code",
     "collapsed": false,
     "input": [
      "p=mols[2]"
     ],
     "language": "python",
     "metadata": {},
     "outputs": [],
     "prompt_number": 523
    },
    {
     "cell_type": "code",
     "collapsed": false,
     "input": [
      "import cPickle as pickle"
     ],
     "language": "python",
     "metadata": {},
     "outputs": [],
     "prompt_number": 336
    },
    {
     "cell_type": "code",
     "collapsed": false,
     "input": [
      "regions = pick_intervals(2)"
     ],
     "language": "python",
     "metadata": {},
     "outputs": [],
     "prompt_number": 526
    },
    {
     "cell_type": "code",
     "collapsed": false,
     "input": [
      "regions[0] = Interval(880,1040)"
     ],
     "language": "python",
     "metadata": {},
     "outputs": [],
     "prompt_number": 618
    },
    {
     "cell_type": "code",
     "collapsed": false,
     "input": [
      "masks=p.trap.make_masks(regions)"
     ],
     "language": "python",
     "metadata": {},
     "outputs": [],
     "prompt_number": 619
    },
    {
     "cell_type": "code",
     "collapsed": false,
     "input": [
      "from scipy.optimize import curve_fit\n",
      "reload(fec)"
     ],
     "language": "python",
     "metadata": {},
     "outputs": [
      {
       "output_type": "pyout",
       "prompt_number": 539,
       "text": [
        "<module 'smbanalyze.fec' from '/Users/cfperez/Python/scientific/smbanalyze/fec.pyc'>"
       ]
      }
     ],
     "prompt_number": 539
    },
    {
     "cell_type": "code",
     "collapsed": false,
     "input": [
      "F0 = .1\n",
      "moroz = lambda F,Lp,Lc: fec.moroz_nelson(F,Lp,Lc,F0,1100)\n",
      "fitm,err = curve_fit(moroz, p.trap.f[masks[0]],p.trap.ext[masks[0]], p0=[30,1100])\n",
      "print fitm"
     ],
     "language": "python",
     "metadata": {},
     "outputs": [
      {
       "output_type": "stream",
       "stream": "stdout",
       "text": [
        "[   26.99309323  1049.72325063]\n"
       ]
      }
     ],
     "prompt_number": 684
    },
    {
     "cell_type": "code",
     "collapsed": false,
     "input": [
      "mask = masks[0]\n",
      "fitout = curvefit.moroz_nelson(p.trap.f, fitm[0], fitm[1], 0, 1100)\n",
      "fig('newfit')\n",
      "hold(True)\n",
      "plot(p.trap.ext, p.trap.f, 'c.')\n",
      "plot(fitout, p.trap.f, linewidth=2)\n",
      "plot(p.trap.ext[mask], p.trap.f[mask], 'r.')"
     ],
     "language": "python",
     "metadata": {},
     "outputs": [
      {
       "output_type": "pyout",
       "prompt_number": 685,
       "text": [
        "[<matplotlib.lines.Line2D at 0x112861e50>]"
       ]
      }
     ],
     "prompt_number": 685
    },
    {
     "cell_type": "code",
     "collapsed": false,
     "input": [
      "mask_rip = masks[1]\n",
      "moroz_rip = lambda F,Lc1: fec.moroz_nelson(F,fitm[0],fitm[1],F0,1100)+fec.moroz_nelson(F,1.5,Lc1,F0,800)\n",
      "fitrip,err = curve_fit(moroz_rip, p.trap.f[mask_rip], p.trap.ext[mask_rip], p0=[60])\n",
      "print fitrip,err\n",
      "fitout = moroz_rip(p.trap.f[mask_rip],fitrip[0])\n",
      "plot(fitout, p.trap.f[mask_rip], 'b', linewidth=2 )"
     ],
     "language": "python",
     "metadata": {},
     "outputs": [
      {
       "output_type": "stream",
       "stream": "stdout",
       "text": [
        "[ 66.25371929] [[ 0.02815952]]\n"
       ]
      },
      {
       "output_type": "pyout",
       "prompt_number": 692,
       "text": [
        "[<matplotlib.lines.Line2D at 0x11286ad10>]"
       ]
      }
     ],
     "prompt_number": 692
    },
    {
     "cell_type": "code",
     "collapsed": false,
     "input": [
      "mols.plot(FEC=True)"
     ],
     "language": "python",
     "metadata": {},
     "outputs": [
      {
       "output_type": "pyout",
       "prompt_number": 611,
       "text": [
        "<smbanalyze.fplot.Figure at 0x111a63490>"
       ]
      }
     ],
     "prompt_number": 611
    },
    {
     "cell_type": "code",
     "collapsed": false,
     "input": [
      "nm_to_nt(70)"
     ],
     "language": "python",
     "metadata": {},
     "outputs": [
      {
       "output_type": "pyout",
       "prompt_number": 622,
       "text": [
        "122.37288135593221"
       ]
      }
     ],
     "prompt_number": 622
    },
    {
     "cell_type": "code",
     "collapsed": false,
     "input": [
      "rips,fit=fec.analyze_rips(p.trap, regions, [1])\n",
      "print fit\n",
      "print rips"
     ],
     "language": "python",
     "metadata": {},
     "outputs": [
      {
       "output_type": "stream",
       "stream": "stdout",
       "text": [
        "\r",
        "Fitting: [=                                                                               ] 2%"
       ]
      },
      {
       "output_type": "stream",
       "stream": "stdout",
       "text": [
        "\r",
        "Fitting: [==                                                                              ] 4%"
       ]
      },
      {
       "output_type": "stream",
       "stream": "stdout",
       "text": [
        "\r",
        "Fitting: [====                                                                            ] 5%"
       ]
      },
      {
       "output_type": "stream",
       "stream": "stdout",
       "text": [
        "\r",
        "Fitting: [=====                                                                           ] 7%"
       ]
      },
      {
       "output_type": "stream",
       "stream": "stdout",
       "text": [
        "\r",
        "Fitting: [=======                                                                         ] 9%"
       ]
      },
      {
       "output_type": "stream",
       "stream": "stdout",
       "text": [
        "\r",
        "Fitting: [========                                                                        ] 11%"
       ]
      },
      {
       "output_type": "stream",
       "stream": "stdout",
       "text": [
        "\r",
        "Fitting: [==========                                                                      ] 12%"
       ]
      },
      {
       "output_type": "stream",
       "stream": "stdout",
       "text": [
        "\r",
        "Fitting: [===========                                                                     ] 14%"
       ]
      },
      {
       "output_type": "stream",
       "stream": "stdout",
       "text": [
        "\r",
        "Fitting: [============                                                                    ] 16%"
       ]
      },
      {
       "output_type": "stream",
       "stream": "stdout",
       "text": [
        "\r",
        "Fitting: [==============                                                                  ] 18%"
       ]
      },
      {
       "output_type": "stream",
       "stream": "stdout",
       "text": [
        "\r",
        "Fitting: [===============                                                                 ] 20%"
       ]
      },
      {
       "output_type": "stream",
       "stream": "stdout",
       "text": [
        "\r",
        "Fitting: [=================                                                               ] 21%"
       ]
      },
      {
       "output_type": "stream",
       "stream": "stdout",
       "text": [
        "\r",
        "Fitting: [==================                                                              ] 23%"
       ]
      },
      {
       "output_type": "stream",
       "stream": "stdout",
       "text": [
        "\r",
        "Fitting: [====================                                                            ] 25%"
       ]
      },
      {
       "output_type": "stream",
       "stream": "stdout",
       "text": [
        "\r",
        "Fitting: [=====================                                                           ] 27%"
       ]
      },
      {
       "output_type": "stream",
       "stream": "stdout",
       "text": [
        "\r",
        "Fitting: [======================                                                          ] 29%"
       ]
      },
      {
       "output_type": "stream",
       "stream": "stdout",
       "text": [
        "\r",
        "Fitting: [========================                                                        ] 30%"
       ]
      },
      {
       "output_type": "stream",
       "stream": "stdout",
       "text": [
        "\r",
        "Fitting: [=========================                                                       ] 32%"
       ]
      },
      {
       "output_type": "stream",
       "stream": "stdout",
       "text": [
        "\r",
        "Fitting: [===========================                                                     ] 34%"
       ]
      },
      {
       "output_type": "stream",
       "stream": "stdout",
       "text": [
        "\r",
        "Fitting: [============================                                                    ] 36%"
       ]
      },
      {
       "output_type": "stream",
       "stream": "stdout",
       "text": [
        "\r",
        "Fitting: [==============================                                                  ] 38%"
       ]
      },
      {
       "output_type": "stream",
       "stream": "stdout",
       "text": [
        "\r",
        "Fitting: [===============================                                                 ] 39%"
       ]
      },
      {
       "output_type": "stream",
       "stream": "stdout",
       "text": [
        "\r",
        "Fitting: [================================                                                ] 41%"
       ]
      },
      {
       "output_type": "stream",
       "stream": "stdout",
       "text": [
        "\r",
        "Fitting: [==================================                                              ] 43%"
       ]
      },
      {
       "output_type": "stream",
       "stream": "stdout",
       "text": [
        "\r",
        "Fitting: [===================================                                             ] 45%"
       ]
      },
      {
       "output_type": "stream",
       "stream": "stdout",
       "text": [
        "\r",
        "Fitting: [=====================================                                           ] 46%"
       ]
      },
      {
       "output_type": "stream",
       "stream": "stdout",
       "text": [
        "\r",
        "Fitting: [======================================                                          ] 48%"
       ]
      },
      {
       "output_type": "stream",
       "stream": "stdout",
       "text": [
        "\r",
        "Fitting: [========================================                                        ] 50%"
       ]
      },
      {
       "output_type": "stream",
       "stream": "stdout",
       "text": [
        "\r",
        "Fitting: [=========================================                                       ] 52%"
       ]
      },
      {
       "output_type": "stream",
       "stream": "stdout",
       "text": [
        "\r",
        "Fitting: [==========================================                                      ] 54%"
       ]
      },
      {
       "output_type": "stream",
       "stream": "stdout",
       "text": [
        "\r",
        "Fitting: [============================================                                    ] 55%"
       ]
      },
      {
       "output_type": "stream",
       "stream": "stdout",
       "text": [
        "\r",
        "Fitting: [=============================================                                   ] 57%"
       ]
      },
      {
       "output_type": "stream",
       "stream": "stdout",
       "text": [
        "\r",
        "Fitting: [===============================================                                 ] 59%"
       ]
      },
      {
       "output_type": "stream",
       "stream": "stdout",
       "text": [
        "\r",
        "Fitting: [================================================                                ] 61%"
       ]
      },
      {
       "output_type": "stream",
       "stream": "stdout",
       "text": [
        "\r",
        "Fitting: [================================================================================] Done!\n"
       ]
      },
      {
       "output_type": "stream",
       "stream": "stdout",
       "text": [
        "MMS_rip_region fit: Lp=13.75\u00b10.26 Lc=1071.68\u00b11.85 F0=-0.96\u00b10.01 Lc1=62.94\u00b10.84\n",
        "Rips: 110.4\u00b11.4 nt (62.94 nm)\n",
        "Total: 110.4\u00b11.4 nt (62.94 nm)\n"
       ]
      }
     ],
     "prompt_number": 674
    },
    {
     "cell_type": "code",
     "collapsed": false,
     "input": [
      "fitm"
     ],
     "language": "python",
     "metadata": {},
     "outputs": [
      {
       "output_type": "pyout",
       "prompt_number": 658,
       "text": [
        "array([   26.99309323,  1049.72325063])"
       ]
      }
     ],
     "prompt_number": 658
    },
    {
     "cell_type": "code",
     "collapsed": false,
     "input": [
      "fit.plot()"
     ],
     "language": "python",
     "metadata": {},
     "outputs": [
      {
       "output_type": "pyout",
       "prompt_number": 678,
       "text": [
        "<matplotlib.axes.AxesSubplot at 0x1123237d0>"
       ]
      }
     ],
     "prompt_number": 678
    },
    {
     "cell_type": "code",
     "collapsed": false,
     "input": [
      "p.plot()"
     ],
     "language": "python",
     "metadata": {},
     "outputs": [
      {
       "output_type": "pyout",
       "prompt_number": 425,
       "text": [
        "<smbanalyze.fplot.Figure at 0x10f9839d0>"
       ]
      }
     ],
     "prompt_number": 425
    },
    {
     "cell_type": "code",
     "collapsed": false,
     "input": [
      "rtime,pull = p.metadata['filename'].split('_')[-3:-1]\n",
      "float(rtime[:-1]), int(pull)"
     ],
     "language": "python",
     "metadata": {},
     "outputs": [
      {
       "output_type": "pyout",
       "prompt_number": 375,
       "text": [
        "(1.0, 7)"
       ]
      }
     ],
     "prompt_number": 375
    },
    {
     "cell_type": "code",
     "collapsed": false,
     "input": [
      "for p in exp[1:]:\n",
      "    _ = models.Refold(molecule=mol_, refold_time=1.0, pull=1, trap_data=p.trap, fret_data=p.fret, meta_data=p.metadata)\n",
      "    session.add(_)"
     ],
     "language": "python",
     "metadata": {},
     "outputs": [],
     "prompt_number": 86
    },
    {
     "cell_type": "code",
     "collapsed": false,
     "input": [
      "[map(p.metadata.get, ['trap.refolding_time', 'trap.current_pull']) for p in exp]"
     ],
     "language": "python",
     "metadata": {},
     "outputs": [
      {
       "output_type": "pyout",
       "prompt_number": 48,
       "text": [
        "[[1.0, 1], [1.0, 2], [1.0, 3], [1.0, 4], [1.0, 5], [1.0, 1], [1.0, 2]]"
       ]
      }
     ],
     "prompt_number": 48
    },
    {
     "cell_type": "code",
     "collapsed": false,
     "input": [
      "p=exp[0]"
     ],
     "language": "python",
     "metadata": {},
     "outputs": [],
     "prompt_number": 54
    },
    {
     "cell_type": "code",
     "collapsed": false,
     "input": [
      "from sqlalchemy.types import LargeBinary"
     ],
     "language": "python",
     "metadata": {},
     "outputs": []
    },
    {
     "cell_type": "code",
     "collapsed": false,
     "input": [
      "dumps = lambda p: pickle.dumps(p, protocol=2)"
     ],
     "language": "python",
     "metadata": {},
     "outputs": [],
     "prompt_number": 60
    },
    {
     "cell_type": "code",
     "collapsed": false,
     "input": [
      "dumps(p.metadata)"
     ],
     "language": "python",
     "metadata": {},
     "outputs": [
      {
       "output_type": "pyout",
       "prompt_number": 66,
       "text": [
        "'\\x80\\x02}q\\x01(U\\x0bfret.framesK9U\\rtrap.filenameU%WT2at_200pM_s2m5_refold_1.0s_1_up.strq\\x02U\\x0cfret.roileftK\\nU\\x0etrap.aom_startG\\xbf\\xd6ffffffU\\nfret.widthK_U\\x0cfret.binningK\\x01U\\x0etrap.stiffness]q\\x03(G?\\xd2\\xe1G\\xae\\x14z\\xe1G?\\xfa\\xe5`A\\x897LeU\\x0etrap.step_sizeG@\\x00\\x00\\x00\\x00\\x00\\x00\\x00U\\x10trap.total_pullsK\\x05U\\rfret.filenameU&WT2at_200pM_s2m5_refold_1.0s_1_up.fretq\\x04U\\x08filenameq\\x05U!WT2at_200pM_s2m5_refold_1.0s_1_upq\\x06U\\x0efret.roibottomK\\x15U\\x0ffret.exposuremsK\\x19U\\x13trap.refolding_timeG?\\xf0\\x00\\x00\\x00\\x00\\x00\\x00U\\tfret.gainKdU\\x0esampling_ratioq\\x07K\\x05U\\ttrap.date]q\\x08(K\\x0eK\\x03K\\x03K\\rK\\x17eU\\x11trap.pulling_rateq\\tG@y\\x00\\x00\\x00\\x00\\x00\\x00U\\x11trap.current_pullK\\x01U\\x12trap.sampling_timeG?tz\\xe1G\\xae\\x14{U\\x0bfret.heightM3\\x01u.'"
       ]
      }
     ],
     "prompt_number": 66
    },
    {
     "cell_type": "code",
     "collapsed": false,
     "input": [
      "models.Refold(molecule=mol_, refold_time=1.0, pull=1, trap_data=p.trap, fret_data=p.fret, meta_data=p.metadata)\n",
      "session.add(_)"
     ],
     "language": "python",
     "metadata": {},
     "outputs": [],
     "prompt_number": 83
    },
    {
     "cell_type": "code",
     "collapsed": false,
     "input": [
      "session.commit()"
     ],
     "language": "python",
     "metadata": {},
     "outputs": [],
     "prompt_number": 84
    },
    {
     "cell_type": "code",
     "collapsed": false,
     "input": [
      "session.query(models.Refold).first().molecule"
     ],
     "language": "python",
     "metadata": {},
     "outputs": [
      {
       "output_type": "pyout",
       "prompt_number": 90,
       "text": [
        "Molecule(construct='WT2at', slide_id=2, mol_id=5, date='2014-03-03'"
       ]
      }
     ],
     "prompt_number": 90
    },
    {
     "cell_type": "code",
     "collapsed": false,
     "input": [
      "import cPickle as pickle\n",
      "for p in exp:\n",
      "    dump = pickle.dumps(p, protocol=2)\n",
      "    rtime,pull = p.metadata['filename'].split('_')[-3:-1]\n",
      "    rtimef,pullf = float(rtime[:-1]), int(pull)\n",
      "    if pullf==7:\n",
      "        continue\n",
      "    print rtime,pull\n",
      "    #cursor.execute('''insert into refolds(molecule_id,refold_time,pull,trap_data,fret_data) values(?,?,?,?,?)''', (1,rtimef,pullf,sqlite3.Binary(dump),None))"
     ],
     "language": "python",
     "metadata": {},
     "outputs": [
      {
       "output_type": "stream",
       "stream": "stdout",
       "text": [
        "1.0s 1\n",
        "1.0s 2\n",
        "1.0s 3\n",
        "1.0s 4\n",
        "1.0s 5\n",
        "1.0s 6\n"
       ]
      }
     ],
     "prompt_number": 52
    },
    {
     "cell_type": "code",
     "collapsed": false,
     "input": [
      "unbound,bound = split_pulls_at_point(exp, pick_pts(1)[0])"
     ],
     "language": "python",
     "metadata": {},
     "outputs": [],
     "prompt_number": 312
    },
    {
     "cell_type": "code",
     "collapsed": false,
     "input": [
      "mol = unbound.collapse()\n",
      "mol.plot(style='.')"
     ],
     "language": "python",
     "metadata": {},
     "outputs": [
      {
       "output_type": "pyout",
       "prompt_number": 317,
       "text": [
        "<smbanalyze.fplot.Figure at 0x10fe058d0>"
       ]
      }
     ],
     "prompt_number": 317
    },
    {
     "cell_type": "code",
     "collapsed": false,
     "input": [
      "mol.plot(style={'donor':'bo','acceptor':'ro','fret':'o','trap':'.'})"
     ],
     "language": "python",
     "metadata": {},
     "outputs": [
      {
       "output_type": "pyout",
       "prompt_number": 322,
       "text": [
        "<smbanalyze.fplot.Figure at 0x10fe058d0>"
       ]
      }
     ],
     "prompt_number": 322
    },
    {
     "cell_type": "code",
     "collapsed": false,
     "input": [
      "mol = exp[0]\n",
      "mol.plot()"
     ],
     "language": "python",
     "metadata": {},
     "outputs": [
      {
       "output_type": "pyout",
       "prompt_number": 62,
       "text": [
        "<smbanalyze.fplot.Figure at 0x10ae816d0>"
       ]
      }
     ],
     "prompt_number": 62
    },
    {
     "cell_type": "code",
     "collapsed": false,
     "input": [
      "p=exp[1]\n",
      "p.plot()"
     ],
     "language": "python",
     "metadata": {},
     "outputs": [
      {
       "output_type": "pyout",
       "prompt_number": 395,
       "text": [
        "<smbanalyze.fplot.Figure at 0x10f9839d0>"
       ]
      }
     ],
     "prompt_number": 395
    },
    {
     "cell_type": "code",
     "collapsed": false,
     "input": [
      "regions = pick_intervals(1)"
     ],
     "language": "python",
     "metadata": {},
     "outputs": [],
     "prompt_number": 396
    },
    {
     "cell_type": "code",
     "collapsed": false,
     "input": [
      "above_line = pick_line()"
     ],
     "language": "python",
     "metadata": {},
     "outputs": [],
     "prompt_number": 113
    },
    {
     "cell_type": "code",
     "collapsed": false,
     "input": [
      "from smbanalyze import progressbar\n",
      "reload(progressbar)\n",
      "from smbanalyze import curvefit\n",
      "reload(curvefit)\n",
      "reload(fec)"
     ],
     "language": "python",
     "metadata": {},
     "outputs": [
      {
       "output_type": "pyout",
       "prompt_number": 190,
       "text": [
        "<module 'smbanalyze.fec' from '/Users/cfperez/Python/scientific/smbanalyze/fec.pyc'>"
       ]
      }
     ],
     "prompt_number": 190
    },
    {
     "cell_type": "code",
     "collapsed": false,
     "input": [
      "# This indicates how many stems are (assumed) lost for the Nth rip\n",
      "# For our construct, this pattern sums to 1 (assuming P1 is closed)\n",
      "# Negative indicates that two stems are revealed while one stem is broken\n",
      "# In order to calculate the nt from the nm rip size, we must know/guess this pattern to\n",
      "# correctly account for the width of the helix\n",
      "helix_opening_pattern = (-1,1,1)\n",
      "rips=fec.analyze(mol, regions, helix_opening_pattern) #, above_line)\n",
      "print rips"
     ],
     "language": "python",
     "metadata": {},
     "outputs": [
      {
       "output_type": "stream",
       "stream": "stdout",
       "text": [
        "\r",
        "Fitting: [=                                                                               ] 2%"
       ]
      },
      {
       "output_type": "stream",
       "stream": "stdout",
       "text": [
        "\r",
        "Fitting: [==                                                                              ] 3%"
       ]
      },
      {
       "output_type": "stream",
       "stream": "stdout",
       "text": [
        "\r",
        "Fitting: [====                                                                            ] 5%"
       ]
      },
      {
       "output_type": "stream",
       "stream": "stdout",
       "text": [
        "\r",
        "Fitting: [=====                                                                           ] 7%"
       ]
      },
      {
       "output_type": "stream",
       "stream": "stdout",
       "text": [
        "\r",
        "Fitting: [======                                                                          ] 8%"
       ]
      },
      {
       "output_type": "stream",
       "stream": "stdout",
       "text": [
        "\r",
        "Fitting: [========                                                                        ] 10%"
       ]
      },
      {
       "output_type": "stream",
       "stream": "stdout",
       "text": [
        "\r",
        "Fitting: [=========                                                                       ] 12%"
       ]
      },
      {
       "output_type": "stream",
       "stream": "stdout",
       "text": [
        "\r",
        "Fitting: [==========                                                                      ] 13%"
       ]
      },
      {
       "output_type": "stream",
       "stream": "stdout",
       "text": [
        "\r",
        "Fitting: [============                                                                    ] 15%"
       ]
      },
      {
       "output_type": "stream",
       "stream": "stdout",
       "text": [
        "\r",
        "Fitting: [=============                                                                   ] 17%"
       ]
      },
      {
       "output_type": "stream",
       "stream": "stdout",
       "text": [
        "\r",
        "Fitting: [==============                                                                  ] 18%"
       ]
      },
      {
       "output_type": "stream",
       "stream": "stdout",
       "text": [
        "\r",
        "Fitting: [================                                                                ] 20%"
       ]
      },
      {
       "output_type": "stream",
       "stream": "stdout",
       "text": [
        "\r",
        "Fitting: [=================                                                               ] 22%"
       ]
      },
      {
       "output_type": "stream",
       "stream": "stdout",
       "text": [
        "\r",
        "Fitting: [==================                                                              ] 23%"
       ]
      },
      {
       "output_type": "stream",
       "stream": "stdout",
       "text": [
        "\r",
        "Fitting: [====================                                                            ] 25%"
       ]
      },
      {
       "output_type": "stream",
       "stream": "stdout",
       "text": [
        "\r",
        "Fitting: [=====================                                                           ] 27%"
       ]
      },
      {
       "output_type": "stream",
       "stream": "stdout",
       "text": [
        "\r",
        "Fitting: [======================                                                          ] 28%"
       ]
      },
      {
       "output_type": "stream",
       "stream": "stdout",
       "text": [
        "\r",
        "Fitting: [========================                                                        ] 30%"
       ]
      },
      {
       "output_type": "stream",
       "stream": "stdout",
       "text": [
        "\r",
        "Fitting: [=========================                                                       ] 32%"
       ]
      },
      {
       "output_type": "stream",
       "stream": "stdout",
       "text": [
        "\r",
        "Fitting: [==========================                                                      ] 33%"
       ]
      },
      {
       "output_type": "stream",
       "stream": "stdout",
       "text": [
        "\r",
        "Fitting: [============================                                                    ] 35%"
       ]
      },
      {
       "output_type": "stream",
       "stream": "stdout",
       "text": [
        "\r",
        "Fitting: [=============================                                                   ] 37%"
       ]
      },
      {
       "output_type": "stream",
       "stream": "stdout",
       "text": [
        "\r",
        "Fitting: [==============================                                                  ] 38%"
       ]
      },
      {
       "output_type": "stream",
       "stream": "stdout",
       "text": [
        "\r",
        "Fitting: [================================                                                ] 40%"
       ]
      },
      {
       "output_type": "stream",
       "stream": "stdout",
       "text": [
        "\r",
        "Fitting: [=================================                                               ] 42%"
       ]
      },
      {
       "output_type": "stream",
       "stream": "stdout",
       "text": [
        "\r",
        "Fitting: [==================================                                              ] 43%"
       ]
      },
      {
       "output_type": "stream",
       "stream": "stdout",
       "text": [
        "\r",
        "Fitting: [====================================                                            ] 45%"
       ]
      },
      {
       "output_type": "stream",
       "stream": "stdout",
       "text": [
        "\r",
        "Fitting: [=====================================                                           ] 47%"
       ]
      },
      {
       "output_type": "stream",
       "stream": "stdout",
       "text": [
        "\r",
        "Fitting: [======================================                                          ] 48%"
       ]
      },
      {
       "output_type": "stream",
       "stream": "stdout",
       "text": [
        "\r",
        "Fitting: [========================================                                        ] 50%"
       ]
      },
      {
       "output_type": "stream",
       "stream": "stdout",
       "text": [
        "\r",
        "Fitting: [=========================================                                       ] 52%"
       ]
      },
      {
       "output_type": "stream",
       "stream": "stdout",
       "text": [
        "\r",
        "Fitting: [==========================================                                      ] 53%"
       ]
      },
      {
       "output_type": "stream",
       "stream": "stdout",
       "text": [
        "\r",
        "Fitting: [============================================                                    ] 55%"
       ]
      },
      {
       "output_type": "stream",
       "stream": "stdout",
       "text": [
        "\r",
        "Fitting: [=============================================                                   ] 57%"
       ]
      },
      {
       "output_type": "stream",
       "stream": "stdout",
       "text": [
        "\r",
        "Fitting: [==============================================                                  ] 58%"
       ]
      },
      {
       "output_type": "stream",
       "stream": "stdout",
       "text": [
        "\r",
        "Fitting: [================================================                                ] 60%"
       ]
      },
      {
       "output_type": "stream",
       "stream": "stdout",
       "text": [
        "\r",
        "Fitting: [=================================================                               ] 62%"
       ]
      },
      {
       "output_type": "stream",
       "stream": "stdout",
       "text": [
        "\r",
        "Fitting: [==================================================                              ] 63%"
       ]
      },
      {
       "output_type": "stream",
       "stream": "stdout",
       "text": [
        "\r",
        "Fitting: [====================================================                            ] 65%"
       ]
      },
      {
       "output_type": "stream",
       "stream": "stdout",
       "text": [
        "\r",
        "Fitting: [================================================================================] Done!\n"
       ]
      },
      {
       "output_type": "stream",
       "stream": "stdout",
       "text": [
        "Rips: 16.8\u00b127.3 nt (12.13 nm) | 34.5\u00b143.9 nt (18.15 nm) | 32.3\u00b146.7 nt (16.85 nm)\n",
        "Total: 83.6\u00b146.7 nt (47.14 nm)\n"
       ]
      }
     ],
     "prompt_number": 194
    },
    {
     "cell_type": "code",
     "collapsed": false,
     "input": [
      "mol.fit.plot()"
     ],
     "language": "python",
     "metadata": {},
     "outputs": [
      {
       "output_type": "pyout",
       "prompt_number": 122,
       "text": [
        "<matplotlib.axes.AxesSubplot at 0x112f51bd0>"
       ]
      }
     ],
     "prompt_number": 122
    },
    {
     "cell_type": "code",
     "collapsed": false,
     "input": [
      "rips.stems_lost = (-1,1,1)\n",
      "print rips"
     ],
     "language": "python",
     "metadata": {},
     "outputs": [
      {
       "output_type": "stream",
       "stream": "stdout",
       "text": [
        "Rips: 43.2 \u00b11.7 nt (27.70 nm) | 35.6 \u00b13.0 nt (18.82 nm) | 33.6 \u00b13.5 nt (17.64 nm)\n",
        "Total: 112.5 \u00b13.5 nt (64.17 nm)\n"
       ]
      }
     ],
     "prompt_number": 130
    },
    {
     "cell_type": "markdown",
     "metadata": {},
     "source": [
      "Refolding analysis\n",
      "-------"
     ]
    },
    {
     "cell_type": "code",
     "collapsed": false,
     "input": [
      "from smbanalyze import refolding"
     ],
     "language": "python",
     "metadata": {},
     "outputs": [],
     "prompt_number": 135
    },
    {
     "cell_type": "code",
     "collapsed": false,
     "input": [
      "unbound,bound = split_pulls_at_point(exp, ginput(1)[0])"
     ],
     "language": "python",
     "metadata": {},
     "outputs": [],
     "prompt_number": 183
    },
    {
     "cell_type": "code",
     "collapsed": false,
     "input": [
      "from collections import defaultdict"
     ],
     "language": "python",
     "metadata": {},
     "outputs": [],
     "prompt_number": 154
    },
    {
     "cell_type": "code",
     "collapsed": false,
     "input": [
      "bound.plot()"
     ],
     "language": "python",
     "metadata": {},
     "outputs": [
      {
       "output_type": "pyout",
       "prompt_number": 184,
       "text": [
        "<smbanalyze.fplot.Figure at 0x10f0d6e50>"
       ]
      }
     ],
     "prompt_number": 184
    },
    {
     "cell_type": "code",
     "collapsed": false,
     "input": [
      "sorted(exp, refold_sort_key)"
     ],
     "language": "python",
     "metadata": {},
     "outputs": [
      {
       "ename": "TypeError",
       "evalue": "refold_sort_key() takes exactly 1 argument (2 given)",
       "output_type": "pyerr",
       "traceback": [
        "\u001b[0;31m---------------------------------------------------------------------------\u001b[0m\n\u001b[0;31mTypeError\u001b[0m                                 Traceback (most recent call last)",
        "\u001b[0;32m<ipython-input-235-a6059913b7df>\u001b[0m in \u001b[0;36m<module>\u001b[0;34m()\u001b[0m\n\u001b[0;32m----> 1\u001b[0;31m \u001b[0msorted\u001b[0m\u001b[0;34m(\u001b[0m\u001b[0mexp\u001b[0m\u001b[0;34m,\u001b[0m \u001b[0mrefold_sort_key\u001b[0m\u001b[0;34m)\u001b[0m\u001b[0;34m\u001b[0m\u001b[0m\n\u001b[0m",
        "\u001b[0;31mTypeError\u001b[0m: refold_sort_key() takes exactly 1 argument (2 given)"
       ]
      }
     ],
     "prompt_number": 235
    },
    {
     "cell_type": "code",
     "collapsed": false,
     "input": [
      "from itertools import groupby\n",
      "for key_,e_ in groupby(sorted(exp, key=refold_sort_key), refold_key):\n",
      "    exp_ = list(e_)\n",
      "    key = exp_[0].trap.metadata['refolding_time']\n",
      "    print key,exp_ #list(exps)"
     ],
     "language": "python",
     "metadata": {},
     "outputs": [
      {
       "output_type": "stream",
       "stream": "stdout",
       "text": [
        "0.1 [<Experiment.Pulling from 'WTUL2_500pM_s1m1_4_refold_0.1s_1_up'>, <Experiment.Pulling from 'WTUL2_500pM_s1m1_4_refold_0.1s_2_up'>, <Experiment.Pulling from 'WTUL2_500pM_s1m1_4_refold_0.1s_3_up'>, <Experiment.Pulling from 'WTUL2_500pM_s1m1_4_refold_0.1s_4_up'>, <Experiment.Pulling from 'WTUL2_500pM_s1m1_4_refold_0.1s_5_up'>, <Experiment.Pulling from 'WTUL2_500pM_s1m1_4_refold_0.1s_6_up'>, <Experiment.Pulling from 'WTUL2_500pM_s1m1_4_refold_0.1s_7_up'>, <Experiment.Pulling from 'WTUL2_500pM_s1m1_4_refold_0.1s_8_up'>, <Experiment.Pulling from 'WTUL2_500pM_s1m1_4_refold_0.1s_9_up'>, <Experiment.Pulling from 'WTUL2_500pM_s1m1_4_refold_0.1s_10_up'>]\n",
        "0.5 [<Experiment.Pulling from 'WTUL2_500pM_s1m1_5_refold_0.5s_1_up'>, <Experiment.Pulling from 'WTUL2_500pM_s1m1_5_refold_0.5s_2_up'>, <Experiment.Pulling from 'WTUL2_500pM_s1m1_5_refold_0.5s_3_up'>, <Experiment.Pulling from 'WTUL2_500pM_s1m1_5_refold_0.5s_4_up'>, <Experiment.Pulling from 'WTUL2_500pM_s1m1_5_refold_0.5s_5_up'>, <Experiment.Pulling from 'WTUL2_500pM_s1m1_5_refold_0.5s_6_up'>, <Experiment.Pulling from 'WTUL2_500pM_s1m1_5_refold_0.5s_7_up'>, <Experiment.Pulling from 'WTUL2_500pM_s1m1_5_refold_0.5s_8_up'>, <Experiment.Pulling from 'WTUL2_500pM_s1m1_5_refold_0.5s_9_up'>, <Experiment.Pulling from 'WTUL2_500pM_s1m1_5_refold_0.5s_10_up'>]\n",
        "1.0 [<Experiment.Pulling from 'WTUL2_500pM_s1m1_3_refold_1.0s_2_up'>, <Experiment.Pulling from 'WTUL2_500pM_s1m1_3_refold_1.0s_3_up'>, <Experiment.Pulling from 'WTUL2_500pM_s1m1_3_refold_1.0s_4_up'>, <Experiment.Pulling from 'WTUL2_500pM_s1m1_3_refold_1.0s_5_up'>, <Experiment.Pulling from 'WTUL2_500pM_s1m1_3_refold_1.0s_6_up'>, <Experiment.Pulling from 'WTUL2_500pM_s1m1_3_refold_1.0s_7_up'>, <Experiment.Pulling from 'WTUL2_500pM_s1m1_3_refold_1.0s_8_up'>, <Experiment.Pulling from 'WTUL2_500pM_s1m1_3_refold_1.0s_9_up'>, <Experiment.Pulling from 'WTUL2_500pM_s1m1_3_refold_1.0s_10_up'>]\n",
        "10.0 [<Experiment.Pulling from 'WTUL2_500pM_s1m1_7_refold_10.0s_1_up'>, <Experiment.Pulling from 'WTUL2_500pM_s1m1_7_refold_10.0s_2_up'>, <Experiment.Pulling from 'WTUL2_500pM_s1m1_7_refold_10.0s_3_up'>, <Experiment.Pulling from 'WTUL2_500pM_s1m1_7_refold_10.0s_4_up'>, <Experiment.Pulling from 'WTUL2_500pM_s1m1_7_refold_10.0s_5_up'>, <Experiment.Pulling from 'WTUL2_500pM_s1m1_7_refold_10.0s_6_up'>, <Experiment.Pulling from 'WTUL2_500pM_s1m1_7_refold_10.0s_7_up'>, <Experiment.Pulling from 'WTUL2_500pM_s1m1_7_refold_10.0s_8_up'>, <Experiment.Pulling from 'WTUL2_500pM_s1m1_7_refold_10.0s_9_up'>]\n"
       ]
      }
     ],
     "prompt_number": 239
    },
    {
     "cell_type": "code",
     "collapsed": false,
     "input": [
      "def refold_key(p):\n",
      "    name_split = p.metadata['filename'].split('_')\n",
      "    refold_i = name_split.index('refold')+1\n",
      "    return name_split[refold_i]"
     ],
     "language": "python",
     "metadata": {},
     "outputs": [],
     "prompt_number": 222
    },
    {
     "cell_type": "code",
     "collapsed": false,
     "input": [
      "def refold_sort_key(p):\n",
      "    name_split = p.metadata['filename'].split('_')\n",
      "    refold_i = name_split.index('refold')+1\n",
      "    return name_split[0:3], name_split[refold_i], int(name_split[refold_i+1])"
     ],
     "language": "python",
     "metadata": {},
     "outputs": [],
     "prompt_number": 220
    },
    {
     "cell_type": "code",
     "collapsed": false,
     "input": [
      "bound_count = defaultdict(lambda : 0)\n",
      "total_count = defaultdict(lambda : 0)\n",
      "for p in exp:\n",
      "    meta = p.trap.metadata\n",
      "    pull = meta['current_pull']\n",
      "    refold_time = meta['refolding_time']\n",
      "    if (p.trap.at(ext=1040).f>16): bound_count[refold_time] += 1\n",
      "    total_count[refold_time] += 1"
     ],
     "language": "python",
     "metadata": {},
     "outputs": [],
     "prompt_number": 209
    },
    {
     "cell_type": "code",
     "collapsed": false,
     "input": [
      "exp[29].trap.metadata['refolding_time']"
     ],
     "language": "python",
     "metadata": {},
     "outputs": [
      {
       "output_type": "pyout",
       "prompt_number": 206,
       "text": [
        "10.0"
       ]
      }
     ],
     "prompt_number": 206
    },
    {
     "cell_type": "code",
     "collapsed": false,
     "input": [
      "for key in sorted(total_count):\n",
      "    b,t = bound_count[key], total_count[key]\n",
      "    print key, float(b)/t, b, t"
     ],
     "language": "python",
     "metadata": {},
     "outputs": [
      {
       "output_type": "stream",
       "stream": "stdout",
       "text": [
        "0.1 0.3 3 10\n",
        "0.5 0.3 3 10\n",
        "1.0 0.555555555556 5 9\n",
        "10.0 0.0 0 9\n"
       ]
      }
     ],
     "prompt_number": 210
    },
    {
     "cell_type": "code",
     "collapsed": false,
     "input": [
      "for exp_refold in refolding.by_time(exp):\n",
      "    unbound,bound = split_pulls_at_point(exp_refold, pt)\n",
      "    print len(bound)/float(len(exp_refold))"
     ],
     "language": "python",
     "metadata": {},
     "outputs": [
      {
       "output_type": "pyout",
       "prompt_number": 191,
       "text": [
        "[0: <Experiment.Pulling from 'WTUL2_500pM_s1m1_3_refold_1.0s_10_up'>\n",
        " 1: <Experiment.Pulling from 'WTUL2_500pM_s1m1_3_refold_1.0s_2_up'>\n",
        " 2: <Experiment.Pulling from 'WTUL2_500pM_s1m1_3_refold_1.0s_3_up'>\n",
        " 3: <Experiment.Pulling from 'WTUL2_500pM_s1m1_3_refold_1.0s_4_up'>\n",
        " 4: <Experiment.Pulling from 'WTUL2_500pM_s1m1_3_refold_1.0s_5_up'>\n",
        " 5: <Experiment.Pulling from 'WTUL2_500pM_s1m1_3_refold_1.0s_6_up'>\n",
        " 6: <Experiment.Pulling from 'WTUL2_500pM_s1m1_3_refold_1.0s_7_up'>\n",
        " 7: <Experiment.Pulling from 'WTUL2_500pM_s1m1_3_refold_1.0s_8_up'>\n",
        " 8: <Experiment.Pulling from 'WTUL2_500pM_s1m1_3_refold_1.0s_9_up'>\n",
        " 9: <Experiment.Pulling from 'WTUL2_500pM_s1m1_4_refold_0.1s_1_up'>\n",
        " 10: <Experiment.Pulling from 'WTUL2_500pM_s1m1_4_refold_0.1s_10_up'>\n",
        " 11: <Experiment.Pulling from 'WTUL2_500pM_s1m1_4_refold_0.1s_2_up'>\n",
        " 12: <Experiment.Pulling from 'WTUL2_500pM_s1m1_4_refold_0.1s_3_up'>\n",
        " 13: <Experiment.Pulling from 'WTUL2_500pM_s1m1_4_refold_0.1s_4_up'>\n",
        " 14: <Experiment.Pulling from 'WTUL2_500pM_s1m1_4_refold_0.1s_5_up'>\n",
        " 15: <Experiment.Pulling from 'WTUL2_500pM_s1m1_4_refold_0.1s_6_up'>\n",
        " 16: <Experiment.Pulling from 'WTUL2_500pM_s1m1_4_refold_0.1s_7_up'>\n",
        " 17: <Experiment.Pulling from 'WTUL2_500pM_s1m1_4_refold_0.1s_8_up'>\n",
        " 18: <Experiment.Pulling from 'WTUL2_500pM_s1m1_4_refold_0.1s_9_up'>\n",
        " 19: <Experiment.Pulling from 'WTUL2_500pM_s1m1_5_refold_0.5s_1_up'>\n",
        " 20: <Experiment.Pulling from 'WTUL2_500pM_s1m1_5_refold_0.5s_10_up'>\n",
        " 21: <Experiment.Pulling from 'WTUL2_500pM_s1m1_5_refold_0.5s_2_up'>\n",
        " 22: <Experiment.Pulling from 'WTUL2_500pM_s1m1_5_refold_0.5s_3_up'>\n",
        " 23: <Experiment.Pulling from 'WTUL2_500pM_s1m1_5_refold_0.5s_4_up'>\n",
        " 24: <Experiment.Pulling from 'WTUL2_500pM_s1m1_5_refold_0.5s_5_up'>\n",
        " 25: <Experiment.Pulling from 'WTUL2_500pM_s1m1_5_refold_0.5s_6_up'>\n",
        " 26: <Experiment.Pulling from 'WTUL2_500pM_s1m1_5_refold_0.5s_7_up'>\n",
        " 27: <Experiment.Pulling from 'WTUL2_500pM_s1m1_5_refold_0.5s_8_up'>\n",
        " 28: <Experiment.Pulling from 'WTUL2_500pM_s1m1_5_refold_0.5s_9_up'>\n",
        " 29: <Experiment.Pulling from 'WTUL2_500pM_s1m1_7_refold_10.0s_1_up'>\n",
        " 30: <Experiment.Pulling from 'WTUL2_500pM_s1m1_7_refold_10.0s_2_up'>\n",
        " 31: <Experiment.Pulling from 'WTUL2_500pM_s1m1_7_refold_10.0s_3_up'>\n",
        " 32: <Experiment.Pulling from 'WTUL2_500pM_s1m1_7_refold_10.0s_4_up'>\n",
        " 33: <Experiment.Pulling from 'WTUL2_500pM_s1m1_7_refold_10.0s_5_up'>\n",
        " 34: <Experiment.Pulling from 'WTUL2_500pM_s1m1_7_refold_10.0s_6_up'>\n",
        " 35: <Experiment.Pulling from 'WTUL2_500pM_s1m1_7_refold_10.0s_7_up'>\n",
        " 36: <Experiment.Pulling from 'WTUL2_500pM_s1m1_7_refold_10.0s_8_up'>\n",
        " 37: <Experiment.Pulling from 'WTUL2_500pM_s1m1_7_refold_10.0s_9_up'>]"
       ]
      }
     ],
     "prompt_number": 191
    }
   ],
   "metadata": {}
  }
 ]
}