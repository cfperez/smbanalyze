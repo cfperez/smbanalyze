{
 "metadata": {
  "name": "!Binding curves"
 },
 "nbformat": 3,
 "nbformat_minor": 0,
 "worksheets": [
  {
   "cells": [
    {
     "cell_type": "code",
     "collapsed": false,
     "input": [
      "fig('Binding probability')\n",
      "Kd = 70e-9\n",
      "\n",
      "X = logspace(-9,-5)\n",
      "semilogx(X, 1/(1+Kd/X),'.-')\n",
      "xlabel('Concentration')\n",
      "ylabel('Probability bound')"
     ],
     "language": "python",
     "metadata": {},
     "outputs": [
      {
       "output_type": "pyout",
       "prompt_number": 1,
       "text": [
        "<matplotlib.text.Text at 0x10f7cee90>"
       ]
      }
     ],
     "prompt_number": 1
    },
    {
     "cell_type": "code",
     "collapsed": false,
     "input": [
      "'''(c_1 (d (-e^(1/2 t (-sqrt(4 e a+d^2)-d)))+d e^(1/2 t (sqrt(4 e a+d^2)-d))+sqrt(4 e a+d^2) e^(1/2 t (-sqrt(4 e a+d^2)-d))+sqrt(4 e a+d^2) e^(1/2 t (sqrt(4 e a+d^2)-d))))/(2 sqrt(4 e a+d^2))-(a c_2 (e^(1/2 t (-sqrt(4 e a+d^2)-d))-e^(1/2 t (sqrt(4 e a+d^2)-d))))/sqrt(4 e a+d^2)-1/e'''"
     ],
     "language": "python",
     "metadata": {},
     "outputs": [
      {
       "output_type": "pyout",
       "prompt_number": 4,
       "text": [
        "'(c_1 (d (-e^(1/2 t (-sqrt(4 e a+d^2)-d)))+d e^(1/2 t (sqrt(4 e a+d^2)-d))+sqrt(4 e a+d^2) e^(1/2 t (-sqrt(4 e a+d^2)-d))+sqrt(4 e a+d^2) e^(1/2 t (sqrt(4 e a+d^2)-d))))/(2 sqrt(4 e a+d^2))-(a c_2 (e^(1/2 t (-sqrt(4 e a+d^2)-d))-e^(1/2 t (sqrt(4 e a+d^2)-d))))/sqrt(4 e a+d^2)-1/e'"
       ]
      }
     ],
     "prompt_number": 4
    },
    {
     "cell_type": "code",
     "collapsed": false,
     "input": [
      "print '''y(t) = C_1 exp(-t/2 *(sqrt((-a+b+1)^2+4*b*(c-1))+a-b-1))+C_2 exp(t/2 *(sqrt((-a+b+1)^2+4*b*(c-1))-a+b+1))\n",
      "A = k_1 / k1\n",
      "B = k2 / k1\n",
      "C = k_2 / k1\n",
      "'''.replace('a', 'k_1/k1').replace('b', 'k2/k1').replace('c', 'k_2/k1')"
     ],
     "language": "python",
     "metadata": {},
     "outputs": [
      {
       "output_type": "stream",
       "stream": "stdout",
       "text": [
        "y(t) = C_1 exp(-t/2 *(sqrt((-k_1/k1+k2/k1+1)^2+4*k2/k1*(k_2/k1-1))+k_1/k1-k2/k1-1))+C_2 exp(t/2 *(sqrt((-k_1/k1+k2/k1+1)^2+4*k2/k1*(k_2/k1-1))-k_1/k1+k2/k1+1))\n",
        "A = k_1 / k1\n",
        "B = k2 / k1\n",
        "C = k_2 / k1\n",
        "\n"
       ]
      }
     ],
     "prompt_number": 17
    },
    {
     "cell_type": "code",
     "collapsed": false,
     "input": [],
     "language": "python",
     "metadata": {},
     "outputs": []
    }
   ],
   "metadata": {}
  }
 ]
}